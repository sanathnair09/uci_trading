{
 "cells": [
  {
   "cell_type": "code",
   "execution_count": 47,
   "metadata": {
    "ExecuteTime": {
     "end_time": "2024-05-10T15:20:19.097020Z",
     "start_time": "2024-05-10T15:20:19.093789Z"
    }
   },
   "source": [
    "from pathlib import Path\n",
    "\n",
    "import numpy as np\n",
    "import pandas as pd"
   ],
   "outputs": []
  },
  {
   "cell_type": "code",
   "execution_count": 48,
   "metadata": {
    "ExecuteTime": {
     "end_time": "2024-05-10T15:20:19.228398Z",
     "start_time": "2024-05-10T15:20:19.214633Z"
    }
   },
   "source": [
    "df = pd.read_csv(\"/Users/sanathnair/Developer/trading/reports/original/report_01_03.csv\")\n",
    "df"
   ],
   "outputs": []
  },
  {
   "cell_type": "code",
   "execution_count": 97,
   "metadata": {
    "ExecuteTime": {
     "end_time": "2024-05-10T16:02:31.135946Z",
     "start_time": "2024-05-10T16:02:31.130264Z"
    }
   },
   "source": [
    "def modify(ibkr_file):\n",
    "    df = pd.read_csv(ibkr_file)\n",
    "    df[\"Broker Executed\"] = pd.to_datetime(\n",
    "        df[\"Unnamed: 3\"], format = \"%I:%M:%S %p\"\n",
    "    ) - pd.Timedelta(hours = 3)\n",
    "    df = df.drop(\n",
    "        columns = [\n",
    "            \"Acct ID\",\n",
    "            \"Trade Date/Time\",\n",
    "            \"Proceeds\",\n",
    "            \"Unnamed: 3\",\n",
    "        ]\n",
    "    )\n",
    "    df[\"Quantity\"] = pd.to_numeric(df[\"Quantity\"])\n",
    "    df[\"Quantity\"] = df[\"Quantity\"].abs()\n",
    "    df[\"Dollar Amt\"] = np.round(df[\"Quantity\"] * df[\"Price\"], 4)\n",
    "    df = df.rename(columns = {\"Type\": \"Action\", \"Quantity\": \"Size\"})\n",
    "    df[\"Split\"] = False\n",
    "    df[\"Expiration\"] = np.nan\n",
    "    df[\"Strike\"] = np.nan\n",
    "    df[\"Option Type\"] = np.nan\n",
    "    df.loc[df[\"Action\"] == \"BUY\", \"Action\"] = \"Buy\"\n",
    "    df.loc[df[\"Action\"] == \"SELL\", \"Action\"] = \"Sell\"\n",
    "    new_file = ibkr_file.parent / (ibkr_file.stem + \"_new.csv\")\n",
    "    df.to_csv(new_file, index = False)"
   ],
   "outputs": []
  },
  {
   "cell_type": "code",
   "source": [],
   "metadata": {
    "collapsed": false,
    "ExecuteTime": {
     "end_time": "2024-05-10T16:02:33.090967Z",
     "start_time": "2024-05-10T16:02:33.006552Z"
    }
   },
   "execution_count": 98,
   "outputs": []
  },
  {
   "cell_type": "code",
   "source": [
    "p = Path(\"/Users/sanathnair/Developer/trading/data/ibkr/ibkr_01_03.csv\")\n"
   ],
   "metadata": {
    "collapsed": false,
    "ExecuteTime": {
     "end_time": "2024-05-10T15:51:44.718206Z",
     "start_time": "2024-05-10T15:51:44.713539Z"
    }
   },
   "execution_count": 88,
   "outputs": []
  },
  {
   "cell_type": "code",
   "execution_count": 50,
   "metadata": {
    "ExecuteTime": {
     "end_time": "2024-05-10T15:20:19.265415Z",
     "start_time": "2024-05-10T15:20:19.255527Z"
    }
   },
   "source": [
    "ib = get_ibkr_report(Path(\"/Users/sanathnair/Developer/trading/data/ibkr/ibkr_01_03.csv\"))\n",
    "ib"
   ],
   "outputs": []
  },
  {
   "cell_type": "code",
   "execution_count": 51,
   "metadata": {
    "ExecuteTime": {
     "end_time": "2024-05-10T15:20:19.289064Z",
     "start_time": "2024-05-10T15:20:19.277270Z"
    }
   },
   "source": [
    "df_if_rows = df[df[\"Broker\"] == \"IF\"]\n",
    "df_if_rows"
   ],
   "outputs": []
  },
  {
   "cell_type": "code",
   "execution_count": 62,
   "metadata": {
    "ExecuteTime": {
     "end_time": "2024-05-10T15:24:33.772677Z",
     "start_time": "2024-05-10T15:24:33.764153Z"
    }
   },
   "source": [
    "df_if_rows = df[df[\"Broker\"] == \"IF\"]\n",
    "res = pd.merge(df_if_rows, ib, on = [\"Symbol\", \"Action\"], how = \"outer\", suffixes = (None, \"_y\"))\n",
    "res[\"Broker Executed\"] = res[\"Broker Executed_y\"]\n",
    "res[\"Price\"] = res[\"Price_y\"]\n",
    "res[\"Dollar Amt\"] = res[\"Dollar Amt_y\"]\n",
    "res[\"Size\"] = res[\"Size_y\"]\n",
    "res = res.drop(columns = ['Size_y', 'Price_y', 'Broker Executed_y', 'Dollar Amt_y',\n",
    "                          'Split_y', 'Expiration', 'Strike', 'Option Type'])\n",
    "res = res[res[\"Broker Executed\"].notna()]\n",
    "df = df.drop(df_if_rows.index)\n",
    "df = pd.concat([df, res], axis = 0, ignore_index = True)"
   ],
   "outputs": []
  },
  {
   "cell_type": "code",
   "execution_count": 63,
   "metadata": {
    "ExecuteTime": {
     "end_time": "2024-05-10T15:24:39.561170Z",
     "start_time": "2024-05-10T15:24:39.554826Z"
    }
   },
   "source": [],
   "outputs": []
  },
  {
   "cell_type": "code",
   "source": [
    "df"
   ],
   "metadata": {
    "collapsed": false,
    "ExecuteTime": {
     "end_time": "2024-05-10T15:24:44.831946Z",
     "start_time": "2024-05-10T15:24:44.819899Z"
    }
   },
   "execution_count": 64,
   "outputs": []
  },
  {
   "cell_type": "code",
   "source": [
    "df = pd.read_csv(\"/Users/sanathnair/Developer/trading/reports/original/report_02_06.csv\")\n",
    "df"
   ],
   "metadata": {
    "collapsed": false,
    "ExecuteTime": {
     "end_time": "2024-05-10T15:44:21.679166Z",
     "start_time": "2024-05-10T15:44:21.662895Z"
    }
   },
   "execution_count": 82,
   "outputs": []
  },
  {
   "cell_type": "code",
   "source": [
    "def get_schwab_report(schwab_file: Path) -> pd.DataFrame:\n",
    "    df = pd.read_csv(schwab_file)\n",
    "    df[\"Date\"] = pd.to_datetime(df[\"Date\"])\n",
    "    if \"Expiration\" not in df.columns:\n",
    "        df[\"Expiration\"] = np.nan\n",
    "        df[\"Strike\"] = np.nan\n",
    "        df[\"Option Type\"] = np.nan\n",
    "    else:\n",
    "        df[\"Expiration\"] = pd.to_datetime(df[\"Expiration\"])\n",
    "    return df"
   ],
   "metadata": {
    "collapsed": false,
    "ExecuteTime": {
     "end_time": "2024-05-10T15:38:19.324524Z",
     "start_time": "2024-05-10T15:38:19.320537Z"
    }
   },
   "execution_count": 68,
   "outputs": []
  },
  {
   "cell_type": "code",
   "source": [
    "sb = get_schwab_report(Path(\"/Users/sanathnair/Developer/trading/data/schwab/schwab_02_06.csv\"))\n",
    "sb"
   ],
   "metadata": {
    "collapsed": false,
    "ExecuteTime": {
     "end_time": "2024-05-10T15:44:27.192093Z",
     "start_time": "2024-05-10T15:44:27.177384Z"
    }
   },
   "execution_count": 83,
   "outputs": []
  },
  {
   "cell_type": "code",
   "source": [
    "df_sb = df[df[\"Broker\"] == \"SB\"]\n",
    "df_sb"
   ],
   "metadata": {
    "collapsed": false,
    "ExecuteTime": {
     "end_time": "2024-05-10T15:44:30.143704Z",
     "start_time": "2024-05-10T15:44:30.124744Z"
    }
   },
   "execution_count": 84,
   "outputs": []
  },
  {
   "cell_type": "code",
   "source": [
    "res = pd.merge(df_sb, sb, on = [\"Symbol\", \"Action\"], how = \"outer\", suffixes = (None, \"_y\"))\n",
    "res[\"Price\"] = res[\"Price_y\"]\n",
    "res[\"Dollar Amt\"] = res[\"Dollar Amt_y\"]\n",
    "res[\"Size\"] = res[\"Size_y\"]\n",
    "res[\"Broker\"] = \"SB\"\n",
    "res = res.drop(\n",
    "    columns = ['Size_y', 'Price_y', 'Dollar Amt_y', 'Expiration', 'Strike',\n",
    "               'Option Type'])\n",
    "df = df.drop(df_sb.index)\n",
    "df = pd.concat([df, res], axis = 0, ignore_index = True)\n",
    "df"
   ],
   "metadata": {
    "collapsed": false,
    "ExecuteTime": {
     "end_time": "2024-05-10T15:44:06.418546Z",
     "start_time": "2024-05-10T15:44:06.395896Z"
    }
   },
   "execution_count": 81,
   "outputs": []
  },
  {
   "cell_type": "code",
   "source": [],
   "metadata": {
    "collapsed": false
   },
   "execution_count": null,
   "outputs": []
  }
 ],
 "metadata": {
  "kernelspec": {
   "display_name": "trading",
   "language": "python",
   "name": "python3"
  },
  "language_info": {
   "codemirror_mode": {
    "name": "ipython",
    "version": 3
   },
   "file_extension": ".py",
   "mimetype": "text/x-python",
   "name": "python",
   "nbconvert_exporter": "python",
   "pygments_lexer": "ipython3",
   "version": "3.9.16"
  }
 },
 "nbformat": 4,
 "nbformat_minor": 2
}
