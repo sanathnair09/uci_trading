{
 "cells": [
  {
   "cell_type": "code",
   "execution_count": 2,
   "metadata": {
    "ExecuteTime": {
     "end_time": "2023-08-23T18:45:04.715741Z",
     "start_time": "2023-08-23T18:45:04.446015Z"
    }
   },
   "outputs": [],
   "source": [
    "import numpy\n",
    "import pandas as pd\n",
    "import numpy as np\n",
    "from pytz import utc, timezone\n",
    "from datetime import datetime, timedelta\n"
   ]
  },
  {
   "cell_type": "code",
   "execution_count": 4,
   "metadata": {
    "collapsed": false,
    "ExecuteTime": {
     "end_time": "2023-08-23T18:45:08.874624Z",
     "start_time": "2023-08-23T18:45:08.846381Z"
    }
   },
   "outputs": [],
   "source": [
    "df = pd.read_csv(\"../../reports/original/report_08_11.csv\")"
   ]
  },
  {
   "cell_type": "code",
   "execution_count": 6,
   "outputs": [
    {
     "data": {
      "text/plain": "          Date Program Submitted Program Executed Broker Executed Symbol  \\\n5     08/11/23   06:44:25:868612  06:44:35:903860             NaN   CVLY   \n12    08/11/23   06:44:59:165109  06:45:09:182035             NaN   IMNM   \n19    08/11/23   06:45:30:769364  06:45:41:258976             NaN   EWTX   \n32    08/11/23   06:51:23:441242  06:51:31:940395             NaN   CVLY   \n39    08/11/23   06:51:53:292977  06:52:01:785815             NaN   IMNM   \n...        ...               ...              ...             ...    ...   \n1323  08/11/23   11:30:56:731560  11:31:05:144152             NaN   DTOC   \n1324  08/11/23   11:31:06:533036  11:31:15:016781             NaN   OLMA   \n1325  08/11/23   11:33:34:727245  11:33:45:162440             NaN   PCYG   \n1326  08/11/23   11:33:46:337548  11:33:56:227055             NaN   ALXO   \n1327  08/11/23   11:33:57:652131  11:34:07:569566             NaN      W   \n\n     Broker Action   Size  Price  Dollar Amt  ...  Pre Bid  Pre Ask  Post Bid  \\\n5        IF    Buy    5.0    NaN         NaN  ...    21.50    21.86     21.50   \n12       IF    Buy   14.0    NaN         NaN  ...     6.90     7.19      6.90   \n19       IF    Buy   15.0    NaN         NaN  ...     6.72     6.80      6.80   \n32       IF   Sell    5.0    NaN         NaN  ...    21.50    21.86     21.50   \n39       IF   Sell   14.0    NaN         NaN  ...     6.91     7.19      6.91   \n...     ...    ...    ...    ...         ...  ...      ...      ...       ...   \n1323     IF   Sell    9.0    NaN         NaN  ...    10.50    10.55     10.50   \n1324     IF   Sell   10.0    NaN         NaN  ...    10.58    10.61     10.58   \n1325     IF    Buy  100.0    NaN         NaN  ...     9.74     9.90      9.74   \n1326     IF    Buy   20.0    NaN         NaN  ...     5.04     5.07      5.04   \n1327     IF    Buy    1.0    NaN         NaN  ...    74.32    74.37     74.28   \n\n      Post Ask  Pre Volume  Post Volume  Order Type  Split Order ID  \\\n5        21.86       317.0        322.0      Market  False      NaN   \n12        7.19       106.0        120.0      Market  False      NaN   \n19        6.90      8480.0       9490.0      Market  False      NaN   \n32       21.86       352.0        357.0      Market  False      NaN   \n39        7.19       205.0        219.0      Market  False      NaN   \n...        ...         ...          ...         ...    ...      ...   \n1323     10.55       299.0        308.0      Market  False      NaN   \n1324     10.61    196285.0     196295.0      Market  False      NaN   \n1325      9.90     24733.0      24833.0      Market  False      NaN   \n1326      5.07     80205.0      80225.0      Market  False      NaN   \n1327     74.35   3136871.0    3137524.0      Market  False      NaN   \n\n      Activity ID  \n5             NaN  \n12            NaN  \n19            NaN  \n32            NaN  \n39            NaN  \n...           ...  \n1323          NaN  \n1324          NaN  \n1325          NaN  \n1326          NaN  \n1327          NaN  \n\n[124 rows x 22 columns]",
      "text/html": "<div>\n<style scoped>\n    .dataframe tbody tr th:only-of-type {\n        vertical-align: middle;\n    }\n\n    .dataframe tbody tr th {\n        vertical-align: top;\n    }\n\n    .dataframe thead th {\n        text-align: right;\n    }\n</style>\n<table border=\"1\" class=\"dataframe\">\n  <thead>\n    <tr style=\"text-align: right;\">\n      <th></th>\n      <th>Date</th>\n      <th>Program Submitted</th>\n      <th>Program Executed</th>\n      <th>Broker Executed</th>\n      <th>Symbol</th>\n      <th>Broker</th>\n      <th>Action</th>\n      <th>Size</th>\n      <th>Price</th>\n      <th>Dollar Amt</th>\n      <th>...</th>\n      <th>Pre Bid</th>\n      <th>Pre Ask</th>\n      <th>Post Bid</th>\n      <th>Post Ask</th>\n      <th>Pre Volume</th>\n      <th>Post Volume</th>\n      <th>Order Type</th>\n      <th>Split</th>\n      <th>Order ID</th>\n      <th>Activity ID</th>\n    </tr>\n  </thead>\n  <tbody>\n    <tr>\n      <th>5</th>\n      <td>08/11/23</td>\n      <td>06:44:25:868612</td>\n      <td>06:44:35:903860</td>\n      <td>NaN</td>\n      <td>CVLY</td>\n      <td>IF</td>\n      <td>Buy</td>\n      <td>5.0</td>\n      <td>NaN</td>\n      <td>NaN</td>\n      <td>...</td>\n      <td>21.50</td>\n      <td>21.86</td>\n      <td>21.50</td>\n      <td>21.86</td>\n      <td>317.0</td>\n      <td>322.0</td>\n      <td>Market</td>\n      <td>False</td>\n      <td>NaN</td>\n      <td>NaN</td>\n    </tr>\n    <tr>\n      <th>12</th>\n      <td>08/11/23</td>\n      <td>06:44:59:165109</td>\n      <td>06:45:09:182035</td>\n      <td>NaN</td>\n      <td>IMNM</td>\n      <td>IF</td>\n      <td>Buy</td>\n      <td>14.0</td>\n      <td>NaN</td>\n      <td>NaN</td>\n      <td>...</td>\n      <td>6.90</td>\n      <td>7.19</td>\n      <td>6.90</td>\n      <td>7.19</td>\n      <td>106.0</td>\n      <td>120.0</td>\n      <td>Market</td>\n      <td>False</td>\n      <td>NaN</td>\n      <td>NaN</td>\n    </tr>\n    <tr>\n      <th>19</th>\n      <td>08/11/23</td>\n      <td>06:45:30:769364</td>\n      <td>06:45:41:258976</td>\n      <td>NaN</td>\n      <td>EWTX</td>\n      <td>IF</td>\n      <td>Buy</td>\n      <td>15.0</td>\n      <td>NaN</td>\n      <td>NaN</td>\n      <td>...</td>\n      <td>6.72</td>\n      <td>6.80</td>\n      <td>6.80</td>\n      <td>6.90</td>\n      <td>8480.0</td>\n      <td>9490.0</td>\n      <td>Market</td>\n      <td>False</td>\n      <td>NaN</td>\n      <td>NaN</td>\n    </tr>\n    <tr>\n      <th>32</th>\n      <td>08/11/23</td>\n      <td>06:51:23:441242</td>\n      <td>06:51:31:940395</td>\n      <td>NaN</td>\n      <td>CVLY</td>\n      <td>IF</td>\n      <td>Sell</td>\n      <td>5.0</td>\n      <td>NaN</td>\n      <td>NaN</td>\n      <td>...</td>\n      <td>21.50</td>\n      <td>21.86</td>\n      <td>21.50</td>\n      <td>21.86</td>\n      <td>352.0</td>\n      <td>357.0</td>\n      <td>Market</td>\n      <td>False</td>\n      <td>NaN</td>\n      <td>NaN</td>\n    </tr>\n    <tr>\n      <th>39</th>\n      <td>08/11/23</td>\n      <td>06:51:53:292977</td>\n      <td>06:52:01:785815</td>\n      <td>NaN</td>\n      <td>IMNM</td>\n      <td>IF</td>\n      <td>Sell</td>\n      <td>14.0</td>\n      <td>NaN</td>\n      <td>NaN</td>\n      <td>...</td>\n      <td>6.91</td>\n      <td>7.19</td>\n      <td>6.91</td>\n      <td>7.19</td>\n      <td>205.0</td>\n      <td>219.0</td>\n      <td>Market</td>\n      <td>False</td>\n      <td>NaN</td>\n      <td>NaN</td>\n    </tr>\n    <tr>\n      <th>...</th>\n      <td>...</td>\n      <td>...</td>\n      <td>...</td>\n      <td>...</td>\n      <td>...</td>\n      <td>...</td>\n      <td>...</td>\n      <td>...</td>\n      <td>...</td>\n      <td>...</td>\n      <td>...</td>\n      <td>...</td>\n      <td>...</td>\n      <td>...</td>\n      <td>...</td>\n      <td>...</td>\n      <td>...</td>\n      <td>...</td>\n      <td>...</td>\n      <td>...</td>\n      <td>...</td>\n    </tr>\n    <tr>\n      <th>1323</th>\n      <td>08/11/23</td>\n      <td>11:30:56:731560</td>\n      <td>11:31:05:144152</td>\n      <td>NaN</td>\n      <td>DTOC</td>\n      <td>IF</td>\n      <td>Sell</td>\n      <td>9.0</td>\n      <td>NaN</td>\n      <td>NaN</td>\n      <td>...</td>\n      <td>10.50</td>\n      <td>10.55</td>\n      <td>10.50</td>\n      <td>10.55</td>\n      <td>299.0</td>\n      <td>308.0</td>\n      <td>Market</td>\n      <td>False</td>\n      <td>NaN</td>\n      <td>NaN</td>\n    </tr>\n    <tr>\n      <th>1324</th>\n      <td>08/11/23</td>\n      <td>11:31:06:533036</td>\n      <td>11:31:15:016781</td>\n      <td>NaN</td>\n      <td>OLMA</td>\n      <td>IF</td>\n      <td>Sell</td>\n      <td>10.0</td>\n      <td>NaN</td>\n      <td>NaN</td>\n      <td>...</td>\n      <td>10.58</td>\n      <td>10.61</td>\n      <td>10.58</td>\n      <td>10.61</td>\n      <td>196285.0</td>\n      <td>196295.0</td>\n      <td>Market</td>\n      <td>False</td>\n      <td>NaN</td>\n      <td>NaN</td>\n    </tr>\n    <tr>\n      <th>1325</th>\n      <td>08/11/23</td>\n      <td>11:33:34:727245</td>\n      <td>11:33:45:162440</td>\n      <td>NaN</td>\n      <td>PCYG</td>\n      <td>IF</td>\n      <td>Buy</td>\n      <td>100.0</td>\n      <td>NaN</td>\n      <td>NaN</td>\n      <td>...</td>\n      <td>9.74</td>\n      <td>9.90</td>\n      <td>9.74</td>\n      <td>9.90</td>\n      <td>24733.0</td>\n      <td>24833.0</td>\n      <td>Market</td>\n      <td>False</td>\n      <td>NaN</td>\n      <td>NaN</td>\n    </tr>\n    <tr>\n      <th>1326</th>\n      <td>08/11/23</td>\n      <td>11:33:46:337548</td>\n      <td>11:33:56:227055</td>\n      <td>NaN</td>\n      <td>ALXO</td>\n      <td>IF</td>\n      <td>Buy</td>\n      <td>20.0</td>\n      <td>NaN</td>\n      <td>NaN</td>\n      <td>...</td>\n      <td>5.04</td>\n      <td>5.07</td>\n      <td>5.04</td>\n      <td>5.07</td>\n      <td>80205.0</td>\n      <td>80225.0</td>\n      <td>Market</td>\n      <td>False</td>\n      <td>NaN</td>\n      <td>NaN</td>\n    </tr>\n    <tr>\n      <th>1327</th>\n      <td>08/11/23</td>\n      <td>11:33:57:652131</td>\n      <td>11:34:07:569566</td>\n      <td>NaN</td>\n      <td>W</td>\n      <td>IF</td>\n      <td>Buy</td>\n      <td>1.0</td>\n      <td>NaN</td>\n      <td>NaN</td>\n      <td>...</td>\n      <td>74.32</td>\n      <td>74.37</td>\n      <td>74.28</td>\n      <td>74.35</td>\n      <td>3136871.0</td>\n      <td>3137524.0</td>\n      <td>Market</td>\n      <td>False</td>\n      <td>NaN</td>\n      <td>NaN</td>\n    </tr>\n  </tbody>\n</table>\n<p>124 rows × 22 columns</p>\n</div>"
     },
     "execution_count": 6,
     "metadata": {},
     "output_type": "execute_result"
    }
   ],
   "source": [
    "df[df[\"Broker\"] == \"IF\"]"
   ],
   "metadata": {
    "collapsed": false,
    "ExecuteTime": {
     "end_time": "2023-08-23T18:45:16.858760Z",
     "start_time": "2023-08-23T18:45:16.838764Z"
    }
   }
  },
  {
   "cell_type": "code",
   "execution_count": null,
   "metadata": {
    "collapsed": false
   },
   "outputs": [],
   "source": [
    "def convert_int64_utc_to_pst(int64):\n",
    "    utc_datetime = datetime.utcfromtimestamp(float(int64) / 1000)\n",
    "    now_aware = utc.localize(utc_datetime)\n",
    "    pst = now_aware.astimezone(timezone(\"US/Pacific\"))\n",
    "    return pst.strftime(\"%H:%M:%S\")\n"
   ]
  },
  {
   "cell_type": "code",
   "execution_count": null,
   "metadata": {},
   "outputs": [],
   "source": [
    "df.head(10)"
   ]
  },
  {
   "cell_type": "code",
   "execution_count": null,
   "metadata": {
    "collapsed": false,
    "scrolled": true
   },
   "outputs": [],
   "source": [
    "%time\n",
    "df.loc[df['Broker'] == \"E2\", 'Broker Executed'] = df.loc[\n",
    "    df['Broker'] == \"E2\", 'Broker Executed'].apply(\n",
    "    lambda int64_time: convert_int64_utc_to_pst(int64_time))"
   ]
  },
  {
   "cell_type": "code",
   "execution_count": null,
   "metadata": {
    "scrolled": true
   },
   "outputs": [],
   "source": [
    "df.loc[(df['Broker'] == \"ET\") | (df['Broker'] == \"E2\")]"
   ]
  },
  {
   "cell_type": "code",
   "execution_count": null,
   "metadata": {},
   "outputs": [],
   "source": [
    "def vectorized_calculate_rounded_price(price_array):\n",
    "    return np.round(np.round(price_array, 2) - price_array, 4)\n",
    "\n",
    "\n",
    "def calculate_rounded_price(price):\n",
    "    if price:\n",
    "        price = float(price)\n",
    "        return round(round(price, 2) - price, 4)\n",
    "    return price"
   ]
  },
  {
   "cell_type": "code",
   "execution_count": null,
   "metadata": {},
   "outputs": [],
   "source": [
    "%%timeit\n",
    "df[\"Rounded Price - Price\"] = vectorized_calculate_rounded_price(\n",
    "    df[\"Price\"].to_numpy(dtype = 'float64'))"
   ]
  },
  {
   "cell_type": "code",
   "execution_count": null,
   "metadata": {},
   "outputs": [],
   "source": [
    "%%timeit\n",
    "df.loc[:, \"Rounded Price - Price\"] = df.loc[:, \"Price\"].apply(calculate_rounded_price)\n"
   ]
  },
  {
   "cell_type": "code",
   "execution_count": null,
   "outputs": [],
   "source": [
    "price_idx = df.columns.get_loc(\"Price\")\n",
    "df.insert(price_idx + 2, \"PriceImprovement\", 0)"
   ],
   "metadata": {
    "collapsed": false
   }
  },
  {
   "cell_type": "code",
   "execution_count": null,
   "metadata": {},
   "outputs": [],
   "source": []
  },
  {
   "cell_type": "code",
   "execution_count": null,
   "outputs": [],
   "source": [],
   "metadata": {
    "collapsed": false
   }
  },
  {
   "cell_type": "code",
   "execution_count": null,
   "outputs": [],
   "source": [
    "def calculate_tradeID(row):\n",
    "    bigTrade = row[\"BigTrade\"]\n",
    "    symbol = row[\"Symbol\"]\n",
    "    today = datetime.strptime(row[\"Date\"], \"%x\")\n",
    "    year, month, day = today.year, today.strftime(\"%m\"), today.strftime(\"%d\")\n",
    "    return f\"{year}{month}{day}{symbol}{'1000' if bigTrade else '0100'}\""
   ],
   "metadata": {
    "collapsed": false
   }
  },
  {
   "cell_type": "code",
   "execution_count": null,
   "outputs": [],
   "source": [
    "post_vol_idx = df.columns.get_loc(\"Post Volume\")\n",
    "df.insert(post_vol_idx + 1, \"First\", 0)\n",
    "df.insert(post_vol_idx + 2, \"BigTrade\", 0)\n",
    "df.insert(post_vol_idx + 3, \"TradeID\", 0)\n"
   ],
   "metadata": {
    "collapsed": false
   }
  },
  {
   "cell_type": "code",
   "execution_count": null,
   "outputs": [],
   "source": [
    "%%timeit\n",
    "df.loc[:, \"TradeID\"] = df.loc[:, [\"Date\", \"Symbol\", \"BigTrade\"]].apply(calculate_tradeID,\n",
    "                                                                       axis = 1)"
   ],
   "metadata": {
    "collapsed": false
   }
  },
  {
   "cell_type": "code",
   "execution_count": null,
   "outputs": [],
   "source": [
    "vfunc = np.vectorize(calculate_tradeID)"
   ],
   "metadata": {
    "collapsed": false
   }
  },
  {
   "cell_type": "code",
   "execution_count": null,
   "outputs": [],
   "source": [
    "%%timeit\n",
    "\n",
    "df[\"New Col\"] = df[[\"Date\", \"Symbol\", \"BigTrade\"]].apply(calculate_tradeID, axis = 1)"
   ],
   "metadata": {
    "collapsed": false
   }
  },
  {
   "cell_type": "code",
   "execution_count": null,
   "outputs": [],
   "source": [
    "df"
   ],
   "metadata": {
    "collapsed": false
   }
  },
  {
   "cell_type": "code",
   "execution_count": null,
   "outputs": [],
   "source": [
    "df[\"DateObj\"] = pd.to_datetime(df[\"Date\"])"
   ],
   "metadata": {
    "collapsed": false
   }
  },
  {
   "cell_type": "code",
   "execution_count": null,
   "outputs": [],
   "source": [
    "%%timeit\n",
    "\n",
    "df[\"DateObj\"].dt.year.astype(str) + df[\"DateObj\"].dt.month.map(\"{:02}\".format).astype(str) + df[\n",
    "    \"DateObj\"].dt.day.astype(str) + df[\"Symbol\"] + np.where(\n",
    "    df[\"BigTrade\"].to_numpy(dtype = \"int64\") == 0, \"0100\", \"100\")"
   ],
   "metadata": {
    "collapsed": false
   }
  },
  {
   "cell_type": "code",
   "execution_count": null,
   "outputs": [],
   "source": [
    "%%timeit\n"
   ],
   "metadata": {
    "collapsed": false
   }
  },
  {
   "cell_type": "code",
   "execution_count": null,
   "outputs": [],
   "source": [
    "%%timeit\n",
    "np.where(df[\"BigTrade\"] == 0, \"0100\", \"100\")"
   ],
   "metadata": {
    "collapsed": false
   }
  },
  {
   "cell_type": "code",
   "execution_count": null,
   "outputs": [],
   "source": [
    "df[\"Date\"] = pd.to_datetime(df[\"Date\"])\n",
    "df[\"Date\"] = df[\"Date\"].dt.strftime('%m/%d/%Y')"
   ],
   "metadata": {
    "collapsed": false
   }
  },
  {
   "cell_type": "code",
   "execution_count": null,
   "outputs": [],
   "source": [
    "df"
   ],
   "metadata": {
    "collapsed": false
   }
  },
  {
   "cell_type": "code",
   "execution_count": null,
   "outputs": [],
   "source": [
    "df.dtypes"
   ],
   "metadata": {
    "collapsed": false
   }
  },
  {
   "cell_type": "code",
   "execution_count": null,
   "outputs": [],
   "source": [
    "split_idx = df.columns.get_loc(\"Split\")\n",
    "df.insert(split_idx + 1, \"BidAskSpread\", 0)\n",
    "df.insert(split_idx + 2, \"TradeLocation\", 0)"
   ],
   "metadata": {
    "collapsed": false
   }
  },
  {
   "cell_type": "code",
   "execution_count": null,
   "outputs": [],
   "source": [
    "type(np.nan)"
   ],
   "metadata": {
    "collapsed": false
   }
  },
  {
   "cell_type": "code",
   "execution_count": null,
   "outputs": [],
   "source": [
    "float(np.nan)"
   ],
   "metadata": {
    "collapsed": false
   }
  },
  {
   "cell_type": "code",
   "execution_count": null,
   "outputs": [],
   "source": [
    "df[\"BidAskSpread\"] = (df[\"Pre Ask\"] - df[\"Pre Bid\"]).round(4)\n"
   ],
   "metadata": {
    "collapsed": false
   }
  },
  {
   "cell_type": "code",
   "execution_count": null,
   "outputs": [],
   "source": [
    "df"
   ],
   "metadata": {
    "collapsed": false
   }
  },
  {
   "cell_type": "code",
   "execution_count": null,
   "outputs": [],
   "source": [
    "program_submitted_idx = df.columns.get_loc(\"Program Submitted\")\n",
    "df.insert(program_submitted_idx + 1, \"Program Submitted Text\", \"\")\n",
    "\n",
    "program_executed_idx = df.columns.get_loc(\"Program Executed\")\n",
    "df.insert(program_executed_idx + 1, \"Program Executed Text\", \"\")\n",
    "\n",
    "broker_executed_idx = df.columns.get_loc(\"Broker Executed\")\n",
    "df.insert(broker_executed_idx + 1, \"Broker Executed Text\", \"\")"
   ],
   "metadata": {
    "collapsed": false
   }
  },
  {
   "cell_type": "code",
   "execution_count": null,
   "outputs": [],
   "source": [
    "df"
   ],
   "metadata": {
    "collapsed": false
   }
  },
  {
   "cell_type": "code",
   "execution_count": null,
   "outputs": [],
   "source": [
    "df[\"Program Submitted\"] = pd.to_datetime(df[\"Program Submitted\"], format = '%X:%f')\n",
    "df[\"Program Executed\"] = pd.to_datetime(df[\"Program Executed\"], format = '%X:%f')"
   ],
   "metadata": {
    "collapsed": false
   }
  },
  {
   "cell_type": "code",
   "execution_count": null,
   "outputs": [],
   "source": [
    "pd.to_datetime(df[\"Broker Executed\"])"
   ],
   "metadata": {
    "collapsed": false
   }
  },
  {
   "cell_type": "markdown",
   "source": [
    "# Fidelity Stuff"
   ],
   "metadata": {
    "collapsed": false
   }
  },
  {
   "cell_type": "code",
   "execution_count": null,
   "outputs": [],
   "source": [
    "file1 = '/Users/sanathnair/Developer/trading/brokers/unopened.txt'\n",
    "dfs1 = pd.read_html(file1)"
   ],
   "metadata": {
    "collapsed": false
   }
  },
  {
   "cell_type": "code",
   "execution_count": null,
   "outputs": [],
   "source": [
    "del dfs1[1]"
   ],
   "metadata": {
    "collapsed": false
   }
  },
  {
   "cell_type": "code",
   "execution_count": null,
   "outputs": [],
   "source": [
    "dfs1 = dfs1[0]"
   ],
   "metadata": {
    "collapsed": false
   }
  },
  {
   "cell_type": "code",
   "execution_count": null,
   "outputs": [],
   "source": [
    "dfs1 = dfs1.drop(dfs1.columns[[0, 2, 4]], axis = 1)"
   ],
   "metadata": {
    "collapsed": false
   }
  },
  {
   "cell_type": "code",
   "execution_count": null,
   "outputs": [],
   "source": [
    "dfs1.rename(columns = {1: 'Info', 3: \"Price\"}, inplace = True)"
   ],
   "metadata": {
    "collapsed": false
   }
  },
  {
   "cell_type": "code",
   "execution_count": null,
   "outputs": [],
   "source": [
    "dfs1"
   ],
   "metadata": {
    "collapsed": false
   }
  },
  {
   "cell_type": "code",
   "execution_count": null,
   "outputs": [],
   "source": [
    "dfs1[\"Price\"] = dfs1[\"Price\"].str.slice(start = 11).astype(\"float64\")\n",
    "dfs1"
   ],
   "metadata": {
    "collapsed": false
   }
  },
  {
   "cell_type": "code",
   "execution_count": null,
   "outputs": [],
   "source": [
    "dfs1_temp = dfs1[\"Info\"].str.split(expand = True)\n",
    "dfs1 = dfs1.join(dfs1_temp)"
   ],
   "metadata": {
    "collapsed": false
   }
  },
  {
   "cell_type": "code",
   "execution_count": null,
   "outputs": [],
   "source": [
    "dfs1.rename(\n",
    "    columns = {0: 'Action', 1: \"Quantity\", 2: \"Shares\", 3: \"of\", 4: \"Symbol\", 5: \"at\", 6: \"type\",\n",
    "               7: \"when\"}, inplace = True)"
   ],
   "metadata": {
    "collapsed": false
   }
  },
  {
   "cell_type": "code",
   "execution_count": null,
   "outputs": [],
   "source": [
    "dfs1 = dfs1.drop([\"Shares\", \"of\", \"at\", \"type\", \"when\", \"Info\"], axis = 1)"
   ],
   "metadata": {
    "collapsed": false
   }
  },
  {
   "cell_type": "code",
   "execution_count": null,
   "outputs": [],
   "source": [
    "dfs1"
   ],
   "metadata": {
    "collapsed": false
   }
  },
  {
   "cell_type": "markdown",
   "source": [
    "## dfs2 - split trades"
   ],
   "metadata": {
    "collapsed": false
   }
  },
  {
   "cell_type": "code",
   "execution_count": null,
   "outputs": [],
   "source": [
    "file2 = '/Users/sanathnair/Developer/trading/brokers/opened.txt'\n",
    "dfs2 = pd.read_html(file2)"
   ],
   "metadata": {
    "collapsed": false
   }
  },
  {
   "cell_type": "code",
   "execution_count": null,
   "outputs": [],
   "source": [
    "dfs2"
   ],
   "metadata": {
    "collapsed": false
   }
  },
  {
   "cell_type": "code",
   "execution_count": null,
   "outputs": [],
   "source": [
    "del dfs2[-1]"
   ],
   "metadata": {
    "collapsed": false
   }
  },
  {
   "cell_type": "code",
   "execution_count": null,
   "outputs": [],
   "source": [
    "del dfs2[0]"
   ],
   "metadata": {
    "collapsed": false
   }
  },
  {
   "cell_type": "code",
   "execution_count": null,
   "outputs": [],
   "source": [
    "dfs2"
   ],
   "metadata": {
    "collapsed": false
   }
  },
  {
   "cell_type": "code",
   "execution_count": null,
   "outputs": [],
   "source": [
    "dfs2[0]"
   ],
   "metadata": {
    "collapsed": false
   }
  },
  {
   "cell_type": "code",
   "execution_count": null,
   "outputs": [],
   "source": [
    "np.ones((6, 1))"
   ],
   "metadata": {
    "collapsed": false
   }
  },
  {
   "cell_type": "code",
   "execution_count": null,
   "outputs": [],
   "source": [
    "splits = dfs2[0].iloc[:-1].to_numpy()\n",
    "length = splits.shape[0]\n",
    "identifier = np.empty((length, 1))\n",
    "identifier.fill(1)\n",
    "test = np.hstack((splits, identifier))\n",
    "test2 = np.hstack((splits, identifier))\n",
    "# np.append(test, test2, axis = 0)"
   ],
   "metadata": {
    "collapsed": false
   }
  },
  {
   "cell_type": "code",
   "execution_count": null,
   "outputs": [],
   "source": [
    "# get amount for each trade\n",
    "prices = []\n",
    "for idx, temp in enumerate(dfs2):\n",
    "    splits = temp.iloc[:-1].to_numpy()\n",
    "    length = splits.shape[0]\n",
    "    identifier = np.empty((length, 1))\n",
    "    identifier.fill(idx)\n",
    "    updated = np.hstack((splits, identifier))\n",
    "    prices.append(updated)\n",
    "prices\n",
    "# prices = pd.Series(prices, dtype = \"float64\")"
   ],
   "metadata": {
    "collapsed": false
   }
  },
  {
   "cell_type": "code",
   "execution_count": null,
   "outputs": [],
   "source": [
    "res = prices[0]\n",
    "for x in prices[1:]:\n",
    "    res = np.append(res, x, axis = 0)\n",
    "\n",
    "res.shape\n",
    "    "
   ],
   "metadata": {
    "collapsed": false
   }
  },
  {
   "cell_type": "code",
   "execution_count": null,
   "outputs": [],
   "source": [],
   "metadata": {
    "collapsed": false
   }
  },
  {
   "cell_type": "code",
   "execution_count": null,
   "outputs": [],
   "source": [
    "splits_df = pd.DataFrame(res, columns = [\"Date\", \"Broker Executed\", \"Price\", \"Quantity\", \"Dollar Amt\", \"Identifier\" ])\n"
   ],
   "metadata": {
    "collapsed": false
   }
  },
  {
   "cell_type": "code",
   "execution_count": null,
   "outputs": [],
   "source": [
    "merged = pd.merge(splits_df, dfs1[['Symbol', 'Action']], left_on='Identifier', right_index=True)\n"
   ],
   "metadata": {
    "collapsed": false
   }
  },
  {
   "cell_type": "code",
   "execution_count": null,
   "outputs": [],
   "source": [
    "merged[\"Broker Executed\"] = merged[\"Broker Executed\"].str.slice(stop=-3)"
   ],
   "metadata": {
    "collapsed": false
   }
  },
  {
   "cell_type": "code",
   "execution_count": null,
   "outputs": [],
   "source": [
    "merged[\"Broker Executed\"] = pd.to_datetime(merged[\"Broker Executed\"], format = '%I:%M:%S %p', utc = False)"
   ],
   "metadata": {
    "collapsed": false
   }
  },
  {
   "cell_type": "code",
   "execution_count": null,
   "outputs": [],
   "source": [
    "merged[\"Price\"] = merged[\"Price\"].str.slice(start=1)"
   ],
   "metadata": {
    "collapsed": false
   }
  },
  {
   "cell_type": "code",
   "execution_count": null,
   "outputs": [],
   "source": [
    "merged[\"Dollar Amt\"] = merged[\"Dollar Amt\"].str.slice(start=1)"
   ],
   "metadata": {
    "collapsed": false
   }
  },
  {
   "cell_type": "code",
   "execution_count": null,
   "outputs": [],
   "source": [
    "merged[\"Broker Executed\"] = merged[\"Broker Executed\"] + pd.Timedelta(hours = -3)"
   ],
   "metadata": {
    "collapsed": false
   }
  },
  {
   "cell_type": "code",
   "execution_count": null,
   "outputs": [],
   "source": [
    "merged.to_csv(\"split_info.csv\", index = False)"
   ],
   "metadata": {
    "collapsed": false
   }
  },
  {
   "cell_type": "code",
   "execution_count": null,
   "outputs": [],
   "source": [
    "merged = merged[::-1]"
   ],
   "metadata": {
    "collapsed": false
   }
  },
  {
   "cell_type": "code",
   "execution_count": null,
   "outputs": [],
   "source": [
    "merged"
   ],
   "metadata": {
    "collapsed": false
   }
  },
  {
   "cell_type": "markdown",
   "source": [
    "# How to combine them?"
   ],
   "metadata": {
    "collapsed": false
   }
  },
  {
   "cell_type": "code",
   "execution_count": 144,
   "outputs": [],
   "source": [
    "import pandas as pd"
   ],
   "metadata": {
    "collapsed": false,
    "ExecuteTime": {
     "end_time": "2023-08-22T19:02:54.027141Z",
     "start_time": "2023-08-22T19:02:53.991866Z"
    }
   }
  },
  {
   "cell_type": "code",
   "execution_count": 146,
   "outputs": [],
   "source": [
    "report_file = pd.read_csv(\"../../reports/original/report_08_17.csv\")\n",
    "splits = pd.read_csv(\"../../data/fidelity_splits/fd_splits_08_17.csv\")"
   ],
   "metadata": {
    "collapsed": false,
    "ExecuteTime": {
     "end_time": "2023-08-22T19:03:10.551299Z",
     "start_time": "2023-08-22T19:03:10.524402Z"
    }
   }
  },
  {
   "cell_type": "code",
   "execution_count": 147,
   "outputs": [
    {
     "data": {
      "text/plain": "         Date Program Submitted Program Executed Broker Executed Symbol  \\\n2    08/17/23   06:45:24:422772  06:45:29:939180             NaN    BAC   \n7    08/17/23   06:45:52:280427  06:45:57:759303             NaN   DISH   \n12   08/17/23   06:46:17:410329  06:46:22:874263             NaN   PFMT   \n17   08/17/23   06:46:42:399716  06:46:47:902116             NaN   NNBR   \n23   08/17/23   06:50:46:423156  06:50:51:908253             NaN    BAC   \n..        ...               ...              ...             ...    ...   \n558  08/17/23   09:56:45:183109  09:56:50:651451             NaN   GWRE   \n563  08/17/23   10:01:03:746457  10:01:09:229196             NaN    SIX   \n568  08/17/23   10:01:35:933614  10:01:41:424139             NaN     GS   \n573  08/17/23   10:02:07:968121  10:02:13:411533             NaN   PXLW   \n578  08/17/23   10:02:40:004490  10:02:45:436190             NaN   GWRE   \n\n    Broker Action  Size  Price  Dollar Amt  ...  Pre Bid  Pre Ask  Post Bid  \\\n2       FD    Buy   3.0    NaN         NaN  ...    29.40    29.41     29.41   \n7       FD    Buy  14.0    NaN         NaN  ...     7.18     7.19      7.19   \n12      FD    Buy  42.0    NaN         NaN  ...     2.42     2.48      2.44   \n17      FD    Buy  46.0    NaN         NaN  ...     2.18     2.24      2.18   \n23      FD   Sell   3.0    NaN         NaN  ...    29.34    29.35     29.34   \n..     ...    ...   ...    ...         ...  ...      ...      ...       ...   \n558     FD    Buy   1.0    NaN         NaN  ...    80.52    80.57     80.52   \n563     FD   Sell   5.0    NaN         NaN  ...    21.29    21.30     21.29   \n568     FD   Sell   1.0    NaN         NaN  ...   332.66   332.82    332.59   \n573     FD   Sell  78.0    NaN         NaN  ...     1.29     1.30      1.29   \n578     FD   Sell   1.0    NaN         NaN  ...    80.41    80.49     80.41   \n\n     Post Ask  Pre Volume  Post Volume  Order Type  Split Order ID  \\\n2       29.42   2145338.0    2147586.0      Market  False      NaN   \n7        7.20    355954.0     360640.0      Market  False      NaN   \n12       2.48      2839.0       2881.0      Market  False      NaN   \n17       2.24      2572.0       2618.0      Market  False      NaN   \n23      29.35   2557717.0    2559226.0      Market  False      NaN   \n..        ...         ...          ...         ...    ...      ...   \n558     80.57    133711.0     133712.0      Market  False      NaN   \n563     21.30    304013.0     304018.0      Market  False      NaN   \n568    332.80   1093387.0    1094062.0      Market  False      NaN   \n573      1.30    229827.0     229905.0      Market  False      NaN   \n578     80.48    139880.0     139983.0      Market  False      NaN   \n\n     Activity ID  \n2            NaN  \n7            NaN  \n12           NaN  \n17           NaN  \n23           NaN  \n..           ...  \n558          NaN  \n563          NaN  \n568          NaN  \n573          NaN  \n578          NaN  \n\n[105 rows x 22 columns]",
      "text/html": "<div>\n<style scoped>\n    .dataframe tbody tr th:only-of-type {\n        vertical-align: middle;\n    }\n\n    .dataframe tbody tr th {\n        vertical-align: top;\n    }\n\n    .dataframe thead th {\n        text-align: right;\n    }\n</style>\n<table border=\"1\" class=\"dataframe\">\n  <thead>\n    <tr style=\"text-align: right;\">\n      <th></th>\n      <th>Date</th>\n      <th>Program Submitted</th>\n      <th>Program Executed</th>\n      <th>Broker Executed</th>\n      <th>Symbol</th>\n      <th>Broker</th>\n      <th>Action</th>\n      <th>Size</th>\n      <th>Price</th>\n      <th>Dollar Amt</th>\n      <th>...</th>\n      <th>Pre Bid</th>\n      <th>Pre Ask</th>\n      <th>Post Bid</th>\n      <th>Post Ask</th>\n      <th>Pre Volume</th>\n      <th>Post Volume</th>\n      <th>Order Type</th>\n      <th>Split</th>\n      <th>Order ID</th>\n      <th>Activity ID</th>\n    </tr>\n  </thead>\n  <tbody>\n    <tr>\n      <th>2</th>\n      <td>08/17/23</td>\n      <td>06:45:24:422772</td>\n      <td>06:45:29:939180</td>\n      <td>NaN</td>\n      <td>BAC</td>\n      <td>FD</td>\n      <td>Buy</td>\n      <td>3.0</td>\n      <td>NaN</td>\n      <td>NaN</td>\n      <td>...</td>\n      <td>29.40</td>\n      <td>29.41</td>\n      <td>29.41</td>\n      <td>29.42</td>\n      <td>2145338.0</td>\n      <td>2147586.0</td>\n      <td>Market</td>\n      <td>False</td>\n      <td>NaN</td>\n      <td>NaN</td>\n    </tr>\n    <tr>\n      <th>7</th>\n      <td>08/17/23</td>\n      <td>06:45:52:280427</td>\n      <td>06:45:57:759303</td>\n      <td>NaN</td>\n      <td>DISH</td>\n      <td>FD</td>\n      <td>Buy</td>\n      <td>14.0</td>\n      <td>NaN</td>\n      <td>NaN</td>\n      <td>...</td>\n      <td>7.18</td>\n      <td>7.19</td>\n      <td>7.19</td>\n      <td>7.20</td>\n      <td>355954.0</td>\n      <td>360640.0</td>\n      <td>Market</td>\n      <td>False</td>\n      <td>NaN</td>\n      <td>NaN</td>\n    </tr>\n    <tr>\n      <th>12</th>\n      <td>08/17/23</td>\n      <td>06:46:17:410329</td>\n      <td>06:46:22:874263</td>\n      <td>NaN</td>\n      <td>PFMT</td>\n      <td>FD</td>\n      <td>Buy</td>\n      <td>42.0</td>\n      <td>NaN</td>\n      <td>NaN</td>\n      <td>...</td>\n      <td>2.42</td>\n      <td>2.48</td>\n      <td>2.44</td>\n      <td>2.48</td>\n      <td>2839.0</td>\n      <td>2881.0</td>\n      <td>Market</td>\n      <td>False</td>\n      <td>NaN</td>\n      <td>NaN</td>\n    </tr>\n    <tr>\n      <th>17</th>\n      <td>08/17/23</td>\n      <td>06:46:42:399716</td>\n      <td>06:46:47:902116</td>\n      <td>NaN</td>\n      <td>NNBR</td>\n      <td>FD</td>\n      <td>Buy</td>\n      <td>46.0</td>\n      <td>NaN</td>\n      <td>NaN</td>\n      <td>...</td>\n      <td>2.18</td>\n      <td>2.24</td>\n      <td>2.18</td>\n      <td>2.24</td>\n      <td>2572.0</td>\n      <td>2618.0</td>\n      <td>Market</td>\n      <td>False</td>\n      <td>NaN</td>\n      <td>NaN</td>\n    </tr>\n    <tr>\n      <th>23</th>\n      <td>08/17/23</td>\n      <td>06:50:46:423156</td>\n      <td>06:50:51:908253</td>\n      <td>NaN</td>\n      <td>BAC</td>\n      <td>FD</td>\n      <td>Sell</td>\n      <td>3.0</td>\n      <td>NaN</td>\n      <td>NaN</td>\n      <td>...</td>\n      <td>29.34</td>\n      <td>29.35</td>\n      <td>29.34</td>\n      <td>29.35</td>\n      <td>2557717.0</td>\n      <td>2559226.0</td>\n      <td>Market</td>\n      <td>False</td>\n      <td>NaN</td>\n      <td>NaN</td>\n    </tr>\n    <tr>\n      <th>...</th>\n      <td>...</td>\n      <td>...</td>\n      <td>...</td>\n      <td>...</td>\n      <td>...</td>\n      <td>...</td>\n      <td>...</td>\n      <td>...</td>\n      <td>...</td>\n      <td>...</td>\n      <td>...</td>\n      <td>...</td>\n      <td>...</td>\n      <td>...</td>\n      <td>...</td>\n      <td>...</td>\n      <td>...</td>\n      <td>...</td>\n      <td>...</td>\n      <td>...</td>\n      <td>...</td>\n    </tr>\n    <tr>\n      <th>558</th>\n      <td>08/17/23</td>\n      <td>09:56:45:183109</td>\n      <td>09:56:50:651451</td>\n      <td>NaN</td>\n      <td>GWRE</td>\n      <td>FD</td>\n      <td>Buy</td>\n      <td>1.0</td>\n      <td>NaN</td>\n      <td>NaN</td>\n      <td>...</td>\n      <td>80.52</td>\n      <td>80.57</td>\n      <td>80.52</td>\n      <td>80.57</td>\n      <td>133711.0</td>\n      <td>133712.0</td>\n      <td>Market</td>\n      <td>False</td>\n      <td>NaN</td>\n      <td>NaN</td>\n    </tr>\n    <tr>\n      <th>563</th>\n      <td>08/17/23</td>\n      <td>10:01:03:746457</td>\n      <td>10:01:09:229196</td>\n      <td>NaN</td>\n      <td>SIX</td>\n      <td>FD</td>\n      <td>Sell</td>\n      <td>5.0</td>\n      <td>NaN</td>\n      <td>NaN</td>\n      <td>...</td>\n      <td>21.29</td>\n      <td>21.30</td>\n      <td>21.29</td>\n      <td>21.30</td>\n      <td>304013.0</td>\n      <td>304018.0</td>\n      <td>Market</td>\n      <td>False</td>\n      <td>NaN</td>\n      <td>NaN</td>\n    </tr>\n    <tr>\n      <th>568</th>\n      <td>08/17/23</td>\n      <td>10:01:35:933614</td>\n      <td>10:01:41:424139</td>\n      <td>NaN</td>\n      <td>GS</td>\n      <td>FD</td>\n      <td>Sell</td>\n      <td>1.0</td>\n      <td>NaN</td>\n      <td>NaN</td>\n      <td>...</td>\n      <td>332.66</td>\n      <td>332.82</td>\n      <td>332.59</td>\n      <td>332.80</td>\n      <td>1093387.0</td>\n      <td>1094062.0</td>\n      <td>Market</td>\n      <td>False</td>\n      <td>NaN</td>\n      <td>NaN</td>\n    </tr>\n    <tr>\n      <th>573</th>\n      <td>08/17/23</td>\n      <td>10:02:07:968121</td>\n      <td>10:02:13:411533</td>\n      <td>NaN</td>\n      <td>PXLW</td>\n      <td>FD</td>\n      <td>Sell</td>\n      <td>78.0</td>\n      <td>NaN</td>\n      <td>NaN</td>\n      <td>...</td>\n      <td>1.29</td>\n      <td>1.30</td>\n      <td>1.29</td>\n      <td>1.30</td>\n      <td>229827.0</td>\n      <td>229905.0</td>\n      <td>Market</td>\n      <td>False</td>\n      <td>NaN</td>\n      <td>NaN</td>\n    </tr>\n    <tr>\n      <th>578</th>\n      <td>08/17/23</td>\n      <td>10:02:40:004490</td>\n      <td>10:02:45:436190</td>\n      <td>NaN</td>\n      <td>GWRE</td>\n      <td>FD</td>\n      <td>Sell</td>\n      <td>1.0</td>\n      <td>NaN</td>\n      <td>NaN</td>\n      <td>...</td>\n      <td>80.41</td>\n      <td>80.49</td>\n      <td>80.41</td>\n      <td>80.48</td>\n      <td>139880.0</td>\n      <td>139983.0</td>\n      <td>Market</td>\n      <td>False</td>\n      <td>NaN</td>\n      <td>NaN</td>\n    </tr>\n  </tbody>\n</table>\n<p>105 rows × 22 columns</p>\n</div>"
     },
     "execution_count": 147,
     "metadata": {},
     "output_type": "execute_result"
    }
   ],
   "source": [
    "report_file[(report_file[\"Broker\"] == \"FD\")]"
   ],
   "metadata": {
    "collapsed": false,
    "ExecuteTime": {
     "end_time": "2023-08-22T19:03:13.550057Z",
     "start_time": "2023-08-22T19:03:13.512118Z"
    }
   }
  },
  {
   "cell_type": "code",
   "execution_count": 183,
   "outputs": [
    {
     "data": {
      "text/plain": "           Date      Broker Executed     Price  Quantity  Dollar Amt  \\\n0    08/17/2023  1900-01-01 10:02:45   80.4200       1.0       80.42   \n1    08/17/2023  1900-01-01 10:02:12    1.3000      78.0      101.40   \n2    08/17/2023  1900-01-01 10:01:40  332.8000       1.0      332.80   \n3    08/17/2023  1900-01-01 10:01:08   21.2950       5.0      106.48   \n4    08/17/2023  1900-01-01 09:56:50   80.5565       1.0       80.56   \n..          ...                  ...       ...       ...         ...   \n103  08/17/2023  1900-01-01 06:50:51   29.3500       3.0       88.05   \n104  08/17/2023  1900-01-01 06:46:47    2.2127      46.0      101.78   \n105  08/17/2023  1900-01-01 06:46:22    2.4600      42.0      103.32   \n106  08/17/2023  1900-01-01 06:45:57    7.1933      14.0      100.71   \n107  08/17/2023  1900-01-01 06:45:29   29.4154       3.0       88.25   \n\n     Identifier Symbol Action  \n0           0.0   GWRE   Sell  \n1           1.0   PXLW   Sell  \n2           2.0     GS   Sell  \n3           3.0    SIX   Sell  \n4           4.0   GWRE    Buy  \n..          ...    ...    ...  \n103       101.0    BAC   Sell  \n104       102.0   NNBR    Buy  \n105       103.0   PFMT    Buy  \n106       104.0   DISH    Buy  \n107       105.0    BAC    Buy  \n\n[108 rows x 8 columns]",
      "text/html": "<div>\n<style scoped>\n    .dataframe tbody tr th:only-of-type {\n        vertical-align: middle;\n    }\n\n    .dataframe tbody tr th {\n        vertical-align: top;\n    }\n\n    .dataframe thead th {\n        text-align: right;\n    }\n</style>\n<table border=\"1\" class=\"dataframe\">\n  <thead>\n    <tr style=\"text-align: right;\">\n      <th></th>\n      <th>Date</th>\n      <th>Broker Executed</th>\n      <th>Price</th>\n      <th>Quantity</th>\n      <th>Dollar Amt</th>\n      <th>Identifier</th>\n      <th>Symbol</th>\n      <th>Action</th>\n    </tr>\n  </thead>\n  <tbody>\n    <tr>\n      <th>0</th>\n      <td>08/17/2023</td>\n      <td>1900-01-01 10:02:45</td>\n      <td>80.4200</td>\n      <td>1.0</td>\n      <td>80.42</td>\n      <td>0.0</td>\n      <td>GWRE</td>\n      <td>Sell</td>\n    </tr>\n    <tr>\n      <th>1</th>\n      <td>08/17/2023</td>\n      <td>1900-01-01 10:02:12</td>\n      <td>1.3000</td>\n      <td>78.0</td>\n      <td>101.40</td>\n      <td>1.0</td>\n      <td>PXLW</td>\n      <td>Sell</td>\n    </tr>\n    <tr>\n      <th>2</th>\n      <td>08/17/2023</td>\n      <td>1900-01-01 10:01:40</td>\n      <td>332.8000</td>\n      <td>1.0</td>\n      <td>332.80</td>\n      <td>2.0</td>\n      <td>GS</td>\n      <td>Sell</td>\n    </tr>\n    <tr>\n      <th>3</th>\n      <td>08/17/2023</td>\n      <td>1900-01-01 10:01:08</td>\n      <td>21.2950</td>\n      <td>5.0</td>\n      <td>106.48</td>\n      <td>3.0</td>\n      <td>SIX</td>\n      <td>Sell</td>\n    </tr>\n    <tr>\n      <th>4</th>\n      <td>08/17/2023</td>\n      <td>1900-01-01 09:56:50</td>\n      <td>80.5565</td>\n      <td>1.0</td>\n      <td>80.56</td>\n      <td>4.0</td>\n      <td>GWRE</td>\n      <td>Buy</td>\n    </tr>\n    <tr>\n      <th>...</th>\n      <td>...</td>\n      <td>...</td>\n      <td>...</td>\n      <td>...</td>\n      <td>...</td>\n      <td>...</td>\n      <td>...</td>\n      <td>...</td>\n    </tr>\n    <tr>\n      <th>103</th>\n      <td>08/17/2023</td>\n      <td>1900-01-01 06:50:51</td>\n      <td>29.3500</td>\n      <td>3.0</td>\n      <td>88.05</td>\n      <td>101.0</td>\n      <td>BAC</td>\n      <td>Sell</td>\n    </tr>\n    <tr>\n      <th>104</th>\n      <td>08/17/2023</td>\n      <td>1900-01-01 06:46:47</td>\n      <td>2.2127</td>\n      <td>46.0</td>\n      <td>101.78</td>\n      <td>102.0</td>\n      <td>NNBR</td>\n      <td>Buy</td>\n    </tr>\n    <tr>\n      <th>105</th>\n      <td>08/17/2023</td>\n      <td>1900-01-01 06:46:22</td>\n      <td>2.4600</td>\n      <td>42.0</td>\n      <td>103.32</td>\n      <td>103.0</td>\n      <td>PFMT</td>\n      <td>Buy</td>\n    </tr>\n    <tr>\n      <th>106</th>\n      <td>08/17/2023</td>\n      <td>1900-01-01 06:45:57</td>\n      <td>7.1933</td>\n      <td>14.0</td>\n      <td>100.71</td>\n      <td>104.0</td>\n      <td>DISH</td>\n      <td>Buy</td>\n    </tr>\n    <tr>\n      <th>107</th>\n      <td>08/17/2023</td>\n      <td>1900-01-01 06:45:29</td>\n      <td>29.4154</td>\n      <td>3.0</td>\n      <td>88.25</td>\n      <td>105.0</td>\n      <td>BAC</td>\n      <td>Buy</td>\n    </tr>\n  </tbody>\n</table>\n<p>108 rows × 8 columns</p>\n</div>"
     },
     "execution_count": 183,
     "metadata": {},
     "output_type": "execute_result"
    }
   ],
   "source": [
    "splits"
   ],
   "metadata": {
    "collapsed": false,
    "ExecuteTime": {
     "end_time": "2023-08-22T19:26:35.840226Z",
     "start_time": "2023-08-22T19:26:35.806837Z"
    }
   }
  },
  {
   "cell_type": "code",
   "execution_count": 200,
   "outputs": [],
   "source": [
    "def parse_fidelity_splits(row):\n",
    "    symbol = row[\"Symbol\"]\n",
    "    action = row[\"Action\"]\n",
    "    report_row = report_file[(report_file[\"Broker\"] == \"FD\") & (report_file[\"Symbol\"] == symbol) & (report_file[\"Action\"] == action)]\n",
    "    if report_row.shape[0]:\n",
    "        report_row[\"Broker Executed\"] = row[\"Broker Executed\"]\n",
    "        report_row[\"Size\"] = row[\"Quantity\"]\n",
    "        report_row[\"Price\"] = row[\"Price\"]\n",
    "        report_row[\"Dollar Amt\"] = row[\"Dollar Amt\"]\n",
    "        return report_row.squeeze()\n",
    "    # print(report_row.to_numpy())"
   ],
   "metadata": {
    "collapsed": false,
    "ExecuteTime": {
     "end_time": "2023-08-22T19:30:17.157565Z",
     "start_time": "2023-08-22T19:30:17.136838Z"
    }
   }
  },
  {
   "cell_type": "code",
   "execution_count": 217,
   "outputs": [
    {
     "data": {
      "text/plain": "         Date Program Submitted Program Executed      Broker Executed Symbol  \\\n0    08/17/23   10:02:40:004490  10:02:45:436190  1900-01-01 10:02:45   GWRE   \n1    08/17/23   10:02:07:968121  10:02:13:411533  1900-01-01 10:02:12   PXLW   \n2    08/17/23   10:01:35:933614  10:01:41:424139  1900-01-01 10:01:40     GS   \n3    08/17/23   10:01:03:746457  10:01:09:229196  1900-01-01 10:01:08    SIX   \n4    08/17/23   09:56:45:183109  09:56:50:651451  1900-01-01 09:56:50   GWRE   \n..        ...               ...              ...                  ...    ...   \n103  08/17/23   06:50:46:423156  06:50:51:908253  1900-01-01 06:50:51    BAC   \n104  08/17/23   06:46:42:399716  06:46:47:902116  1900-01-01 06:46:47   NNBR   \n105  08/17/23   06:46:17:410329  06:46:22:874263  1900-01-01 06:46:22   PFMT   \n106  08/17/23   06:45:52:280427  06:45:57:759303  1900-01-01 06:45:57   DISH   \n107  08/17/23   06:45:24:422772  06:45:29:939180  1900-01-01 06:45:29    BAC   \n\n    Broker Action  Size     Price  Dollar Amt  ...  Pre Bid  Pre Ask  \\\n0       FD   Sell   1.0   80.4200       80.42  ...    80.41    80.49   \n1       FD   Sell  78.0    1.3000      101.40  ...     1.29     1.30   \n2       FD   Sell   1.0  332.8000      332.80  ...   332.66   332.82   \n3       FD   Sell   5.0   21.2950      106.48  ...    21.29    21.30   \n4       FD    Buy   1.0   80.5565       80.56  ...    80.52    80.57   \n..     ...    ...   ...       ...         ...  ...      ...      ...   \n103     FD   Sell   3.0   29.3500       88.05  ...    29.34    29.35   \n104     FD    Buy  46.0    2.2127      101.78  ...     2.18     2.24   \n105     FD    Buy  42.0    2.4600      103.32  ...     2.42     2.48   \n106     FD    Buy  14.0    7.1933      100.71  ...     7.18     7.19   \n107     FD    Buy   3.0   29.4154       88.25  ...    29.40    29.41   \n\n     Post Bid  Post Ask  Pre Volume  Post Volume  Order Type  Split Order ID  \\\n0       80.41     80.48    139880.0     139983.0      Market  False      NaN   \n1        1.29      1.30    229827.0     229905.0      Market  False      NaN   \n2      332.59    332.80   1093387.0    1094062.0      Market  False      NaN   \n3       21.29     21.30    304013.0     304018.0      Market  False      NaN   \n4       80.52     80.57    133711.0     133712.0      Market  False      NaN   \n..        ...       ...         ...          ...         ...    ...      ...   \n103     29.34     29.35   2557717.0    2559226.0      Market  False      NaN   \n104      2.18      2.24      2572.0       2618.0      Market  False      NaN   \n105      2.44      2.48      2839.0       2881.0      Market  False      NaN   \n106      7.19      7.20    355954.0     360640.0      Market  False      NaN   \n107     29.41     29.42   2145338.0    2147586.0      Market  False      NaN   \n\n    Activity ID  \n0           NaN  \n1           NaN  \n2           NaN  \n3           NaN  \n4           NaN  \n..          ...  \n103         NaN  \n104         NaN  \n105         NaN  \n106         NaN  \n107         NaN  \n\n[107 rows x 22 columns]",
      "text/html": "<div>\n<style scoped>\n    .dataframe tbody tr th:only-of-type {\n        vertical-align: middle;\n    }\n\n    .dataframe tbody tr th {\n        vertical-align: top;\n    }\n\n    .dataframe thead th {\n        text-align: right;\n    }\n</style>\n<table border=\"1\" class=\"dataframe\">\n  <thead>\n    <tr style=\"text-align: right;\">\n      <th></th>\n      <th>Date</th>\n      <th>Program Submitted</th>\n      <th>Program Executed</th>\n      <th>Broker Executed</th>\n      <th>Symbol</th>\n      <th>Broker</th>\n      <th>Action</th>\n      <th>Size</th>\n      <th>Price</th>\n      <th>Dollar Amt</th>\n      <th>...</th>\n      <th>Pre Bid</th>\n      <th>Pre Ask</th>\n      <th>Post Bid</th>\n      <th>Post Ask</th>\n      <th>Pre Volume</th>\n      <th>Post Volume</th>\n      <th>Order Type</th>\n      <th>Split</th>\n      <th>Order ID</th>\n      <th>Activity ID</th>\n    </tr>\n  </thead>\n  <tbody>\n    <tr>\n      <th>0</th>\n      <td>08/17/23</td>\n      <td>10:02:40:004490</td>\n      <td>10:02:45:436190</td>\n      <td>1900-01-01 10:02:45</td>\n      <td>GWRE</td>\n      <td>FD</td>\n      <td>Sell</td>\n      <td>1.0</td>\n      <td>80.4200</td>\n      <td>80.42</td>\n      <td>...</td>\n      <td>80.41</td>\n      <td>80.49</td>\n      <td>80.41</td>\n      <td>80.48</td>\n      <td>139880.0</td>\n      <td>139983.0</td>\n      <td>Market</td>\n      <td>False</td>\n      <td>NaN</td>\n      <td>NaN</td>\n    </tr>\n    <tr>\n      <th>1</th>\n      <td>08/17/23</td>\n      <td>10:02:07:968121</td>\n      <td>10:02:13:411533</td>\n      <td>1900-01-01 10:02:12</td>\n      <td>PXLW</td>\n      <td>FD</td>\n      <td>Sell</td>\n      <td>78.0</td>\n      <td>1.3000</td>\n      <td>101.40</td>\n      <td>...</td>\n      <td>1.29</td>\n      <td>1.30</td>\n      <td>1.29</td>\n      <td>1.30</td>\n      <td>229827.0</td>\n      <td>229905.0</td>\n      <td>Market</td>\n      <td>False</td>\n      <td>NaN</td>\n      <td>NaN</td>\n    </tr>\n    <tr>\n      <th>2</th>\n      <td>08/17/23</td>\n      <td>10:01:35:933614</td>\n      <td>10:01:41:424139</td>\n      <td>1900-01-01 10:01:40</td>\n      <td>GS</td>\n      <td>FD</td>\n      <td>Sell</td>\n      <td>1.0</td>\n      <td>332.8000</td>\n      <td>332.80</td>\n      <td>...</td>\n      <td>332.66</td>\n      <td>332.82</td>\n      <td>332.59</td>\n      <td>332.80</td>\n      <td>1093387.0</td>\n      <td>1094062.0</td>\n      <td>Market</td>\n      <td>False</td>\n      <td>NaN</td>\n      <td>NaN</td>\n    </tr>\n    <tr>\n      <th>3</th>\n      <td>08/17/23</td>\n      <td>10:01:03:746457</td>\n      <td>10:01:09:229196</td>\n      <td>1900-01-01 10:01:08</td>\n      <td>SIX</td>\n      <td>FD</td>\n      <td>Sell</td>\n      <td>5.0</td>\n      <td>21.2950</td>\n      <td>106.48</td>\n      <td>...</td>\n      <td>21.29</td>\n      <td>21.30</td>\n      <td>21.29</td>\n      <td>21.30</td>\n      <td>304013.0</td>\n      <td>304018.0</td>\n      <td>Market</td>\n      <td>False</td>\n      <td>NaN</td>\n      <td>NaN</td>\n    </tr>\n    <tr>\n      <th>4</th>\n      <td>08/17/23</td>\n      <td>09:56:45:183109</td>\n      <td>09:56:50:651451</td>\n      <td>1900-01-01 09:56:50</td>\n      <td>GWRE</td>\n      <td>FD</td>\n      <td>Buy</td>\n      <td>1.0</td>\n      <td>80.5565</td>\n      <td>80.56</td>\n      <td>...</td>\n      <td>80.52</td>\n      <td>80.57</td>\n      <td>80.52</td>\n      <td>80.57</td>\n      <td>133711.0</td>\n      <td>133712.0</td>\n      <td>Market</td>\n      <td>False</td>\n      <td>NaN</td>\n      <td>NaN</td>\n    </tr>\n    <tr>\n      <th>...</th>\n      <td>...</td>\n      <td>...</td>\n      <td>...</td>\n      <td>...</td>\n      <td>...</td>\n      <td>...</td>\n      <td>...</td>\n      <td>...</td>\n      <td>...</td>\n      <td>...</td>\n      <td>...</td>\n      <td>...</td>\n      <td>...</td>\n      <td>...</td>\n      <td>...</td>\n      <td>...</td>\n      <td>...</td>\n      <td>...</td>\n      <td>...</td>\n      <td>...</td>\n      <td>...</td>\n    </tr>\n    <tr>\n      <th>103</th>\n      <td>08/17/23</td>\n      <td>06:50:46:423156</td>\n      <td>06:50:51:908253</td>\n      <td>1900-01-01 06:50:51</td>\n      <td>BAC</td>\n      <td>FD</td>\n      <td>Sell</td>\n      <td>3.0</td>\n      <td>29.3500</td>\n      <td>88.05</td>\n      <td>...</td>\n      <td>29.34</td>\n      <td>29.35</td>\n      <td>29.34</td>\n      <td>29.35</td>\n      <td>2557717.0</td>\n      <td>2559226.0</td>\n      <td>Market</td>\n      <td>False</td>\n      <td>NaN</td>\n      <td>NaN</td>\n    </tr>\n    <tr>\n      <th>104</th>\n      <td>08/17/23</td>\n      <td>06:46:42:399716</td>\n      <td>06:46:47:902116</td>\n      <td>1900-01-01 06:46:47</td>\n      <td>NNBR</td>\n      <td>FD</td>\n      <td>Buy</td>\n      <td>46.0</td>\n      <td>2.2127</td>\n      <td>101.78</td>\n      <td>...</td>\n      <td>2.18</td>\n      <td>2.24</td>\n      <td>2.18</td>\n      <td>2.24</td>\n      <td>2572.0</td>\n      <td>2618.0</td>\n      <td>Market</td>\n      <td>False</td>\n      <td>NaN</td>\n      <td>NaN</td>\n    </tr>\n    <tr>\n      <th>105</th>\n      <td>08/17/23</td>\n      <td>06:46:17:410329</td>\n      <td>06:46:22:874263</td>\n      <td>1900-01-01 06:46:22</td>\n      <td>PFMT</td>\n      <td>FD</td>\n      <td>Buy</td>\n      <td>42.0</td>\n      <td>2.4600</td>\n      <td>103.32</td>\n      <td>...</td>\n      <td>2.42</td>\n      <td>2.48</td>\n      <td>2.44</td>\n      <td>2.48</td>\n      <td>2839.0</td>\n      <td>2881.0</td>\n      <td>Market</td>\n      <td>False</td>\n      <td>NaN</td>\n      <td>NaN</td>\n    </tr>\n    <tr>\n      <th>106</th>\n      <td>08/17/23</td>\n      <td>06:45:52:280427</td>\n      <td>06:45:57:759303</td>\n      <td>1900-01-01 06:45:57</td>\n      <td>DISH</td>\n      <td>FD</td>\n      <td>Buy</td>\n      <td>14.0</td>\n      <td>7.1933</td>\n      <td>100.71</td>\n      <td>...</td>\n      <td>7.18</td>\n      <td>7.19</td>\n      <td>7.19</td>\n      <td>7.20</td>\n      <td>355954.0</td>\n      <td>360640.0</td>\n      <td>Market</td>\n      <td>False</td>\n      <td>NaN</td>\n      <td>NaN</td>\n    </tr>\n    <tr>\n      <th>107</th>\n      <td>08/17/23</td>\n      <td>06:45:24:422772</td>\n      <td>06:45:29:939180</td>\n      <td>1900-01-01 06:45:29</td>\n      <td>BAC</td>\n      <td>FD</td>\n      <td>Buy</td>\n      <td>3.0</td>\n      <td>29.4154</td>\n      <td>88.25</td>\n      <td>...</td>\n      <td>29.40</td>\n      <td>29.41</td>\n      <td>29.41</td>\n      <td>29.42</td>\n      <td>2145338.0</td>\n      <td>2147586.0</td>\n      <td>Market</td>\n      <td>False</td>\n      <td>NaN</td>\n      <td>NaN</td>\n    </tr>\n  </tbody>\n</table>\n<p>107 rows × 22 columns</p>\n</div>"
     },
     "execution_count": 217,
     "metadata": {},
     "output_type": "execute_result"
    }
   ],
   "source": [
    "temp = splits.apply(parse_fidelity_splits, axis = 1)\n",
    "temp[temp[\"Date\"].notna()]"
   ],
   "metadata": {
    "collapsed": false,
    "ExecuteTime": {
     "end_time": "2023-08-22T19:36:02.586448Z",
     "start_time": "2023-08-22T19:36:02.501895Z"
    }
   }
  },
  {
   "cell_type": "code",
   "execution_count": 204,
   "outputs": [
    {
     "data": {
      "text/plain": "         Date Program Submitted Program Executed      Broker Executed Symbol  \\\n0    08/17/23   06:45:05:922167  06:45:15:898579                  NaN    BAC   \n1    08/17/23   06:45:16:856921  06:45:17:019760             06:45:17    BAC   \n2    08/17/23   06:45:24:422772  06:45:29:939180                  NaN    BAC   \n3    08/17/23   06:45:31:387475  06:45:32:515823                  NaN    BAC   \n4    08/17/23   06:45:33:458208  06:45:34:541989        1692279934545    BAC   \n..        ...               ...              ...                  ...    ...   \n103  08/17/23   06:50:46:423156  06:50:51:908253  1900-01-01 06:50:51    BAC   \n104  08/17/23   06:46:42:399716  06:46:47:902116  1900-01-01 06:46:47   NNBR   \n105  08/17/23   06:46:17:410329  06:46:22:874263  1900-01-01 06:46:22   PFMT   \n106  08/17/23   06:45:52:280427  06:45:57:759303  1900-01-01 06:45:57   DISH   \n107  08/17/23   06:45:24:422772  06:45:29:939180  1900-01-01 06:45:29    BAC   \n\n    Broker Action  Size    Price  Dollar Amt  ...  Pre Bid  Pre Ask  Post Bid  \\\n0       IF    Buy   3.0      NaN         NaN  ...    29.39    29.40     29.41   \n1       TD    Buy   3.0  29.4099     88.2297  ...    29.41    29.42     29.40   \n2       FD    Buy   3.0      NaN         NaN  ...    29.40    29.41     29.41   \n3       RH    Buy   3.0      NaN         NaN  ...    29.41    29.42     29.41   \n4       E2    Buy   3.0      NaN         NaN  ...    29.41    29.42     29.41   \n..     ...    ...   ...      ...         ...  ...      ...      ...       ...   \n103     FD   Sell   3.0  29.3500     88.0500  ...    29.34    29.35     29.34   \n104     FD    Buy  46.0   2.2127    101.7800  ...     2.18     2.24      2.18   \n105     FD    Buy  42.0   2.4600    103.3200  ...     2.42     2.48      2.44   \n106     FD    Buy  14.0   7.1933    100.7100  ...     7.18     7.19      7.19   \n107     FD    Buy   3.0  29.4154     88.2500  ...    29.40    29.41     29.41   \n\n     Post Ask  Pre Volume  Post Volume  Order Type  Split  \\\n0       29.42   2127408.0    2141617.0      Market  False   \n1       29.41   2141617.0    2142767.0      Market  False   \n2       29.42   2145338.0    2147586.0      Market  False   \n3       29.42   2147377.0    2147377.0       Limit  False   \n4       29.42    681234.0     681238.0      Market  False   \n..        ...         ...          ...         ...    ...   \n103     29.35   2557717.0    2559226.0      Market  False   \n104      2.24      2572.0       2618.0      Market  False   \n105      2.48      2839.0       2881.0      Market  False   \n106      7.20    355954.0     360640.0      Market  False   \n107     29.42   2145338.0    2147586.0      Market  False   \n\n                                 Order ID   Activity ID  \n0                                     NaN           NaN  \n1                             11484295175  5.872606e+10  \n2                                     NaN           NaN  \n3    64de247c-2820-4c8e-b4e6-b7edcbf19acb           NaN  \n4                                    3596           NaN  \n..                                    ...           ...  \n103                                   NaN           NaN  \n104                                   NaN           NaN  \n105                                   NaN           NaN  \n106                                   NaN           NaN  \n107                                   NaN           NaN  \n\n[693 rows x 22 columns]",
      "text/html": "<div>\n<style scoped>\n    .dataframe tbody tr th:only-of-type {\n        vertical-align: middle;\n    }\n\n    .dataframe tbody tr th {\n        vertical-align: top;\n    }\n\n    .dataframe thead th {\n        text-align: right;\n    }\n</style>\n<table border=\"1\" class=\"dataframe\">\n  <thead>\n    <tr style=\"text-align: right;\">\n      <th></th>\n      <th>Date</th>\n      <th>Program Submitted</th>\n      <th>Program Executed</th>\n      <th>Broker Executed</th>\n      <th>Symbol</th>\n      <th>Broker</th>\n      <th>Action</th>\n      <th>Size</th>\n      <th>Price</th>\n      <th>Dollar Amt</th>\n      <th>...</th>\n      <th>Pre Bid</th>\n      <th>Pre Ask</th>\n      <th>Post Bid</th>\n      <th>Post Ask</th>\n      <th>Pre Volume</th>\n      <th>Post Volume</th>\n      <th>Order Type</th>\n      <th>Split</th>\n      <th>Order ID</th>\n      <th>Activity ID</th>\n    </tr>\n  </thead>\n  <tbody>\n    <tr>\n      <th>0</th>\n      <td>08/17/23</td>\n      <td>06:45:05:922167</td>\n      <td>06:45:15:898579</td>\n      <td>NaN</td>\n      <td>BAC</td>\n      <td>IF</td>\n      <td>Buy</td>\n      <td>3.0</td>\n      <td>NaN</td>\n      <td>NaN</td>\n      <td>...</td>\n      <td>29.39</td>\n      <td>29.40</td>\n      <td>29.41</td>\n      <td>29.42</td>\n      <td>2127408.0</td>\n      <td>2141617.0</td>\n      <td>Market</td>\n      <td>False</td>\n      <td>NaN</td>\n      <td>NaN</td>\n    </tr>\n    <tr>\n      <th>1</th>\n      <td>08/17/23</td>\n      <td>06:45:16:856921</td>\n      <td>06:45:17:019760</td>\n      <td>06:45:17</td>\n      <td>BAC</td>\n      <td>TD</td>\n      <td>Buy</td>\n      <td>3.0</td>\n      <td>29.4099</td>\n      <td>88.2297</td>\n      <td>...</td>\n      <td>29.41</td>\n      <td>29.42</td>\n      <td>29.40</td>\n      <td>29.41</td>\n      <td>2141617.0</td>\n      <td>2142767.0</td>\n      <td>Market</td>\n      <td>False</td>\n      <td>11484295175</td>\n      <td>5.872606e+10</td>\n    </tr>\n    <tr>\n      <th>2</th>\n      <td>08/17/23</td>\n      <td>06:45:24:422772</td>\n      <td>06:45:29:939180</td>\n      <td>NaN</td>\n      <td>BAC</td>\n      <td>FD</td>\n      <td>Buy</td>\n      <td>3.0</td>\n      <td>NaN</td>\n      <td>NaN</td>\n      <td>...</td>\n      <td>29.40</td>\n      <td>29.41</td>\n      <td>29.41</td>\n      <td>29.42</td>\n      <td>2145338.0</td>\n      <td>2147586.0</td>\n      <td>Market</td>\n      <td>False</td>\n      <td>NaN</td>\n      <td>NaN</td>\n    </tr>\n    <tr>\n      <th>3</th>\n      <td>08/17/23</td>\n      <td>06:45:31:387475</td>\n      <td>06:45:32:515823</td>\n      <td>NaN</td>\n      <td>BAC</td>\n      <td>RH</td>\n      <td>Buy</td>\n      <td>3.0</td>\n      <td>NaN</td>\n      <td>NaN</td>\n      <td>...</td>\n      <td>29.41</td>\n      <td>29.42</td>\n      <td>29.41</td>\n      <td>29.42</td>\n      <td>2147377.0</td>\n      <td>2147377.0</td>\n      <td>Limit</td>\n      <td>False</td>\n      <td>64de247c-2820-4c8e-b4e6-b7edcbf19acb</td>\n      <td>NaN</td>\n    </tr>\n    <tr>\n      <th>4</th>\n      <td>08/17/23</td>\n      <td>06:45:33:458208</td>\n      <td>06:45:34:541989</td>\n      <td>1692279934545</td>\n      <td>BAC</td>\n      <td>E2</td>\n      <td>Buy</td>\n      <td>3.0</td>\n      <td>NaN</td>\n      <td>NaN</td>\n      <td>...</td>\n      <td>29.41</td>\n      <td>29.42</td>\n      <td>29.41</td>\n      <td>29.42</td>\n      <td>681234.0</td>\n      <td>681238.0</td>\n      <td>Market</td>\n      <td>False</td>\n      <td>3596</td>\n      <td>NaN</td>\n    </tr>\n    <tr>\n      <th>...</th>\n      <td>...</td>\n      <td>...</td>\n      <td>...</td>\n      <td>...</td>\n      <td>...</td>\n      <td>...</td>\n      <td>...</td>\n      <td>...</td>\n      <td>...</td>\n      <td>...</td>\n      <td>...</td>\n      <td>...</td>\n      <td>...</td>\n      <td>...</td>\n      <td>...</td>\n      <td>...</td>\n      <td>...</td>\n      <td>...</td>\n      <td>...</td>\n      <td>...</td>\n      <td>...</td>\n    </tr>\n    <tr>\n      <th>103</th>\n      <td>08/17/23</td>\n      <td>06:50:46:423156</td>\n      <td>06:50:51:908253</td>\n      <td>1900-01-01 06:50:51</td>\n      <td>BAC</td>\n      <td>FD</td>\n      <td>Sell</td>\n      <td>3.0</td>\n      <td>29.3500</td>\n      <td>88.0500</td>\n      <td>...</td>\n      <td>29.34</td>\n      <td>29.35</td>\n      <td>29.34</td>\n      <td>29.35</td>\n      <td>2557717.0</td>\n      <td>2559226.0</td>\n      <td>Market</td>\n      <td>False</td>\n      <td>NaN</td>\n      <td>NaN</td>\n    </tr>\n    <tr>\n      <th>104</th>\n      <td>08/17/23</td>\n      <td>06:46:42:399716</td>\n      <td>06:46:47:902116</td>\n      <td>1900-01-01 06:46:47</td>\n      <td>NNBR</td>\n      <td>FD</td>\n      <td>Buy</td>\n      <td>46.0</td>\n      <td>2.2127</td>\n      <td>101.7800</td>\n      <td>...</td>\n      <td>2.18</td>\n      <td>2.24</td>\n      <td>2.18</td>\n      <td>2.24</td>\n      <td>2572.0</td>\n      <td>2618.0</td>\n      <td>Market</td>\n      <td>False</td>\n      <td>NaN</td>\n      <td>NaN</td>\n    </tr>\n    <tr>\n      <th>105</th>\n      <td>08/17/23</td>\n      <td>06:46:17:410329</td>\n      <td>06:46:22:874263</td>\n      <td>1900-01-01 06:46:22</td>\n      <td>PFMT</td>\n      <td>FD</td>\n      <td>Buy</td>\n      <td>42.0</td>\n      <td>2.4600</td>\n      <td>103.3200</td>\n      <td>...</td>\n      <td>2.42</td>\n      <td>2.48</td>\n      <td>2.44</td>\n      <td>2.48</td>\n      <td>2839.0</td>\n      <td>2881.0</td>\n      <td>Market</td>\n      <td>False</td>\n      <td>NaN</td>\n      <td>NaN</td>\n    </tr>\n    <tr>\n      <th>106</th>\n      <td>08/17/23</td>\n      <td>06:45:52:280427</td>\n      <td>06:45:57:759303</td>\n      <td>1900-01-01 06:45:57</td>\n      <td>DISH</td>\n      <td>FD</td>\n      <td>Buy</td>\n      <td>14.0</td>\n      <td>7.1933</td>\n      <td>100.7100</td>\n      <td>...</td>\n      <td>7.18</td>\n      <td>7.19</td>\n      <td>7.19</td>\n      <td>7.20</td>\n      <td>355954.0</td>\n      <td>360640.0</td>\n      <td>Market</td>\n      <td>False</td>\n      <td>NaN</td>\n      <td>NaN</td>\n    </tr>\n    <tr>\n      <th>107</th>\n      <td>08/17/23</td>\n      <td>06:45:24:422772</td>\n      <td>06:45:29:939180</td>\n      <td>1900-01-01 06:45:29</td>\n      <td>BAC</td>\n      <td>FD</td>\n      <td>Buy</td>\n      <td>3.0</td>\n      <td>29.4154</td>\n      <td>88.2500</td>\n      <td>...</td>\n      <td>29.40</td>\n      <td>29.41</td>\n      <td>29.41</td>\n      <td>29.42</td>\n      <td>2145338.0</td>\n      <td>2147586.0</td>\n      <td>Market</td>\n      <td>False</td>\n      <td>NaN</td>\n      <td>NaN</td>\n    </tr>\n  </tbody>\n</table>\n<p>693 rows × 22 columns</p>\n</div>"
     },
     "execution_count": 204,
     "metadata": {},
     "output_type": "execute_result"
    }
   ],
   "source": [
    "# %%timeit\n",
    "pd.concat([report_file, splits.apply(parse_fidelity_splits, axis = 1)])\n",
    "# updated.reset_index()"
   ],
   "metadata": {
    "collapsed": false,
    "ExecuteTime": {
     "end_time": "2023-08-22T19:30:49.520914Z",
     "start_time": "2023-08-22T19:30:49.438335Z"
    }
   }
  },
  {
   "cell_type": "code",
   "execution_count": 152,
   "outputs": [
    {
     "data": {
      "text/plain": "        Date Program Submitted Program Executed      Broker Executed Symbol  \\\n0   08/17/23   06:45:05:922167  06:45:15:898579                  NaN    BAC   \n1   08/17/23   06:45:16:856921  06:45:17:019760             06:45:17    BAC   \n2   08/17/23   06:45:24:422772  06:45:29:939180                  NaN    BAC   \n3   08/17/23   06:45:31:387475  06:45:32:515823                  NaN    BAC   \n4   08/17/23   06:45:33:458208  06:45:34:541989        1692279934545    BAC   \n..       ...               ...              ...                  ...    ...   \n23  08/17/23   06:50:46:423156  06:50:51:908253  1900-01-01 06:50:51    BAC   \n17  08/17/23   06:46:42:399716  06:46:47:902116  1900-01-01 06:46:47   NNBR   \n12  08/17/23   06:46:17:410329  06:46:22:874263  1900-01-01 06:46:22   PFMT   \n7   08/17/23   06:45:52:280427  06:45:57:759303  1900-01-01 06:45:57   DISH   \n2   08/17/23   06:45:24:422772  06:45:29:939180  1900-01-01 06:45:29    BAC   \n\n   Broker Action  Size    Price  Dollar Amt  ...  Pre Bid  Pre Ask  Post Bid  \\\n0      IF    Buy   3.0      NaN         NaN  ...    29.39    29.40     29.41   \n1      TD    Buy   3.0  29.4099     88.2297  ...    29.41    29.42     29.40   \n2      FD    Buy   3.0      NaN         NaN  ...    29.40    29.41     29.41   \n3      RH    Buy   3.0      NaN         NaN  ...    29.41    29.42     29.41   \n4      E2    Buy   3.0      NaN         NaN  ...    29.41    29.42     29.41   \n..    ...    ...   ...      ...         ...  ...      ...      ...       ...   \n23     FD   Sell   3.0  29.3500     88.0500  ...    29.34    29.35     29.34   \n17     FD    Buy  46.0   2.2127    101.7800  ...     2.18     2.24      2.18   \n12     FD    Buy  42.0   2.4600    103.3200  ...     2.42     2.48      2.44   \n7      FD    Buy  14.0   7.1933    100.7100  ...     7.18     7.19      7.19   \n2      FD    Buy   3.0  29.4154     88.2500  ...    29.40    29.41     29.41   \n\n    Post Ask  Pre Volume  Post Volume  Order Type  Split  \\\n0      29.42   2127408.0    2141617.0      Market  False   \n1      29.41   2141617.0    2142767.0      Market  False   \n2      29.42   2145338.0    2147586.0      Market  False   \n3      29.42   2147377.0    2147377.0       Limit  False   \n4      29.42    681234.0     681238.0      Market  False   \n..       ...         ...          ...         ...    ...   \n23     29.35   2557717.0    2559226.0      Market  False   \n17      2.24      2572.0       2618.0      Market  False   \n12      2.48      2839.0       2881.0      Market  False   \n7       7.20    355954.0     360640.0      Market  False   \n2      29.42   2145338.0    2147586.0      Market  False   \n\n                                Order ID   Activity ID  \n0                                    NaN           NaN  \n1                            11484295175  5.872606e+10  \n2                                    NaN           NaN  \n3   64de247c-2820-4c8e-b4e6-b7edcbf19acb           NaN  \n4                                   3596           NaN  \n..                                   ...           ...  \n23                                   NaN           NaN  \n17                                   NaN           NaN  \n12                                   NaN           NaN  \n7                                    NaN           NaN  \n2                                    NaN           NaN  \n\n[692 rows x 22 columns]",
      "text/html": "<div>\n<style scoped>\n    .dataframe tbody tr th:only-of-type {\n        vertical-align: middle;\n    }\n\n    .dataframe tbody tr th {\n        vertical-align: top;\n    }\n\n    .dataframe thead th {\n        text-align: right;\n    }\n</style>\n<table border=\"1\" class=\"dataframe\">\n  <thead>\n    <tr style=\"text-align: right;\">\n      <th></th>\n      <th>Date</th>\n      <th>Program Submitted</th>\n      <th>Program Executed</th>\n      <th>Broker Executed</th>\n      <th>Symbol</th>\n      <th>Broker</th>\n      <th>Action</th>\n      <th>Size</th>\n      <th>Price</th>\n      <th>Dollar Amt</th>\n      <th>...</th>\n      <th>Pre Bid</th>\n      <th>Pre Ask</th>\n      <th>Post Bid</th>\n      <th>Post Ask</th>\n      <th>Pre Volume</th>\n      <th>Post Volume</th>\n      <th>Order Type</th>\n      <th>Split</th>\n      <th>Order ID</th>\n      <th>Activity ID</th>\n    </tr>\n  </thead>\n  <tbody>\n    <tr>\n      <th>0</th>\n      <td>08/17/23</td>\n      <td>06:45:05:922167</td>\n      <td>06:45:15:898579</td>\n      <td>NaN</td>\n      <td>BAC</td>\n      <td>IF</td>\n      <td>Buy</td>\n      <td>3.0</td>\n      <td>NaN</td>\n      <td>NaN</td>\n      <td>...</td>\n      <td>29.39</td>\n      <td>29.40</td>\n      <td>29.41</td>\n      <td>29.42</td>\n      <td>2127408.0</td>\n      <td>2141617.0</td>\n      <td>Market</td>\n      <td>False</td>\n      <td>NaN</td>\n      <td>NaN</td>\n    </tr>\n    <tr>\n      <th>1</th>\n      <td>08/17/23</td>\n      <td>06:45:16:856921</td>\n      <td>06:45:17:019760</td>\n      <td>06:45:17</td>\n      <td>BAC</td>\n      <td>TD</td>\n      <td>Buy</td>\n      <td>3.0</td>\n      <td>29.4099</td>\n      <td>88.2297</td>\n      <td>...</td>\n      <td>29.41</td>\n      <td>29.42</td>\n      <td>29.40</td>\n      <td>29.41</td>\n      <td>2141617.0</td>\n      <td>2142767.0</td>\n      <td>Market</td>\n      <td>False</td>\n      <td>11484295175</td>\n      <td>5.872606e+10</td>\n    </tr>\n    <tr>\n      <th>2</th>\n      <td>08/17/23</td>\n      <td>06:45:24:422772</td>\n      <td>06:45:29:939180</td>\n      <td>NaN</td>\n      <td>BAC</td>\n      <td>FD</td>\n      <td>Buy</td>\n      <td>3.0</td>\n      <td>NaN</td>\n      <td>NaN</td>\n      <td>...</td>\n      <td>29.40</td>\n      <td>29.41</td>\n      <td>29.41</td>\n      <td>29.42</td>\n      <td>2145338.0</td>\n      <td>2147586.0</td>\n      <td>Market</td>\n      <td>False</td>\n      <td>NaN</td>\n      <td>NaN</td>\n    </tr>\n    <tr>\n      <th>3</th>\n      <td>08/17/23</td>\n      <td>06:45:31:387475</td>\n      <td>06:45:32:515823</td>\n      <td>NaN</td>\n      <td>BAC</td>\n      <td>RH</td>\n      <td>Buy</td>\n      <td>3.0</td>\n      <td>NaN</td>\n      <td>NaN</td>\n      <td>...</td>\n      <td>29.41</td>\n      <td>29.42</td>\n      <td>29.41</td>\n      <td>29.42</td>\n      <td>2147377.0</td>\n      <td>2147377.0</td>\n      <td>Limit</td>\n      <td>False</td>\n      <td>64de247c-2820-4c8e-b4e6-b7edcbf19acb</td>\n      <td>NaN</td>\n    </tr>\n    <tr>\n      <th>4</th>\n      <td>08/17/23</td>\n      <td>06:45:33:458208</td>\n      <td>06:45:34:541989</td>\n      <td>1692279934545</td>\n      <td>BAC</td>\n      <td>E2</td>\n      <td>Buy</td>\n      <td>3.0</td>\n      <td>NaN</td>\n      <td>NaN</td>\n      <td>...</td>\n      <td>29.41</td>\n      <td>29.42</td>\n      <td>29.41</td>\n      <td>29.42</td>\n      <td>681234.0</td>\n      <td>681238.0</td>\n      <td>Market</td>\n      <td>False</td>\n      <td>3596</td>\n      <td>NaN</td>\n    </tr>\n    <tr>\n      <th>...</th>\n      <td>...</td>\n      <td>...</td>\n      <td>...</td>\n      <td>...</td>\n      <td>...</td>\n      <td>...</td>\n      <td>...</td>\n      <td>...</td>\n      <td>...</td>\n      <td>...</td>\n      <td>...</td>\n      <td>...</td>\n      <td>...</td>\n      <td>...</td>\n      <td>...</td>\n      <td>...</td>\n      <td>...</td>\n      <td>...</td>\n      <td>...</td>\n      <td>...</td>\n      <td>...</td>\n    </tr>\n    <tr>\n      <th>23</th>\n      <td>08/17/23</td>\n      <td>06:50:46:423156</td>\n      <td>06:50:51:908253</td>\n      <td>1900-01-01 06:50:51</td>\n      <td>BAC</td>\n      <td>FD</td>\n      <td>Sell</td>\n      <td>3.0</td>\n      <td>29.3500</td>\n      <td>88.0500</td>\n      <td>...</td>\n      <td>29.34</td>\n      <td>29.35</td>\n      <td>29.34</td>\n      <td>29.35</td>\n      <td>2557717.0</td>\n      <td>2559226.0</td>\n      <td>Market</td>\n      <td>False</td>\n      <td>NaN</td>\n      <td>NaN</td>\n    </tr>\n    <tr>\n      <th>17</th>\n      <td>08/17/23</td>\n      <td>06:46:42:399716</td>\n      <td>06:46:47:902116</td>\n      <td>1900-01-01 06:46:47</td>\n      <td>NNBR</td>\n      <td>FD</td>\n      <td>Buy</td>\n      <td>46.0</td>\n      <td>2.2127</td>\n      <td>101.7800</td>\n      <td>...</td>\n      <td>2.18</td>\n      <td>2.24</td>\n      <td>2.18</td>\n      <td>2.24</td>\n      <td>2572.0</td>\n      <td>2618.0</td>\n      <td>Market</td>\n      <td>False</td>\n      <td>NaN</td>\n      <td>NaN</td>\n    </tr>\n    <tr>\n      <th>12</th>\n      <td>08/17/23</td>\n      <td>06:46:17:410329</td>\n      <td>06:46:22:874263</td>\n      <td>1900-01-01 06:46:22</td>\n      <td>PFMT</td>\n      <td>FD</td>\n      <td>Buy</td>\n      <td>42.0</td>\n      <td>2.4600</td>\n      <td>103.3200</td>\n      <td>...</td>\n      <td>2.42</td>\n      <td>2.48</td>\n      <td>2.44</td>\n      <td>2.48</td>\n      <td>2839.0</td>\n      <td>2881.0</td>\n      <td>Market</td>\n      <td>False</td>\n      <td>NaN</td>\n      <td>NaN</td>\n    </tr>\n    <tr>\n      <th>7</th>\n      <td>08/17/23</td>\n      <td>06:45:52:280427</td>\n      <td>06:45:57:759303</td>\n      <td>1900-01-01 06:45:57</td>\n      <td>DISH</td>\n      <td>FD</td>\n      <td>Buy</td>\n      <td>14.0</td>\n      <td>7.1933</td>\n      <td>100.7100</td>\n      <td>...</td>\n      <td>7.18</td>\n      <td>7.19</td>\n      <td>7.19</td>\n      <td>7.20</td>\n      <td>355954.0</td>\n      <td>360640.0</td>\n      <td>Market</td>\n      <td>False</td>\n      <td>NaN</td>\n      <td>NaN</td>\n    </tr>\n    <tr>\n      <th>2</th>\n      <td>08/17/23</td>\n      <td>06:45:24:422772</td>\n      <td>06:45:29:939180</td>\n      <td>1900-01-01 06:45:29</td>\n      <td>BAC</td>\n      <td>FD</td>\n      <td>Buy</td>\n      <td>3.0</td>\n      <td>29.4154</td>\n      <td>88.2500</td>\n      <td>...</td>\n      <td>29.40</td>\n      <td>29.41</td>\n      <td>29.41</td>\n      <td>29.42</td>\n      <td>2145338.0</td>\n      <td>2147586.0</td>\n      <td>Market</td>\n      <td>False</td>\n      <td>NaN</td>\n      <td>NaN</td>\n    </tr>\n  </tbody>\n</table>\n<p>692 rows × 22 columns</p>\n</div>"
     },
     "execution_count": 152,
     "metadata": {},
     "output_type": "execute_result"
    }
   ],
   "source": [
    "pd.concat((report_file, updated))"
   ],
   "metadata": {
    "collapsed": false,
    "ExecuteTime": {
     "end_time": "2023-08-22T19:04:00.282784Z",
     "start_time": "2023-08-22T19:04:00.238296Z"
    }
   }
  },
  {
   "cell_type": "code",
   "execution_count": null,
   "outputs": [],
   "source": [
    "import pandas as pd\n",
    "import numpy as np"
   ],
   "metadata": {
    "collapsed": false
   }
  },
  {
   "cell_type": "code",
   "execution_count": 250,
   "outputs": [],
   "source": [
    "df = pd.read_html('/Users/sanathnair/Developer/trading/data/ibkr_prices/original/DailyTradeReport.20230816.html')"
   ],
   "metadata": {
    "collapsed": false,
    "ExecuteTime": {
     "end_time": "2023-08-22T19:54:51.491585Z",
     "start_time": "2023-08-22T19:54:51.437334Z"
    }
   }
  },
  {
   "cell_type": "code",
   "execution_count": 251,
   "outputs": [
    {
     "data": {
      "text/plain": "                       Acct ID                     Symbol  \\\n0                       Stocks                     Stocks   \n1                          USD                        USD   \n2                     U***5820                       AAPL   \n3          Total AAPL (Bought)        Total AAPL (Bought)   \n4                     U***5820                       AAPL   \n..                         ...                        ...   \n477                   U***5820                       ZUMZ   \n478          Total ZUMZ (Sold)          Total ZUMZ (Sold)   \n479                 Total ZUMZ                 Total ZUMZ   \n480                      Total                      Total   \n481  NotesRegulatory fees only  NotesRegulatory fees only   \n\n                      Symbol.1            Trade Date/Time  \\\n0                       Stocks                     Stocks   \n1                          USD                        USD   \n2                         AAPL       2023-08-16, 11:41:03   \n3          Total AAPL (Bought)        Total AAPL (Bought)   \n4                         AAPL       2023-08-16, 11:47:56   \n..                         ...                        ...   \n477                       ZUMZ       2023-08-16, 14:07:30   \n478          Total ZUMZ (Sold)          Total ZUMZ (Sold)   \n479                 Total ZUMZ                 Total ZUMZ   \n480                      Total                      Total   \n481  NotesRegulatory fees only  NotesRegulatory fees only   \n\n                   Settle Date                   Exchange  \\\n0                       Stocks                     Stocks   \n1                          USD                        USD   \n2                   2023-08-18                          -   \n3          Total AAPL (Bought)        Total AAPL (Bought)   \n4                   2023-08-18                          -   \n..                         ...                        ...   \n477                 2023-08-18                          -   \n478          Total ZUMZ (Sold)          Total ZUMZ (Sold)   \n479                 Total ZUMZ                 Total ZUMZ   \n480                      Total                      Total   \n481  NotesRegulatory fees only  NotesRegulatory fees only   \n\n                          Type                   Quantity  \\\n0                       Stocks                     Stocks   \n1                          USD                        USD   \n2                          BUY                          1   \n3          Total AAPL (Bought)                          1   \n4                         SELL                         -1   \n..                         ...                        ...   \n477                       SELL                         -6   \n478          Total ZUMZ (Sold)                         -6   \n479                 Total ZUMZ                          0   \n480                      Total                      Total   \n481  NotesRegulatory fees only  NotesRegulatory fees only   \n\n                         Price                   Proceeds  \\\n0                       Stocks                     Stocks   \n1                          USD                        USD   \n2                     177.7871                    -177.79   \n3                     177.7871                    -177.79   \n4                     177.5713                     177.57   \n..                         ...                        ...   \n477                    17.9929                     107.96   \n478                    17.9929                     107.96   \n479                        NaN                       0.13   \n480                      Total                     -49.13   \n481  NotesRegulatory fees only  NotesRegulatory fees only   \n\n                          Comm                        Fee  \\\n0                       Stocks                     Stocks   \n1                          USD                        USD   \n2                         0.00                       0.00   \n3                         0.00                       0.00   \n4                        0.00¹                       0.00   \n..                         ...                        ...   \n477                      0.00¹                       0.00   \n478                       0.00                       0.00   \n479                       0.00                       0.00   \n480                      -0.31                       0.00   \n481  NotesRegulatory fees only  NotesRegulatory fees only   \n\n                    Order Type                       Code  \n0                       Stocks                     Stocks  \n1                          USD                        USD  \n2                          MKT                          O  \n3                          NaN                        NaN  \n4                          MKT                          C  \n..                         ...                        ...  \n477                        MKT                          C  \n478                        NaN                        NaN  \n479                        NaN                        NaN  \n480                        NaN                        NaN  \n481  NotesRegulatory fees only  NotesRegulatory fees only  \n\n[482 rows x 14 columns]",
      "text/html": "<div>\n<style scoped>\n    .dataframe tbody tr th:only-of-type {\n        vertical-align: middle;\n    }\n\n    .dataframe tbody tr th {\n        vertical-align: top;\n    }\n\n    .dataframe thead th {\n        text-align: right;\n    }\n</style>\n<table border=\"1\" class=\"dataframe\">\n  <thead>\n    <tr style=\"text-align: right;\">\n      <th></th>\n      <th>Acct ID</th>\n      <th>Symbol</th>\n      <th>Symbol.1</th>\n      <th>Trade Date/Time</th>\n      <th>Settle Date</th>\n      <th>Exchange</th>\n      <th>Type</th>\n      <th>Quantity</th>\n      <th>Price</th>\n      <th>Proceeds</th>\n      <th>Comm</th>\n      <th>Fee</th>\n      <th>Order Type</th>\n      <th>Code</th>\n    </tr>\n  </thead>\n  <tbody>\n    <tr>\n      <th>0</th>\n      <td>Stocks</td>\n      <td>Stocks</td>\n      <td>Stocks</td>\n      <td>Stocks</td>\n      <td>Stocks</td>\n      <td>Stocks</td>\n      <td>Stocks</td>\n      <td>Stocks</td>\n      <td>Stocks</td>\n      <td>Stocks</td>\n      <td>Stocks</td>\n      <td>Stocks</td>\n      <td>Stocks</td>\n      <td>Stocks</td>\n    </tr>\n    <tr>\n      <th>1</th>\n      <td>USD</td>\n      <td>USD</td>\n      <td>USD</td>\n      <td>USD</td>\n      <td>USD</td>\n      <td>USD</td>\n      <td>USD</td>\n      <td>USD</td>\n      <td>USD</td>\n      <td>USD</td>\n      <td>USD</td>\n      <td>USD</td>\n      <td>USD</td>\n      <td>USD</td>\n    </tr>\n    <tr>\n      <th>2</th>\n      <td>U***5820</td>\n      <td>AAPL</td>\n      <td>AAPL</td>\n      <td>2023-08-16, 11:41:03</td>\n      <td>2023-08-18</td>\n      <td>-</td>\n      <td>BUY</td>\n      <td>1</td>\n      <td>177.7871</td>\n      <td>-177.79</td>\n      <td>0.00</td>\n      <td>0.00</td>\n      <td>MKT</td>\n      <td>O</td>\n    </tr>\n    <tr>\n      <th>3</th>\n      <td>Total AAPL (Bought)</td>\n      <td>Total AAPL (Bought)</td>\n      <td>Total AAPL (Bought)</td>\n      <td>Total AAPL (Bought)</td>\n      <td>Total AAPL (Bought)</td>\n      <td>Total AAPL (Bought)</td>\n      <td>Total AAPL (Bought)</td>\n      <td>1</td>\n      <td>177.7871</td>\n      <td>-177.79</td>\n      <td>0.00</td>\n      <td>0.00</td>\n      <td>NaN</td>\n      <td>NaN</td>\n    </tr>\n    <tr>\n      <th>4</th>\n      <td>U***5820</td>\n      <td>AAPL</td>\n      <td>AAPL</td>\n      <td>2023-08-16, 11:47:56</td>\n      <td>2023-08-18</td>\n      <td>-</td>\n      <td>SELL</td>\n      <td>-1</td>\n      <td>177.5713</td>\n      <td>177.57</td>\n      <td>0.00¹</td>\n      <td>0.00</td>\n      <td>MKT</td>\n      <td>C</td>\n    </tr>\n    <tr>\n      <th>...</th>\n      <td>...</td>\n      <td>...</td>\n      <td>...</td>\n      <td>...</td>\n      <td>...</td>\n      <td>...</td>\n      <td>...</td>\n      <td>...</td>\n      <td>...</td>\n      <td>...</td>\n      <td>...</td>\n      <td>...</td>\n      <td>...</td>\n      <td>...</td>\n    </tr>\n    <tr>\n      <th>477</th>\n      <td>U***5820</td>\n      <td>ZUMZ</td>\n      <td>ZUMZ</td>\n      <td>2023-08-16, 14:07:30</td>\n      <td>2023-08-18</td>\n      <td>-</td>\n      <td>SELL</td>\n      <td>-6</td>\n      <td>17.9929</td>\n      <td>107.96</td>\n      <td>0.00¹</td>\n      <td>0.00</td>\n      <td>MKT</td>\n      <td>C</td>\n    </tr>\n    <tr>\n      <th>478</th>\n      <td>Total ZUMZ (Sold)</td>\n      <td>Total ZUMZ (Sold)</td>\n      <td>Total ZUMZ (Sold)</td>\n      <td>Total ZUMZ (Sold)</td>\n      <td>Total ZUMZ (Sold)</td>\n      <td>Total ZUMZ (Sold)</td>\n      <td>Total ZUMZ (Sold)</td>\n      <td>-6</td>\n      <td>17.9929</td>\n      <td>107.96</td>\n      <td>0.00</td>\n      <td>0.00</td>\n      <td>NaN</td>\n      <td>NaN</td>\n    </tr>\n    <tr>\n      <th>479</th>\n      <td>Total ZUMZ</td>\n      <td>Total ZUMZ</td>\n      <td>Total ZUMZ</td>\n      <td>Total ZUMZ</td>\n      <td>Total ZUMZ</td>\n      <td>Total ZUMZ</td>\n      <td>Total ZUMZ</td>\n      <td>0</td>\n      <td>NaN</td>\n      <td>0.13</td>\n      <td>0.00</td>\n      <td>0.00</td>\n      <td>NaN</td>\n      <td>NaN</td>\n    </tr>\n    <tr>\n      <th>480</th>\n      <td>Total</td>\n      <td>Total</td>\n      <td>Total</td>\n      <td>Total</td>\n      <td>Total</td>\n      <td>Total</td>\n      <td>Total</td>\n      <td>Total</td>\n      <td>Total</td>\n      <td>-49.13</td>\n      <td>-0.31</td>\n      <td>0.00</td>\n      <td>NaN</td>\n      <td>NaN</td>\n    </tr>\n    <tr>\n      <th>481</th>\n      <td>NotesRegulatory fees only</td>\n      <td>NotesRegulatory fees only</td>\n      <td>NotesRegulatory fees only</td>\n      <td>NotesRegulatory fees only</td>\n      <td>NotesRegulatory fees only</td>\n      <td>NotesRegulatory fees only</td>\n      <td>NotesRegulatory fees only</td>\n      <td>NotesRegulatory fees only</td>\n      <td>NotesRegulatory fees only</td>\n      <td>NotesRegulatory fees only</td>\n      <td>NotesRegulatory fees only</td>\n      <td>NotesRegulatory fees only</td>\n      <td>NotesRegulatory fees only</td>\n      <td>NotesRegulatory fees only</td>\n    </tr>\n  </tbody>\n</table>\n<p>482 rows × 14 columns</p>\n</div>"
     },
     "execution_count": 251,
     "metadata": {},
     "output_type": "execute_result"
    }
   ],
   "source": [
    "df[1]"
   ],
   "metadata": {
    "collapsed": false,
    "ExecuteTime": {
     "end_time": "2023-08-22T19:54:55.884472Z",
     "start_time": "2023-08-22T19:54:55.541347Z"
    }
   }
  },
  {
   "cell_type": "code",
   "execution_count": 252,
   "outputs": [],
   "source": [
    "df = df[1]"
   ],
   "metadata": {
    "collapsed": false,
    "ExecuteTime": {
     "end_time": "2023-08-22T19:54:55.901486Z",
     "start_time": "2023-08-22T19:54:55.545768Z"
    }
   }
  },
  {
   "cell_type": "code",
   "execution_count": 253,
   "outputs": [],
   "source": [
    "df.drop(index = df.index[:2], inplace = True)"
   ],
   "metadata": {
    "collapsed": false,
    "ExecuteTime": {
     "end_time": "2023-08-22T19:54:55.901680Z",
     "start_time": "2023-08-22T19:54:55.547533Z"
    }
   }
  },
  {
   "cell_type": "code",
   "execution_count": 254,
   "outputs": [
    {
     "data": {
      "text/plain": "                       Acct ID                     Symbol  \\\n2                     U***5820                       AAPL   \n3          Total AAPL (Bought)        Total AAPL (Bought)   \n4                     U***5820                       AAPL   \n5            Total AAPL (Sold)          Total AAPL (Sold)   \n6                   Total AAPL                 Total AAPL   \n..                         ...                        ...   \n477                   U***5820                       ZUMZ   \n478          Total ZUMZ (Sold)          Total ZUMZ (Sold)   \n479                 Total ZUMZ                 Total ZUMZ   \n480                      Total                      Total   \n481  NotesRegulatory fees only  NotesRegulatory fees only   \n\n                      Symbol.1            Trade Date/Time  \\\n2                         AAPL       2023-08-16, 11:41:03   \n3          Total AAPL (Bought)        Total AAPL (Bought)   \n4                         AAPL       2023-08-16, 11:47:56   \n5            Total AAPL (Sold)          Total AAPL (Sold)   \n6                   Total AAPL                 Total AAPL   \n..                         ...                        ...   \n477                       ZUMZ       2023-08-16, 14:07:30   \n478          Total ZUMZ (Sold)          Total ZUMZ (Sold)   \n479                 Total ZUMZ                 Total ZUMZ   \n480                      Total                      Total   \n481  NotesRegulatory fees only  NotesRegulatory fees only   \n\n                   Settle Date                   Exchange  \\\n2                   2023-08-18                          -   \n3          Total AAPL (Bought)        Total AAPL (Bought)   \n4                   2023-08-18                          -   \n5            Total AAPL (Sold)          Total AAPL (Sold)   \n6                   Total AAPL                 Total AAPL   \n..                         ...                        ...   \n477                 2023-08-18                          -   \n478          Total ZUMZ (Sold)          Total ZUMZ (Sold)   \n479                 Total ZUMZ                 Total ZUMZ   \n480                      Total                      Total   \n481  NotesRegulatory fees only  NotesRegulatory fees only   \n\n                          Type                   Quantity  \\\n2                          BUY                          1   \n3          Total AAPL (Bought)                          1   \n4                         SELL                         -1   \n5            Total AAPL (Sold)                         -1   \n6                   Total AAPL                          0   \n..                         ...                        ...   \n477                       SELL                         -6   \n478          Total ZUMZ (Sold)                         -6   \n479                 Total ZUMZ                          0   \n480                      Total                      Total   \n481  NotesRegulatory fees only  NotesRegulatory fees only   \n\n                         Price                   Proceeds  \\\n2                     177.7871                    -177.79   \n3                     177.7871                    -177.79   \n4                     177.5713                     177.57   \n5                     177.5713                     177.57   \n6                          NaN                      -0.22   \n..                         ...                        ...   \n477                    17.9929                     107.96   \n478                    17.9929                     107.96   \n479                        NaN                       0.13   \n480                      Total                     -49.13   \n481  NotesRegulatory fees only  NotesRegulatory fees only   \n\n                          Comm                        Fee  \\\n2                         0.00                       0.00   \n3                         0.00                       0.00   \n4                        0.00¹                       0.00   \n5                         0.00                       0.00   \n6                         0.00                       0.00   \n..                         ...                        ...   \n477                      0.00¹                       0.00   \n478                       0.00                       0.00   \n479                       0.00                       0.00   \n480                      -0.31                       0.00   \n481  NotesRegulatory fees only  NotesRegulatory fees only   \n\n                    Order Type                       Code  \n2                          MKT                          O  \n3                          NaN                        NaN  \n4                          MKT                          C  \n5                          NaN                        NaN  \n6                          NaN                        NaN  \n..                         ...                        ...  \n477                        MKT                          C  \n478                        NaN                        NaN  \n479                        NaN                        NaN  \n480                        NaN                        NaN  \n481  NotesRegulatory fees only  NotesRegulatory fees only  \n\n[480 rows x 14 columns]",
      "text/html": "<div>\n<style scoped>\n    .dataframe tbody tr th:only-of-type {\n        vertical-align: middle;\n    }\n\n    .dataframe tbody tr th {\n        vertical-align: top;\n    }\n\n    .dataframe thead th {\n        text-align: right;\n    }\n</style>\n<table border=\"1\" class=\"dataframe\">\n  <thead>\n    <tr style=\"text-align: right;\">\n      <th></th>\n      <th>Acct ID</th>\n      <th>Symbol</th>\n      <th>Symbol.1</th>\n      <th>Trade Date/Time</th>\n      <th>Settle Date</th>\n      <th>Exchange</th>\n      <th>Type</th>\n      <th>Quantity</th>\n      <th>Price</th>\n      <th>Proceeds</th>\n      <th>Comm</th>\n      <th>Fee</th>\n      <th>Order Type</th>\n      <th>Code</th>\n    </tr>\n  </thead>\n  <tbody>\n    <tr>\n      <th>2</th>\n      <td>U***5820</td>\n      <td>AAPL</td>\n      <td>AAPL</td>\n      <td>2023-08-16, 11:41:03</td>\n      <td>2023-08-18</td>\n      <td>-</td>\n      <td>BUY</td>\n      <td>1</td>\n      <td>177.7871</td>\n      <td>-177.79</td>\n      <td>0.00</td>\n      <td>0.00</td>\n      <td>MKT</td>\n      <td>O</td>\n    </tr>\n    <tr>\n      <th>3</th>\n      <td>Total AAPL (Bought)</td>\n      <td>Total AAPL (Bought)</td>\n      <td>Total AAPL (Bought)</td>\n      <td>Total AAPL (Bought)</td>\n      <td>Total AAPL (Bought)</td>\n      <td>Total AAPL (Bought)</td>\n      <td>Total AAPL (Bought)</td>\n      <td>1</td>\n      <td>177.7871</td>\n      <td>-177.79</td>\n      <td>0.00</td>\n      <td>0.00</td>\n      <td>NaN</td>\n      <td>NaN</td>\n    </tr>\n    <tr>\n      <th>4</th>\n      <td>U***5820</td>\n      <td>AAPL</td>\n      <td>AAPL</td>\n      <td>2023-08-16, 11:47:56</td>\n      <td>2023-08-18</td>\n      <td>-</td>\n      <td>SELL</td>\n      <td>-1</td>\n      <td>177.5713</td>\n      <td>177.57</td>\n      <td>0.00¹</td>\n      <td>0.00</td>\n      <td>MKT</td>\n      <td>C</td>\n    </tr>\n    <tr>\n      <th>5</th>\n      <td>Total AAPL (Sold)</td>\n      <td>Total AAPL (Sold)</td>\n      <td>Total AAPL (Sold)</td>\n      <td>Total AAPL (Sold)</td>\n      <td>Total AAPL (Sold)</td>\n      <td>Total AAPL (Sold)</td>\n      <td>Total AAPL (Sold)</td>\n      <td>-1</td>\n      <td>177.5713</td>\n      <td>177.57</td>\n      <td>0.00</td>\n      <td>0.00</td>\n      <td>NaN</td>\n      <td>NaN</td>\n    </tr>\n    <tr>\n      <th>6</th>\n      <td>Total AAPL</td>\n      <td>Total AAPL</td>\n      <td>Total AAPL</td>\n      <td>Total AAPL</td>\n      <td>Total AAPL</td>\n      <td>Total AAPL</td>\n      <td>Total AAPL</td>\n      <td>0</td>\n      <td>NaN</td>\n      <td>-0.22</td>\n      <td>0.00</td>\n      <td>0.00</td>\n      <td>NaN</td>\n      <td>NaN</td>\n    </tr>\n    <tr>\n      <th>...</th>\n      <td>...</td>\n      <td>...</td>\n      <td>...</td>\n      <td>...</td>\n      <td>...</td>\n      <td>...</td>\n      <td>...</td>\n      <td>...</td>\n      <td>...</td>\n      <td>...</td>\n      <td>...</td>\n      <td>...</td>\n      <td>...</td>\n      <td>...</td>\n    </tr>\n    <tr>\n      <th>477</th>\n      <td>U***5820</td>\n      <td>ZUMZ</td>\n      <td>ZUMZ</td>\n      <td>2023-08-16, 14:07:30</td>\n      <td>2023-08-18</td>\n      <td>-</td>\n      <td>SELL</td>\n      <td>-6</td>\n      <td>17.9929</td>\n      <td>107.96</td>\n      <td>0.00¹</td>\n      <td>0.00</td>\n      <td>MKT</td>\n      <td>C</td>\n    </tr>\n    <tr>\n      <th>478</th>\n      <td>Total ZUMZ (Sold)</td>\n      <td>Total ZUMZ (Sold)</td>\n      <td>Total ZUMZ (Sold)</td>\n      <td>Total ZUMZ (Sold)</td>\n      <td>Total ZUMZ (Sold)</td>\n      <td>Total ZUMZ (Sold)</td>\n      <td>Total ZUMZ (Sold)</td>\n      <td>-6</td>\n      <td>17.9929</td>\n      <td>107.96</td>\n      <td>0.00</td>\n      <td>0.00</td>\n      <td>NaN</td>\n      <td>NaN</td>\n    </tr>\n    <tr>\n      <th>479</th>\n      <td>Total ZUMZ</td>\n      <td>Total ZUMZ</td>\n      <td>Total ZUMZ</td>\n      <td>Total ZUMZ</td>\n      <td>Total ZUMZ</td>\n      <td>Total ZUMZ</td>\n      <td>Total ZUMZ</td>\n      <td>0</td>\n      <td>NaN</td>\n      <td>0.13</td>\n      <td>0.00</td>\n      <td>0.00</td>\n      <td>NaN</td>\n      <td>NaN</td>\n    </tr>\n    <tr>\n      <th>480</th>\n      <td>Total</td>\n      <td>Total</td>\n      <td>Total</td>\n      <td>Total</td>\n      <td>Total</td>\n      <td>Total</td>\n      <td>Total</td>\n      <td>Total</td>\n      <td>Total</td>\n      <td>-49.13</td>\n      <td>-0.31</td>\n      <td>0.00</td>\n      <td>NaN</td>\n      <td>NaN</td>\n    </tr>\n    <tr>\n      <th>481</th>\n      <td>NotesRegulatory fees only</td>\n      <td>NotesRegulatory fees only</td>\n      <td>NotesRegulatory fees only</td>\n      <td>NotesRegulatory fees only</td>\n      <td>NotesRegulatory fees only</td>\n      <td>NotesRegulatory fees only</td>\n      <td>NotesRegulatory fees only</td>\n      <td>NotesRegulatory fees only</td>\n      <td>NotesRegulatory fees only</td>\n      <td>NotesRegulatory fees only</td>\n      <td>NotesRegulatory fees only</td>\n      <td>NotesRegulatory fees only</td>\n      <td>NotesRegulatory fees only</td>\n      <td>NotesRegulatory fees only</td>\n    </tr>\n  </tbody>\n</table>\n<p>480 rows × 14 columns</p>\n</div>"
     },
     "execution_count": 254,
     "metadata": {},
     "output_type": "execute_result"
    }
   ],
   "source": [
    "df"
   ],
   "metadata": {
    "collapsed": false,
    "ExecuteTime": {
     "end_time": "2023-08-22T19:54:55.902075Z",
     "start_time": "2023-08-22T19:54:55.558452Z"
    }
   }
  },
  {
   "cell_type": "code",
   "execution_count": 255,
   "outputs": [],
   "source": [
    "df_sub = df[[\"Trade Date/Time\", \"Symbol\", \"Quantity\", \"Price\", \"Code\"]]"
   ],
   "metadata": {
    "collapsed": false,
    "ExecuteTime": {
     "end_time": "2023-08-22T19:54:55.902175Z",
     "start_time": "2023-08-22T19:54:55.562987Z"
    }
   }
  },
  {
   "cell_type": "code",
   "execution_count": 256,
   "outputs": [],
   "source": [
    "df_sub = df_sub[df_sub[\"Code\"].notna()]"
   ],
   "metadata": {
    "collapsed": false,
    "ExecuteTime": {
     "end_time": "2023-08-22T19:54:55.902224Z",
     "start_time": "2023-08-22T19:54:55.565461Z"
    }
   }
  },
  {
   "cell_type": "code",
   "execution_count": 257,
   "outputs": [],
   "source": [
    "df_sub[\"Code\"] = df_sub[\"Code\"].str[0]\n",
    "df_sub[\"Action\"] = np.where(df_sub[\"Code\"] == \"O\", \"Buy\", \"Sell\")"
   ],
   "metadata": {
    "collapsed": false,
    "ExecuteTime": {
     "end_time": "2023-08-22T19:54:55.902268Z",
     "start_time": "2023-08-22T19:54:55.568938Z"
    }
   }
  },
  {
   "cell_type": "code",
   "execution_count": 258,
   "outputs": [],
   "source": [
    "df_sub = df_sub.drop(\"Code\", axis=1)"
   ],
   "metadata": {
    "collapsed": false,
    "ExecuteTime": {
     "end_time": "2023-08-22T19:54:55.902321Z",
     "start_time": "2023-08-22T19:54:55.572386Z"
    }
   }
  },
  {
   "cell_type": "code",
   "execution_count": 259,
   "outputs": [],
   "source": [
    "df_sub = df_sub.drop(df.index[-1])"
   ],
   "metadata": {
    "collapsed": false,
    "ExecuteTime": {
     "end_time": "2023-08-22T19:54:55.902363Z",
     "start_time": "2023-08-22T19:54:55.574004Z"
    }
   }
  },
  {
   "cell_type": "code",
   "execution_count": 260,
   "outputs": [
    {
     "data": {
      "text/plain": "          Trade Date/Time Symbol Quantity     Price Action\n2    2023-08-16, 11:41:03   AAPL        1  177.7871    Buy\n4    2023-08-16, 11:47:56   AAPL       -1  177.5713   Sell\n7    2023-08-16, 12:40:36    AGL        6   17.9099    Buy\n9    2023-08-16, 12:47:30    AGL       -6   17.9000   Sell\n12   2023-08-16, 11:51:04    AGX        2   40.5715    Buy\n..                    ...    ...      ...       ...    ...\n467  2023-08-16, 12:36:59   WTFC       -1   79.4100   Sell\n470  2023-08-16, 12:31:05    XOM        1  107.8900    Buy\n472  2023-08-16, 12:38:02    XOM       -1  107.8511   Sell\n475  2023-08-16, 14:00:33   ZUMZ        6   17.9713    Buy\n477  2023-08-16, 14:07:30   ZUMZ       -6   17.9929   Sell\n\n[196 rows x 5 columns]",
      "text/html": "<div>\n<style scoped>\n    .dataframe tbody tr th:only-of-type {\n        vertical-align: middle;\n    }\n\n    .dataframe tbody tr th {\n        vertical-align: top;\n    }\n\n    .dataframe thead th {\n        text-align: right;\n    }\n</style>\n<table border=\"1\" class=\"dataframe\">\n  <thead>\n    <tr style=\"text-align: right;\">\n      <th></th>\n      <th>Trade Date/Time</th>\n      <th>Symbol</th>\n      <th>Quantity</th>\n      <th>Price</th>\n      <th>Action</th>\n    </tr>\n  </thead>\n  <tbody>\n    <tr>\n      <th>2</th>\n      <td>2023-08-16, 11:41:03</td>\n      <td>AAPL</td>\n      <td>1</td>\n      <td>177.7871</td>\n      <td>Buy</td>\n    </tr>\n    <tr>\n      <th>4</th>\n      <td>2023-08-16, 11:47:56</td>\n      <td>AAPL</td>\n      <td>-1</td>\n      <td>177.5713</td>\n      <td>Sell</td>\n    </tr>\n    <tr>\n      <th>7</th>\n      <td>2023-08-16, 12:40:36</td>\n      <td>AGL</td>\n      <td>6</td>\n      <td>17.9099</td>\n      <td>Buy</td>\n    </tr>\n    <tr>\n      <th>9</th>\n      <td>2023-08-16, 12:47:30</td>\n      <td>AGL</td>\n      <td>-6</td>\n      <td>17.9000</td>\n      <td>Sell</td>\n    </tr>\n    <tr>\n      <th>12</th>\n      <td>2023-08-16, 11:51:04</td>\n      <td>AGX</td>\n      <td>2</td>\n      <td>40.5715</td>\n      <td>Buy</td>\n    </tr>\n    <tr>\n      <th>...</th>\n      <td>...</td>\n      <td>...</td>\n      <td>...</td>\n      <td>...</td>\n      <td>...</td>\n    </tr>\n    <tr>\n      <th>467</th>\n      <td>2023-08-16, 12:36:59</td>\n      <td>WTFC</td>\n      <td>-1</td>\n      <td>79.4100</td>\n      <td>Sell</td>\n    </tr>\n    <tr>\n      <th>470</th>\n      <td>2023-08-16, 12:31:05</td>\n      <td>XOM</td>\n      <td>1</td>\n      <td>107.8900</td>\n      <td>Buy</td>\n    </tr>\n    <tr>\n      <th>472</th>\n      <td>2023-08-16, 12:38:02</td>\n      <td>XOM</td>\n      <td>-1</td>\n      <td>107.8511</td>\n      <td>Sell</td>\n    </tr>\n    <tr>\n      <th>475</th>\n      <td>2023-08-16, 14:00:33</td>\n      <td>ZUMZ</td>\n      <td>6</td>\n      <td>17.9713</td>\n      <td>Buy</td>\n    </tr>\n    <tr>\n      <th>477</th>\n      <td>2023-08-16, 14:07:30</td>\n      <td>ZUMZ</td>\n      <td>-6</td>\n      <td>17.9929</td>\n      <td>Sell</td>\n    </tr>\n  </tbody>\n</table>\n<p>196 rows × 5 columns</p>\n</div>"
     },
     "execution_count": 260,
     "metadata": {},
     "output_type": "execute_result"
    }
   ],
   "source": [
    "df_sub"
   ],
   "metadata": {
    "collapsed": false,
    "ExecuteTime": {
     "end_time": "2023-08-22T19:54:55.902589Z",
     "start_time": "2023-08-22T19:54:55.580808Z"
    }
   }
  },
  {
   "cell_type": "code",
   "execution_count": 261,
   "outputs": [],
   "source": [
    "df_sub[\"Trade Date/Time\"] = pd.to_datetime(df_sub[\"Trade Date/Time\"])"
   ],
   "metadata": {
    "collapsed": false,
    "ExecuteTime": {
     "end_time": "2023-08-22T19:54:55.902634Z",
     "start_time": "2023-08-22T19:54:55.584975Z"
    }
   }
  },
  {
   "cell_type": "code",
   "execution_count": 262,
   "outputs": [],
   "source": [
    "df_sub[\"Trade Date/Time\"] = df_sub[\"Trade Date/Time\"] - pd.Timedelta(hours = 3)"
   ],
   "metadata": {
    "collapsed": false,
    "ExecuteTime": {
     "end_time": "2023-08-22T19:54:55.902685Z",
     "start_time": "2023-08-22T19:54:55.587749Z"
    }
   }
  },
  {
   "cell_type": "code",
   "execution_count": 263,
   "outputs": [],
   "source": [
    "df_sub = df_sub.set_axis([\"Time\", \"Symbol\", \"Quantity\", \"Price\", \"Action\"], axis=1)"
   ],
   "metadata": {
    "collapsed": false,
    "ExecuteTime": {
     "end_time": "2023-08-22T19:54:55.902728Z",
     "start_time": "2023-08-22T19:54:55.590317Z"
    }
   }
  },
  {
   "cell_type": "code",
   "execution_count": 264,
   "outputs": [],
   "source": [
    "df_sub[\"Quantity\"] = df_sub[\"Quantity\"].astype(\"int64\").abs()\n",
    "df_sub[\"Price\"] = df_sub[\"Price\"].astype(\"float64\")"
   ],
   "metadata": {
    "collapsed": false,
    "ExecuteTime": {
     "end_time": "2023-08-22T19:54:55.902770Z",
     "start_time": "2023-08-22T19:54:55.595200Z"
    }
   }
  },
  {
   "cell_type": "code",
   "execution_count": 265,
   "outputs": [
    {
     "data": {
      "text/plain": "                   Time Symbol  Quantity     Price Action\n2   2023-08-16 08:41:03   AAPL         1  177.7871    Buy\n4   2023-08-16 08:47:56   AAPL         1  177.5713   Sell\n7   2023-08-16 09:40:36    AGL         6   17.9099    Buy\n9   2023-08-16 09:47:30    AGL         6   17.9000   Sell\n12  2023-08-16 08:51:04    AGX         2   40.5715    Buy\n..                  ...    ...       ...       ...    ...\n467 2023-08-16 09:36:59   WTFC         1   79.4100   Sell\n470 2023-08-16 09:31:05    XOM         1  107.8900    Buy\n472 2023-08-16 09:38:02    XOM         1  107.8511   Sell\n475 2023-08-16 11:00:33   ZUMZ         6   17.9713    Buy\n477 2023-08-16 11:07:30   ZUMZ         6   17.9929   Sell\n\n[196 rows x 5 columns]",
      "text/html": "<div>\n<style scoped>\n    .dataframe tbody tr th:only-of-type {\n        vertical-align: middle;\n    }\n\n    .dataframe tbody tr th {\n        vertical-align: top;\n    }\n\n    .dataframe thead th {\n        text-align: right;\n    }\n</style>\n<table border=\"1\" class=\"dataframe\">\n  <thead>\n    <tr style=\"text-align: right;\">\n      <th></th>\n      <th>Time</th>\n      <th>Symbol</th>\n      <th>Quantity</th>\n      <th>Price</th>\n      <th>Action</th>\n    </tr>\n  </thead>\n  <tbody>\n    <tr>\n      <th>2</th>\n      <td>2023-08-16 08:41:03</td>\n      <td>AAPL</td>\n      <td>1</td>\n      <td>177.7871</td>\n      <td>Buy</td>\n    </tr>\n    <tr>\n      <th>4</th>\n      <td>2023-08-16 08:47:56</td>\n      <td>AAPL</td>\n      <td>1</td>\n      <td>177.5713</td>\n      <td>Sell</td>\n    </tr>\n    <tr>\n      <th>7</th>\n      <td>2023-08-16 09:40:36</td>\n      <td>AGL</td>\n      <td>6</td>\n      <td>17.9099</td>\n      <td>Buy</td>\n    </tr>\n    <tr>\n      <th>9</th>\n      <td>2023-08-16 09:47:30</td>\n      <td>AGL</td>\n      <td>6</td>\n      <td>17.9000</td>\n      <td>Sell</td>\n    </tr>\n    <tr>\n      <th>12</th>\n      <td>2023-08-16 08:51:04</td>\n      <td>AGX</td>\n      <td>2</td>\n      <td>40.5715</td>\n      <td>Buy</td>\n    </tr>\n    <tr>\n      <th>...</th>\n      <td>...</td>\n      <td>...</td>\n      <td>...</td>\n      <td>...</td>\n      <td>...</td>\n    </tr>\n    <tr>\n      <th>467</th>\n      <td>2023-08-16 09:36:59</td>\n      <td>WTFC</td>\n      <td>1</td>\n      <td>79.4100</td>\n      <td>Sell</td>\n    </tr>\n    <tr>\n      <th>470</th>\n      <td>2023-08-16 09:31:05</td>\n      <td>XOM</td>\n      <td>1</td>\n      <td>107.8900</td>\n      <td>Buy</td>\n    </tr>\n    <tr>\n      <th>472</th>\n      <td>2023-08-16 09:38:02</td>\n      <td>XOM</td>\n      <td>1</td>\n      <td>107.8511</td>\n      <td>Sell</td>\n    </tr>\n    <tr>\n      <th>475</th>\n      <td>2023-08-16 11:00:33</td>\n      <td>ZUMZ</td>\n      <td>6</td>\n      <td>17.9713</td>\n      <td>Buy</td>\n    </tr>\n    <tr>\n      <th>477</th>\n      <td>2023-08-16 11:07:30</td>\n      <td>ZUMZ</td>\n      <td>6</td>\n      <td>17.9929</td>\n      <td>Sell</td>\n    </tr>\n  </tbody>\n</table>\n<p>196 rows × 5 columns</p>\n</div>"
     },
     "execution_count": 265,
     "metadata": {},
     "output_type": "execute_result"
    }
   ],
   "source": [
    "df_sub"
   ],
   "metadata": {
    "collapsed": false,
    "ExecuteTime": {
     "end_time": "2023-08-22T19:54:55.902952Z",
     "start_time": "2023-08-22T19:54:55.601263Z"
    }
   }
  },
  {
   "cell_type": "code",
   "execution_count": 266,
   "outputs": [],
   "source": [
    "df_sub[\"Dollar Amt\"] = (df_sub[\"Price\"] * df_sub[\"Quantity\"]).abs().round(2)"
   ],
   "metadata": {
    "collapsed": false,
    "ExecuteTime": {
     "end_time": "2023-08-22T19:54:55.902997Z",
     "start_time": "2023-08-22T19:54:55.604528Z"
    }
   }
  },
  {
   "cell_type": "code",
   "execution_count": 280,
   "outputs": [
    {
     "data": {
      "text/plain": "'01'"
     },
     "execution_count": 280,
     "metadata": {},
     "output_type": "execute_result"
    }
   ],
   "source": [
    "from datetime import datetime\n",
    "datetime.now().strftime(\"%I\")"
   ],
   "metadata": {
    "collapsed": false,
    "ExecuteTime": {
     "end_time": "2023-08-22T20:01:18.337429Z",
     "start_time": "2023-08-22T20:01:18.304951Z"
    }
   }
  },
  {
   "cell_type": "code",
   "execution_count": 267,
   "outputs": [
    {
     "data": {
      "text/plain": "                   Time Symbol  Quantity     Price Action  Dollar Amt\n2   2023-08-16 08:41:03   AAPL         1  177.7871    Buy      177.79\n4   2023-08-16 08:47:56   AAPL         1  177.5713   Sell      177.57\n7   2023-08-16 09:40:36    AGL         6   17.9099    Buy      107.46\n9   2023-08-16 09:47:30    AGL         6   17.9000   Sell      107.40\n12  2023-08-16 08:51:04    AGX         2   40.5715    Buy       81.14\n..                  ...    ...       ...       ...    ...         ...\n467 2023-08-16 09:36:59   WTFC         1   79.4100   Sell       79.41\n470 2023-08-16 09:31:05    XOM         1  107.8900    Buy      107.89\n472 2023-08-16 09:38:02    XOM         1  107.8511   Sell      107.85\n475 2023-08-16 11:00:33   ZUMZ         6   17.9713    Buy      107.83\n477 2023-08-16 11:07:30   ZUMZ         6   17.9929   Sell      107.96\n\n[196 rows x 6 columns]",
      "text/html": "<div>\n<style scoped>\n    .dataframe tbody tr th:only-of-type {\n        vertical-align: middle;\n    }\n\n    .dataframe tbody tr th {\n        vertical-align: top;\n    }\n\n    .dataframe thead th {\n        text-align: right;\n    }\n</style>\n<table border=\"1\" class=\"dataframe\">\n  <thead>\n    <tr style=\"text-align: right;\">\n      <th></th>\n      <th>Time</th>\n      <th>Symbol</th>\n      <th>Quantity</th>\n      <th>Price</th>\n      <th>Action</th>\n      <th>Dollar Amt</th>\n    </tr>\n  </thead>\n  <tbody>\n    <tr>\n      <th>2</th>\n      <td>2023-08-16 08:41:03</td>\n      <td>AAPL</td>\n      <td>1</td>\n      <td>177.7871</td>\n      <td>Buy</td>\n      <td>177.79</td>\n    </tr>\n    <tr>\n      <th>4</th>\n      <td>2023-08-16 08:47:56</td>\n      <td>AAPL</td>\n      <td>1</td>\n      <td>177.5713</td>\n      <td>Sell</td>\n      <td>177.57</td>\n    </tr>\n    <tr>\n      <th>7</th>\n      <td>2023-08-16 09:40:36</td>\n      <td>AGL</td>\n      <td>6</td>\n      <td>17.9099</td>\n      <td>Buy</td>\n      <td>107.46</td>\n    </tr>\n    <tr>\n      <th>9</th>\n      <td>2023-08-16 09:47:30</td>\n      <td>AGL</td>\n      <td>6</td>\n      <td>17.9000</td>\n      <td>Sell</td>\n      <td>107.40</td>\n    </tr>\n    <tr>\n      <th>12</th>\n      <td>2023-08-16 08:51:04</td>\n      <td>AGX</td>\n      <td>2</td>\n      <td>40.5715</td>\n      <td>Buy</td>\n      <td>81.14</td>\n    </tr>\n    <tr>\n      <th>...</th>\n      <td>...</td>\n      <td>...</td>\n      <td>...</td>\n      <td>...</td>\n      <td>...</td>\n      <td>...</td>\n    </tr>\n    <tr>\n      <th>467</th>\n      <td>2023-08-16 09:36:59</td>\n      <td>WTFC</td>\n      <td>1</td>\n      <td>79.4100</td>\n      <td>Sell</td>\n      <td>79.41</td>\n    </tr>\n    <tr>\n      <th>470</th>\n      <td>2023-08-16 09:31:05</td>\n      <td>XOM</td>\n      <td>1</td>\n      <td>107.8900</td>\n      <td>Buy</td>\n      <td>107.89</td>\n    </tr>\n    <tr>\n      <th>472</th>\n      <td>2023-08-16 09:38:02</td>\n      <td>XOM</td>\n      <td>1</td>\n      <td>107.8511</td>\n      <td>Sell</td>\n      <td>107.85</td>\n    </tr>\n    <tr>\n      <th>475</th>\n      <td>2023-08-16 11:00:33</td>\n      <td>ZUMZ</td>\n      <td>6</td>\n      <td>17.9713</td>\n      <td>Buy</td>\n      <td>107.83</td>\n    </tr>\n    <tr>\n      <th>477</th>\n      <td>2023-08-16 11:07:30</td>\n      <td>ZUMZ</td>\n      <td>6</td>\n      <td>17.9929</td>\n      <td>Sell</td>\n      <td>107.96</td>\n    </tr>\n  </tbody>\n</table>\n<p>196 rows × 6 columns</p>\n</div>"
     },
     "execution_count": 267,
     "metadata": {},
     "output_type": "execute_result"
    }
   ],
   "source": [
    "df_sub"
   ],
   "metadata": {
    "collapsed": false,
    "ExecuteTime": {
     "end_time": "2023-08-22T19:54:55.903185Z",
     "start_time": "2023-08-22T19:54:55.610777Z"
    }
   }
  },
  {
   "cell_type": "code",
   "execution_count": 270,
   "outputs": [],
   "source": [
    "report_file = pd.read_csv(\"../../reports/original/report_08_16.csv\")"
   ],
   "metadata": {
    "collapsed": false,
    "ExecuteTime": {
     "end_time": "2023-08-22T19:54:55.903651Z",
     "start_time": "2023-08-22T19:54:55.629575Z"
    }
   }
  },
  {
   "cell_type": "code",
   "execution_count": 281,
   "outputs": [],
   "source": [
    "def parse_ibkr_prices(row):\n",
    "    symbol = row[\"Symbol\"]\n",
    "    action = row[\"Action\"]\n",
    "    hour = row[\"Time\"].strftime(\"%I\")\n",
    "    report_row = report_file[\n",
    "        (report_file[\"Broker\"] == \"IF\") & (report_file[\"Symbol\"] == symbol) & (report_file[\"Action\"] == action) & (report_file[\"Program Submitted\"].str[:2] == hour)]\n",
    "    if report_row.shape[0]:\n",
    "        report_row[\"Broker Executed\"] = row[\"Time\"].strftime(\"%X\")\n",
    "        report_row[\"Size\"] = row[\"Quantity\"]\n",
    "        report_row[\"Price\"] = row[\"Price\"]\n",
    "        report_row[\"Dollar Amt\"] = row[\"Dollar Amt\"]\n",
    "        return report_row.squeeze()"
   ],
   "metadata": {
    "collapsed": false,
    "ExecuteTime": {
     "end_time": "2023-08-22T20:01:24.269389Z",
     "start_time": "2023-08-22T20:01:24.239332Z"
    }
   }
  },
  {
   "cell_type": "code",
   "execution_count": 272,
   "outputs": [
    {
     "data": {
      "text/plain": "          Date Program Submitted Program Executed Broker Executed Symbol  \\\n3     08/16/23   06:44:08:849930  06:44:18:874821             NaN   EWTX   \n9     08/16/23   06:44:39:123782  06:44:50:638951             NaN      V   \n15    08/16/23   06:45:11:897586  06:45:22:379024             NaN   EBIX   \n21    08/16/23   06:45:41:879957  06:45:51:811835             NaN   INZY   \n27    08/16/23   06:51:08:981925  06:51:18:527639             NaN   EWTX   \n...        ...               ...              ...             ...    ...   \n1282  08/16/23   11:26:52:820827  11:27:03:127544             NaN      V   \n1288  08/16/23   11:27:23:644722  11:27:33:177056             NaN   EBIX   \n1294  08/16/23   11:27:53:518767  11:28:02:942708             NaN   INZY   \n1295  08/16/23   11:50:53:236776  11:51:04:063792             NaN   OLMA   \n1296  08/16/23   11:51:04:797212  11:51:14:511317             NaN   DHIL   \n\n     Broker Action  Size  Price  Dollar Amt  ...  Pre Bid  Pre Ask  Post Bid  \\\n3        IF    Buy  14.0    NaN         NaN  ...     7.21     7.33      7.21   \n9        IF    Buy   1.0    NaN         NaN  ...   240.32   240.41    240.23   \n15       IF    Buy   7.0    NaN         NaN  ...    14.82    14.91     14.82   \n21       IF    Buy  21.0    NaN         NaN  ...     4.76     4.78      4.76   \n27       IF   Sell  14.0    NaN         NaN  ...     7.23     7.36      7.23   \n...     ...    ...   ...    ...         ...  ...      ...      ...       ...   \n1282     IF   Sell   1.0    NaN         NaN  ...   240.24   240.31    240.24   \n1288     IF   Sell   7.0    NaN         NaN  ...    14.63    14.70     14.63   \n1294     IF   Sell  21.0    NaN         NaN  ...     4.75     4.77      4.75   \n1295     IF   Sell  10.0    NaN         NaN  ...     9.79     9.88      9.79   \n1296     IF   Sell   1.0    NaN         NaN  ...   172.50   174.70    172.50   \n\n      Post Ask  Pre Volume  Post Volume  Order Type  Split Order ID  \\\n3         7.33      3698.0       3769.0      Market  False      NaN   \n9       240.41    387994.0     388986.0      Market  False      NaN   \n15       14.91     27938.0      28054.0      Market  False      NaN   \n21        4.78     21721.0      21742.0      Market  False      NaN   \n27        7.36      4189.0       4204.0      Market  False      NaN   \n...        ...         ...          ...         ...    ...      ...   \n1282    240.33   1887753.0    1888901.0      Market  False      NaN   \n1288     14.70    383293.0     383300.0      Market  False      NaN   \n1294      4.77    347953.0     347974.0      Market  False      NaN   \n1295      9.88    184227.0     184237.0      Market  False      NaN   \n1296    174.70     17868.0      17869.0      Market  False      NaN   \n\n      Activity ID  \n3             NaN  \n9             NaN  \n15            NaN  \n21            NaN  \n27            NaN  \n...           ...  \n1282          NaN  \n1288          NaN  \n1294          NaN  \n1295          NaN  \n1296          NaN  \n\n[192 rows x 22 columns]",
      "text/html": "<div>\n<style scoped>\n    .dataframe tbody tr th:only-of-type {\n        vertical-align: middle;\n    }\n\n    .dataframe tbody tr th {\n        vertical-align: top;\n    }\n\n    .dataframe thead th {\n        text-align: right;\n    }\n</style>\n<table border=\"1\" class=\"dataframe\">\n  <thead>\n    <tr style=\"text-align: right;\">\n      <th></th>\n      <th>Date</th>\n      <th>Program Submitted</th>\n      <th>Program Executed</th>\n      <th>Broker Executed</th>\n      <th>Symbol</th>\n      <th>Broker</th>\n      <th>Action</th>\n      <th>Size</th>\n      <th>Price</th>\n      <th>Dollar Amt</th>\n      <th>...</th>\n      <th>Pre Bid</th>\n      <th>Pre Ask</th>\n      <th>Post Bid</th>\n      <th>Post Ask</th>\n      <th>Pre Volume</th>\n      <th>Post Volume</th>\n      <th>Order Type</th>\n      <th>Split</th>\n      <th>Order ID</th>\n      <th>Activity ID</th>\n    </tr>\n  </thead>\n  <tbody>\n    <tr>\n      <th>3</th>\n      <td>08/16/23</td>\n      <td>06:44:08:849930</td>\n      <td>06:44:18:874821</td>\n      <td>NaN</td>\n      <td>EWTX</td>\n      <td>IF</td>\n      <td>Buy</td>\n      <td>14.0</td>\n      <td>NaN</td>\n      <td>NaN</td>\n      <td>...</td>\n      <td>7.21</td>\n      <td>7.33</td>\n      <td>7.21</td>\n      <td>7.33</td>\n      <td>3698.0</td>\n      <td>3769.0</td>\n      <td>Market</td>\n      <td>False</td>\n      <td>NaN</td>\n      <td>NaN</td>\n    </tr>\n    <tr>\n      <th>9</th>\n      <td>08/16/23</td>\n      <td>06:44:39:123782</td>\n      <td>06:44:50:638951</td>\n      <td>NaN</td>\n      <td>V</td>\n      <td>IF</td>\n      <td>Buy</td>\n      <td>1.0</td>\n      <td>NaN</td>\n      <td>NaN</td>\n      <td>...</td>\n      <td>240.32</td>\n      <td>240.41</td>\n      <td>240.23</td>\n      <td>240.41</td>\n      <td>387994.0</td>\n      <td>388986.0</td>\n      <td>Market</td>\n      <td>False</td>\n      <td>NaN</td>\n      <td>NaN</td>\n    </tr>\n    <tr>\n      <th>15</th>\n      <td>08/16/23</td>\n      <td>06:45:11:897586</td>\n      <td>06:45:22:379024</td>\n      <td>NaN</td>\n      <td>EBIX</td>\n      <td>IF</td>\n      <td>Buy</td>\n      <td>7.0</td>\n      <td>NaN</td>\n      <td>NaN</td>\n      <td>...</td>\n      <td>14.82</td>\n      <td>14.91</td>\n      <td>14.82</td>\n      <td>14.91</td>\n      <td>27938.0</td>\n      <td>28054.0</td>\n      <td>Market</td>\n      <td>False</td>\n      <td>NaN</td>\n      <td>NaN</td>\n    </tr>\n    <tr>\n      <th>21</th>\n      <td>08/16/23</td>\n      <td>06:45:41:879957</td>\n      <td>06:45:51:811835</td>\n      <td>NaN</td>\n      <td>INZY</td>\n      <td>IF</td>\n      <td>Buy</td>\n      <td>21.0</td>\n      <td>NaN</td>\n      <td>NaN</td>\n      <td>...</td>\n      <td>4.76</td>\n      <td>4.78</td>\n      <td>4.76</td>\n      <td>4.78</td>\n      <td>21721.0</td>\n      <td>21742.0</td>\n      <td>Market</td>\n      <td>False</td>\n      <td>NaN</td>\n      <td>NaN</td>\n    </tr>\n    <tr>\n      <th>27</th>\n      <td>08/16/23</td>\n      <td>06:51:08:981925</td>\n      <td>06:51:18:527639</td>\n      <td>NaN</td>\n      <td>EWTX</td>\n      <td>IF</td>\n      <td>Sell</td>\n      <td>14.0</td>\n      <td>NaN</td>\n      <td>NaN</td>\n      <td>...</td>\n      <td>7.23</td>\n      <td>7.36</td>\n      <td>7.23</td>\n      <td>7.36</td>\n      <td>4189.0</td>\n      <td>4204.0</td>\n      <td>Market</td>\n      <td>False</td>\n      <td>NaN</td>\n      <td>NaN</td>\n    </tr>\n    <tr>\n      <th>...</th>\n      <td>...</td>\n      <td>...</td>\n      <td>...</td>\n      <td>...</td>\n      <td>...</td>\n      <td>...</td>\n      <td>...</td>\n      <td>...</td>\n      <td>...</td>\n      <td>...</td>\n      <td>...</td>\n      <td>...</td>\n      <td>...</td>\n      <td>...</td>\n      <td>...</td>\n      <td>...</td>\n      <td>...</td>\n      <td>...</td>\n      <td>...</td>\n      <td>...</td>\n      <td>...</td>\n    </tr>\n    <tr>\n      <th>1282</th>\n      <td>08/16/23</td>\n      <td>11:26:52:820827</td>\n      <td>11:27:03:127544</td>\n      <td>NaN</td>\n      <td>V</td>\n      <td>IF</td>\n      <td>Sell</td>\n      <td>1.0</td>\n      <td>NaN</td>\n      <td>NaN</td>\n      <td>...</td>\n      <td>240.24</td>\n      <td>240.31</td>\n      <td>240.24</td>\n      <td>240.33</td>\n      <td>1887753.0</td>\n      <td>1888901.0</td>\n      <td>Market</td>\n      <td>False</td>\n      <td>NaN</td>\n      <td>NaN</td>\n    </tr>\n    <tr>\n      <th>1288</th>\n      <td>08/16/23</td>\n      <td>11:27:23:644722</td>\n      <td>11:27:33:177056</td>\n      <td>NaN</td>\n      <td>EBIX</td>\n      <td>IF</td>\n      <td>Sell</td>\n      <td>7.0</td>\n      <td>NaN</td>\n      <td>NaN</td>\n      <td>...</td>\n      <td>14.63</td>\n      <td>14.70</td>\n      <td>14.63</td>\n      <td>14.70</td>\n      <td>383293.0</td>\n      <td>383300.0</td>\n      <td>Market</td>\n      <td>False</td>\n      <td>NaN</td>\n      <td>NaN</td>\n    </tr>\n    <tr>\n      <th>1294</th>\n      <td>08/16/23</td>\n      <td>11:27:53:518767</td>\n      <td>11:28:02:942708</td>\n      <td>NaN</td>\n      <td>INZY</td>\n      <td>IF</td>\n      <td>Sell</td>\n      <td>21.0</td>\n      <td>NaN</td>\n      <td>NaN</td>\n      <td>...</td>\n      <td>4.75</td>\n      <td>4.77</td>\n      <td>4.75</td>\n      <td>4.77</td>\n      <td>347953.0</td>\n      <td>347974.0</td>\n      <td>Market</td>\n      <td>False</td>\n      <td>NaN</td>\n      <td>NaN</td>\n    </tr>\n    <tr>\n      <th>1295</th>\n      <td>08/16/23</td>\n      <td>11:50:53:236776</td>\n      <td>11:51:04:063792</td>\n      <td>NaN</td>\n      <td>OLMA</td>\n      <td>IF</td>\n      <td>Sell</td>\n      <td>10.0</td>\n      <td>NaN</td>\n      <td>NaN</td>\n      <td>...</td>\n      <td>9.79</td>\n      <td>9.88</td>\n      <td>9.79</td>\n      <td>9.88</td>\n      <td>184227.0</td>\n      <td>184237.0</td>\n      <td>Market</td>\n      <td>False</td>\n      <td>NaN</td>\n      <td>NaN</td>\n    </tr>\n    <tr>\n      <th>1296</th>\n      <td>08/16/23</td>\n      <td>11:51:04:797212</td>\n      <td>11:51:14:511317</td>\n      <td>NaN</td>\n      <td>DHIL</td>\n      <td>IF</td>\n      <td>Sell</td>\n      <td>1.0</td>\n      <td>NaN</td>\n      <td>NaN</td>\n      <td>...</td>\n      <td>172.50</td>\n      <td>174.70</td>\n      <td>172.50</td>\n      <td>174.70</td>\n      <td>17868.0</td>\n      <td>17869.0</td>\n      <td>Market</td>\n      <td>False</td>\n      <td>NaN</td>\n      <td>NaN</td>\n    </tr>\n  </tbody>\n</table>\n<p>192 rows × 22 columns</p>\n</div>"
     },
     "execution_count": 272,
     "metadata": {},
     "output_type": "execute_result"
    }
   ],
   "source": [
    "report_file[report_file[\"Broker\"] == \"IF\"]"
   ],
   "metadata": {
    "collapsed": false,
    "ExecuteTime": {
     "end_time": "2023-08-22T19:54:55.904011Z",
     "start_time": "2023-08-22T19:54:55.638964Z"
    }
   }
  },
  {
   "cell_type": "code",
   "execution_count": 282,
   "outputs": [
    {
     "data": {
      "text/plain": "         Date Program Submitted Program Executed Broker Executed Symbol  \\\n2    08/16/23   08:40:55:143445  08:41:05:052946        08:41:03   AAPL   \n4    08/16/23   08:47:48:534703  08:47:57:960925        08:47:56   AAPL   \n7    08/16/23   09:40:26:156404  09:40:37:688806        09:40:36    AGL   \n9    08/16/23   09:47:22:976362  09:47:32:494074        09:47:30    AGL   \n12   08/16/23   08:50:55:417567  08:51:05:275632        08:51:04    AGX   \n..        ...               ...              ...             ...    ...   \n467  08/16/23   09:36:52:235395  09:37:01:810486        09:36:59   WTFC   \n470  08/16/23   09:30:56:669704  09:31:06:578142        09:31:05    XOM   \n472  08/16/23   09:37:54:463146  09:38:04:015598        09:38:02    XOM   \n475  08/16/23   11:00:25:216130  11:00:35:160797        11:00:33   ZUMZ   \n477  08/16/23   11:07:22:760553  11:07:32:202662        11:07:30   ZUMZ   \n\n    Broker Action  Size     Price  Dollar Amt  ...  Pre Bid  Pre Ask  \\\n2       IF    Buy   1.0  177.7871      177.79  ...   177.78   177.79   \n4       IF   Sell   1.0  177.5713      177.57  ...   177.58   177.59   \n7       IF    Buy   6.0   17.9099      107.46  ...    17.89    17.91   \n9       IF   Sell   6.0   17.9000      107.40  ...    17.89    17.91   \n12      IF    Buy   2.0   40.5715       81.14  ...    40.49    40.59   \n..     ...    ...   ...       ...         ...  ...      ...      ...   \n467     IF   Sell   1.0   79.4100       79.41  ...    79.41    79.49   \n470     IF    Buy   1.0  107.8900      107.89  ...   107.87   107.88   \n472     IF   Sell   1.0  107.8511      107.85  ...   107.85   107.86   \n475     IF    Buy   6.0   17.9713      107.83  ...    17.96    17.98   \n477     IF   Sell   6.0   17.9929      107.96  ...    17.99    18.01   \n\n     Post Bid  Post Ask  Pre Volume  Post Volume  Order Type  Split Order ID  \\\n2      177.80    177.81  17359108.0   17365416.0      Market  False      NaN   \n4      177.57    177.58  17973062.0   17983302.0      Market  False      NaN   \n7       17.89     17.91    375280.0     375294.0      Market  False      NaN   \n9       17.89     17.91    382504.0     382511.0      Market  False      NaN   \n12      40.49     40.59      8215.0       8218.0      Market  False      NaN   \n..        ...       ...         ...          ...         ...    ...      ...   \n467     79.39     79.43     49291.0      49429.0      Market  False      NaN   \n470    107.88    107.89   4924254.0    4925683.0      Market  False      NaN   \n472    107.86    107.87   5030673.0    5032876.0      Market  False      NaN   \n475     17.96     17.98    230579.0     230611.0      Market  False      NaN   \n477     17.99     18.00    236303.0     236941.0      Market  False      NaN   \n\n    Activity ID  \n2           NaN  \n4           NaN  \n7           NaN  \n9           NaN  \n12          NaN  \n..          ...  \n467         NaN  \n470         NaN  \n472         NaN  \n475         NaN  \n477         NaN  \n\n[196 rows x 22 columns]",
      "text/html": "<div>\n<style scoped>\n    .dataframe tbody tr th:only-of-type {\n        vertical-align: middle;\n    }\n\n    .dataframe tbody tr th {\n        vertical-align: top;\n    }\n\n    .dataframe thead th {\n        text-align: right;\n    }\n</style>\n<table border=\"1\" class=\"dataframe\">\n  <thead>\n    <tr style=\"text-align: right;\">\n      <th></th>\n      <th>Date</th>\n      <th>Program Submitted</th>\n      <th>Program Executed</th>\n      <th>Broker Executed</th>\n      <th>Symbol</th>\n      <th>Broker</th>\n      <th>Action</th>\n      <th>Size</th>\n      <th>Price</th>\n      <th>Dollar Amt</th>\n      <th>...</th>\n      <th>Pre Bid</th>\n      <th>Pre Ask</th>\n      <th>Post Bid</th>\n      <th>Post Ask</th>\n      <th>Pre Volume</th>\n      <th>Post Volume</th>\n      <th>Order Type</th>\n      <th>Split</th>\n      <th>Order ID</th>\n      <th>Activity ID</th>\n    </tr>\n  </thead>\n  <tbody>\n    <tr>\n      <th>2</th>\n      <td>08/16/23</td>\n      <td>08:40:55:143445</td>\n      <td>08:41:05:052946</td>\n      <td>08:41:03</td>\n      <td>AAPL</td>\n      <td>IF</td>\n      <td>Buy</td>\n      <td>1.0</td>\n      <td>177.7871</td>\n      <td>177.79</td>\n      <td>...</td>\n      <td>177.78</td>\n      <td>177.79</td>\n      <td>177.80</td>\n      <td>177.81</td>\n      <td>17359108.0</td>\n      <td>17365416.0</td>\n      <td>Market</td>\n      <td>False</td>\n      <td>NaN</td>\n      <td>NaN</td>\n    </tr>\n    <tr>\n      <th>4</th>\n      <td>08/16/23</td>\n      <td>08:47:48:534703</td>\n      <td>08:47:57:960925</td>\n      <td>08:47:56</td>\n      <td>AAPL</td>\n      <td>IF</td>\n      <td>Sell</td>\n      <td>1.0</td>\n      <td>177.5713</td>\n      <td>177.57</td>\n      <td>...</td>\n      <td>177.58</td>\n      <td>177.59</td>\n      <td>177.57</td>\n      <td>177.58</td>\n      <td>17973062.0</td>\n      <td>17983302.0</td>\n      <td>Market</td>\n      <td>False</td>\n      <td>NaN</td>\n      <td>NaN</td>\n    </tr>\n    <tr>\n      <th>7</th>\n      <td>08/16/23</td>\n      <td>09:40:26:156404</td>\n      <td>09:40:37:688806</td>\n      <td>09:40:36</td>\n      <td>AGL</td>\n      <td>IF</td>\n      <td>Buy</td>\n      <td>6.0</td>\n      <td>17.9099</td>\n      <td>107.46</td>\n      <td>...</td>\n      <td>17.89</td>\n      <td>17.91</td>\n      <td>17.89</td>\n      <td>17.91</td>\n      <td>375280.0</td>\n      <td>375294.0</td>\n      <td>Market</td>\n      <td>False</td>\n      <td>NaN</td>\n      <td>NaN</td>\n    </tr>\n    <tr>\n      <th>9</th>\n      <td>08/16/23</td>\n      <td>09:47:22:976362</td>\n      <td>09:47:32:494074</td>\n      <td>09:47:30</td>\n      <td>AGL</td>\n      <td>IF</td>\n      <td>Sell</td>\n      <td>6.0</td>\n      <td>17.9000</td>\n      <td>107.40</td>\n      <td>...</td>\n      <td>17.89</td>\n      <td>17.91</td>\n      <td>17.89</td>\n      <td>17.91</td>\n      <td>382504.0</td>\n      <td>382511.0</td>\n      <td>Market</td>\n      <td>False</td>\n      <td>NaN</td>\n      <td>NaN</td>\n    </tr>\n    <tr>\n      <th>12</th>\n      <td>08/16/23</td>\n      <td>08:50:55:417567</td>\n      <td>08:51:05:275632</td>\n      <td>08:51:04</td>\n      <td>AGX</td>\n      <td>IF</td>\n      <td>Buy</td>\n      <td>2.0</td>\n      <td>40.5715</td>\n      <td>81.14</td>\n      <td>...</td>\n      <td>40.49</td>\n      <td>40.59</td>\n      <td>40.49</td>\n      <td>40.59</td>\n      <td>8215.0</td>\n      <td>8218.0</td>\n      <td>Market</td>\n      <td>False</td>\n      <td>NaN</td>\n      <td>NaN</td>\n    </tr>\n    <tr>\n      <th>...</th>\n      <td>...</td>\n      <td>...</td>\n      <td>...</td>\n      <td>...</td>\n      <td>...</td>\n      <td>...</td>\n      <td>...</td>\n      <td>...</td>\n      <td>...</td>\n      <td>...</td>\n      <td>...</td>\n      <td>...</td>\n      <td>...</td>\n      <td>...</td>\n      <td>...</td>\n      <td>...</td>\n      <td>...</td>\n      <td>...</td>\n      <td>...</td>\n      <td>...</td>\n      <td>...</td>\n    </tr>\n    <tr>\n      <th>467</th>\n      <td>08/16/23</td>\n      <td>09:36:52:235395</td>\n      <td>09:37:01:810486</td>\n      <td>09:36:59</td>\n      <td>WTFC</td>\n      <td>IF</td>\n      <td>Sell</td>\n      <td>1.0</td>\n      <td>79.4100</td>\n      <td>79.41</td>\n      <td>...</td>\n      <td>79.41</td>\n      <td>79.49</td>\n      <td>79.39</td>\n      <td>79.43</td>\n      <td>49291.0</td>\n      <td>49429.0</td>\n      <td>Market</td>\n      <td>False</td>\n      <td>NaN</td>\n      <td>NaN</td>\n    </tr>\n    <tr>\n      <th>470</th>\n      <td>08/16/23</td>\n      <td>09:30:56:669704</td>\n      <td>09:31:06:578142</td>\n      <td>09:31:05</td>\n      <td>XOM</td>\n      <td>IF</td>\n      <td>Buy</td>\n      <td>1.0</td>\n      <td>107.8900</td>\n      <td>107.89</td>\n      <td>...</td>\n      <td>107.87</td>\n      <td>107.88</td>\n      <td>107.88</td>\n      <td>107.89</td>\n      <td>4924254.0</td>\n      <td>4925683.0</td>\n      <td>Market</td>\n      <td>False</td>\n      <td>NaN</td>\n      <td>NaN</td>\n    </tr>\n    <tr>\n      <th>472</th>\n      <td>08/16/23</td>\n      <td>09:37:54:463146</td>\n      <td>09:38:04:015598</td>\n      <td>09:38:02</td>\n      <td>XOM</td>\n      <td>IF</td>\n      <td>Sell</td>\n      <td>1.0</td>\n      <td>107.8511</td>\n      <td>107.85</td>\n      <td>...</td>\n      <td>107.85</td>\n      <td>107.86</td>\n      <td>107.86</td>\n      <td>107.87</td>\n      <td>5030673.0</td>\n      <td>5032876.0</td>\n      <td>Market</td>\n      <td>False</td>\n      <td>NaN</td>\n      <td>NaN</td>\n    </tr>\n    <tr>\n      <th>475</th>\n      <td>08/16/23</td>\n      <td>11:00:25:216130</td>\n      <td>11:00:35:160797</td>\n      <td>11:00:33</td>\n      <td>ZUMZ</td>\n      <td>IF</td>\n      <td>Buy</td>\n      <td>6.0</td>\n      <td>17.9713</td>\n      <td>107.83</td>\n      <td>...</td>\n      <td>17.96</td>\n      <td>17.98</td>\n      <td>17.96</td>\n      <td>17.98</td>\n      <td>230579.0</td>\n      <td>230611.0</td>\n      <td>Market</td>\n      <td>False</td>\n      <td>NaN</td>\n      <td>NaN</td>\n    </tr>\n    <tr>\n      <th>477</th>\n      <td>08/16/23</td>\n      <td>11:07:22:760553</td>\n      <td>11:07:32:202662</td>\n      <td>11:07:30</td>\n      <td>ZUMZ</td>\n      <td>IF</td>\n      <td>Sell</td>\n      <td>6.0</td>\n      <td>17.9929</td>\n      <td>107.96</td>\n      <td>...</td>\n      <td>17.99</td>\n      <td>18.01</td>\n      <td>17.99</td>\n      <td>18.00</td>\n      <td>236303.0</td>\n      <td>236941.0</td>\n      <td>Market</td>\n      <td>False</td>\n      <td>NaN</td>\n      <td>NaN</td>\n    </tr>\n  </tbody>\n</table>\n<p>196 rows × 22 columns</p>\n</div>"
     },
     "execution_count": 282,
     "metadata": {},
     "output_type": "execute_result"
    }
   ],
   "source": [
    "df_sub.apply(parse_ibkr_prices, axis = 1)\n"
   ],
   "metadata": {
    "collapsed": false,
    "ExecuteTime": {
     "end_time": "2023-08-22T20:01:29.338199Z",
     "start_time": "2023-08-22T20:01:29.140498Z"
    }
   }
  },
  {
   "cell_type": "code",
   "execution_count": 283,
   "outputs": [
    {
     "data": {
      "text/plain": "           Date      Broker Executed     Price  Quantity  Dollar Amt  \\\n0    08/17/2023  1900-01-01 10:02:45   80.4200       1.0       80.42   \n1    08/17/2023  1900-01-01 10:02:12    1.3000      78.0      101.40   \n2    08/17/2023  1900-01-01 10:01:40  332.8000       1.0      332.80   \n3    08/17/2023  1900-01-01 10:01:08   21.2950       5.0      106.48   \n4    08/17/2023  1900-01-01 09:56:50   80.5565       1.0       80.56   \n..          ...                  ...       ...       ...         ...   \n103  08/17/2023  1900-01-01 06:50:51   29.3500       3.0       88.05   \n104  08/17/2023  1900-01-01 06:46:47    2.2127      46.0      101.78   \n105  08/17/2023  1900-01-01 06:46:22    2.4600      42.0      103.32   \n106  08/17/2023  1900-01-01 06:45:57    7.1933      14.0      100.71   \n107  08/17/2023  1900-01-01 06:45:29   29.4154       3.0       88.25   \n\n     Identifier Symbol Action  \n0           0.0   GWRE   Sell  \n1           1.0   PXLW   Sell  \n2           2.0     GS   Sell  \n3           3.0    SIX   Sell  \n4           4.0   GWRE    Buy  \n..          ...    ...    ...  \n103       101.0    BAC   Sell  \n104       102.0   NNBR    Buy  \n105       103.0   PFMT    Buy  \n106       104.0   DISH    Buy  \n107       105.0    BAC    Buy  \n\n[108 rows x 8 columns]",
      "text/html": "<div>\n<style scoped>\n    .dataframe tbody tr th:only-of-type {\n        vertical-align: middle;\n    }\n\n    .dataframe tbody tr th {\n        vertical-align: top;\n    }\n\n    .dataframe thead th {\n        text-align: right;\n    }\n</style>\n<table border=\"1\" class=\"dataframe\">\n  <thead>\n    <tr style=\"text-align: right;\">\n      <th></th>\n      <th>Date</th>\n      <th>Broker Executed</th>\n      <th>Price</th>\n      <th>Quantity</th>\n      <th>Dollar Amt</th>\n      <th>Identifier</th>\n      <th>Symbol</th>\n      <th>Action</th>\n    </tr>\n  </thead>\n  <tbody>\n    <tr>\n      <th>0</th>\n      <td>08/17/2023</td>\n      <td>1900-01-01 10:02:45</td>\n      <td>80.4200</td>\n      <td>1.0</td>\n      <td>80.42</td>\n      <td>0.0</td>\n      <td>GWRE</td>\n      <td>Sell</td>\n    </tr>\n    <tr>\n      <th>1</th>\n      <td>08/17/2023</td>\n      <td>1900-01-01 10:02:12</td>\n      <td>1.3000</td>\n      <td>78.0</td>\n      <td>101.40</td>\n      <td>1.0</td>\n      <td>PXLW</td>\n      <td>Sell</td>\n    </tr>\n    <tr>\n      <th>2</th>\n      <td>08/17/2023</td>\n      <td>1900-01-01 10:01:40</td>\n      <td>332.8000</td>\n      <td>1.0</td>\n      <td>332.80</td>\n      <td>2.0</td>\n      <td>GS</td>\n      <td>Sell</td>\n    </tr>\n    <tr>\n      <th>3</th>\n      <td>08/17/2023</td>\n      <td>1900-01-01 10:01:08</td>\n      <td>21.2950</td>\n      <td>5.0</td>\n      <td>106.48</td>\n      <td>3.0</td>\n      <td>SIX</td>\n      <td>Sell</td>\n    </tr>\n    <tr>\n      <th>4</th>\n      <td>08/17/2023</td>\n      <td>1900-01-01 09:56:50</td>\n      <td>80.5565</td>\n      <td>1.0</td>\n      <td>80.56</td>\n      <td>4.0</td>\n      <td>GWRE</td>\n      <td>Buy</td>\n    </tr>\n    <tr>\n      <th>...</th>\n      <td>...</td>\n      <td>...</td>\n      <td>...</td>\n      <td>...</td>\n      <td>...</td>\n      <td>...</td>\n      <td>...</td>\n      <td>...</td>\n    </tr>\n    <tr>\n      <th>103</th>\n      <td>08/17/2023</td>\n      <td>1900-01-01 06:50:51</td>\n      <td>29.3500</td>\n      <td>3.0</td>\n      <td>88.05</td>\n      <td>101.0</td>\n      <td>BAC</td>\n      <td>Sell</td>\n    </tr>\n    <tr>\n      <th>104</th>\n      <td>08/17/2023</td>\n      <td>1900-01-01 06:46:47</td>\n      <td>2.2127</td>\n      <td>46.0</td>\n      <td>101.78</td>\n      <td>102.0</td>\n      <td>NNBR</td>\n      <td>Buy</td>\n    </tr>\n    <tr>\n      <th>105</th>\n      <td>08/17/2023</td>\n      <td>1900-01-01 06:46:22</td>\n      <td>2.4600</td>\n      <td>42.0</td>\n      <td>103.32</td>\n      <td>103.0</td>\n      <td>PFMT</td>\n      <td>Buy</td>\n    </tr>\n    <tr>\n      <th>106</th>\n      <td>08/17/2023</td>\n      <td>1900-01-01 06:45:57</td>\n      <td>7.1933</td>\n      <td>14.0</td>\n      <td>100.71</td>\n      <td>104.0</td>\n      <td>DISH</td>\n      <td>Buy</td>\n    </tr>\n    <tr>\n      <th>107</th>\n      <td>08/17/2023</td>\n      <td>1900-01-01 06:45:29</td>\n      <td>29.4154</td>\n      <td>3.0</td>\n      <td>88.25</td>\n      <td>105.0</td>\n      <td>BAC</td>\n      <td>Buy</td>\n    </tr>\n  </tbody>\n</table>\n<p>108 rows × 8 columns</p>\n</div>"
     },
     "execution_count": 283,
     "metadata": {},
     "output_type": "execute_result"
    }
   ],
   "source": [
    "pd.read_csv(\"../../data/fidelity_splits/fd_splits_08_17.csv\")"
   ],
   "metadata": {
    "collapsed": false,
    "ExecuteTime": {
     "end_time": "2023-08-22T20:04:01.680932Z",
     "start_time": "2023-08-22T20:04:01.638426Z"
    }
   }
  },
  {
   "cell_type": "code",
   "execution_count": 1,
   "outputs": [],
   "source": [
    "import pandas as pd"
   ],
   "metadata": {
    "collapsed": false,
    "ExecuteTime": {
     "end_time": "2023-08-29T05:30:10.235368Z",
     "start_time": "2023-08-29T05:30:09.845602Z"
    }
   }
  },
  {
   "cell_type": "code",
   "execution_count": null,
   "outputs": [],
   "source": [],
   "metadata": {
    "collapsed": false
   }
  }
 ],
 "metadata": {
  "kernelspec": {
   "display_name": "Python 3 (ipykernel)",
   "language": "python",
   "name": "python3"
  },
  "language_info": {
   "codemirror_mode": {
    "name": "ipython",
    "version": 3
   },
   "file_extension": ".py",
   "mimetype": "text/x-python",
   "name": "python",
   "nbconvert_exporter": "python",
   "pygments_lexer": "ipython3",
   "version": "3.9.16"
  }
 },
 "nbformat": 4,
 "nbformat_minor": 4
}
