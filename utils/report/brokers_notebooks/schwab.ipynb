{
 "cells": [
  {
   "cell_type": "code",
   "execution_count": 6,
   "id": "initial_id",
   "metadata": {
    "collapsed": true,
    "ExecuteTime": {
     "end_time": "2023-09-06T16:58:30.846978Z",
     "start_time": "2023-09-06T16:58:30.603157Z"
    }
   },
   "outputs": [],
   "source": [
    "import json\n",
    "import pandas as pd\n",
    "import numpy as np"
   ]
  },
  {
   "cell_type": "code",
   "execution_count": 7,
   "outputs": [],
   "source": [
    "schwab_data = \"/Users/sanathnair/Developer/trading/data/schwab/schwab_06_26.json\""
   ],
   "metadata": {
    "collapsed": false,
    "ExecuteTime": {
     "end_time": "2023-09-06T16:58:30.883202Z",
     "start_time": "2023-09-06T16:58:30.881971Z"
    }
   },
   "id": "21b57f129f2590d9"
  },
  {
   "cell_type": "code",
   "execution_count": 8,
   "outputs": [],
   "source": [
    "with open(schwab_data) as file:\n",
    "    data = json.load(file)"
   ],
   "metadata": {
    "collapsed": false,
    "ExecuteTime": {
     "end_time": "2023-09-06T16:58:30.888283Z",
     "start_time": "2023-09-06T16:58:30.884901Z"
    }
   },
   "id": "c155f4c89318aa82"
  },
  {
   "cell_type": "code",
   "execution_count": 9,
   "outputs": [
    {
     "data": {
      "text/plain": "   transactionDate action symbol            description shareQuantity  \\\n0       06/26/2023   Sell    VRM              VROOM INC             3   \n1       06/26/2023   Sell    VRM              VROOM INC             6   \n2       06/26/2023    Buy    VRM              VROOM INC             3   \n3       06/26/2023    Buy    VRM              VROOM INC             3   \n4       06/26/2023    Buy    XOM       EXXON MOBIL CORP             1   \n5       06/26/2023    Buy   CAPR   CAPRICOR THERAPEUTIC            20   \n6       06/26/2023    Buy   WTFC          WINTRUST FINL             1   \n7       06/26/2023    Buy   RAPT  RAPT THERAPEUTICS INC             5   \n8       06/26/2023    Buy    XOM       EXXON MOBIL CORP             1   \n9       06/26/2023    Buy   CAPR   CAPRICOR THERAPEUTIC            20   \n10      06/26/2023    Buy   WTFC          WINTRUST FINL             1   \n11      06/26/2023    Buy   RAPT  RAPT THERAPEUTICS INC             5   \n12      06/26/2023    Buy    VRM              VROOM INC             1   \n13      06/26/2023    Buy    VRM              VROOM INC             1   \n14      06/26/2023    Buy    VRM              VROOM INC             1   \n15      06/26/2023   Sell    VRM              VROOM INC             2   \n16      06/26/2023    Buy    VRM              VROOM INC             1   \n17      06/26/2023    Buy    VRM              VROOM INC             1   \n18      06/26/2023    Buy   GRWG    GROWGENERATION CORP            30   \n19      06/26/2023   Sell    VRM              VROOM INC             1   \n20      06/26/2023    Buy    VRM              VROOM INC             1   \n21      06/26/2023   Sell    VRM              VROOM INC             1   \n22      06/26/2023   Sell    VRM              VROOM INC             1   \n23      06/26/2023    Buy    VRM              VROOM INC             1   \n24      06/26/2023    Buy    VRM              VROOM INC             1   \n25      06/26/2023   Sell    VRM              VROOM INC             3   \n26      06/26/2023    Buy    VRM              VROOM INC             1   \n27      06/26/2023    Buy    VRM              VROOM INC             1   \n28      06/26/2023    Buy    VRM              VROOM INC             1   \n\n   executionPrice feesAndCommission    amount sourceCode effectiveDate  \\\n0          $1.315                       $3.95               06/26/2023   \n1         $1.3231                       $7.94               06/26/2023   \n2          $1.329                      -$3.99               06/26/2023   \n3          $1.325                      -$3.98               06/26/2023   \n4       $104.5242                    -$104.52               06/26/2023   \n5           $4.94                     -$98.80               06/26/2023   \n6        $70.2519                     -$70.25               06/26/2023   \n7        $20.1553                    -$100.78               06/26/2023   \n8       $104.4723                    -$104.47               06/26/2023   \n9          $4.926                     -$98.52               06/26/2023   \n10       $70.1711                     -$70.17               06/26/2023   \n11       $20.1382                    -$100.69               06/26/2023   \n12          $1.35                      -$1.35               06/26/2023   \n13        $1.3534                      -$1.35               06/26/2023   \n14         $1.355                      -$1.36               06/26/2023   \n15        $1.3549                       $2.71               06/26/2023   \n16        $1.3592                      -$1.36               06/26/2023   \n17        $1.3691                      -$1.37               06/26/2023   \n18         $3.298                     -$98.94               06/26/2023   \n19        $1.3732                       $1.37               06/26/2023   \n20         $1.385                      -$1.39               06/26/2023   \n21        $1.3807                       $1.38               06/26/2023   \n22          $1.39                       $1.39               06/26/2023   \n23         $1.385                      -$1.39               06/26/2023   \n24        $1.3779                      -$1.38               06/26/2023   \n25          $1.38                       $4.14               06/26/2023   \n26        $1.3771                      -$1.38               06/26/2023   \n27        $1.3773                      -$1.38               06/26/2023   \n28        $1.3794                      -$1.38               06/26/2023   \n\n   depositSequenceId checkNumber   checkDate  showWireDetailsLink  \\\n0                  0              06/28/2023                False   \n1                  0              06/28/2023                False   \n2                  0              06/28/2023                False   \n3                  0              06/28/2023                False   \n4                  0              06/28/2023                False   \n5                  0              06/28/2023                False   \n6                  0              06/28/2023                False   \n7                  0              06/28/2023                False   \n8                  0              06/28/2023                False   \n9                  0              06/28/2023                False   \n10                 0              06/28/2023                False   \n11                 0              06/28/2023                False   \n12                 0              06/28/2023                False   \n13                 0              06/28/2023                False   \n14                 0              06/28/2023                False   \n15                 0              06/28/2023                False   \n16                 0              06/28/2023                False   \n17                 0              06/28/2023                False   \n18                 0              06/28/2023                False   \n19                 0              06/28/2023                False   \n20                 0              06/28/2023                False   \n21                 0              06/28/2023                False   \n22                 0              06/28/2023                False   \n23                 0              06/28/2023                False   \n24                 0              06/28/2023                False   \n25                 0              06/28/2023                False   \n26                 0              06/28/2023                False   \n27                 0              06/28/2023                False   \n28                 0              06/28/2023                False   \n\n    showCheckDetailsLink  showDepositDetailsLink  showTradeDetailsLink  \\\n0                  False                   False                  True   \n1                  False                   False                  True   \n2                  False                   False                  True   \n3                  False                   False                  True   \n4                  False                   False                  True   \n5                  False                   False                  True   \n6                  False                   False                  True   \n7                  False                   False                  True   \n8                  False                   False                  True   \n9                  False                   False                  True   \n10                 False                   False                  True   \n11                 False                   False                  True   \n12                 False                   False                  True   \n13                 False                   False                  True   \n14                 False                   False                  True   \n15                 False                   False                  True   \n16                 False                   False                  True   \n17                 False                   False                  True   \n18                 False                   False                  True   \n19                 False                   False                  True   \n20                 False                   False                  True   \n21                 False                   False                  True   \n22                 False                   False                  True   \n23                 False                   False                  True   \n24                 False                   False                  True   \n25                 False                   False                  True   \n26                 False                   False                  True   \n27                 False                   False                  True   \n28                 False                   False                  True   \n\n    showAdvisoryProgramCreditDetailsLink  \\\n0                                  False   \n1                                  False   \n2                                  False   \n3                                  False   \n4                                  False   \n5                                  False   \n6                                  False   \n7                                  False   \n8                                  False   \n9                                  False   \n10                                 False   \n11                                 False   \n12                                 False   \n13                                 False   \n14                                 False   \n15                                 False   \n16                                 False   \n17                                 False   \n18                                 False   \n19                                 False   \n20                                 False   \n21                                 False   \n22                                 False   \n23                                 False   \n24                                 False   \n25                                 False   \n26                                 False   \n27                                 False   \n28                                 False   \n\n                                    transactionDetail  \n0   {'cusipId': '92918V109', 'securityNumber': '37...  \n1   {'cusipId': '92918V109', 'securityNumber': '37...  \n2   {'cusipId': '92918V109', 'securityNumber': '37...  \n3   {'cusipId': '92918V109', 'securityNumber': '37...  \n4   {'cusipId': '30231G102', 'securityNumber': '18...  \n5   {'cusipId': '14070B309', 'securityNumber': '14...  \n6   {'cusipId': '97650W108', 'securityNumber': '38...  \n7   {'cusipId': '75382E109', 'securityNumber': '30...  \n8   {'cusipId': '30231G102', 'securityNumber': '18...  \n9   {'cusipId': '14070B309', 'securityNumber': '14...  \n10  {'cusipId': '97650W108', 'securityNumber': '38...  \n11  {'cusipId': '75382E109', 'securityNumber': '30...  \n12  {'cusipId': '92918V109', 'securityNumber': '37...  \n13  {'cusipId': '92918V109', 'securityNumber': '37...  \n14  {'cusipId': '92918V109', 'securityNumber': '37...  \n15  {'cusipId': '92918V109', 'securityNumber': '37...  \n16  {'cusipId': '92918V109', 'securityNumber': '37...  \n17  {'cusipId': '92918V109', 'securityNumber': '37...  \n18  {'cusipId': '39986L109', 'securityNumber': '21...  \n19  {'cusipId': '92918V109', 'securityNumber': '37...  \n20  {'cusipId': '92918V109', 'securityNumber': '37...  \n21  {'cusipId': '92918V109', 'securityNumber': '37...  \n22  {'cusipId': '92918V109', 'securityNumber': '37...  \n23  {'cusipId': '92918V109', 'securityNumber': '37...  \n24  {'cusipId': '92918V109', 'securityNumber': '37...  \n25  {'cusipId': '92918V109', 'securityNumber': '37...  \n26  {'cusipId': '92918V109', 'securityNumber': '37...  \n27  {'cusipId': '92918V109', 'securityNumber': '37...  \n28  {'cusipId': '92918V109', 'securityNumber': '37...  ",
      "text/html": "<div>\n<style scoped>\n    .dataframe tbody tr th:only-of-type {\n        vertical-align: middle;\n    }\n\n    .dataframe tbody tr th {\n        vertical-align: top;\n    }\n\n    .dataframe thead th {\n        text-align: right;\n    }\n</style>\n<table border=\"1\" class=\"dataframe\">\n  <thead>\n    <tr style=\"text-align: right;\">\n      <th></th>\n      <th>transactionDate</th>\n      <th>action</th>\n      <th>symbol</th>\n      <th>description</th>\n      <th>shareQuantity</th>\n      <th>executionPrice</th>\n      <th>feesAndCommission</th>\n      <th>amount</th>\n      <th>sourceCode</th>\n      <th>effectiveDate</th>\n      <th>depositSequenceId</th>\n      <th>checkNumber</th>\n      <th>checkDate</th>\n      <th>showWireDetailsLink</th>\n      <th>showCheckDetailsLink</th>\n      <th>showDepositDetailsLink</th>\n      <th>showTradeDetailsLink</th>\n      <th>showAdvisoryProgramCreditDetailsLink</th>\n      <th>transactionDetail</th>\n    </tr>\n  </thead>\n  <tbody>\n    <tr>\n      <th>0</th>\n      <td>06/26/2023</td>\n      <td>Sell</td>\n      <td>VRM</td>\n      <td>VROOM INC</td>\n      <td>3</td>\n      <td>$1.315</td>\n      <td></td>\n      <td>$3.95</td>\n      <td></td>\n      <td>06/26/2023</td>\n      <td>0</td>\n      <td></td>\n      <td>06/28/2023</td>\n      <td>False</td>\n      <td>False</td>\n      <td>False</td>\n      <td>True</td>\n      <td>False</td>\n      <td>{'cusipId': '92918V109', 'securityNumber': '37...</td>\n    </tr>\n    <tr>\n      <th>1</th>\n      <td>06/26/2023</td>\n      <td>Sell</td>\n      <td>VRM</td>\n      <td>VROOM INC</td>\n      <td>6</td>\n      <td>$1.3231</td>\n      <td></td>\n      <td>$7.94</td>\n      <td></td>\n      <td>06/26/2023</td>\n      <td>0</td>\n      <td></td>\n      <td>06/28/2023</td>\n      <td>False</td>\n      <td>False</td>\n      <td>False</td>\n      <td>True</td>\n      <td>False</td>\n      <td>{'cusipId': '92918V109', 'securityNumber': '37...</td>\n    </tr>\n    <tr>\n      <th>2</th>\n      <td>06/26/2023</td>\n      <td>Buy</td>\n      <td>VRM</td>\n      <td>VROOM INC</td>\n      <td>3</td>\n      <td>$1.329</td>\n      <td></td>\n      <td>-$3.99</td>\n      <td></td>\n      <td>06/26/2023</td>\n      <td>0</td>\n      <td></td>\n      <td>06/28/2023</td>\n      <td>False</td>\n      <td>False</td>\n      <td>False</td>\n      <td>True</td>\n      <td>False</td>\n      <td>{'cusipId': '92918V109', 'securityNumber': '37...</td>\n    </tr>\n    <tr>\n      <th>3</th>\n      <td>06/26/2023</td>\n      <td>Buy</td>\n      <td>VRM</td>\n      <td>VROOM INC</td>\n      <td>3</td>\n      <td>$1.325</td>\n      <td></td>\n      <td>-$3.98</td>\n      <td></td>\n      <td>06/26/2023</td>\n      <td>0</td>\n      <td></td>\n      <td>06/28/2023</td>\n      <td>False</td>\n      <td>False</td>\n      <td>False</td>\n      <td>True</td>\n      <td>False</td>\n      <td>{'cusipId': '92918V109', 'securityNumber': '37...</td>\n    </tr>\n    <tr>\n      <th>4</th>\n      <td>06/26/2023</td>\n      <td>Buy</td>\n      <td>XOM</td>\n      <td>EXXON MOBIL CORP</td>\n      <td>1</td>\n      <td>$104.5242</td>\n      <td></td>\n      <td>-$104.52</td>\n      <td></td>\n      <td>06/26/2023</td>\n      <td>0</td>\n      <td></td>\n      <td>06/28/2023</td>\n      <td>False</td>\n      <td>False</td>\n      <td>False</td>\n      <td>True</td>\n      <td>False</td>\n      <td>{'cusipId': '30231G102', 'securityNumber': '18...</td>\n    </tr>\n    <tr>\n      <th>5</th>\n      <td>06/26/2023</td>\n      <td>Buy</td>\n      <td>CAPR</td>\n      <td>CAPRICOR THERAPEUTIC</td>\n      <td>20</td>\n      <td>$4.94</td>\n      <td></td>\n      <td>-$98.80</td>\n      <td></td>\n      <td>06/26/2023</td>\n      <td>0</td>\n      <td></td>\n      <td>06/28/2023</td>\n      <td>False</td>\n      <td>False</td>\n      <td>False</td>\n      <td>True</td>\n      <td>False</td>\n      <td>{'cusipId': '14070B309', 'securityNumber': '14...</td>\n    </tr>\n    <tr>\n      <th>6</th>\n      <td>06/26/2023</td>\n      <td>Buy</td>\n      <td>WTFC</td>\n      <td>WINTRUST FINL</td>\n      <td>1</td>\n      <td>$70.2519</td>\n      <td></td>\n      <td>-$70.25</td>\n      <td></td>\n      <td>06/26/2023</td>\n      <td>0</td>\n      <td></td>\n      <td>06/28/2023</td>\n      <td>False</td>\n      <td>False</td>\n      <td>False</td>\n      <td>True</td>\n      <td>False</td>\n      <td>{'cusipId': '97650W108', 'securityNumber': '38...</td>\n    </tr>\n    <tr>\n      <th>7</th>\n      <td>06/26/2023</td>\n      <td>Buy</td>\n      <td>RAPT</td>\n      <td>RAPT THERAPEUTICS INC</td>\n      <td>5</td>\n      <td>$20.1553</td>\n      <td></td>\n      <td>-$100.78</td>\n      <td></td>\n      <td>06/26/2023</td>\n      <td>0</td>\n      <td></td>\n      <td>06/28/2023</td>\n      <td>False</td>\n      <td>False</td>\n      <td>False</td>\n      <td>True</td>\n      <td>False</td>\n      <td>{'cusipId': '75382E109', 'securityNumber': '30...</td>\n    </tr>\n    <tr>\n      <th>8</th>\n      <td>06/26/2023</td>\n      <td>Buy</td>\n      <td>XOM</td>\n      <td>EXXON MOBIL CORP</td>\n      <td>1</td>\n      <td>$104.4723</td>\n      <td></td>\n      <td>-$104.47</td>\n      <td></td>\n      <td>06/26/2023</td>\n      <td>0</td>\n      <td></td>\n      <td>06/28/2023</td>\n      <td>False</td>\n      <td>False</td>\n      <td>False</td>\n      <td>True</td>\n      <td>False</td>\n      <td>{'cusipId': '30231G102', 'securityNumber': '18...</td>\n    </tr>\n    <tr>\n      <th>9</th>\n      <td>06/26/2023</td>\n      <td>Buy</td>\n      <td>CAPR</td>\n      <td>CAPRICOR THERAPEUTIC</td>\n      <td>20</td>\n      <td>$4.926</td>\n      <td></td>\n      <td>-$98.52</td>\n      <td></td>\n      <td>06/26/2023</td>\n      <td>0</td>\n      <td></td>\n      <td>06/28/2023</td>\n      <td>False</td>\n      <td>False</td>\n      <td>False</td>\n      <td>True</td>\n      <td>False</td>\n      <td>{'cusipId': '14070B309', 'securityNumber': '14...</td>\n    </tr>\n    <tr>\n      <th>10</th>\n      <td>06/26/2023</td>\n      <td>Buy</td>\n      <td>WTFC</td>\n      <td>WINTRUST FINL</td>\n      <td>1</td>\n      <td>$70.1711</td>\n      <td></td>\n      <td>-$70.17</td>\n      <td></td>\n      <td>06/26/2023</td>\n      <td>0</td>\n      <td></td>\n      <td>06/28/2023</td>\n      <td>False</td>\n      <td>False</td>\n      <td>False</td>\n      <td>True</td>\n      <td>False</td>\n      <td>{'cusipId': '97650W108', 'securityNumber': '38...</td>\n    </tr>\n    <tr>\n      <th>11</th>\n      <td>06/26/2023</td>\n      <td>Buy</td>\n      <td>RAPT</td>\n      <td>RAPT THERAPEUTICS INC</td>\n      <td>5</td>\n      <td>$20.1382</td>\n      <td></td>\n      <td>-$100.69</td>\n      <td></td>\n      <td>06/26/2023</td>\n      <td>0</td>\n      <td></td>\n      <td>06/28/2023</td>\n      <td>False</td>\n      <td>False</td>\n      <td>False</td>\n      <td>True</td>\n      <td>False</td>\n      <td>{'cusipId': '75382E109', 'securityNumber': '30...</td>\n    </tr>\n    <tr>\n      <th>12</th>\n      <td>06/26/2023</td>\n      <td>Buy</td>\n      <td>VRM</td>\n      <td>VROOM INC</td>\n      <td>1</td>\n      <td>$1.35</td>\n      <td></td>\n      <td>-$1.35</td>\n      <td></td>\n      <td>06/26/2023</td>\n      <td>0</td>\n      <td></td>\n      <td>06/28/2023</td>\n      <td>False</td>\n      <td>False</td>\n      <td>False</td>\n      <td>True</td>\n      <td>False</td>\n      <td>{'cusipId': '92918V109', 'securityNumber': '37...</td>\n    </tr>\n    <tr>\n      <th>13</th>\n      <td>06/26/2023</td>\n      <td>Buy</td>\n      <td>VRM</td>\n      <td>VROOM INC</td>\n      <td>1</td>\n      <td>$1.3534</td>\n      <td></td>\n      <td>-$1.35</td>\n      <td></td>\n      <td>06/26/2023</td>\n      <td>0</td>\n      <td></td>\n      <td>06/28/2023</td>\n      <td>False</td>\n      <td>False</td>\n      <td>False</td>\n      <td>True</td>\n      <td>False</td>\n      <td>{'cusipId': '92918V109', 'securityNumber': '37...</td>\n    </tr>\n    <tr>\n      <th>14</th>\n      <td>06/26/2023</td>\n      <td>Buy</td>\n      <td>VRM</td>\n      <td>VROOM INC</td>\n      <td>1</td>\n      <td>$1.355</td>\n      <td></td>\n      <td>-$1.36</td>\n      <td></td>\n      <td>06/26/2023</td>\n      <td>0</td>\n      <td></td>\n      <td>06/28/2023</td>\n      <td>False</td>\n      <td>False</td>\n      <td>False</td>\n      <td>True</td>\n      <td>False</td>\n      <td>{'cusipId': '92918V109', 'securityNumber': '37...</td>\n    </tr>\n    <tr>\n      <th>15</th>\n      <td>06/26/2023</td>\n      <td>Sell</td>\n      <td>VRM</td>\n      <td>VROOM INC</td>\n      <td>2</td>\n      <td>$1.3549</td>\n      <td></td>\n      <td>$2.71</td>\n      <td></td>\n      <td>06/26/2023</td>\n      <td>0</td>\n      <td></td>\n      <td>06/28/2023</td>\n      <td>False</td>\n      <td>False</td>\n      <td>False</td>\n      <td>True</td>\n      <td>False</td>\n      <td>{'cusipId': '92918V109', 'securityNumber': '37...</td>\n    </tr>\n    <tr>\n      <th>16</th>\n      <td>06/26/2023</td>\n      <td>Buy</td>\n      <td>VRM</td>\n      <td>VROOM INC</td>\n      <td>1</td>\n      <td>$1.3592</td>\n      <td></td>\n      <td>-$1.36</td>\n      <td></td>\n      <td>06/26/2023</td>\n      <td>0</td>\n      <td></td>\n      <td>06/28/2023</td>\n      <td>False</td>\n      <td>False</td>\n      <td>False</td>\n      <td>True</td>\n      <td>False</td>\n      <td>{'cusipId': '92918V109', 'securityNumber': '37...</td>\n    </tr>\n    <tr>\n      <th>17</th>\n      <td>06/26/2023</td>\n      <td>Buy</td>\n      <td>VRM</td>\n      <td>VROOM INC</td>\n      <td>1</td>\n      <td>$1.3691</td>\n      <td></td>\n      <td>-$1.37</td>\n      <td></td>\n      <td>06/26/2023</td>\n      <td>0</td>\n      <td></td>\n      <td>06/28/2023</td>\n      <td>False</td>\n      <td>False</td>\n      <td>False</td>\n      <td>True</td>\n      <td>False</td>\n      <td>{'cusipId': '92918V109', 'securityNumber': '37...</td>\n    </tr>\n    <tr>\n      <th>18</th>\n      <td>06/26/2023</td>\n      <td>Buy</td>\n      <td>GRWG</td>\n      <td>GROWGENERATION CORP</td>\n      <td>30</td>\n      <td>$3.298</td>\n      <td></td>\n      <td>-$98.94</td>\n      <td></td>\n      <td>06/26/2023</td>\n      <td>0</td>\n      <td></td>\n      <td>06/28/2023</td>\n      <td>False</td>\n      <td>False</td>\n      <td>False</td>\n      <td>True</td>\n      <td>False</td>\n      <td>{'cusipId': '39986L109', 'securityNumber': '21...</td>\n    </tr>\n    <tr>\n      <th>19</th>\n      <td>06/26/2023</td>\n      <td>Sell</td>\n      <td>VRM</td>\n      <td>VROOM INC</td>\n      <td>1</td>\n      <td>$1.3732</td>\n      <td></td>\n      <td>$1.37</td>\n      <td></td>\n      <td>06/26/2023</td>\n      <td>0</td>\n      <td></td>\n      <td>06/28/2023</td>\n      <td>False</td>\n      <td>False</td>\n      <td>False</td>\n      <td>True</td>\n      <td>False</td>\n      <td>{'cusipId': '92918V109', 'securityNumber': '37...</td>\n    </tr>\n    <tr>\n      <th>20</th>\n      <td>06/26/2023</td>\n      <td>Buy</td>\n      <td>VRM</td>\n      <td>VROOM INC</td>\n      <td>1</td>\n      <td>$1.385</td>\n      <td></td>\n      <td>-$1.39</td>\n      <td></td>\n      <td>06/26/2023</td>\n      <td>0</td>\n      <td></td>\n      <td>06/28/2023</td>\n      <td>False</td>\n      <td>False</td>\n      <td>False</td>\n      <td>True</td>\n      <td>False</td>\n      <td>{'cusipId': '92918V109', 'securityNumber': '37...</td>\n    </tr>\n    <tr>\n      <th>21</th>\n      <td>06/26/2023</td>\n      <td>Sell</td>\n      <td>VRM</td>\n      <td>VROOM INC</td>\n      <td>1</td>\n      <td>$1.3807</td>\n      <td></td>\n      <td>$1.38</td>\n      <td></td>\n      <td>06/26/2023</td>\n      <td>0</td>\n      <td></td>\n      <td>06/28/2023</td>\n      <td>False</td>\n      <td>False</td>\n      <td>False</td>\n      <td>True</td>\n      <td>False</td>\n      <td>{'cusipId': '92918V109', 'securityNumber': '37...</td>\n    </tr>\n    <tr>\n      <th>22</th>\n      <td>06/26/2023</td>\n      <td>Sell</td>\n      <td>VRM</td>\n      <td>VROOM INC</td>\n      <td>1</td>\n      <td>$1.39</td>\n      <td></td>\n      <td>$1.39</td>\n      <td></td>\n      <td>06/26/2023</td>\n      <td>0</td>\n      <td></td>\n      <td>06/28/2023</td>\n      <td>False</td>\n      <td>False</td>\n      <td>False</td>\n      <td>True</td>\n      <td>False</td>\n      <td>{'cusipId': '92918V109', 'securityNumber': '37...</td>\n    </tr>\n    <tr>\n      <th>23</th>\n      <td>06/26/2023</td>\n      <td>Buy</td>\n      <td>VRM</td>\n      <td>VROOM INC</td>\n      <td>1</td>\n      <td>$1.385</td>\n      <td></td>\n      <td>-$1.39</td>\n      <td></td>\n      <td>06/26/2023</td>\n      <td>0</td>\n      <td></td>\n      <td>06/28/2023</td>\n      <td>False</td>\n      <td>False</td>\n      <td>False</td>\n      <td>True</td>\n      <td>False</td>\n      <td>{'cusipId': '92918V109', 'securityNumber': '37...</td>\n    </tr>\n    <tr>\n      <th>24</th>\n      <td>06/26/2023</td>\n      <td>Buy</td>\n      <td>VRM</td>\n      <td>VROOM INC</td>\n      <td>1</td>\n      <td>$1.3779</td>\n      <td></td>\n      <td>-$1.38</td>\n      <td></td>\n      <td>06/26/2023</td>\n      <td>0</td>\n      <td></td>\n      <td>06/28/2023</td>\n      <td>False</td>\n      <td>False</td>\n      <td>False</td>\n      <td>True</td>\n      <td>False</td>\n      <td>{'cusipId': '92918V109', 'securityNumber': '37...</td>\n    </tr>\n    <tr>\n      <th>25</th>\n      <td>06/26/2023</td>\n      <td>Sell</td>\n      <td>VRM</td>\n      <td>VROOM INC</td>\n      <td>3</td>\n      <td>$1.38</td>\n      <td></td>\n      <td>$4.14</td>\n      <td></td>\n      <td>06/26/2023</td>\n      <td>0</td>\n      <td></td>\n      <td>06/28/2023</td>\n      <td>False</td>\n      <td>False</td>\n      <td>False</td>\n      <td>True</td>\n      <td>False</td>\n      <td>{'cusipId': '92918V109', 'securityNumber': '37...</td>\n    </tr>\n    <tr>\n      <th>26</th>\n      <td>06/26/2023</td>\n      <td>Buy</td>\n      <td>VRM</td>\n      <td>VROOM INC</td>\n      <td>1</td>\n      <td>$1.3771</td>\n      <td></td>\n      <td>-$1.38</td>\n      <td></td>\n      <td>06/26/2023</td>\n      <td>0</td>\n      <td></td>\n      <td>06/28/2023</td>\n      <td>False</td>\n      <td>False</td>\n      <td>False</td>\n      <td>True</td>\n      <td>False</td>\n      <td>{'cusipId': '92918V109', 'securityNumber': '37...</td>\n    </tr>\n    <tr>\n      <th>27</th>\n      <td>06/26/2023</td>\n      <td>Buy</td>\n      <td>VRM</td>\n      <td>VROOM INC</td>\n      <td>1</td>\n      <td>$1.3773</td>\n      <td></td>\n      <td>-$1.38</td>\n      <td></td>\n      <td>06/26/2023</td>\n      <td>0</td>\n      <td></td>\n      <td>06/28/2023</td>\n      <td>False</td>\n      <td>False</td>\n      <td>False</td>\n      <td>True</td>\n      <td>False</td>\n      <td>{'cusipId': '92918V109', 'securityNumber': '37...</td>\n    </tr>\n    <tr>\n      <th>28</th>\n      <td>06/26/2023</td>\n      <td>Buy</td>\n      <td>VRM</td>\n      <td>VROOM INC</td>\n      <td>1</td>\n      <td>$1.3794</td>\n      <td></td>\n      <td>-$1.38</td>\n      <td></td>\n      <td>06/26/2023</td>\n      <td>0</td>\n      <td></td>\n      <td>06/28/2023</td>\n      <td>False</td>\n      <td>False</td>\n      <td>False</td>\n      <td>True</td>\n      <td>False</td>\n      <td>{'cusipId': '92918V109', 'securityNumber': '37...</td>\n    </tr>\n  </tbody>\n</table>\n</div>"
     },
     "execution_count": 9,
     "metadata": {},
     "output_type": "execute_result"
    }
   ],
   "source": [
    "df = pd.DataFrame.from_dict(data[\"brokerageTransactions\"])\n",
    "df"
   ],
   "metadata": {
    "collapsed": false,
    "ExecuteTime": {
     "end_time": "2023-09-06T16:58:30.934765Z",
     "start_time": "2023-09-06T16:58:30.889068Z"
    }
   },
   "id": "efcfcfafe9763c63"
  },
  {
   "cell_type": "code",
   "execution_count": 10,
   "outputs": [],
   "source": [
    "df_sub = df[[\"action\", \"symbol\", \"shareQuantity\", \"executionPrice\"]].copy()"
   ],
   "metadata": {
    "collapsed": false,
    "ExecuteTime": {
     "end_time": "2023-09-06T16:58:30.940196Z",
     "start_time": "2023-09-06T16:58:30.937258Z"
    }
   },
   "id": "ab6c6e3958d68da7"
  },
  {
   "cell_type": "code",
   "execution_count": 11,
   "outputs": [],
   "source": [
    "df_sub[\"Broker\"] = \"SB\""
   ],
   "metadata": {
    "collapsed": false,
    "ExecuteTime": {
     "end_time": "2023-09-06T16:58:30.944960Z",
     "start_time": "2023-09-06T16:58:30.940424Z"
    }
   },
   "id": "4627519327be2b9e"
  },
  {
   "cell_type": "code",
   "execution_count": 12,
   "outputs": [
    {
     "data": {
      "text/plain": "   Action Symbol Size      Price Broker\n0    Sell    VRM    3     $1.315     SB\n1    Sell    VRM    6    $1.3231     SB\n2     Buy    VRM    3     $1.329     SB\n3     Buy    VRM    3     $1.325     SB\n4     Buy    XOM    1  $104.5242     SB\n5     Buy   CAPR   20      $4.94     SB\n6     Buy   WTFC    1   $70.2519     SB\n7     Buy   RAPT    5   $20.1553     SB\n8     Buy    XOM    1  $104.4723     SB\n9     Buy   CAPR   20     $4.926     SB\n10    Buy   WTFC    1   $70.1711     SB\n11    Buy   RAPT    5   $20.1382     SB\n12    Buy    VRM    1      $1.35     SB\n13    Buy    VRM    1    $1.3534     SB\n14    Buy    VRM    1     $1.355     SB\n15   Sell    VRM    2    $1.3549     SB\n16    Buy    VRM    1    $1.3592     SB\n17    Buy    VRM    1    $1.3691     SB\n18    Buy   GRWG   30     $3.298     SB\n19   Sell    VRM    1    $1.3732     SB\n20    Buy    VRM    1     $1.385     SB\n21   Sell    VRM    1    $1.3807     SB\n22   Sell    VRM    1      $1.39     SB\n23    Buy    VRM    1     $1.385     SB\n24    Buy    VRM    1    $1.3779     SB\n25   Sell    VRM    3      $1.38     SB\n26    Buy    VRM    1    $1.3771     SB\n27    Buy    VRM    1    $1.3773     SB\n28    Buy    VRM    1    $1.3794     SB",
      "text/html": "<div>\n<style scoped>\n    .dataframe tbody tr th:only-of-type {\n        vertical-align: middle;\n    }\n\n    .dataframe tbody tr th {\n        vertical-align: top;\n    }\n\n    .dataframe thead th {\n        text-align: right;\n    }\n</style>\n<table border=\"1\" class=\"dataframe\">\n  <thead>\n    <tr style=\"text-align: right;\">\n      <th></th>\n      <th>Action</th>\n      <th>Symbol</th>\n      <th>Size</th>\n      <th>Price</th>\n      <th>Broker</th>\n    </tr>\n  </thead>\n  <tbody>\n    <tr>\n      <th>0</th>\n      <td>Sell</td>\n      <td>VRM</td>\n      <td>3</td>\n      <td>$1.315</td>\n      <td>SB</td>\n    </tr>\n    <tr>\n      <th>1</th>\n      <td>Sell</td>\n      <td>VRM</td>\n      <td>6</td>\n      <td>$1.3231</td>\n      <td>SB</td>\n    </tr>\n    <tr>\n      <th>2</th>\n      <td>Buy</td>\n      <td>VRM</td>\n      <td>3</td>\n      <td>$1.329</td>\n      <td>SB</td>\n    </tr>\n    <tr>\n      <th>3</th>\n      <td>Buy</td>\n      <td>VRM</td>\n      <td>3</td>\n      <td>$1.325</td>\n      <td>SB</td>\n    </tr>\n    <tr>\n      <th>4</th>\n      <td>Buy</td>\n      <td>XOM</td>\n      <td>1</td>\n      <td>$104.5242</td>\n      <td>SB</td>\n    </tr>\n    <tr>\n      <th>5</th>\n      <td>Buy</td>\n      <td>CAPR</td>\n      <td>20</td>\n      <td>$4.94</td>\n      <td>SB</td>\n    </tr>\n    <tr>\n      <th>6</th>\n      <td>Buy</td>\n      <td>WTFC</td>\n      <td>1</td>\n      <td>$70.2519</td>\n      <td>SB</td>\n    </tr>\n    <tr>\n      <th>7</th>\n      <td>Buy</td>\n      <td>RAPT</td>\n      <td>5</td>\n      <td>$20.1553</td>\n      <td>SB</td>\n    </tr>\n    <tr>\n      <th>8</th>\n      <td>Buy</td>\n      <td>XOM</td>\n      <td>1</td>\n      <td>$104.4723</td>\n      <td>SB</td>\n    </tr>\n    <tr>\n      <th>9</th>\n      <td>Buy</td>\n      <td>CAPR</td>\n      <td>20</td>\n      <td>$4.926</td>\n      <td>SB</td>\n    </tr>\n    <tr>\n      <th>10</th>\n      <td>Buy</td>\n      <td>WTFC</td>\n      <td>1</td>\n      <td>$70.1711</td>\n      <td>SB</td>\n    </tr>\n    <tr>\n      <th>11</th>\n      <td>Buy</td>\n      <td>RAPT</td>\n      <td>5</td>\n      <td>$20.1382</td>\n      <td>SB</td>\n    </tr>\n    <tr>\n      <th>12</th>\n      <td>Buy</td>\n      <td>VRM</td>\n      <td>1</td>\n      <td>$1.35</td>\n      <td>SB</td>\n    </tr>\n    <tr>\n      <th>13</th>\n      <td>Buy</td>\n      <td>VRM</td>\n      <td>1</td>\n      <td>$1.3534</td>\n      <td>SB</td>\n    </tr>\n    <tr>\n      <th>14</th>\n      <td>Buy</td>\n      <td>VRM</td>\n      <td>1</td>\n      <td>$1.355</td>\n      <td>SB</td>\n    </tr>\n    <tr>\n      <th>15</th>\n      <td>Sell</td>\n      <td>VRM</td>\n      <td>2</td>\n      <td>$1.3549</td>\n      <td>SB</td>\n    </tr>\n    <tr>\n      <th>16</th>\n      <td>Buy</td>\n      <td>VRM</td>\n      <td>1</td>\n      <td>$1.3592</td>\n      <td>SB</td>\n    </tr>\n    <tr>\n      <th>17</th>\n      <td>Buy</td>\n      <td>VRM</td>\n      <td>1</td>\n      <td>$1.3691</td>\n      <td>SB</td>\n    </tr>\n    <tr>\n      <th>18</th>\n      <td>Buy</td>\n      <td>GRWG</td>\n      <td>30</td>\n      <td>$3.298</td>\n      <td>SB</td>\n    </tr>\n    <tr>\n      <th>19</th>\n      <td>Sell</td>\n      <td>VRM</td>\n      <td>1</td>\n      <td>$1.3732</td>\n      <td>SB</td>\n    </tr>\n    <tr>\n      <th>20</th>\n      <td>Buy</td>\n      <td>VRM</td>\n      <td>1</td>\n      <td>$1.385</td>\n      <td>SB</td>\n    </tr>\n    <tr>\n      <th>21</th>\n      <td>Sell</td>\n      <td>VRM</td>\n      <td>1</td>\n      <td>$1.3807</td>\n      <td>SB</td>\n    </tr>\n    <tr>\n      <th>22</th>\n      <td>Sell</td>\n      <td>VRM</td>\n      <td>1</td>\n      <td>$1.39</td>\n      <td>SB</td>\n    </tr>\n    <tr>\n      <th>23</th>\n      <td>Buy</td>\n      <td>VRM</td>\n      <td>1</td>\n      <td>$1.385</td>\n      <td>SB</td>\n    </tr>\n    <tr>\n      <th>24</th>\n      <td>Buy</td>\n      <td>VRM</td>\n      <td>1</td>\n      <td>$1.3779</td>\n      <td>SB</td>\n    </tr>\n    <tr>\n      <th>25</th>\n      <td>Sell</td>\n      <td>VRM</td>\n      <td>3</td>\n      <td>$1.38</td>\n      <td>SB</td>\n    </tr>\n    <tr>\n      <th>26</th>\n      <td>Buy</td>\n      <td>VRM</td>\n      <td>1</td>\n      <td>$1.3771</td>\n      <td>SB</td>\n    </tr>\n    <tr>\n      <th>27</th>\n      <td>Buy</td>\n      <td>VRM</td>\n      <td>1</td>\n      <td>$1.3773</td>\n      <td>SB</td>\n    </tr>\n    <tr>\n      <th>28</th>\n      <td>Buy</td>\n      <td>VRM</td>\n      <td>1</td>\n      <td>$1.3794</td>\n      <td>SB</td>\n    </tr>\n  </tbody>\n</table>\n</div>"
     },
     "execution_count": 12,
     "metadata": {},
     "output_type": "execute_result"
    }
   ],
   "source": [
    "df_sub = df_sub.rename(columns = {\"action\": \"Action\", \"symbol\": \"Symbol\", \"shareQuantity\": \"Size\", \"executionPrice\": \"Price\"})\n",
    "df_sub"
   ],
   "metadata": {
    "collapsed": false,
    "ExecuteTime": {
     "end_time": "2023-09-06T16:58:30.950470Z",
     "start_time": "2023-09-06T16:58:30.947161Z"
    }
   },
   "id": "9c10c16e357e25f"
  },
  {
   "cell_type": "code",
   "execution_count": 13,
   "outputs": [],
   "source": [
    "df_sub[\"Size\"] = pd.to_numeric(df_sub[\"Size\"])\n",
    "df_sub[\"Price\"] = df_sub[\"Price\"].str[1:]\n",
    "df_sub[\"Price\"] = pd.to_numeric(df_sub[\"Price\"])"
   ],
   "metadata": {
    "collapsed": false,
    "ExecuteTime": {
     "end_time": "2023-09-06T16:58:30.955728Z",
     "start_time": "2023-09-06T16:58:30.949473Z"
    }
   },
   "id": "ca14663aecbc59b5"
  },
  {
   "cell_type": "code",
   "execution_count": 14,
   "outputs": [
    {
     "data": {
      "text/plain": "Action     object\nSymbol     object\nSize        int64\nPrice     float64\nBroker     object\ndtype: object"
     },
     "execution_count": 14,
     "metadata": {},
     "output_type": "execute_result"
    }
   ],
   "source": [
    "df_sub.dtypes"
   ],
   "metadata": {
    "collapsed": false,
    "ExecuteTime": {
     "end_time": "2023-09-06T16:58:30.964198Z",
     "start_time": "2023-09-06T16:58:30.955171Z"
    }
   },
   "id": "fdc4c01e41259310"
  },
  {
   "cell_type": "code",
   "execution_count": 15,
   "outputs": [],
   "source": [
    "df_sub[\"Dollar Amt\"] = df_sub[\"Price\"] * df_sub[\"Size\"]"
   ],
   "metadata": {
    "collapsed": false,
    "ExecuteTime": {
     "end_time": "2023-09-06T16:58:30.964585Z",
     "start_time": "2023-09-06T16:58:30.959062Z"
    }
   },
   "id": "b427e61fcf3d0dbe"
  },
  {
   "cell_type": "code",
   "execution_count": 16,
   "outputs": [
    {
     "data": {
      "text/plain": "   Action Symbol  Size     Price Broker  Dollar Amt\n0    Sell    VRM     3    1.3150     SB      3.9450\n1    Sell    VRM     6    1.3231     SB      7.9386\n2     Buy    VRM     3    1.3290     SB      3.9870\n3     Buy    VRM     3    1.3250     SB      3.9750\n4     Buy    XOM     1  104.5242     SB    104.5242\n5     Buy   CAPR    20    4.9400     SB     98.8000\n6     Buy   WTFC     1   70.2519     SB     70.2519\n7     Buy   RAPT     5   20.1553     SB    100.7765\n8     Buy    XOM     1  104.4723     SB    104.4723\n9     Buy   CAPR    20    4.9260     SB     98.5200\n10    Buy   WTFC     1   70.1711     SB     70.1711\n11    Buy   RAPT     5   20.1382     SB    100.6910\n12    Buy    VRM     1    1.3500     SB      1.3500\n13    Buy    VRM     1    1.3534     SB      1.3534\n14    Buy    VRM     1    1.3550     SB      1.3550\n15   Sell    VRM     2    1.3549     SB      2.7098\n16    Buy    VRM     1    1.3592     SB      1.3592\n17    Buy    VRM     1    1.3691     SB      1.3691\n18    Buy   GRWG    30    3.2980     SB     98.9400\n19   Sell    VRM     1    1.3732     SB      1.3732\n20    Buy    VRM     1    1.3850     SB      1.3850\n21   Sell    VRM     1    1.3807     SB      1.3807\n22   Sell    VRM     1    1.3900     SB      1.3900\n23    Buy    VRM     1    1.3850     SB      1.3850\n24    Buy    VRM     1    1.3779     SB      1.3779\n25   Sell    VRM     3    1.3800     SB      4.1400\n26    Buy    VRM     1    1.3771     SB      1.3771\n27    Buy    VRM     1    1.3773     SB      1.3773\n28    Buy    VRM     1    1.3794     SB      1.3794",
      "text/html": "<div>\n<style scoped>\n    .dataframe tbody tr th:only-of-type {\n        vertical-align: middle;\n    }\n\n    .dataframe tbody tr th {\n        vertical-align: top;\n    }\n\n    .dataframe thead th {\n        text-align: right;\n    }\n</style>\n<table border=\"1\" class=\"dataframe\">\n  <thead>\n    <tr style=\"text-align: right;\">\n      <th></th>\n      <th>Action</th>\n      <th>Symbol</th>\n      <th>Size</th>\n      <th>Price</th>\n      <th>Broker</th>\n      <th>Dollar Amt</th>\n    </tr>\n  </thead>\n  <tbody>\n    <tr>\n      <th>0</th>\n      <td>Sell</td>\n      <td>VRM</td>\n      <td>3</td>\n      <td>1.3150</td>\n      <td>SB</td>\n      <td>3.9450</td>\n    </tr>\n    <tr>\n      <th>1</th>\n      <td>Sell</td>\n      <td>VRM</td>\n      <td>6</td>\n      <td>1.3231</td>\n      <td>SB</td>\n      <td>7.9386</td>\n    </tr>\n    <tr>\n      <th>2</th>\n      <td>Buy</td>\n      <td>VRM</td>\n      <td>3</td>\n      <td>1.3290</td>\n      <td>SB</td>\n      <td>3.9870</td>\n    </tr>\n    <tr>\n      <th>3</th>\n      <td>Buy</td>\n      <td>VRM</td>\n      <td>3</td>\n      <td>1.3250</td>\n      <td>SB</td>\n      <td>3.9750</td>\n    </tr>\n    <tr>\n      <th>4</th>\n      <td>Buy</td>\n      <td>XOM</td>\n      <td>1</td>\n      <td>104.5242</td>\n      <td>SB</td>\n      <td>104.5242</td>\n    </tr>\n    <tr>\n      <th>5</th>\n      <td>Buy</td>\n      <td>CAPR</td>\n      <td>20</td>\n      <td>4.9400</td>\n      <td>SB</td>\n      <td>98.8000</td>\n    </tr>\n    <tr>\n      <th>6</th>\n      <td>Buy</td>\n      <td>WTFC</td>\n      <td>1</td>\n      <td>70.2519</td>\n      <td>SB</td>\n      <td>70.2519</td>\n    </tr>\n    <tr>\n      <th>7</th>\n      <td>Buy</td>\n      <td>RAPT</td>\n      <td>5</td>\n      <td>20.1553</td>\n      <td>SB</td>\n      <td>100.7765</td>\n    </tr>\n    <tr>\n      <th>8</th>\n      <td>Buy</td>\n      <td>XOM</td>\n      <td>1</td>\n      <td>104.4723</td>\n      <td>SB</td>\n      <td>104.4723</td>\n    </tr>\n    <tr>\n      <th>9</th>\n      <td>Buy</td>\n      <td>CAPR</td>\n      <td>20</td>\n      <td>4.9260</td>\n      <td>SB</td>\n      <td>98.5200</td>\n    </tr>\n    <tr>\n      <th>10</th>\n      <td>Buy</td>\n      <td>WTFC</td>\n      <td>1</td>\n      <td>70.1711</td>\n      <td>SB</td>\n      <td>70.1711</td>\n    </tr>\n    <tr>\n      <th>11</th>\n      <td>Buy</td>\n      <td>RAPT</td>\n      <td>5</td>\n      <td>20.1382</td>\n      <td>SB</td>\n      <td>100.6910</td>\n    </tr>\n    <tr>\n      <th>12</th>\n      <td>Buy</td>\n      <td>VRM</td>\n      <td>1</td>\n      <td>1.3500</td>\n      <td>SB</td>\n      <td>1.3500</td>\n    </tr>\n    <tr>\n      <th>13</th>\n      <td>Buy</td>\n      <td>VRM</td>\n      <td>1</td>\n      <td>1.3534</td>\n      <td>SB</td>\n      <td>1.3534</td>\n    </tr>\n    <tr>\n      <th>14</th>\n      <td>Buy</td>\n      <td>VRM</td>\n      <td>1</td>\n      <td>1.3550</td>\n      <td>SB</td>\n      <td>1.3550</td>\n    </tr>\n    <tr>\n      <th>15</th>\n      <td>Sell</td>\n      <td>VRM</td>\n      <td>2</td>\n      <td>1.3549</td>\n      <td>SB</td>\n      <td>2.7098</td>\n    </tr>\n    <tr>\n      <th>16</th>\n      <td>Buy</td>\n      <td>VRM</td>\n      <td>1</td>\n      <td>1.3592</td>\n      <td>SB</td>\n      <td>1.3592</td>\n    </tr>\n    <tr>\n      <th>17</th>\n      <td>Buy</td>\n      <td>VRM</td>\n      <td>1</td>\n      <td>1.3691</td>\n      <td>SB</td>\n      <td>1.3691</td>\n    </tr>\n    <tr>\n      <th>18</th>\n      <td>Buy</td>\n      <td>GRWG</td>\n      <td>30</td>\n      <td>3.2980</td>\n      <td>SB</td>\n      <td>98.9400</td>\n    </tr>\n    <tr>\n      <th>19</th>\n      <td>Sell</td>\n      <td>VRM</td>\n      <td>1</td>\n      <td>1.3732</td>\n      <td>SB</td>\n      <td>1.3732</td>\n    </tr>\n    <tr>\n      <th>20</th>\n      <td>Buy</td>\n      <td>VRM</td>\n      <td>1</td>\n      <td>1.3850</td>\n      <td>SB</td>\n      <td>1.3850</td>\n    </tr>\n    <tr>\n      <th>21</th>\n      <td>Sell</td>\n      <td>VRM</td>\n      <td>1</td>\n      <td>1.3807</td>\n      <td>SB</td>\n      <td>1.3807</td>\n    </tr>\n    <tr>\n      <th>22</th>\n      <td>Sell</td>\n      <td>VRM</td>\n      <td>1</td>\n      <td>1.3900</td>\n      <td>SB</td>\n      <td>1.3900</td>\n    </tr>\n    <tr>\n      <th>23</th>\n      <td>Buy</td>\n      <td>VRM</td>\n      <td>1</td>\n      <td>1.3850</td>\n      <td>SB</td>\n      <td>1.3850</td>\n    </tr>\n    <tr>\n      <th>24</th>\n      <td>Buy</td>\n      <td>VRM</td>\n      <td>1</td>\n      <td>1.3779</td>\n      <td>SB</td>\n      <td>1.3779</td>\n    </tr>\n    <tr>\n      <th>25</th>\n      <td>Sell</td>\n      <td>VRM</td>\n      <td>3</td>\n      <td>1.3800</td>\n      <td>SB</td>\n      <td>4.1400</td>\n    </tr>\n    <tr>\n      <th>26</th>\n      <td>Buy</td>\n      <td>VRM</td>\n      <td>1</td>\n      <td>1.3771</td>\n      <td>SB</td>\n      <td>1.3771</td>\n    </tr>\n    <tr>\n      <th>27</th>\n      <td>Buy</td>\n      <td>VRM</td>\n      <td>1</td>\n      <td>1.3773</td>\n      <td>SB</td>\n      <td>1.3773</td>\n    </tr>\n    <tr>\n      <th>28</th>\n      <td>Buy</td>\n      <td>VRM</td>\n      <td>1</td>\n      <td>1.3794</td>\n      <td>SB</td>\n      <td>1.3794</td>\n    </tr>\n  </tbody>\n</table>\n</div>"
     },
     "execution_count": 16,
     "metadata": {},
     "output_type": "execute_result"
    }
   ],
   "source": [
    "df_sub"
   ],
   "metadata": {
    "collapsed": false,
    "ExecuteTime": {
     "end_time": "2023-09-06T16:58:31.012486Z",
     "start_time": "2023-09-06T16:58:30.960747Z"
    }
   },
   "id": "9d9f7fb58e2959a1"
  },
  {
   "cell_type": "code",
   "execution_count": 17,
   "outputs": [],
   "source": [
    "def get_schwab_report(schwab_file):\n",
    "    with open(schwab_file, \"r\") as file:\n",
    "        data = json.load(file)\n",
    "        stringify = json.dumps(data[\"brokerageTransactions\"])\n",
    "        df = pd.read_json(stringify)\n",
    "        df_sub = df[[\"transactionDate\", \"action\", \"symbol\", \"shareQuantity\", \"executionPrice\"]]\n",
    "        df_sub = df_sub.rename(columns = {\n",
    "            \"transactionDate\": \"Date\",\n",
    "            \"action\": \"Action\",\n",
    "            \"symbol\": \"Symbol\",\n",
    "            \"shareQuantity\": \"Quantity\",\n",
    "            \"executionPrice\": \"Price\"\n",
    "        })\n",
    "        df_sub[\"Price\"] = df_sub[\"Price\"].str[1:].astype(\"float64\")\n",
    "        df_sub[\"Dollar Amt\"] = df_sub[\"Price\"] * df_sub[\"Quantity\"]\n",
    "        return df_sub"
   ],
   "metadata": {
    "collapsed": false,
    "ExecuteTime": {
     "end_time": "2023-09-06T16:58:31.016201Z",
     "start_time": "2023-09-06T16:58:30.969812Z"
    }
   },
   "id": "3ca5ed263f3598df"
  },
  {
   "cell_type": "code",
   "execution_count": 18,
   "outputs": [],
   "source": [
    "def get_schwab_report2(schwab_file):\n",
    "    with open(schwab_file, \"r\") as file:\n",
    "        data = json.load(file)\n",
    "        df = pd.DataFrame.from_dict(data[\"brokerageTransactions\"])\n",
    "        df_sub = df[[\"transactionDate\", \"action\", \"symbol\", \"shareQuantity\", \"executionPrice\"]]\n",
    "        df_sub = df_sub.rename(columns = {\n",
    "            \"transactionDate\": \"Date\",\n",
    "            \"action\": \"Action\",\n",
    "            \"symbol\": \"Symbol\",\n",
    "            \"shareQuantity\": \"Size\",\n",
    "            \"executionPrice\": \"Price\"\n",
    "        })\n",
    "        df_sub[\"Size\"] = pd.to_numeric(df_sub[\"Size\"])\n",
    "        df_sub[\"Price\"] = df_sub[\"Price\"].str[1:]\n",
    "        df_sub[\"Price\"] = pd.to_numeric(df_sub[\"Price\"])\n",
    "        df_sub[\"Dollar Amt\"] = df_sub[\"Price\"] * df_sub[\"Size\"]\n",
    "        return df_sub"
   ],
   "metadata": {
    "collapsed": false,
    "ExecuteTime": {
     "end_time": "2023-09-06T16:58:31.039999Z",
     "start_time": "2023-09-06T16:58:30.973707Z"
    }
   },
   "id": "1b0ad3120053a102"
  },
  {
   "cell_type": "code",
   "execution_count": 19,
   "outputs": [
    {
     "name": "stdout",
     "output_type": "stream",
     "text": [
      "3.19 ms ± 232 µs per loop (mean ± std. dev. of 7 runs, 100 loops each)\n"
     ]
    }
   ],
   "source": [
    "%%timeit\n",
    "get_schwab_report(schwab_data)"
   ],
   "metadata": {
    "collapsed": false,
    "ExecuteTime": {
     "end_time": "2023-09-06T16:58:33.596964Z",
     "start_time": "2023-09-06T16:58:30.978843Z"
    }
   },
   "id": "a96b5c8d99d49f16"
  },
  {
   "cell_type": "code",
   "execution_count": 20,
   "outputs": [
    {
     "name": "stdout",
     "output_type": "stream",
     "text": [
      "1.08 ms ± 63 µs per loop (mean ± std. dev. of 7 runs, 1,000 loops each)\n"
     ]
    }
   ],
   "source": [
    "%%timeit\n",
    "get_schwab_report2(schwab_data)"
   ],
   "metadata": {
    "collapsed": false,
    "ExecuteTime": {
     "end_time": "2023-09-06T16:58:42.324426Z",
     "start_time": "2023-09-06T16:58:33.595700Z"
    }
   },
   "id": "5571bed2842f2a1f"
  },
  {
   "cell_type": "code",
   "execution_count": 21,
   "outputs": [
    {
     "data": {
      "text/plain": "          Date Action Symbol  Size     Price  Dollar Amt\n0   06/26/2023   Sell    VRM     3    1.3150      3.9450\n1   06/26/2023   Sell    VRM     6    1.3231      7.9386\n2   06/26/2023    Buy    VRM     3    1.3290      3.9870\n3   06/26/2023    Buy    VRM     3    1.3250      3.9750\n4   06/26/2023    Buy    XOM     1  104.5242    104.5242\n5   06/26/2023    Buy   CAPR    20    4.9400     98.8000\n6   06/26/2023    Buy   WTFC     1   70.2519     70.2519\n7   06/26/2023    Buy   RAPT     5   20.1553    100.7765\n8   06/26/2023    Buy    XOM     1  104.4723    104.4723\n9   06/26/2023    Buy   CAPR    20    4.9260     98.5200\n10  06/26/2023    Buy   WTFC     1   70.1711     70.1711\n11  06/26/2023    Buy   RAPT     5   20.1382    100.6910\n12  06/26/2023    Buy    VRM     1    1.3500      1.3500\n13  06/26/2023    Buy    VRM     1    1.3534      1.3534\n14  06/26/2023    Buy    VRM     1    1.3550      1.3550\n15  06/26/2023   Sell    VRM     2    1.3549      2.7098\n16  06/26/2023    Buy    VRM     1    1.3592      1.3592\n17  06/26/2023    Buy    VRM     1    1.3691      1.3691\n18  06/26/2023    Buy   GRWG    30    3.2980     98.9400\n19  06/26/2023   Sell    VRM     1    1.3732      1.3732\n20  06/26/2023    Buy    VRM     1    1.3850      1.3850\n21  06/26/2023   Sell    VRM     1    1.3807      1.3807\n22  06/26/2023   Sell    VRM     1    1.3900      1.3900\n23  06/26/2023    Buy    VRM     1    1.3850      1.3850\n24  06/26/2023    Buy    VRM     1    1.3779      1.3779\n25  06/26/2023   Sell    VRM     3    1.3800      4.1400\n26  06/26/2023    Buy    VRM     1    1.3771      1.3771\n27  06/26/2023    Buy    VRM     1    1.3773      1.3773\n28  06/26/2023    Buy    VRM     1    1.3794      1.3794",
      "text/html": "<div>\n<style scoped>\n    .dataframe tbody tr th:only-of-type {\n        vertical-align: middle;\n    }\n\n    .dataframe tbody tr th {\n        vertical-align: top;\n    }\n\n    .dataframe thead th {\n        text-align: right;\n    }\n</style>\n<table border=\"1\" class=\"dataframe\">\n  <thead>\n    <tr style=\"text-align: right;\">\n      <th></th>\n      <th>Date</th>\n      <th>Action</th>\n      <th>Symbol</th>\n      <th>Size</th>\n      <th>Price</th>\n      <th>Dollar Amt</th>\n    </tr>\n  </thead>\n  <tbody>\n    <tr>\n      <th>0</th>\n      <td>06/26/2023</td>\n      <td>Sell</td>\n      <td>VRM</td>\n      <td>3</td>\n      <td>1.3150</td>\n      <td>3.9450</td>\n    </tr>\n    <tr>\n      <th>1</th>\n      <td>06/26/2023</td>\n      <td>Sell</td>\n      <td>VRM</td>\n      <td>6</td>\n      <td>1.3231</td>\n      <td>7.9386</td>\n    </tr>\n    <tr>\n      <th>2</th>\n      <td>06/26/2023</td>\n      <td>Buy</td>\n      <td>VRM</td>\n      <td>3</td>\n      <td>1.3290</td>\n      <td>3.9870</td>\n    </tr>\n    <tr>\n      <th>3</th>\n      <td>06/26/2023</td>\n      <td>Buy</td>\n      <td>VRM</td>\n      <td>3</td>\n      <td>1.3250</td>\n      <td>3.9750</td>\n    </tr>\n    <tr>\n      <th>4</th>\n      <td>06/26/2023</td>\n      <td>Buy</td>\n      <td>XOM</td>\n      <td>1</td>\n      <td>104.5242</td>\n      <td>104.5242</td>\n    </tr>\n    <tr>\n      <th>5</th>\n      <td>06/26/2023</td>\n      <td>Buy</td>\n      <td>CAPR</td>\n      <td>20</td>\n      <td>4.9400</td>\n      <td>98.8000</td>\n    </tr>\n    <tr>\n      <th>6</th>\n      <td>06/26/2023</td>\n      <td>Buy</td>\n      <td>WTFC</td>\n      <td>1</td>\n      <td>70.2519</td>\n      <td>70.2519</td>\n    </tr>\n    <tr>\n      <th>7</th>\n      <td>06/26/2023</td>\n      <td>Buy</td>\n      <td>RAPT</td>\n      <td>5</td>\n      <td>20.1553</td>\n      <td>100.7765</td>\n    </tr>\n    <tr>\n      <th>8</th>\n      <td>06/26/2023</td>\n      <td>Buy</td>\n      <td>XOM</td>\n      <td>1</td>\n      <td>104.4723</td>\n      <td>104.4723</td>\n    </tr>\n    <tr>\n      <th>9</th>\n      <td>06/26/2023</td>\n      <td>Buy</td>\n      <td>CAPR</td>\n      <td>20</td>\n      <td>4.9260</td>\n      <td>98.5200</td>\n    </tr>\n    <tr>\n      <th>10</th>\n      <td>06/26/2023</td>\n      <td>Buy</td>\n      <td>WTFC</td>\n      <td>1</td>\n      <td>70.1711</td>\n      <td>70.1711</td>\n    </tr>\n    <tr>\n      <th>11</th>\n      <td>06/26/2023</td>\n      <td>Buy</td>\n      <td>RAPT</td>\n      <td>5</td>\n      <td>20.1382</td>\n      <td>100.6910</td>\n    </tr>\n    <tr>\n      <th>12</th>\n      <td>06/26/2023</td>\n      <td>Buy</td>\n      <td>VRM</td>\n      <td>1</td>\n      <td>1.3500</td>\n      <td>1.3500</td>\n    </tr>\n    <tr>\n      <th>13</th>\n      <td>06/26/2023</td>\n      <td>Buy</td>\n      <td>VRM</td>\n      <td>1</td>\n      <td>1.3534</td>\n      <td>1.3534</td>\n    </tr>\n    <tr>\n      <th>14</th>\n      <td>06/26/2023</td>\n      <td>Buy</td>\n      <td>VRM</td>\n      <td>1</td>\n      <td>1.3550</td>\n      <td>1.3550</td>\n    </tr>\n    <tr>\n      <th>15</th>\n      <td>06/26/2023</td>\n      <td>Sell</td>\n      <td>VRM</td>\n      <td>2</td>\n      <td>1.3549</td>\n      <td>2.7098</td>\n    </tr>\n    <tr>\n      <th>16</th>\n      <td>06/26/2023</td>\n      <td>Buy</td>\n      <td>VRM</td>\n      <td>1</td>\n      <td>1.3592</td>\n      <td>1.3592</td>\n    </tr>\n    <tr>\n      <th>17</th>\n      <td>06/26/2023</td>\n      <td>Buy</td>\n      <td>VRM</td>\n      <td>1</td>\n      <td>1.3691</td>\n      <td>1.3691</td>\n    </tr>\n    <tr>\n      <th>18</th>\n      <td>06/26/2023</td>\n      <td>Buy</td>\n      <td>GRWG</td>\n      <td>30</td>\n      <td>3.2980</td>\n      <td>98.9400</td>\n    </tr>\n    <tr>\n      <th>19</th>\n      <td>06/26/2023</td>\n      <td>Sell</td>\n      <td>VRM</td>\n      <td>1</td>\n      <td>1.3732</td>\n      <td>1.3732</td>\n    </tr>\n    <tr>\n      <th>20</th>\n      <td>06/26/2023</td>\n      <td>Buy</td>\n      <td>VRM</td>\n      <td>1</td>\n      <td>1.3850</td>\n      <td>1.3850</td>\n    </tr>\n    <tr>\n      <th>21</th>\n      <td>06/26/2023</td>\n      <td>Sell</td>\n      <td>VRM</td>\n      <td>1</td>\n      <td>1.3807</td>\n      <td>1.3807</td>\n    </tr>\n    <tr>\n      <th>22</th>\n      <td>06/26/2023</td>\n      <td>Sell</td>\n      <td>VRM</td>\n      <td>1</td>\n      <td>1.3900</td>\n      <td>1.3900</td>\n    </tr>\n    <tr>\n      <th>23</th>\n      <td>06/26/2023</td>\n      <td>Buy</td>\n      <td>VRM</td>\n      <td>1</td>\n      <td>1.3850</td>\n      <td>1.3850</td>\n    </tr>\n    <tr>\n      <th>24</th>\n      <td>06/26/2023</td>\n      <td>Buy</td>\n      <td>VRM</td>\n      <td>1</td>\n      <td>1.3779</td>\n      <td>1.3779</td>\n    </tr>\n    <tr>\n      <th>25</th>\n      <td>06/26/2023</td>\n      <td>Sell</td>\n      <td>VRM</td>\n      <td>3</td>\n      <td>1.3800</td>\n      <td>4.1400</td>\n    </tr>\n    <tr>\n      <th>26</th>\n      <td>06/26/2023</td>\n      <td>Buy</td>\n      <td>VRM</td>\n      <td>1</td>\n      <td>1.3771</td>\n      <td>1.3771</td>\n    </tr>\n    <tr>\n      <th>27</th>\n      <td>06/26/2023</td>\n      <td>Buy</td>\n      <td>VRM</td>\n      <td>1</td>\n      <td>1.3773</td>\n      <td>1.3773</td>\n    </tr>\n    <tr>\n      <th>28</th>\n      <td>06/26/2023</td>\n      <td>Buy</td>\n      <td>VRM</td>\n      <td>1</td>\n      <td>1.3794</td>\n      <td>1.3794</td>\n    </tr>\n  </tbody>\n</table>\n</div>"
     },
     "execution_count": 21,
     "metadata": {},
     "output_type": "execute_result"
    }
   ],
   "source": [
    "get_schwab_report2(schwab_data)"
   ],
   "metadata": {
    "collapsed": false,
    "ExecuteTime": {
     "end_time": "2023-09-06T16:59:35.858311Z",
     "start_time": "2023-09-06T16:59:35.846744Z"
    }
   },
   "id": "3296b8ee473216e8"
  },
  {
   "cell_type": "code",
   "execution_count": null,
   "outputs": [],
   "source": [],
   "metadata": {
    "collapsed": false
   },
   "id": "277305f8ac227aaf"
  }
 ],
 "metadata": {
  "kernelspec": {
   "display_name": "Python 3",
   "language": "python",
   "name": "python3"
  },
  "language_info": {
   "codemirror_mode": {
    "name": "ipython",
    "version": 2
   },
   "file_extension": ".py",
   "mimetype": "text/x-python",
   "name": "python",
   "nbconvert_exporter": "python",
   "pygments_lexer": "ipython2",
   "version": "2.7.6"
  }
 },
 "nbformat": 4,
 "nbformat_minor": 5
}
