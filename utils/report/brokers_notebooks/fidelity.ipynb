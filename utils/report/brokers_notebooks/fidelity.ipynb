{
 "cells": [
  {
   "cell_type": "code",
   "execution_count": 1,
   "id": "initial_id",
   "metadata": {
    "collapsed": true,
    "ExecuteTime": {
     "end_time": "2023-09-20T05:07:34.269350Z",
     "start_time": "2023-09-20T05:07:33.933726Z"
    }
   },
   "outputs": [],
   "source": [
    "import pandas as pd\n",
    "from bs4 import BeautifulSoup\n",
    "import numpy as np"
   ]
  },
  {
   "cell_type": "code",
   "execution_count": 3,
   "outputs": [],
   "source": [
    "opened_fidelity_file = '/Users/sanathnair/Developer/trading/data/fidelity/fd_splits_08_29.html'\n",
    "unopened_fidelity_file = '/Users/sanathnair/Developer/trading/data/fidelity/fd_splits_08_29_unopened.html'"
   ],
   "metadata": {
    "collapsed": false,
    "ExecuteTime": {
     "end_time": "2023-09-20T04:31:57.076985Z",
     "start_time": "2023-09-20T04:31:57.072598Z"
    }
   },
   "id": "9e201f6a953d6e12"
  },
  {
   "cell_type": "code",
   "execution_count": 4,
   "outputs": [],
   "source": [
    "def _handle_opened_data(opened):\n",
    "    df = pd.read_html(opened)\n",
    "\n",
    "    # get the data from the individual split dfs and put them into a list\n",
    "    prices = []\n",
    "    for idx, temp in enumerate(df):\n",
    "        splits = temp.iloc[:-1].to_numpy()\n",
    "        length = splits.shape[0]\n",
    "        identifier = np.empty((length, 1))\n",
    "        identifier.fill(idx)\n",
    "        updated = np.hstack((splits, identifier))\n",
    "        prices.append(updated)\n",
    "\n",
    "    # combine all the rows into one\n",
    "    res = prices[0]\n",
    "    for x in prices[1:]:\n",
    "        res = np.append(res, x, axis = 0)\n",
    "\n",
    "    # create a df with split info\n",
    "    splits_df = pd.DataFrame(res, columns = [\"Date\", \"Broker Executed\", \"Price\", \"Quantity\",\n",
    "                                             \"Dollar Amt\", \"Identifier\"])\n",
    "    return splits_df"
   ],
   "metadata": {
    "collapsed": false,
    "ExecuteTime": {
     "end_time": "2023-09-20T04:31:57.077976Z",
     "start_time": "2023-09-20T04:31:57.076461Z"
    }
   },
   "id": "d2c1ad75b7269595"
  },
  {
   "cell_type": "code",
   "execution_count": 5,
   "outputs": [
    {
     "name": "stderr",
     "output_type": "stream",
     "text": [
      "/opt/homebrew/Caskroom/miniforge/base/envs/trading/lib/python3.9/site-packages/pandas/io/html.py:674: MarkupResemblesLocatorWarning: The input looks more like a filename than markup. You may want to open this file and pass the filehandle into Beautiful Soup.\n",
      "  soup = BeautifulSoup(udoc, features=\"html5lib\", from_encoding=from_encoding)\n"
     ]
    },
    {
     "ename": "ValueError",
     "evalue": "No tables found",
     "output_type": "error",
     "traceback": [
      "\u001B[0;31m---------------------------------------------------------------------------\u001B[0m",
      "\u001B[0;31mValueError\u001B[0m                                Traceback (most recent call last)",
      "Cell \u001B[0;32mIn[5], line 1\u001B[0m\n\u001B[0;32m----> 1\u001B[0m df \u001B[38;5;241m=\u001B[39m \u001B[43m_handle_opened_data\u001B[49m\u001B[43m(\u001B[49m\u001B[43mopened_fidelity_file\u001B[49m\u001B[43m)\u001B[49m\n",
      "Cell \u001B[0;32mIn[4], line 2\u001B[0m, in \u001B[0;36m_handle_opened_data\u001B[0;34m(opened)\u001B[0m\n\u001B[1;32m      1\u001B[0m \u001B[38;5;28;01mdef\u001B[39;00m \u001B[38;5;21m_handle_opened_data\u001B[39m(opened):\n\u001B[0;32m----> 2\u001B[0m     df \u001B[38;5;241m=\u001B[39m \u001B[43mpd\u001B[49m\u001B[38;5;241;43m.\u001B[39;49m\u001B[43mread_html\u001B[49m\u001B[43m(\u001B[49m\u001B[43mopened\u001B[49m\u001B[43m)\u001B[49m\n\u001B[1;32m      4\u001B[0m     \u001B[38;5;66;03m# get the data from the individual split dfs and put them into a list\u001B[39;00m\n\u001B[1;32m      5\u001B[0m     prices \u001B[38;5;241m=\u001B[39m []\n",
      "File \u001B[0;32m/opt/homebrew/Caskroom/miniforge/base/envs/trading/lib/python3.9/site-packages/pandas/io/html.py:1212\u001B[0m, in \u001B[0;36mread_html\u001B[0;34m(io, match, flavor, header, index_col, skiprows, attrs, parse_dates, thousands, encoding, decimal, converters, na_values, keep_default_na, displayed_only, extract_links, dtype_backend)\u001B[0m\n\u001B[1;32m   1208\u001B[0m check_dtype_backend(dtype_backend)\n\u001B[1;32m   1210\u001B[0m io \u001B[38;5;241m=\u001B[39m stringify_path(io)\n\u001B[0;32m-> 1212\u001B[0m \u001B[38;5;28;01mreturn\u001B[39;00m \u001B[43m_parse\u001B[49m\u001B[43m(\u001B[49m\n\u001B[1;32m   1213\u001B[0m \u001B[43m    \u001B[49m\u001B[43mflavor\u001B[49m\u001B[38;5;241;43m=\u001B[39;49m\u001B[43mflavor\u001B[49m\u001B[43m,\u001B[49m\n\u001B[1;32m   1214\u001B[0m \u001B[43m    \u001B[49m\u001B[43mio\u001B[49m\u001B[38;5;241;43m=\u001B[39;49m\u001B[43mio\u001B[49m\u001B[43m,\u001B[49m\n\u001B[1;32m   1215\u001B[0m \u001B[43m    \u001B[49m\u001B[43mmatch\u001B[49m\u001B[38;5;241;43m=\u001B[39;49m\u001B[43mmatch\u001B[49m\u001B[43m,\u001B[49m\n\u001B[1;32m   1216\u001B[0m \u001B[43m    \u001B[49m\u001B[43mheader\u001B[49m\u001B[38;5;241;43m=\u001B[39;49m\u001B[43mheader\u001B[49m\u001B[43m,\u001B[49m\n\u001B[1;32m   1217\u001B[0m \u001B[43m    \u001B[49m\u001B[43mindex_col\u001B[49m\u001B[38;5;241;43m=\u001B[39;49m\u001B[43mindex_col\u001B[49m\u001B[43m,\u001B[49m\n\u001B[1;32m   1218\u001B[0m \u001B[43m    \u001B[49m\u001B[43mskiprows\u001B[49m\u001B[38;5;241;43m=\u001B[39;49m\u001B[43mskiprows\u001B[49m\u001B[43m,\u001B[49m\n\u001B[1;32m   1219\u001B[0m \u001B[43m    \u001B[49m\u001B[43mparse_dates\u001B[49m\u001B[38;5;241;43m=\u001B[39;49m\u001B[43mparse_dates\u001B[49m\u001B[43m,\u001B[49m\n\u001B[1;32m   1220\u001B[0m \u001B[43m    \u001B[49m\u001B[43mthousands\u001B[49m\u001B[38;5;241;43m=\u001B[39;49m\u001B[43mthousands\u001B[49m\u001B[43m,\u001B[49m\n\u001B[1;32m   1221\u001B[0m \u001B[43m    \u001B[49m\u001B[43mattrs\u001B[49m\u001B[38;5;241;43m=\u001B[39;49m\u001B[43mattrs\u001B[49m\u001B[43m,\u001B[49m\n\u001B[1;32m   1222\u001B[0m \u001B[43m    \u001B[49m\u001B[43mencoding\u001B[49m\u001B[38;5;241;43m=\u001B[39;49m\u001B[43mencoding\u001B[49m\u001B[43m,\u001B[49m\n\u001B[1;32m   1223\u001B[0m \u001B[43m    \u001B[49m\u001B[43mdecimal\u001B[49m\u001B[38;5;241;43m=\u001B[39;49m\u001B[43mdecimal\u001B[49m\u001B[43m,\u001B[49m\n\u001B[1;32m   1224\u001B[0m \u001B[43m    \u001B[49m\u001B[43mconverters\u001B[49m\u001B[38;5;241;43m=\u001B[39;49m\u001B[43mconverters\u001B[49m\u001B[43m,\u001B[49m\n\u001B[1;32m   1225\u001B[0m \u001B[43m    \u001B[49m\u001B[43mna_values\u001B[49m\u001B[38;5;241;43m=\u001B[39;49m\u001B[43mna_values\u001B[49m\u001B[43m,\u001B[49m\n\u001B[1;32m   1226\u001B[0m \u001B[43m    \u001B[49m\u001B[43mkeep_default_na\u001B[49m\u001B[38;5;241;43m=\u001B[39;49m\u001B[43mkeep_default_na\u001B[49m\u001B[43m,\u001B[49m\n\u001B[1;32m   1227\u001B[0m \u001B[43m    \u001B[49m\u001B[43mdisplayed_only\u001B[49m\u001B[38;5;241;43m=\u001B[39;49m\u001B[43mdisplayed_only\u001B[49m\u001B[43m,\u001B[49m\n\u001B[1;32m   1228\u001B[0m \u001B[43m    \u001B[49m\u001B[43mextract_links\u001B[49m\u001B[38;5;241;43m=\u001B[39;49m\u001B[43mextract_links\u001B[49m\u001B[43m,\u001B[49m\n\u001B[1;32m   1229\u001B[0m \u001B[43m    \u001B[49m\u001B[43mdtype_backend\u001B[49m\u001B[38;5;241;43m=\u001B[39;49m\u001B[43mdtype_backend\u001B[49m\u001B[43m,\u001B[49m\n\u001B[1;32m   1230\u001B[0m \u001B[43m\u001B[49m\u001B[43m)\u001B[49m\n",
      "File \u001B[0;32m/opt/homebrew/Caskroom/miniforge/base/envs/trading/lib/python3.9/site-packages/pandas/io/html.py:1001\u001B[0m, in \u001B[0;36m_parse\u001B[0;34m(flavor, io, match, attrs, encoding, displayed_only, extract_links, **kwargs)\u001B[0m\n\u001B[1;32m    999\u001B[0m \u001B[38;5;28;01melse\u001B[39;00m:\n\u001B[1;32m   1000\u001B[0m     \u001B[38;5;28;01massert\u001B[39;00m retained \u001B[38;5;129;01mis\u001B[39;00m \u001B[38;5;129;01mnot\u001B[39;00m \u001B[38;5;28;01mNone\u001B[39;00m  \u001B[38;5;66;03m# for mypy\u001B[39;00m\n\u001B[0;32m-> 1001\u001B[0m     \u001B[38;5;28;01mraise\u001B[39;00m retained\n\u001B[1;32m   1003\u001B[0m ret \u001B[38;5;241m=\u001B[39m []\n\u001B[1;32m   1004\u001B[0m \u001B[38;5;28;01mfor\u001B[39;00m table \u001B[38;5;129;01min\u001B[39;00m tables:\n",
      "File \u001B[0;32m/opt/homebrew/Caskroom/miniforge/base/envs/trading/lib/python3.9/site-packages/pandas/io/html.py:981\u001B[0m, in \u001B[0;36m_parse\u001B[0;34m(flavor, io, match, attrs, encoding, displayed_only, extract_links, **kwargs)\u001B[0m\n\u001B[1;32m    978\u001B[0m p \u001B[38;5;241m=\u001B[39m parser(io, compiled_match, attrs, encoding, displayed_only, extract_links)\n\u001B[1;32m    980\u001B[0m \u001B[38;5;28;01mtry\u001B[39;00m:\n\u001B[0;32m--> 981\u001B[0m     tables \u001B[38;5;241m=\u001B[39m \u001B[43mp\u001B[49m\u001B[38;5;241;43m.\u001B[39;49m\u001B[43mparse_tables\u001B[49m\u001B[43m(\u001B[49m\u001B[43m)\u001B[49m\n\u001B[1;32m    982\u001B[0m \u001B[38;5;28;01mexcept\u001B[39;00m \u001B[38;5;167;01mValueError\u001B[39;00m \u001B[38;5;28;01mas\u001B[39;00m caught:\n\u001B[1;32m    983\u001B[0m     \u001B[38;5;66;03m# if `io` is an io-like object, check if it's seekable\u001B[39;00m\n\u001B[1;32m    984\u001B[0m     \u001B[38;5;66;03m# and try to rewind it before trying the next parser\u001B[39;00m\n\u001B[1;32m    985\u001B[0m     \u001B[38;5;28;01mif\u001B[39;00m \u001B[38;5;28mhasattr\u001B[39m(io, \u001B[38;5;124m\"\u001B[39m\u001B[38;5;124mseekable\u001B[39m\u001B[38;5;124m\"\u001B[39m) \u001B[38;5;129;01mand\u001B[39;00m io\u001B[38;5;241m.\u001B[39mseekable():\n",
      "File \u001B[0;32m/opt/homebrew/Caskroom/miniforge/base/envs/trading/lib/python3.9/site-packages/pandas/io/html.py:257\u001B[0m, in \u001B[0;36m_HtmlFrameParser.parse_tables\u001B[0;34m(self)\u001B[0m\n\u001B[1;32m    249\u001B[0m \u001B[38;5;28;01mdef\u001B[39;00m \u001B[38;5;21mparse_tables\u001B[39m(\u001B[38;5;28mself\u001B[39m):\n\u001B[1;32m    250\u001B[0m \u001B[38;5;250m    \u001B[39m\u001B[38;5;124;03m\"\"\"\u001B[39;00m\n\u001B[1;32m    251\u001B[0m \u001B[38;5;124;03m    Parse and return all tables from the DOM.\u001B[39;00m\n\u001B[1;32m    252\u001B[0m \n\u001B[0;32m   (...)\u001B[0m\n\u001B[1;32m    255\u001B[0m \u001B[38;5;124;03m    list of parsed (header, body, footer) tuples from tables.\u001B[39;00m\n\u001B[1;32m    256\u001B[0m \u001B[38;5;124;03m    \"\"\"\u001B[39;00m\n\u001B[0;32m--> 257\u001B[0m     tables \u001B[38;5;241m=\u001B[39m \u001B[38;5;28;43mself\u001B[39;49m\u001B[38;5;241;43m.\u001B[39;49m\u001B[43m_parse_tables\u001B[49m\u001B[43m(\u001B[49m\u001B[38;5;28;43mself\u001B[39;49m\u001B[38;5;241;43m.\u001B[39;49m\u001B[43m_build_doc\u001B[49m\u001B[43m(\u001B[49m\u001B[43m)\u001B[49m\u001B[43m,\u001B[49m\u001B[43m \u001B[49m\u001B[38;5;28;43mself\u001B[39;49m\u001B[38;5;241;43m.\u001B[39;49m\u001B[43mmatch\u001B[49m\u001B[43m,\u001B[49m\u001B[43m \u001B[49m\u001B[38;5;28;43mself\u001B[39;49m\u001B[38;5;241;43m.\u001B[39;49m\u001B[43mattrs\u001B[49m\u001B[43m)\u001B[49m\n\u001B[1;32m    258\u001B[0m     \u001B[38;5;28;01mreturn\u001B[39;00m (\u001B[38;5;28mself\u001B[39m\u001B[38;5;241m.\u001B[39m_parse_thead_tbody_tfoot(table) \u001B[38;5;28;01mfor\u001B[39;00m table \u001B[38;5;129;01min\u001B[39;00m tables)\n",
      "File \u001B[0;32m/opt/homebrew/Caskroom/miniforge/base/envs/trading/lib/python3.9/site-packages/pandas/io/html.py:613\u001B[0m, in \u001B[0;36m_BeautifulSoupHtml5LibFrameParser._parse_tables\u001B[0;34m(self, doc, match, attrs)\u001B[0m\n\u001B[1;32m    610\u001B[0m tables \u001B[38;5;241m=\u001B[39m doc\u001B[38;5;241m.\u001B[39mfind_all(element_name, attrs\u001B[38;5;241m=\u001B[39mattrs)\n\u001B[1;32m    612\u001B[0m \u001B[38;5;28;01mif\u001B[39;00m \u001B[38;5;129;01mnot\u001B[39;00m tables:\n\u001B[0;32m--> 613\u001B[0m     \u001B[38;5;28;01mraise\u001B[39;00m \u001B[38;5;167;01mValueError\u001B[39;00m(\u001B[38;5;124m\"\u001B[39m\u001B[38;5;124mNo tables found\u001B[39m\u001B[38;5;124m\"\u001B[39m)\n\u001B[1;32m    615\u001B[0m result \u001B[38;5;241m=\u001B[39m []\n\u001B[1;32m    616\u001B[0m unique_tables \u001B[38;5;241m=\u001B[39m \u001B[38;5;28mset\u001B[39m()\n",
      "\u001B[0;31mValueError\u001B[0m: No tables found"
     ]
    }
   ],
   "source": [
    "df = _handle_opened_data(opened_fidelity_file)"
   ],
   "metadata": {
    "collapsed": false,
    "ExecuteTime": {
     "end_time": "2023-09-20T04:31:57.323Z",
     "start_time": "2023-09-20T04:31:57.079202Z"
    }
   },
   "id": "b040851b28ee9421"
  },
  {
   "cell_type": "code",
   "execution_count": null,
   "outputs": [],
   "source": [
    "df"
   ],
   "metadata": {
    "collapsed": false,
    "ExecuteTime": {
     "end_time": "2023-09-20T04:31:57.328778Z",
     "start_time": "2023-09-20T04:31:57.325731Z"
    }
   },
   "id": "1ada26664d835bec"
  },
  {
   "cell_type": "code",
   "execution_count": null,
   "outputs": [],
   "source": [
    "df[df[\"Identifier\"].duplicated()]"
   ],
   "metadata": {
    "collapsed": false,
    "ExecuteTime": {
     "start_time": "2023-09-20T04:31:57.327608Z"
    }
   },
   "id": "e71d336446f7ac17"
  },
  {
   "cell_type": "code",
   "execution_count": null,
   "outputs": [],
   "source": [
    "with open(unopened_fidelity_file) as file:\n",
    "    soup = BeautifulSoup(file, 'html.parser')\n",
    "    class_to_find = \"gridRow\" \n",
    "    data = soup.find_all(class_=class_to_find)\n",
    "data"
   ],
   "metadata": {
    "collapsed": false,
    "ExecuteTime": {
     "start_time": "2023-09-20T04:31:57.329408Z"
    }
   },
   "id": "5d021e272ef92bc6"
  },
  {
   "cell_type": "code",
   "execution_count": null,
   "outputs": [],
   "source": [
    "temp = data[0]\n"
   ],
   "metadata": {
    "collapsed": false,
    "ExecuteTime": {
     "start_time": "2023-09-20T04:31:57.330978Z"
    }
   },
   "id": "44352c01ee475b24"
  },
  {
   "cell_type": "code",
   "execution_count": null,
   "outputs": [],
   "source": [
    "new_soup = BeautifulSoup(str(temp), \"html.parser\")\n",
    "element = soup.find('div', class_='pvd-grid__grid pvd-grid__grid--default-column-span-12')\n",
    "text = element.get_text(strip=True).split()\n"
   ],
   "metadata": {
    "collapsed": false,
    "ExecuteTime": {
     "start_time": "2023-09-20T04:31:57.332404Z"
    }
   },
   "id": "191e405c3aa11ebc"
  },
  {
   "cell_type": "code",
   "execution_count": null,
   "outputs": [],
   "source": [
    "text"
   ],
   "metadata": {
    "collapsed": false,
    "ExecuteTime": {
     "start_time": "2023-09-20T04:31:57.333891Z"
    }
   },
   "id": "ec2c72074ce94725"
  },
  {
   "cell_type": "code",
   "execution_count": null,
   "outputs": [],
   "source": [
    "action = text[0]\n",
    "symbol = text[4]"
   ],
   "metadata": {
    "collapsed": false,
    "ExecuteTime": {
     "start_time": "2023-09-20T04:31:57.335407Z"
    }
   },
   "id": "8267c7ff39f42574"
  },
  {
   "cell_type": "code",
   "execution_count": null,
   "outputs": [],
   "source": [
    "action, symbol"
   ],
   "metadata": {
    "collapsed": false,
    "ExecuteTime": {
     "start_time": "2023-09-20T04:31:57.337176Z"
    }
   },
   "id": "8ae6bd0ceb848209"
  },
  {
   "cell_type": "code",
   "execution_count": null,
   "outputs": [],
   "source": [
    "unopened_df = pd.DataFrame()\n",
    "with open(unopened_fidelity_file) as file:\n",
    "    soup = BeautifulSoup(file, 'html.parser')\n",
    "    class_to_find = \"pvd-grid__grid pvd-grid__grid--default-column-span-12\" \n",
    "    data = soup.find_all(class_=class_to_find)\n",
    "    for row in data:\n",
    "        text = row.get_text(strip=True).split()\n",
    "        row_info = pd.Series([text[0], text[4]], index = [\"Action\", \"Symbol\"])\n",
    "        unopened_df = pd.concat([unopened_df, row_info.to_frame().T], ignore_index = True)\n",
    "        "
   ],
   "metadata": {
    "collapsed": false,
    "ExecuteTime": {
     "start_time": "2023-09-20T04:31:57.338722Z"
    }
   },
   "id": "8b13d63611b92eb1"
  },
  {
   "cell_type": "code",
   "execution_count": null,
   "outputs": [],
   "source": [
    "unopened_df"
   ],
   "metadata": {
    "collapsed": false,
    "ExecuteTime": {
     "start_time": "2023-09-20T04:31:57.340118Z"
    }
   },
   "id": "baae599d03063531"
  },
  {
   "cell_type": "code",
   "execution_count": null,
   "outputs": [],
   "source": [
    "unopened_df = unopened_df[(unopened_df[\"Action\"] == \"Buy\") | (unopened_df[\"Action\"] == \"Sell\")]"
   ],
   "metadata": {
    "collapsed": false,
    "ExecuteTime": {
     "start_time": "2023-09-20T04:31:57.341333Z"
    }
   },
   "id": "6e74fa58701ee4d5"
  },
  {
   "cell_type": "code",
   "execution_count": null,
   "outputs": [],
   "source": [
    "df1 = pd.merge(left = df, right=unopened_df, left_on = \"Identifier\", right_index = True)\n",
    "df1"
   ],
   "metadata": {
    "collapsed": false,
    "ExecuteTime": {
     "start_time": "2023-09-20T04:31:57.342602Z"
    }
   },
   "id": "e27e1052d4a0c863"
  },
  {
   "cell_type": "code",
   "execution_count": null,
   "outputs": [],
   "source": [
    "df1[\"Broker Executed\"] = pd.to_datetime(df1[\"Broker Executed\"], format = '%I:%M:%S %p ET', utc = False) - pd.Timedelta(hours = 3)\n",
    "df1[\"Price\"] = df1[\"Price\"].str.slice(start = 1)\n",
    "df1[\"Dollar Amt\"] = df1[\"Dollar Amt\"].str.slice(start = 1)\n",
    "df1"
   ],
   "metadata": {
    "collapsed": false,
    "ExecuteTime": {
     "start_time": "2023-09-20T04:31:57.344012Z"
    }
   },
   "id": "cd62413f7e413eae"
  },
  {
   "cell_type": "code",
   "execution_count": null,
   "outputs": [],
   "source": [
    "file = \"/Users/sanathnair/Developer/trading/data/fidelity/fd_splits_08_17.csv\"\n",
    "df = pd.read_csv(file)\n",
    "df"
   ],
   "metadata": {
    "collapsed": false,
    "ExecuteTime": {
     "start_time": "2023-09-20T04:31:57.345179Z"
    }
   },
   "id": "b624bb62784cf60e"
  },
  {
   "cell_type": "code",
   "execution_count": null,
   "outputs": [],
   "source": [
    "df[\"Broker Executed\"] = pd.to_datetime(df[\"Broker Executed\"])"
   ],
   "metadata": {
    "collapsed": false,
    "ExecuteTime": {
     "start_time": "2023-09-20T04:31:57.346158Z"
    }
   },
   "id": "9bc60e250a826de9"
  },
  {
   "cell_type": "code",
   "execution_count": null,
   "outputs": [],
   "source": [
    "df.dtypes"
   ],
   "metadata": {
    "collapsed": false,
    "ExecuteTime": {
     "start_time": "2023-09-20T04:31:57.347428Z"
    }
   },
   "id": "db4055c55207c714"
  },
  {
   "cell_type": "code",
   "execution_count": null,
   "outputs": [],
   "source": [
    "df[\"Broker Executed\"] = df[\"Broker Executed\"].dt.strftime(\"%X\")"
   ],
   "metadata": {
    "collapsed": false,
    "ExecuteTime": {
     "start_time": "2023-09-20T04:31:57.348407Z"
    }
   },
   "id": "9e1c91b20f64f5bc"
  },
  {
   "cell_type": "code",
   "execution_count": null,
   "outputs": [],
   "source": [
    "df"
   ],
   "metadata": {
    "collapsed": false,
    "ExecuteTime": {
     "start_time": "2023-09-20T04:31:57.349369Z"
    }
   },
   "id": "313cbe33080534d8"
  },
  {
   "cell_type": "code",
   "execution_count": null,
   "outputs": [],
   "source": [
    "files = [\n",
    "    \"/Users/sanathnair/Developer/trading/data/fidelity/fd_splits_08_17.csv\",\n",
    "    \"/Users/sanathnair/Developer/trading/data/fidelity/fd_splits_08_18.csv\",\n",
    "    \"/Users/sanathnair/Developer/trading/data/fidelity/fd_splits_08_21.csv\",\n",
    "    \"/Users/sanathnair/Developer/trading/data/fidelity/fd_splits_08_22.csv\",\n",
    "    \"/Users/sanathnair/Developer/trading/data/fidelity/fd_splits_08_24.csv\",\n",
    "    \"/Users/sanathnair/Developer/trading/data/fidelity/fd_splits_08_25.csv\",\n",
    "]\n",
    "for file in files:\n",
    "    df = pd.read_csv(file)\n",
    "    df = df.rename(columns = {\n",
    "        'Quantity' : \"Size\"\n",
    "    })\n",
    "    df.to_csv(file, index = False)"
   ],
   "metadata": {
    "collapsed": false,
    "ExecuteTime": {
     "start_time": "2023-09-20T04:31:57.350177Z"
    }
   },
   "id": "ef4737684dcc767f"
  },
  {
   "cell_type": "code",
   "execution_count": null,
   "outputs": [],
   "source": [
    "df = pd.read_csv(\"/Users/sanathnair/Downloads/all_fd_trades.csv\")"
   ],
   "metadata": {
    "collapsed": false,
    "ExecuteTime": {
     "start_time": "2023-09-20T04:31:57.351251Z"
    }
   },
   "id": "2774f8198eb2b035"
  },
  {
   "cell_type": "code",
   "execution_count": null,
   "outputs": [],
   "source": [
    "df = df.drop(columns = ['Unnamed: 0'])"
   ],
   "metadata": {
    "collapsed": false,
    "ExecuteTime": {
     "start_time": "2023-09-20T04:31:57.352072Z"
    }
   },
   "id": "d2eaec036738d7d"
  },
  {
   "cell_type": "code",
   "execution_count": null,
   "outputs": [],
   "source": [
    "grouped = df.groupby(\"Date\")"
   ],
   "metadata": {
    "collapsed": false,
    "ExecuteTime": {
     "start_time": "2023-09-20T04:31:57.352918Z"
    }
   },
   "id": "f6b32afa70ed6223"
  },
  {
   "cell_type": "code",
   "execution_count": null,
   "outputs": [],
   "source": [
    "dfs = {date: group for date, group in grouped}"
   ],
   "metadata": {
    "collapsed": false,
    "ExecuteTime": {
     "start_time": "2023-09-20T04:31:57.353692Z"
    }
   },
   "id": "39ed2f5ba8f7576f"
  },
  {
   "cell_type": "code",
   "execution_count": null,
   "outputs": [],
   "source": [
    "for date, df in dfs.items():\n",
    "    parts = date.split('/')\n",
    "    df.to_csv(f'report_0{parts[0]}_{parts[1]}.csv', index = False)"
   ],
   "metadata": {
    "collapsed": false,
    "ExecuteTime": {
     "start_time": "2023-09-20T04:31:57.355003Z"
    }
   },
   "id": "5c013373d68c6ba8"
  },
  {
   "cell_type": "code",
   "execution_count": null,
   "outputs": [],
   "source": [
    "dfs['7/10/2023'].isna().any(axis = 1)"
   ],
   "metadata": {
    "collapsed": false,
    "ExecuteTime": {
     "start_time": "2023-09-20T04:31:57.356010Z"
    }
   },
   "id": "cd53ab01284ccaae"
  },
  {
   "cell_type": "code",
   "execution_count": null,
   "outputs": [],
   "source": [
    "# 4:14 script stopped came back at 4:52\n",
    "# left at 6:45 for walk started again 9:30"
   ],
   "metadata": {
    "collapsed": false,
    "ExecuteTime": {
     "end_time": "2023-09-20T04:31:57.375620Z",
     "start_time": "2023-09-20T04:31:57.356861Z"
    }
   },
   "id": "fb6ff1415545f04"
  },
  {
   "cell_type": "code",
   "execution_count": 2,
   "outputs": [],
   "source": [
    "file = \"/Users/sanathnair/Developer/trading/data/fidelity/fd_splits_08_17.csv\""
   ],
   "metadata": {
    "collapsed": false,
    "ExecuteTime": {
     "end_time": "2023-09-20T05:07:50.242958Z",
     "start_time": "2023-09-20T05:07:50.230398Z"
    }
   },
   "id": "3bf69dd082618851"
  },
  {
   "cell_type": "code",
   "execution_count": 4,
   "outputs": [],
   "source": [
    "df = pd.read_csv(file)"
   ],
   "metadata": {
    "collapsed": false,
    "ExecuteTime": {
     "end_time": "2023-09-20T05:08:07.094557Z",
     "start_time": "2023-09-20T05:08:07.085065Z"
    }
   },
   "id": "5f013e790cc46806"
  },
  {
   "cell_type": "code",
   "execution_count": 38,
   "outputs": [
    {
     "data": {
      "text/plain": "           Date Broker Executed     Price  Size  Dollar Amt  Identifier  \\\n0    08/17/2023        10:02:45   80.4200   1.0       80.42         0.0   \n1    08/17/2023        10:02:12    1.3000  78.0      101.40         1.0   \n2    08/17/2023        10:01:40  332.8000   1.0      332.80         2.0   \n3    08/17/2023        10:01:08   21.2950   5.0      106.48         3.0   \n4    08/17/2023        09:56:50   80.5565   1.0       80.56         4.0   \n..          ...             ...       ...   ...         ...         ...   \n103  08/17/2023        06:50:51   29.3500   3.0       88.05       101.0   \n104  08/17/2023        06:46:47    2.2127  46.0      101.78       102.0   \n105  08/17/2023        06:46:22    2.4600  42.0      103.32       103.0   \n106  08/17/2023        06:45:57    7.1933  14.0      100.71       104.0   \n107  08/17/2023        06:45:29   29.4154   3.0       88.25       105.0   \n\n    Symbol Action  \n0     GWRE   Sell  \n1     PXLW   Sell  \n2       GS   Sell  \n3      SIX   Sell  \n4     GWRE    Buy  \n..     ...    ...  \n103    BAC   Sell  \n104   NNBR    Buy  \n105   PFMT    Buy  \n106   DISH    Buy  \n107    BAC    Buy  \n\n[108 rows x 8 columns]",
      "text/html": "<div>\n<style scoped>\n    .dataframe tbody tr th:only-of-type {\n        vertical-align: middle;\n    }\n\n    .dataframe tbody tr th {\n        vertical-align: top;\n    }\n\n    .dataframe thead th {\n        text-align: right;\n    }\n</style>\n<table border=\"1\" class=\"dataframe\">\n  <thead>\n    <tr style=\"text-align: right;\">\n      <th></th>\n      <th>Date</th>\n      <th>Broker Executed</th>\n      <th>Price</th>\n      <th>Size</th>\n      <th>Dollar Amt</th>\n      <th>Identifier</th>\n      <th>Symbol</th>\n      <th>Action</th>\n    </tr>\n  </thead>\n  <tbody>\n    <tr>\n      <th>0</th>\n      <td>08/17/2023</td>\n      <td>10:02:45</td>\n      <td>80.4200</td>\n      <td>1.0</td>\n      <td>80.42</td>\n      <td>0.0</td>\n      <td>GWRE</td>\n      <td>Sell</td>\n    </tr>\n    <tr>\n      <th>1</th>\n      <td>08/17/2023</td>\n      <td>10:02:12</td>\n      <td>1.3000</td>\n      <td>78.0</td>\n      <td>101.40</td>\n      <td>1.0</td>\n      <td>PXLW</td>\n      <td>Sell</td>\n    </tr>\n    <tr>\n      <th>2</th>\n      <td>08/17/2023</td>\n      <td>10:01:40</td>\n      <td>332.8000</td>\n      <td>1.0</td>\n      <td>332.80</td>\n      <td>2.0</td>\n      <td>GS</td>\n      <td>Sell</td>\n    </tr>\n    <tr>\n      <th>3</th>\n      <td>08/17/2023</td>\n      <td>10:01:08</td>\n      <td>21.2950</td>\n      <td>5.0</td>\n      <td>106.48</td>\n      <td>3.0</td>\n      <td>SIX</td>\n      <td>Sell</td>\n    </tr>\n    <tr>\n      <th>4</th>\n      <td>08/17/2023</td>\n      <td>09:56:50</td>\n      <td>80.5565</td>\n      <td>1.0</td>\n      <td>80.56</td>\n      <td>4.0</td>\n      <td>GWRE</td>\n      <td>Buy</td>\n    </tr>\n    <tr>\n      <th>...</th>\n      <td>...</td>\n      <td>...</td>\n      <td>...</td>\n      <td>...</td>\n      <td>...</td>\n      <td>...</td>\n      <td>...</td>\n      <td>...</td>\n    </tr>\n    <tr>\n      <th>103</th>\n      <td>08/17/2023</td>\n      <td>06:50:51</td>\n      <td>29.3500</td>\n      <td>3.0</td>\n      <td>88.05</td>\n      <td>101.0</td>\n      <td>BAC</td>\n      <td>Sell</td>\n    </tr>\n    <tr>\n      <th>104</th>\n      <td>08/17/2023</td>\n      <td>06:46:47</td>\n      <td>2.2127</td>\n      <td>46.0</td>\n      <td>101.78</td>\n      <td>102.0</td>\n      <td>NNBR</td>\n      <td>Buy</td>\n    </tr>\n    <tr>\n      <th>105</th>\n      <td>08/17/2023</td>\n      <td>06:46:22</td>\n      <td>2.4600</td>\n      <td>42.0</td>\n      <td>103.32</td>\n      <td>103.0</td>\n      <td>PFMT</td>\n      <td>Buy</td>\n    </tr>\n    <tr>\n      <th>106</th>\n      <td>08/17/2023</td>\n      <td>06:45:57</td>\n      <td>7.1933</td>\n      <td>14.0</td>\n      <td>100.71</td>\n      <td>104.0</td>\n      <td>DISH</td>\n      <td>Buy</td>\n    </tr>\n    <tr>\n      <th>107</th>\n      <td>08/17/2023</td>\n      <td>06:45:29</td>\n      <td>29.4154</td>\n      <td>3.0</td>\n      <td>88.25</td>\n      <td>105.0</td>\n      <td>BAC</td>\n      <td>Buy</td>\n    </tr>\n  </tbody>\n</table>\n<p>108 rows × 8 columns</p>\n</div>"
     },
     "execution_count": 38,
     "metadata": {},
     "output_type": "execute_result"
    }
   ],
   "source": [
    "df"
   ],
   "metadata": {
    "collapsed": false,
    "ExecuteTime": {
     "end_time": "2023-09-20T05:16:44.239059Z",
     "start_time": "2023-09-20T05:16:44.233390Z"
    }
   },
   "id": "84cf1f4cf4cce534"
  },
  {
   "cell_type": "code",
   "execution_count": 45,
   "outputs": [
    {
     "data": {
      "text/plain": "0       1\n1      78\n2       1\n3       5\n4       1\n       ..\n103     3\n104    46\n105    42\n106    14\n107     3\nName: Size, Length: 108, dtype: int64"
     },
     "execution_count": 45,
     "metadata": {},
     "output_type": "execute_result"
    }
   ],
   "source": [
    "df[\"Size\"].astype(int)"
   ],
   "metadata": {
    "collapsed": false,
    "ExecuteTime": {
     "end_time": "2023-09-20T05:40:47.763455Z",
     "start_time": "2023-09-20T05:40:47.753272Z"
    }
   },
   "id": "67b16da6aa97480e"
  },
  {
   "cell_type": "code",
   "execution_count": null,
   "outputs": [],
   "source": [],
   "metadata": {
    "collapsed": false
   },
   "id": "ccf2cec8a509fbe"
  }
 ],
 "metadata": {
  "kernelspec": {
   "display_name": "Python 3",
   "language": "python",
   "name": "python3"
  },
  "language_info": {
   "codemirror_mode": {
    "name": "ipython",
    "version": 2
   },
   "file_extension": ".py",
   "mimetype": "text/x-python",
   "name": "python",
   "nbconvert_exporter": "python",
   "pygments_lexer": "ipython2",
   "version": "2.7.6"
  }
 },
 "nbformat": 4,
 "nbformat_minor": 5
}
