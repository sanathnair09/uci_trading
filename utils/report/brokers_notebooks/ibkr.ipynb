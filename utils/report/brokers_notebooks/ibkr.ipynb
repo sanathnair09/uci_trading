{
 "cells": [
  {
   "cell_type": "code",
   "execution_count": 1,
   "id": "initial_id",
   "metadata": {
    "collapsed": true,
    "ExecuteTime": {
     "end_time": "2023-09-19T22:27:06.400417Z",
     "start_time": "2023-09-19T22:27:06.192803Z"
    }
   },
   "outputs": [],
   "source": [
    "import pandas as pd\n",
    "import numpy as np"
   ]
  },
  {
   "cell_type": "code",
   "execution_count": 9,
   "outputs": [],
   "source": [
    "ibkr_file = \"/Users/sanathnair/Developer/trading/data/ibkr/DailyTradeReport.20230815.html\""
   ],
   "metadata": {
    "collapsed": false,
    "ExecuteTime": {
     "end_time": "2023-09-15T19:17:40.757258Z",
     "start_time": "2023-09-15T19:17:40.748608Z"
    }
   },
   "id": "e1f6082e9d8dc639"
  },
  {
   "cell_type": "code",
   "execution_count": 60,
   "outputs": [],
   "source": [
    "dfs = pd.read_html(ibkr_file)"
   ],
   "metadata": {
    "collapsed": false,
    "ExecuteTime": {
     "end_time": "2023-09-07T04:48:56.617725Z",
     "start_time": "2023-09-07T04:48:56.487325Z"
    }
   },
   "id": "303ba85864d1783b"
  },
  {
   "cell_type": "code",
   "execution_count": 61,
   "outputs": [],
   "source": [
    "df = dfs[1]"
   ],
   "metadata": {
    "collapsed": false,
    "ExecuteTime": {
     "end_time": "2023-09-07T04:48:56.617922Z",
     "start_time": "2023-09-07T04:48:56.521334Z"
    }
   },
   "id": "526d972beba4a196"
  },
  {
   "cell_type": "code",
   "execution_count": 62,
   "outputs": [
    {
     "data": {
      "text/plain": "                       Acct ID                     Symbol  \\\n0                       Stocks                     Stocks   \n1                          USD                        USD   \n2                     U***5820                        AAP   \n3           Total AAP (Bought)         Total AAP (Bought)   \n4                     U***5820                        AAP   \n..                         ...                        ...   \n319                   U***5820                       ZUMZ   \n320          Total ZUMZ (Sold)          Total ZUMZ (Sold)   \n321                 Total ZUMZ                 Total ZUMZ   \n322                      Total                      Total   \n323  NotesRegulatory fees only  NotesRegulatory fees only   \n\n                      Symbol.1            Trade Date/Time  \\\n0                       Stocks                     Stocks   \n1                          USD                        USD   \n2                          AAP       2023-08-15, 13:21:43   \n3           Total AAP (Bought)         Total AAP (Bought)   \n4                          AAP       2023-08-15, 13:28:38   \n..                         ...                        ...   \n319                       ZUMZ       2023-08-15, 09:51:58   \n320          Total ZUMZ (Sold)          Total ZUMZ (Sold)   \n321                 Total ZUMZ                 Total ZUMZ   \n322                      Total                      Total   \n323  NotesRegulatory fees only  NotesRegulatory fees only   \n\n                   Settle Date                   Exchange  \\\n0                       Stocks                     Stocks   \n1                          USD                        USD   \n2                   2023-08-17                          -   \n3           Total AAP (Bought)         Total AAP (Bought)   \n4                   2023-08-17                          -   \n..                         ...                        ...   \n319                 2023-08-17                          -   \n320          Total ZUMZ (Sold)          Total ZUMZ (Sold)   \n321                 Total ZUMZ                 Total ZUMZ   \n322                      Total                      Total   \n323  NotesRegulatory fees only  NotesRegulatory fees only   \n\n                          Type                   Quantity  \\\n0                       Stocks                     Stocks   \n1                          USD                        USD   \n2                          BUY                          1   \n3           Total AAP (Bought)                          1   \n4                         SELL                         -1   \n..                         ...                        ...   \n319                       SELL                         -6   \n320          Total ZUMZ (Sold)                         -6   \n321                 Total ZUMZ                          0   \n322                      Total                      Total   \n323  NotesRegulatory fees only  NotesRegulatory fees only   \n\n                         Price                   Proceeds  \\\n0                       Stocks                     Stocks   \n1                          USD                        USD   \n2                      69.5700                     -69.57   \n3                      69.5700                     -69.57   \n4                      69.6300                      69.63   \n..                         ...                        ...   \n319                    17.7800                     106.68   \n320                    17.7800                     106.68   \n321                        NaN                      -0.12   \n322                      Total                     -19.49   \n323  NotesRegulatory fees only  NotesRegulatory fees only   \n\n                          Comm                        Fee  \\\n0                       Stocks                     Stocks   \n1                          USD                        USD   \n2                         0.00                       0.00   \n3                         0.00                       0.00   \n4                        0.00¹                       0.00   \n..                         ...                        ...   \n319                      0.00¹                       0.00   \n320                       0.00                       0.00   \n321                       0.00                       0.00   \n322                      -0.23                       0.00   \n323  NotesRegulatory fees only  NotesRegulatory fees only   \n\n                    Order Type                       Code  \n0                       Stocks                     Stocks  \n1                          USD                        USD  \n2                          MKT                          O  \n3                          NaN                        NaN  \n4                          MKT                          C  \n..                         ...                        ...  \n319                        MKT                          C  \n320                        NaN                        NaN  \n321                        NaN                        NaN  \n322                        NaN                        NaN  \n323  NotesRegulatory fees only  NotesRegulatory fees only  \n\n[324 rows x 14 columns]",
      "text/html": "<div>\n<style scoped>\n    .dataframe tbody tr th:only-of-type {\n        vertical-align: middle;\n    }\n\n    .dataframe tbody tr th {\n        vertical-align: top;\n    }\n\n    .dataframe thead th {\n        text-align: right;\n    }\n</style>\n<table border=\"1\" class=\"dataframe\">\n  <thead>\n    <tr style=\"text-align: right;\">\n      <th></th>\n      <th>Acct ID</th>\n      <th>Symbol</th>\n      <th>Symbol.1</th>\n      <th>Trade Date/Time</th>\n      <th>Settle Date</th>\n      <th>Exchange</th>\n      <th>Type</th>\n      <th>Quantity</th>\n      <th>Price</th>\n      <th>Proceeds</th>\n      <th>Comm</th>\n      <th>Fee</th>\n      <th>Order Type</th>\n      <th>Code</th>\n    </tr>\n  </thead>\n  <tbody>\n    <tr>\n      <th>0</th>\n      <td>Stocks</td>\n      <td>Stocks</td>\n      <td>Stocks</td>\n      <td>Stocks</td>\n      <td>Stocks</td>\n      <td>Stocks</td>\n      <td>Stocks</td>\n      <td>Stocks</td>\n      <td>Stocks</td>\n      <td>Stocks</td>\n      <td>Stocks</td>\n      <td>Stocks</td>\n      <td>Stocks</td>\n      <td>Stocks</td>\n    </tr>\n    <tr>\n      <th>1</th>\n      <td>USD</td>\n      <td>USD</td>\n      <td>USD</td>\n      <td>USD</td>\n      <td>USD</td>\n      <td>USD</td>\n      <td>USD</td>\n      <td>USD</td>\n      <td>USD</td>\n      <td>USD</td>\n      <td>USD</td>\n      <td>USD</td>\n      <td>USD</td>\n      <td>USD</td>\n    </tr>\n    <tr>\n      <th>2</th>\n      <td>U***5820</td>\n      <td>AAP</td>\n      <td>AAP</td>\n      <td>2023-08-15, 13:21:43</td>\n      <td>2023-08-17</td>\n      <td>-</td>\n      <td>BUY</td>\n      <td>1</td>\n      <td>69.5700</td>\n      <td>-69.57</td>\n      <td>0.00</td>\n      <td>0.00</td>\n      <td>MKT</td>\n      <td>O</td>\n    </tr>\n    <tr>\n      <th>3</th>\n      <td>Total AAP (Bought)</td>\n      <td>Total AAP (Bought)</td>\n      <td>Total AAP (Bought)</td>\n      <td>Total AAP (Bought)</td>\n      <td>Total AAP (Bought)</td>\n      <td>Total AAP (Bought)</td>\n      <td>Total AAP (Bought)</td>\n      <td>1</td>\n      <td>69.5700</td>\n      <td>-69.57</td>\n      <td>0.00</td>\n      <td>0.00</td>\n      <td>NaN</td>\n      <td>NaN</td>\n    </tr>\n    <tr>\n      <th>4</th>\n      <td>U***5820</td>\n      <td>AAP</td>\n      <td>AAP</td>\n      <td>2023-08-15, 13:28:38</td>\n      <td>2023-08-17</td>\n      <td>-</td>\n      <td>SELL</td>\n      <td>-1</td>\n      <td>69.6300</td>\n      <td>69.63</td>\n      <td>0.00¹</td>\n      <td>0.00</td>\n      <td>MKT</td>\n      <td>C</td>\n    </tr>\n    <tr>\n      <th>...</th>\n      <td>...</td>\n      <td>...</td>\n      <td>...</td>\n      <td>...</td>\n      <td>...</td>\n      <td>...</td>\n      <td>...</td>\n      <td>...</td>\n      <td>...</td>\n      <td>...</td>\n      <td>...</td>\n      <td>...</td>\n      <td>...</td>\n      <td>...</td>\n    </tr>\n    <tr>\n      <th>319</th>\n      <td>U***5820</td>\n      <td>ZUMZ</td>\n      <td>ZUMZ</td>\n      <td>2023-08-15, 09:51:58</td>\n      <td>2023-08-17</td>\n      <td>-</td>\n      <td>SELL</td>\n      <td>-6</td>\n      <td>17.7800</td>\n      <td>106.68</td>\n      <td>0.00¹</td>\n      <td>0.00</td>\n      <td>MKT</td>\n      <td>C</td>\n    </tr>\n    <tr>\n      <th>320</th>\n      <td>Total ZUMZ (Sold)</td>\n      <td>Total ZUMZ (Sold)</td>\n      <td>Total ZUMZ (Sold)</td>\n      <td>Total ZUMZ (Sold)</td>\n      <td>Total ZUMZ (Sold)</td>\n      <td>Total ZUMZ (Sold)</td>\n      <td>Total ZUMZ (Sold)</td>\n      <td>-6</td>\n      <td>17.7800</td>\n      <td>106.68</td>\n      <td>0.00</td>\n      <td>0.00</td>\n      <td>NaN</td>\n      <td>NaN</td>\n    </tr>\n    <tr>\n      <th>321</th>\n      <td>Total ZUMZ</td>\n      <td>Total ZUMZ</td>\n      <td>Total ZUMZ</td>\n      <td>Total ZUMZ</td>\n      <td>Total ZUMZ</td>\n      <td>Total ZUMZ</td>\n      <td>Total ZUMZ</td>\n      <td>0</td>\n      <td>NaN</td>\n      <td>-0.12</td>\n      <td>0.00</td>\n      <td>0.00</td>\n      <td>NaN</td>\n      <td>NaN</td>\n    </tr>\n    <tr>\n      <th>322</th>\n      <td>Total</td>\n      <td>Total</td>\n      <td>Total</td>\n      <td>Total</td>\n      <td>Total</td>\n      <td>Total</td>\n      <td>Total</td>\n      <td>Total</td>\n      <td>Total</td>\n      <td>-19.49</td>\n      <td>-0.23</td>\n      <td>0.00</td>\n      <td>NaN</td>\n      <td>NaN</td>\n    </tr>\n    <tr>\n      <th>323</th>\n      <td>NotesRegulatory fees only</td>\n      <td>NotesRegulatory fees only</td>\n      <td>NotesRegulatory fees only</td>\n      <td>NotesRegulatory fees only</td>\n      <td>NotesRegulatory fees only</td>\n      <td>NotesRegulatory fees only</td>\n      <td>NotesRegulatory fees only</td>\n      <td>NotesRegulatory fees only</td>\n      <td>NotesRegulatory fees only</td>\n      <td>NotesRegulatory fees only</td>\n      <td>NotesRegulatory fees only</td>\n      <td>NotesRegulatory fees only</td>\n      <td>NotesRegulatory fees only</td>\n      <td>NotesRegulatory fees only</td>\n    </tr>\n  </tbody>\n</table>\n<p>324 rows × 14 columns</p>\n</div>"
     },
     "execution_count": 62,
     "metadata": {},
     "output_type": "execute_result"
    }
   ],
   "source": [
    "df"
   ],
   "metadata": {
    "collapsed": false,
    "ExecuteTime": {
     "end_time": "2023-09-07T04:48:56.618300Z",
     "start_time": "2023-09-07T04:48:56.529379Z"
    }
   },
   "id": "c0f485f60a5d16c9"
  },
  {
   "cell_type": "code",
   "execution_count": 63,
   "outputs": [],
   "source": [
    "df = df.drop(df.index[[0, 1, -1, -2]])"
   ],
   "metadata": {
    "collapsed": false,
    "ExecuteTime": {
     "end_time": "2023-09-07T04:48:56.618348Z",
     "start_time": "2023-09-07T04:48:56.532619Z"
    }
   },
   "id": "e515d564cbb783d9"
  },
  {
   "cell_type": "code",
   "execution_count": 64,
   "outputs": [
    {
     "data": {
      "text/plain": "                 Acct ID               Symbol             Symbol.1  \\\n2               U***5820                  AAP                  AAP   \n3     Total AAP (Bought)   Total AAP (Bought)   Total AAP (Bought)   \n4               U***5820                  AAP                  AAP   \n5       Total AAP (Sold)     Total AAP (Sold)     Total AAP (Sold)   \n6              Total AAP            Total AAP            Total AAP   \n..                   ...                  ...                  ...   \n317             U***5820                 ZUMZ                 ZUMZ   \n318  Total ZUMZ (Bought)  Total ZUMZ (Bought)  Total ZUMZ (Bought)   \n319             U***5820                 ZUMZ                 ZUMZ   \n320    Total ZUMZ (Sold)    Total ZUMZ (Sold)    Total ZUMZ (Sold)   \n321           Total ZUMZ           Total ZUMZ           Total ZUMZ   \n\n          Trade Date/Time          Settle Date             Exchange  \\\n2    2023-08-15, 13:21:43           2023-08-17                    -   \n3      Total AAP (Bought)   Total AAP (Bought)   Total AAP (Bought)   \n4    2023-08-15, 13:28:38           2023-08-17                    -   \n5        Total AAP (Sold)     Total AAP (Sold)     Total AAP (Sold)   \n6               Total AAP            Total AAP            Total AAP   \n..                    ...                  ...                  ...   \n317  2023-08-15, 09:45:01           2023-08-17                    -   \n318   Total ZUMZ (Bought)  Total ZUMZ (Bought)  Total ZUMZ (Bought)   \n319  2023-08-15, 09:51:58           2023-08-17                    -   \n320     Total ZUMZ (Sold)    Total ZUMZ (Sold)    Total ZUMZ (Sold)   \n321            Total ZUMZ           Total ZUMZ           Total ZUMZ   \n\n                    Type Quantity    Price Proceeds   Comm   Fee Order Type  \\\n2                    BUY        1  69.5700   -69.57   0.00  0.00        MKT   \n3     Total AAP (Bought)        1  69.5700   -69.57   0.00  0.00        NaN   \n4                   SELL       -1  69.6300    69.63  0.00¹  0.00        MKT   \n5       Total AAP (Sold)       -1  69.6300    69.63   0.00  0.00        NaN   \n6              Total AAP        0      NaN     0.06   0.00  0.00        NaN   \n..                   ...      ...      ...      ...    ...   ...        ...   \n317                  BUY        6  17.8000  -106.80   0.00  0.00        MKT   \n318  Total ZUMZ (Bought)        6  17.8000  -106.80   0.00  0.00        NaN   \n319                 SELL       -6  17.7800   106.68  0.00¹  0.00        MKT   \n320    Total ZUMZ (Sold)       -6  17.7800   106.68   0.00  0.00        NaN   \n321           Total ZUMZ        0      NaN    -0.12   0.00  0.00        NaN   \n\n    Code  \n2      O  \n3    NaN  \n4      C  \n5    NaN  \n6    NaN  \n..   ...  \n317    O  \n318  NaN  \n319    C  \n320  NaN  \n321  NaN  \n\n[320 rows x 14 columns]",
      "text/html": "<div>\n<style scoped>\n    .dataframe tbody tr th:only-of-type {\n        vertical-align: middle;\n    }\n\n    .dataframe tbody tr th {\n        vertical-align: top;\n    }\n\n    .dataframe thead th {\n        text-align: right;\n    }\n</style>\n<table border=\"1\" class=\"dataframe\">\n  <thead>\n    <tr style=\"text-align: right;\">\n      <th></th>\n      <th>Acct ID</th>\n      <th>Symbol</th>\n      <th>Symbol.1</th>\n      <th>Trade Date/Time</th>\n      <th>Settle Date</th>\n      <th>Exchange</th>\n      <th>Type</th>\n      <th>Quantity</th>\n      <th>Price</th>\n      <th>Proceeds</th>\n      <th>Comm</th>\n      <th>Fee</th>\n      <th>Order Type</th>\n      <th>Code</th>\n    </tr>\n  </thead>\n  <tbody>\n    <tr>\n      <th>2</th>\n      <td>U***5820</td>\n      <td>AAP</td>\n      <td>AAP</td>\n      <td>2023-08-15, 13:21:43</td>\n      <td>2023-08-17</td>\n      <td>-</td>\n      <td>BUY</td>\n      <td>1</td>\n      <td>69.5700</td>\n      <td>-69.57</td>\n      <td>0.00</td>\n      <td>0.00</td>\n      <td>MKT</td>\n      <td>O</td>\n    </tr>\n    <tr>\n      <th>3</th>\n      <td>Total AAP (Bought)</td>\n      <td>Total AAP (Bought)</td>\n      <td>Total AAP (Bought)</td>\n      <td>Total AAP (Bought)</td>\n      <td>Total AAP (Bought)</td>\n      <td>Total AAP (Bought)</td>\n      <td>Total AAP (Bought)</td>\n      <td>1</td>\n      <td>69.5700</td>\n      <td>-69.57</td>\n      <td>0.00</td>\n      <td>0.00</td>\n      <td>NaN</td>\n      <td>NaN</td>\n    </tr>\n    <tr>\n      <th>4</th>\n      <td>U***5820</td>\n      <td>AAP</td>\n      <td>AAP</td>\n      <td>2023-08-15, 13:28:38</td>\n      <td>2023-08-17</td>\n      <td>-</td>\n      <td>SELL</td>\n      <td>-1</td>\n      <td>69.6300</td>\n      <td>69.63</td>\n      <td>0.00¹</td>\n      <td>0.00</td>\n      <td>MKT</td>\n      <td>C</td>\n    </tr>\n    <tr>\n      <th>5</th>\n      <td>Total AAP (Sold)</td>\n      <td>Total AAP (Sold)</td>\n      <td>Total AAP (Sold)</td>\n      <td>Total AAP (Sold)</td>\n      <td>Total AAP (Sold)</td>\n      <td>Total AAP (Sold)</td>\n      <td>Total AAP (Sold)</td>\n      <td>-1</td>\n      <td>69.6300</td>\n      <td>69.63</td>\n      <td>0.00</td>\n      <td>0.00</td>\n      <td>NaN</td>\n      <td>NaN</td>\n    </tr>\n    <tr>\n      <th>6</th>\n      <td>Total AAP</td>\n      <td>Total AAP</td>\n      <td>Total AAP</td>\n      <td>Total AAP</td>\n      <td>Total AAP</td>\n      <td>Total AAP</td>\n      <td>Total AAP</td>\n      <td>0</td>\n      <td>NaN</td>\n      <td>0.06</td>\n      <td>0.00</td>\n      <td>0.00</td>\n      <td>NaN</td>\n      <td>NaN</td>\n    </tr>\n    <tr>\n      <th>...</th>\n      <td>...</td>\n      <td>...</td>\n      <td>...</td>\n      <td>...</td>\n      <td>...</td>\n      <td>...</td>\n      <td>...</td>\n      <td>...</td>\n      <td>...</td>\n      <td>...</td>\n      <td>...</td>\n      <td>...</td>\n      <td>...</td>\n      <td>...</td>\n    </tr>\n    <tr>\n      <th>317</th>\n      <td>U***5820</td>\n      <td>ZUMZ</td>\n      <td>ZUMZ</td>\n      <td>2023-08-15, 09:45:01</td>\n      <td>2023-08-17</td>\n      <td>-</td>\n      <td>BUY</td>\n      <td>6</td>\n      <td>17.8000</td>\n      <td>-106.80</td>\n      <td>0.00</td>\n      <td>0.00</td>\n      <td>MKT</td>\n      <td>O</td>\n    </tr>\n    <tr>\n      <th>318</th>\n      <td>Total ZUMZ (Bought)</td>\n      <td>Total ZUMZ (Bought)</td>\n      <td>Total ZUMZ (Bought)</td>\n      <td>Total ZUMZ (Bought)</td>\n      <td>Total ZUMZ (Bought)</td>\n      <td>Total ZUMZ (Bought)</td>\n      <td>Total ZUMZ (Bought)</td>\n      <td>6</td>\n      <td>17.8000</td>\n      <td>-106.80</td>\n      <td>0.00</td>\n      <td>0.00</td>\n      <td>NaN</td>\n      <td>NaN</td>\n    </tr>\n    <tr>\n      <th>319</th>\n      <td>U***5820</td>\n      <td>ZUMZ</td>\n      <td>ZUMZ</td>\n      <td>2023-08-15, 09:51:58</td>\n      <td>2023-08-17</td>\n      <td>-</td>\n      <td>SELL</td>\n      <td>-6</td>\n      <td>17.7800</td>\n      <td>106.68</td>\n      <td>0.00¹</td>\n      <td>0.00</td>\n      <td>MKT</td>\n      <td>C</td>\n    </tr>\n    <tr>\n      <th>320</th>\n      <td>Total ZUMZ (Sold)</td>\n      <td>Total ZUMZ (Sold)</td>\n      <td>Total ZUMZ (Sold)</td>\n      <td>Total ZUMZ (Sold)</td>\n      <td>Total ZUMZ (Sold)</td>\n      <td>Total ZUMZ (Sold)</td>\n      <td>Total ZUMZ (Sold)</td>\n      <td>-6</td>\n      <td>17.7800</td>\n      <td>106.68</td>\n      <td>0.00</td>\n      <td>0.00</td>\n      <td>NaN</td>\n      <td>NaN</td>\n    </tr>\n    <tr>\n      <th>321</th>\n      <td>Total ZUMZ</td>\n      <td>Total ZUMZ</td>\n      <td>Total ZUMZ</td>\n      <td>Total ZUMZ</td>\n      <td>Total ZUMZ</td>\n      <td>Total ZUMZ</td>\n      <td>Total ZUMZ</td>\n      <td>0</td>\n      <td>NaN</td>\n      <td>-0.12</td>\n      <td>0.00</td>\n      <td>0.00</td>\n      <td>NaN</td>\n      <td>NaN</td>\n    </tr>\n  </tbody>\n</table>\n<p>320 rows × 14 columns</p>\n</div>"
     },
     "execution_count": 64,
     "metadata": {},
     "output_type": "execute_result"
    }
   ],
   "source": [
    "df"
   ],
   "metadata": {
    "collapsed": false,
    "ExecuteTime": {
     "end_time": "2023-09-07T04:48:56.618585Z",
     "start_time": "2023-09-07T04:48:56.538670Z"
    }
   },
   "id": "bd77485f145519d"
  },
  {
   "cell_type": "code",
   "execution_count": 65,
   "outputs": [],
   "source": [
    "df = df[df[\"Code\"].notna()]"
   ],
   "metadata": {
    "collapsed": false,
    "ExecuteTime": {
     "end_time": "2023-09-07T04:48:56.618630Z",
     "start_time": "2023-09-07T04:48:56.541159Z"
    }
   },
   "id": "9b42163062874cef"
  },
  {
   "cell_type": "code",
   "execution_count": 66,
   "outputs": [
    {
     "data": {
      "text/plain": "      Acct ID Symbol Symbol.1       Trade Date/Time Settle Date Exchange  \\\n2    U***5820    AAP      AAP  2023-08-15, 13:21:43  2023-08-17        -   \n4    U***5820    AAP      AAP  2023-08-15, 13:28:38  2023-08-17        -   \n7    U***5820   ADRT     ADRT  2023-08-15, 09:46:05  2023-08-17        -   \n9    U***5820   ADRT     ADRT  2023-08-15, 09:52:59  2023-08-17        -   \n12   U***5820    AGL      AGL  2023-08-15, 12:54:28  2023-08-17        -   \n..        ...    ...      ...                   ...         ...      ...   \n309  U***5820    WRB      WRB  2023-08-15, 10:01:27  2023-08-17        -   \n312  U***5820    XOM      XOM  2023-08-15, 12:44:57  2023-08-17        -   \n314  U***5820    XOM      XOM  2023-08-15, 12:51:56  2023-08-17        -   \n317  U***5820   ZUMZ     ZUMZ  2023-08-15, 09:45:01  2023-08-17        -   \n319  U***5820   ZUMZ     ZUMZ  2023-08-15, 09:51:58  2023-08-17        -   \n\n     Type Quantity     Price Proceeds   Comm   Fee Order Type Code  \n2     BUY        1   69.5700   -69.57   0.00  0.00        MKT    O  \n4    SELL       -1   69.6300    69.63  0.00¹  0.00        MKT    C  \n7     BUY        9   11.5000  -103.50   0.00  0.00        MKT    O  \n9    SELL       -9   11.4550   103.10  0.00¹  0.00        MKT    C  \n12    BUY        6   18.0800  -108.48   0.00  0.00        MKT  O;P  \n..    ...      ...       ...      ...    ...   ...        ...  ...  \n309  SELL       -2   63.5229   127.05  0.00¹  0.00        MKT    C  \n312   BUY        1  108.3777  -108.38   0.00  0.00        MKT    O  \n314  SELL       -1  108.3311   108.33  0.00¹  0.00        MKT    C  \n317   BUY        6   17.8000  -106.80   0.00  0.00        MKT    O  \n319  SELL       -6   17.7800   106.68  0.00¹  0.00        MKT    C  \n\n[128 rows x 14 columns]",
      "text/html": "<div>\n<style scoped>\n    .dataframe tbody tr th:only-of-type {\n        vertical-align: middle;\n    }\n\n    .dataframe tbody tr th {\n        vertical-align: top;\n    }\n\n    .dataframe thead th {\n        text-align: right;\n    }\n</style>\n<table border=\"1\" class=\"dataframe\">\n  <thead>\n    <tr style=\"text-align: right;\">\n      <th></th>\n      <th>Acct ID</th>\n      <th>Symbol</th>\n      <th>Symbol.1</th>\n      <th>Trade Date/Time</th>\n      <th>Settle Date</th>\n      <th>Exchange</th>\n      <th>Type</th>\n      <th>Quantity</th>\n      <th>Price</th>\n      <th>Proceeds</th>\n      <th>Comm</th>\n      <th>Fee</th>\n      <th>Order Type</th>\n      <th>Code</th>\n    </tr>\n  </thead>\n  <tbody>\n    <tr>\n      <th>2</th>\n      <td>U***5820</td>\n      <td>AAP</td>\n      <td>AAP</td>\n      <td>2023-08-15, 13:21:43</td>\n      <td>2023-08-17</td>\n      <td>-</td>\n      <td>BUY</td>\n      <td>1</td>\n      <td>69.5700</td>\n      <td>-69.57</td>\n      <td>0.00</td>\n      <td>0.00</td>\n      <td>MKT</td>\n      <td>O</td>\n    </tr>\n    <tr>\n      <th>4</th>\n      <td>U***5820</td>\n      <td>AAP</td>\n      <td>AAP</td>\n      <td>2023-08-15, 13:28:38</td>\n      <td>2023-08-17</td>\n      <td>-</td>\n      <td>SELL</td>\n      <td>-1</td>\n      <td>69.6300</td>\n      <td>69.63</td>\n      <td>0.00¹</td>\n      <td>0.00</td>\n      <td>MKT</td>\n      <td>C</td>\n    </tr>\n    <tr>\n      <th>7</th>\n      <td>U***5820</td>\n      <td>ADRT</td>\n      <td>ADRT</td>\n      <td>2023-08-15, 09:46:05</td>\n      <td>2023-08-17</td>\n      <td>-</td>\n      <td>BUY</td>\n      <td>9</td>\n      <td>11.5000</td>\n      <td>-103.50</td>\n      <td>0.00</td>\n      <td>0.00</td>\n      <td>MKT</td>\n      <td>O</td>\n    </tr>\n    <tr>\n      <th>9</th>\n      <td>U***5820</td>\n      <td>ADRT</td>\n      <td>ADRT</td>\n      <td>2023-08-15, 09:52:59</td>\n      <td>2023-08-17</td>\n      <td>-</td>\n      <td>SELL</td>\n      <td>-9</td>\n      <td>11.4550</td>\n      <td>103.10</td>\n      <td>0.00¹</td>\n      <td>0.00</td>\n      <td>MKT</td>\n      <td>C</td>\n    </tr>\n    <tr>\n      <th>12</th>\n      <td>U***5820</td>\n      <td>AGL</td>\n      <td>AGL</td>\n      <td>2023-08-15, 12:54:28</td>\n      <td>2023-08-17</td>\n      <td>-</td>\n      <td>BUY</td>\n      <td>6</td>\n      <td>18.0800</td>\n      <td>-108.48</td>\n      <td>0.00</td>\n      <td>0.00</td>\n      <td>MKT</td>\n      <td>O;P</td>\n    </tr>\n    <tr>\n      <th>...</th>\n      <td>...</td>\n      <td>...</td>\n      <td>...</td>\n      <td>...</td>\n      <td>...</td>\n      <td>...</td>\n      <td>...</td>\n      <td>...</td>\n      <td>...</td>\n      <td>...</td>\n      <td>...</td>\n      <td>...</td>\n      <td>...</td>\n      <td>...</td>\n    </tr>\n    <tr>\n      <th>309</th>\n      <td>U***5820</td>\n      <td>WRB</td>\n      <td>WRB</td>\n      <td>2023-08-15, 10:01:27</td>\n      <td>2023-08-17</td>\n      <td>-</td>\n      <td>SELL</td>\n      <td>-2</td>\n      <td>63.5229</td>\n      <td>127.05</td>\n      <td>0.00¹</td>\n      <td>0.00</td>\n      <td>MKT</td>\n      <td>C</td>\n    </tr>\n    <tr>\n      <th>312</th>\n      <td>U***5820</td>\n      <td>XOM</td>\n      <td>XOM</td>\n      <td>2023-08-15, 12:44:57</td>\n      <td>2023-08-17</td>\n      <td>-</td>\n      <td>BUY</td>\n      <td>1</td>\n      <td>108.3777</td>\n      <td>-108.38</td>\n      <td>0.00</td>\n      <td>0.00</td>\n      <td>MKT</td>\n      <td>O</td>\n    </tr>\n    <tr>\n      <th>314</th>\n      <td>U***5820</td>\n      <td>XOM</td>\n      <td>XOM</td>\n      <td>2023-08-15, 12:51:56</td>\n      <td>2023-08-17</td>\n      <td>-</td>\n      <td>SELL</td>\n      <td>-1</td>\n      <td>108.3311</td>\n      <td>108.33</td>\n      <td>0.00¹</td>\n      <td>0.00</td>\n      <td>MKT</td>\n      <td>C</td>\n    </tr>\n    <tr>\n      <th>317</th>\n      <td>U***5820</td>\n      <td>ZUMZ</td>\n      <td>ZUMZ</td>\n      <td>2023-08-15, 09:45:01</td>\n      <td>2023-08-17</td>\n      <td>-</td>\n      <td>BUY</td>\n      <td>6</td>\n      <td>17.8000</td>\n      <td>-106.80</td>\n      <td>0.00</td>\n      <td>0.00</td>\n      <td>MKT</td>\n      <td>O</td>\n    </tr>\n    <tr>\n      <th>319</th>\n      <td>U***5820</td>\n      <td>ZUMZ</td>\n      <td>ZUMZ</td>\n      <td>2023-08-15, 09:51:58</td>\n      <td>2023-08-17</td>\n      <td>-</td>\n      <td>SELL</td>\n      <td>-6</td>\n      <td>17.7800</td>\n      <td>106.68</td>\n      <td>0.00¹</td>\n      <td>0.00</td>\n      <td>MKT</td>\n      <td>C</td>\n    </tr>\n  </tbody>\n</table>\n<p>128 rows × 14 columns</p>\n</div>"
     },
     "execution_count": 66,
     "metadata": {},
     "output_type": "execute_result"
    }
   ],
   "source": [
    "df"
   ],
   "metadata": {
    "collapsed": false,
    "ExecuteTime": {
     "end_time": "2023-09-07T04:48:56.618870Z",
     "start_time": "2023-09-07T04:48:56.547661Z"
    }
   },
   "id": "fbb191b71d8813a8"
  },
  {
   "cell_type": "code",
   "execution_count": 67,
   "outputs": [],
   "source": [
    "df = df[[\"Symbol\", \"Trade Date/Time\", \"Type\", \"Quantity\", \"Price\"]].copy()"
   ],
   "metadata": {
    "collapsed": false,
    "ExecuteTime": {
     "end_time": "2023-09-07T04:48:56.618906Z",
     "start_time": "2023-09-07T04:48:56.550678Z"
    }
   },
   "id": "b5d503287669b0"
  },
  {
   "cell_type": "code",
   "execution_count": 68,
   "outputs": [],
   "source": [
    "df[\"Trade Date/Time\"] = pd.to_datetime(df[\"Trade Date/Time\"], format = \"%Y-%m-%d, %H:%M:%S\")\n",
    "df[\"Trade Date/Time\"] = df[\"Trade Date/Time\"] - pd.Timedelta(hours = 3)"
   ],
   "metadata": {
    "collapsed": false,
    "ExecuteTime": {
     "end_time": "2023-09-07T04:48:56.618940Z",
     "start_time": "2023-09-07T04:48:56.554249Z"
    }
   },
   "id": "122e7abc9c831712"
  },
  {
   "cell_type": "code",
   "execution_count": 69,
   "outputs": [],
   "source": [
    "df[\"Broker Executed\"] = df[\"Trade Date/Time\"].dt.strftime('%I:%M:%S')"
   ],
   "metadata": {
    "collapsed": false,
    "ExecuteTime": {
     "end_time": "2023-09-07T04:48:56.618984Z",
     "start_time": "2023-09-07T04:48:56.557179Z"
    }
   },
   "id": "8f221255f7e3dd84"
  },
  {
   "cell_type": "code",
   "execution_count": 70,
   "outputs": [
    {
     "data": {
      "text/plain": "    Symbol     Trade Date/Time  Type Quantity     Price Broker Executed\n2      AAP 2023-08-15 10:21:43   BUY        1   69.5700        10:21:43\n4      AAP 2023-08-15 10:28:38  SELL       -1   69.6300        10:28:38\n7     ADRT 2023-08-15 06:46:05   BUY        9   11.5000        06:46:05\n9     ADRT 2023-08-15 06:52:59  SELL       -9   11.4550        06:52:59\n12     AGL 2023-08-15 09:54:28   BUY        6   18.0800        09:54:28\n..     ...                 ...   ...      ...       ...             ...\n309    WRB 2023-08-15 07:01:27  SELL       -2   63.5229        07:01:27\n312    XOM 2023-08-15 09:44:57   BUY        1  108.3777        09:44:57\n314    XOM 2023-08-15 09:51:56  SELL       -1  108.3311        09:51:56\n317   ZUMZ 2023-08-15 06:45:01   BUY        6   17.8000        06:45:01\n319   ZUMZ 2023-08-15 06:51:58  SELL       -6   17.7800        06:51:58\n\n[128 rows x 6 columns]",
      "text/html": "<div>\n<style scoped>\n    .dataframe tbody tr th:only-of-type {\n        vertical-align: middle;\n    }\n\n    .dataframe tbody tr th {\n        vertical-align: top;\n    }\n\n    .dataframe thead th {\n        text-align: right;\n    }\n</style>\n<table border=\"1\" class=\"dataframe\">\n  <thead>\n    <tr style=\"text-align: right;\">\n      <th></th>\n      <th>Symbol</th>\n      <th>Trade Date/Time</th>\n      <th>Type</th>\n      <th>Quantity</th>\n      <th>Price</th>\n      <th>Broker Executed</th>\n    </tr>\n  </thead>\n  <tbody>\n    <tr>\n      <th>2</th>\n      <td>AAP</td>\n      <td>2023-08-15 10:21:43</td>\n      <td>BUY</td>\n      <td>1</td>\n      <td>69.5700</td>\n      <td>10:21:43</td>\n    </tr>\n    <tr>\n      <th>4</th>\n      <td>AAP</td>\n      <td>2023-08-15 10:28:38</td>\n      <td>SELL</td>\n      <td>-1</td>\n      <td>69.6300</td>\n      <td>10:28:38</td>\n    </tr>\n    <tr>\n      <th>7</th>\n      <td>ADRT</td>\n      <td>2023-08-15 06:46:05</td>\n      <td>BUY</td>\n      <td>9</td>\n      <td>11.5000</td>\n      <td>06:46:05</td>\n    </tr>\n    <tr>\n      <th>9</th>\n      <td>ADRT</td>\n      <td>2023-08-15 06:52:59</td>\n      <td>SELL</td>\n      <td>-9</td>\n      <td>11.4550</td>\n      <td>06:52:59</td>\n    </tr>\n    <tr>\n      <th>12</th>\n      <td>AGL</td>\n      <td>2023-08-15 09:54:28</td>\n      <td>BUY</td>\n      <td>6</td>\n      <td>18.0800</td>\n      <td>09:54:28</td>\n    </tr>\n    <tr>\n      <th>...</th>\n      <td>...</td>\n      <td>...</td>\n      <td>...</td>\n      <td>...</td>\n      <td>...</td>\n      <td>...</td>\n    </tr>\n    <tr>\n      <th>309</th>\n      <td>WRB</td>\n      <td>2023-08-15 07:01:27</td>\n      <td>SELL</td>\n      <td>-2</td>\n      <td>63.5229</td>\n      <td>07:01:27</td>\n    </tr>\n    <tr>\n      <th>312</th>\n      <td>XOM</td>\n      <td>2023-08-15 09:44:57</td>\n      <td>BUY</td>\n      <td>1</td>\n      <td>108.3777</td>\n      <td>09:44:57</td>\n    </tr>\n    <tr>\n      <th>314</th>\n      <td>XOM</td>\n      <td>2023-08-15 09:51:56</td>\n      <td>SELL</td>\n      <td>-1</td>\n      <td>108.3311</td>\n      <td>09:51:56</td>\n    </tr>\n    <tr>\n      <th>317</th>\n      <td>ZUMZ</td>\n      <td>2023-08-15 06:45:01</td>\n      <td>BUY</td>\n      <td>6</td>\n      <td>17.8000</td>\n      <td>06:45:01</td>\n    </tr>\n    <tr>\n      <th>319</th>\n      <td>ZUMZ</td>\n      <td>2023-08-15 06:51:58</td>\n      <td>SELL</td>\n      <td>-6</td>\n      <td>17.7800</td>\n      <td>06:51:58</td>\n    </tr>\n  </tbody>\n</table>\n<p>128 rows × 6 columns</p>\n</div>"
     },
     "execution_count": 70,
     "metadata": {},
     "output_type": "execute_result"
    }
   ],
   "source": [
    "df"
   ],
   "metadata": {
    "collapsed": false,
    "ExecuteTime": {
     "end_time": "2023-09-07T04:48:56.619153Z",
     "start_time": "2023-09-07T04:48:56.563006Z"
    }
   },
   "id": "ca2c61bc9203fef0"
  },
  {
   "cell_type": "code",
   "execution_count": 71,
   "outputs": [],
   "source": [
    "df[\"Quantity\"] = pd.to_numeric(df[\"Quantity\"])\n",
    "df[\"Quantity\"] = df[\"Quantity\"].abs()\n",
    "df[\"Price\"] = pd.to_numeric(df[\"Price\"])"
   ],
   "metadata": {
    "collapsed": false,
    "ExecuteTime": {
     "end_time": "2023-09-07T04:48:56.619192Z",
     "start_time": "2023-09-07T04:48:56.567919Z"
    }
   },
   "id": "888da5c8d999cf2b"
  },
  {
   "cell_type": "code",
   "execution_count": 72,
   "outputs": [],
   "source": [
    "df = df.rename(columns = {\n",
    "    \"Type\": \"Action\",\n",
    "    \"Quantity\": \"Size\"\n",
    "})"
   ],
   "metadata": {
    "collapsed": false,
    "ExecuteTime": {
     "end_time": "2023-09-07T04:48:56.619226Z",
     "start_time": "2023-09-07T04:48:56.570282Z"
    }
   },
   "id": "3f57cf58aca3e670"
  },
  {
   "cell_type": "code",
   "execution_count": 73,
   "outputs": [
    {
     "data": {
      "text/plain": "    Symbol     Trade Date/Time Action  Size     Price Broker Executed\n2      AAP 2023-08-15 10:21:43    BUY     1   69.5700        10:21:43\n4      AAP 2023-08-15 10:28:38   SELL     1   69.6300        10:28:38\n7     ADRT 2023-08-15 06:46:05    BUY     9   11.5000        06:46:05\n9     ADRT 2023-08-15 06:52:59   SELL     9   11.4550        06:52:59\n12     AGL 2023-08-15 09:54:28    BUY     6   18.0800        09:54:28\n..     ...                 ...    ...   ...       ...             ...\n309    WRB 2023-08-15 07:01:27   SELL     2   63.5229        07:01:27\n312    XOM 2023-08-15 09:44:57    BUY     1  108.3777        09:44:57\n314    XOM 2023-08-15 09:51:56   SELL     1  108.3311        09:51:56\n317   ZUMZ 2023-08-15 06:45:01    BUY     6   17.8000        06:45:01\n319   ZUMZ 2023-08-15 06:51:58   SELL     6   17.7800        06:51:58\n\n[128 rows x 6 columns]",
      "text/html": "<div>\n<style scoped>\n    .dataframe tbody tr th:only-of-type {\n        vertical-align: middle;\n    }\n\n    .dataframe tbody tr th {\n        vertical-align: top;\n    }\n\n    .dataframe thead th {\n        text-align: right;\n    }\n</style>\n<table border=\"1\" class=\"dataframe\">\n  <thead>\n    <tr style=\"text-align: right;\">\n      <th></th>\n      <th>Symbol</th>\n      <th>Trade Date/Time</th>\n      <th>Action</th>\n      <th>Size</th>\n      <th>Price</th>\n      <th>Broker Executed</th>\n    </tr>\n  </thead>\n  <tbody>\n    <tr>\n      <th>2</th>\n      <td>AAP</td>\n      <td>2023-08-15 10:21:43</td>\n      <td>BUY</td>\n      <td>1</td>\n      <td>69.5700</td>\n      <td>10:21:43</td>\n    </tr>\n    <tr>\n      <th>4</th>\n      <td>AAP</td>\n      <td>2023-08-15 10:28:38</td>\n      <td>SELL</td>\n      <td>1</td>\n      <td>69.6300</td>\n      <td>10:28:38</td>\n    </tr>\n    <tr>\n      <th>7</th>\n      <td>ADRT</td>\n      <td>2023-08-15 06:46:05</td>\n      <td>BUY</td>\n      <td>9</td>\n      <td>11.5000</td>\n      <td>06:46:05</td>\n    </tr>\n    <tr>\n      <th>9</th>\n      <td>ADRT</td>\n      <td>2023-08-15 06:52:59</td>\n      <td>SELL</td>\n      <td>9</td>\n      <td>11.4550</td>\n      <td>06:52:59</td>\n    </tr>\n    <tr>\n      <th>12</th>\n      <td>AGL</td>\n      <td>2023-08-15 09:54:28</td>\n      <td>BUY</td>\n      <td>6</td>\n      <td>18.0800</td>\n      <td>09:54:28</td>\n    </tr>\n    <tr>\n      <th>...</th>\n      <td>...</td>\n      <td>...</td>\n      <td>...</td>\n      <td>...</td>\n      <td>...</td>\n      <td>...</td>\n    </tr>\n    <tr>\n      <th>309</th>\n      <td>WRB</td>\n      <td>2023-08-15 07:01:27</td>\n      <td>SELL</td>\n      <td>2</td>\n      <td>63.5229</td>\n      <td>07:01:27</td>\n    </tr>\n    <tr>\n      <th>312</th>\n      <td>XOM</td>\n      <td>2023-08-15 09:44:57</td>\n      <td>BUY</td>\n      <td>1</td>\n      <td>108.3777</td>\n      <td>09:44:57</td>\n    </tr>\n    <tr>\n      <th>314</th>\n      <td>XOM</td>\n      <td>2023-08-15 09:51:56</td>\n      <td>SELL</td>\n      <td>1</td>\n      <td>108.3311</td>\n      <td>09:51:56</td>\n    </tr>\n    <tr>\n      <th>317</th>\n      <td>ZUMZ</td>\n      <td>2023-08-15 06:45:01</td>\n      <td>BUY</td>\n      <td>6</td>\n      <td>17.8000</td>\n      <td>06:45:01</td>\n    </tr>\n    <tr>\n      <th>319</th>\n      <td>ZUMZ</td>\n      <td>2023-08-15 06:51:58</td>\n      <td>SELL</td>\n      <td>6</td>\n      <td>17.7800</td>\n      <td>06:51:58</td>\n    </tr>\n  </tbody>\n</table>\n<p>128 rows × 6 columns</p>\n</div>"
     },
     "execution_count": 73,
     "metadata": {},
     "output_type": "execute_result"
    }
   ],
   "source": [
    "df"
   ],
   "metadata": {
    "collapsed": false,
    "ExecuteTime": {
     "end_time": "2023-09-07T04:48:56.619382Z",
     "start_time": "2023-09-07T04:48:56.576018Z"
    }
   },
   "id": "33b9d39fc199816e"
  },
  {
   "cell_type": "code",
   "execution_count": 74,
   "outputs": [],
   "source": [
    "def get_ibkr_report(ibkr_file):\n",
    "    df = pd.read_html(ibkr_file)\n",
    "    df = df[1]\n",
    "    df.drop(index = df.index[:2], inplace = True)\n",
    "    df_sub = df[[\"Trade Date/Time\", \"Symbol\", \"Quantity\", \"Price\", \"Code\"]]\n",
    "    df_sub = df_sub[df_sub[\"Code\"].notna()]\n",
    "    df_sub[\"Code\"] = df_sub[\"Code\"].str[0]\n",
    "    df_sub[\"Action\"] = np.where(df_sub[\"Code\"] == \"O\", \"Buy\", \"Sell\")\n",
    "    df_sub = df_sub.drop(\"Code\", axis = 1)\n",
    "    df_sub = df_sub.drop(df.index[-1])\n",
    "    df_sub[\"Trade Date/Time\"] = pd.to_datetime(df_sub[\"Trade Date/Time\"])\n",
    "    df_sub[\"Trade Date/Time\"] = df_sub[\"Trade Date/Time\"] - pd.Timedelta(hours = 3)\n",
    "    df_sub = df_sub.set_axis([\"Broker Executed\", \"Symbol\", \"Quantity\", \"Price\", \"Action\"], axis = 1)\n",
    "    df_sub[\"Quantity\"] = df_sub[\"Quantity\"].astype(\"int64\").abs()\n",
    "    df_sub[\"Price\"] = df_sub[\"Price\"].astype(\"float64\")\n",
    "    df_sub[\"Dollar Amt\"] = (df_sub[\"Price\"] * df_sub[\"Quantity\"]).abs().round(2)\n",
    "    return df_sub"
   ],
   "metadata": {
    "collapsed": false,
    "ExecuteTime": {
     "end_time": "2023-09-07T04:49:13.491938Z",
     "start_time": "2023-09-07T04:49:13.471742Z"
    }
   },
   "id": "60efce3cc195b430"
  },
  {
   "cell_type": "code",
   "execution_count": 92,
   "outputs": [
    {
     "name": "stdout",
     "output_type": "stream",
     "text": [
      "25.5 ms ± 800 µs per loop (mean ± std. dev. of 7 runs, 10 loops each)\n"
     ]
    }
   ],
   "source": [
    "%%timeit\n",
    "get_ibkr_report(ibkr_file)"
   ],
   "metadata": {
    "collapsed": false,
    "ExecuteTime": {
     "end_time": "2023-09-07T04:54:45.236464Z",
     "start_time": "2023-09-07T04:54:43.153569Z"
    }
   },
   "id": "a5900d8583fa827d"
  },
  {
   "cell_type": "code",
   "execution_count": 4,
   "outputs": [],
   "source": [
    "def get_ibkr_report2(ibkr_file):\n",
    "    dfs = pd.read_html(ibkr_file)\n",
    "    df = dfs[1]\n",
    "    df = df.drop(df.index[[0, 1, -1, -2]])\n",
    "    df = df[df[\"Code\"].notna()]\n",
    "    df = df[[\"Symbol\", \"Trade Date/Time\", \"Type\", \"Quantity\", \"Price\"]].copy()\n",
    "    \n",
    "    df[\"Trade Date/Time\"] = pd.to_datetime(df[\"Trade Date/Time\"], format = \"%Y-%m-%d, %H:%M:%S\")\n",
    "    df[\"Trade Date/Time\"] = df[\"Trade Date/Time\"] - pd.Timedelta(hours = 3)\n",
    "    df[\"Broker Executed\"] = df[\"Trade Date/Time\"].dt.strftime('%I:%M:%S')\n",
    "    \n",
    "    df[\"Quantity\"] = pd.to_numeric(df[\"Quantity\"])\n",
    "    df[\"Quantity\"] = df[\"Quantity\"].abs()\n",
    "    df[\"Price\"] = pd.to_numeric(df[\"Price\"])\n",
    "    df[\"Dollar Amt\"] = df[\"Quantity\"] * df[\"Price\"]\n",
    "    \n",
    "    df = df.rename(columns = {\n",
    "        \"Type\": \"Action\",\n",
    "        \"Quantity\": \"Size\"\n",
    "    })\n",
    "    return df"
   ],
   "metadata": {
    "collapsed": false,
    "ExecuteTime": {
     "end_time": "2023-09-15T19:11:12.437349Z",
     "start_time": "2023-09-15T19:11:12.432459Z"
    }
   },
   "id": "d8b2a9aaf8224a1d"
  },
  {
   "cell_type": "code",
   "execution_count": 6,
   "outputs": [],
   "source": [
    "df = get_ibkr_report2(ibkr_file)"
   ],
   "metadata": {
    "collapsed": false,
    "ExecuteTime": {
     "end_time": "2023-09-15T19:15:04.039376Z",
     "start_time": "2023-09-15T19:15:04.009131Z"
    }
   },
   "id": "fc5b79f2d7d4bab4"
  },
  {
   "cell_type": "code",
   "execution_count": 10,
   "outputs": [
    {
     "data": {
      "text/plain": "   Symbol     Trade Date/Time Action  Size   Price Broker Executed  Dollar Amt\n42   AMTX 2023-08-15 10:30:43    BUY    16  6.2883        10:30:43    100.6128\n44   AMTX 2023-08-15 12:12:55   SELL    16  6.2330        12:12:55     99.7280",
      "text/html": "<div>\n<style scoped>\n    .dataframe tbody tr th:only-of-type {\n        vertical-align: middle;\n    }\n\n    .dataframe tbody tr th {\n        vertical-align: top;\n    }\n\n    .dataframe thead th {\n        text-align: right;\n    }\n</style>\n<table border=\"1\" class=\"dataframe\">\n  <thead>\n    <tr style=\"text-align: right;\">\n      <th></th>\n      <th>Symbol</th>\n      <th>Trade Date/Time</th>\n      <th>Action</th>\n      <th>Size</th>\n      <th>Price</th>\n      <th>Broker Executed</th>\n      <th>Dollar Amt</th>\n    </tr>\n  </thead>\n  <tbody>\n    <tr>\n      <th>42</th>\n      <td>AMTX</td>\n      <td>2023-08-15 10:30:43</td>\n      <td>BUY</td>\n      <td>16</td>\n      <td>6.2883</td>\n      <td>10:30:43</td>\n      <td>100.6128</td>\n    </tr>\n    <tr>\n      <th>44</th>\n      <td>AMTX</td>\n      <td>2023-08-15 12:12:55</td>\n      <td>SELL</td>\n      <td>16</td>\n      <td>6.2330</td>\n      <td>12:12:55</td>\n      <td>99.7280</td>\n    </tr>\n  </tbody>\n</table>\n</div>"
     },
     "execution_count": 10,
     "metadata": {},
     "output_type": "execute_result"
    }
   ],
   "source": [
    "df[ df[\"Symbol\"] == \"AMTX\"]"
   ],
   "metadata": {
    "collapsed": false,
    "ExecuteTime": {
     "end_time": "2023-09-15T19:20:15.637484Z",
     "start_time": "2023-09-15T19:20:15.629888Z"
    }
   },
   "id": "ce20e9b01f649b51"
  },
  {
   "cell_type": "code",
   "execution_count": 6,
   "outputs": [],
   "source": [
    "thing = pd.Series({\"a\": 1, \"b\": 2, \"c\": 3})"
   ],
   "metadata": {
    "collapsed": false,
    "ExecuteTime": {
     "end_time": "2023-09-19T22:27:25.863179Z",
     "start_time": "2023-09-19T22:27:25.851156Z"
    }
   },
   "id": "23037bc5e79b2724"
  },
  {
   "cell_type": "code",
   "execution_count": 9,
   "outputs": [],
   "source": [
    "thing[:] = None"
   ],
   "metadata": {
    "collapsed": false,
    "ExecuteTime": {
     "end_time": "2023-09-19T22:27:33.274074Z",
     "start_time": "2023-09-19T22:27:33.262413Z"
    }
   },
   "id": "a5b3cfac9e67a14c"
  },
  {
   "cell_type": "code",
   "execution_count": 10,
   "outputs": [
    {
     "data": {
      "text/plain": "a   NaN\nb   NaN\nc   NaN\ndtype: float64"
     },
     "execution_count": 10,
     "metadata": {},
     "output_type": "execute_result"
    }
   ],
   "source": [
    "thing"
   ],
   "metadata": {
    "collapsed": false,
    "ExecuteTime": {
     "end_time": "2023-09-19T22:27:34.685086Z",
     "start_time": "2023-09-19T22:27:34.676446Z"
    }
   },
   "id": "cb79d79572038ace"
  },
  {
   "cell_type": "code",
   "execution_count": null,
   "outputs": [],
   "source": [],
   "metadata": {
    "collapsed": false
   },
   "id": "e6e537ec54d808ae"
  }
 ],
 "metadata": {
  "kernelspec": {
   "display_name": "Python 3",
   "language": "python",
   "name": "python3"
  },
  "language_info": {
   "codemirror_mode": {
    "name": "ipython",
    "version": 2
   },
   "file_extension": ".py",
   "mimetype": "text/x-python",
   "name": "python",
   "nbconvert_exporter": "python",
   "pygments_lexer": "ipython2",
   "version": "2.7.6"
  }
 },
 "nbformat": 4,
 "nbformat_minor": 5
}
