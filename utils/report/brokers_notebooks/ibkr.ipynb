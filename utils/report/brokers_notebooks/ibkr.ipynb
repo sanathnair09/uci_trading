{
 "cells": [
  {
   "cell_type": "code",
   "execution_count": 1,
   "id": "initial_id",
   "metadata": {
    "collapsed": true,
    "ExecuteTime": {
     "end_time": "2024-01-07T01:05:23.661166Z",
     "start_time": "2024-01-07T01:05:23.348160Z"
    }
   },
   "outputs": [],
   "source": [
    "import pandas as pd\n",
    "import numpy as np"
   ]
  },
  {
   "cell_type": "code",
   "execution_count": 33,
   "outputs": [],
   "source": [
    "ibkr_file = \"/Users/sanathnair/Developer/trading/data/ibkr/DailyTradeReport.20230815.html\""
   ],
   "metadata": {
    "collapsed": false,
    "ExecuteTime": {
     "end_time": "2024-01-06T00:41:23.502531Z",
     "start_time": "2024-01-06T00:41:23.497511Z"
    }
   },
   "id": "e1f6082e9d8dc639"
  },
  {
   "cell_type": "code",
   "execution_count": 60,
   "outputs": [],
   "source": [
    "dfs = pd.read_html(ibkr_file)"
   ],
   "metadata": {
    "collapsed": false,
    "ExecuteTime": {
     "end_time": "2023-09-07T04:48:56.617725Z",
     "start_time": "2023-09-07T04:48:56.487325Z"
    }
   },
   "id": "303ba85864d1783b"
  },
  {
   "cell_type": "code",
   "execution_count": 61,
   "outputs": [],
   "source": [
    "df = dfs[1]"
   ],
   "metadata": {
    "collapsed": false,
    "ExecuteTime": {
     "end_time": "2023-09-07T04:48:56.617922Z",
     "start_time": "2023-09-07T04:48:56.521334Z"
    }
   },
   "id": "526d972beba4a196"
  },
  {
   "cell_type": "code",
   "execution_count": 62,
   "outputs": [
    {
     "data": {
      "text/plain": "                       Acct ID                     Symbol  \\\n0                       Stocks                     Stocks   \n1                          USD                        USD   \n2                     U***5820                        AAP   \n3           Total AAP (Bought)         Total AAP (Bought)   \n4                     U***5820                        AAP   \n..                         ...                        ...   \n319                   U***5820                       ZUMZ   \n320          Total ZUMZ (Sold)          Total ZUMZ (Sold)   \n321                 Total ZUMZ                 Total ZUMZ   \n322                      Total                      Total   \n323  NotesRegulatory fees only  NotesRegulatory fees only   \n\n                      Symbol.1            Trade Date/Time  \\\n0                       Stocks                     Stocks   \n1                          USD                        USD   \n2                          AAP       2023-08-15, 13:21:43   \n3           Total AAP (Bought)         Total AAP (Bought)   \n4                          AAP       2023-08-15, 13:28:38   \n..                         ...                        ...   \n319                       ZUMZ       2023-08-15, 09:51:58   \n320          Total ZUMZ (Sold)          Total ZUMZ (Sold)   \n321                 Total ZUMZ                 Total ZUMZ   \n322                      Total                      Total   \n323  NotesRegulatory fees only  NotesRegulatory fees only   \n\n                   Settle Date                   Exchange  \\\n0                       Stocks                     Stocks   \n1                          USD                        USD   \n2                   2023-08-17                          -   \n3           Total AAP (Bought)         Total AAP (Bought)   \n4                   2023-08-17                          -   \n..                         ...                        ...   \n319                 2023-08-17                          -   \n320          Total ZUMZ (Sold)          Total ZUMZ (Sold)   \n321                 Total ZUMZ                 Total ZUMZ   \n322                      Total                      Total   \n323  NotesRegulatory fees only  NotesRegulatory fees only   \n\n                          Type                   Quantity  \\\n0                       Stocks                     Stocks   \n1                          USD                        USD   \n2                          BUY                          1   \n3           Total AAP (Bought)                          1   \n4                         SELL                         -1   \n..                         ...                        ...   \n319                       SELL                         -6   \n320          Total ZUMZ (Sold)                         -6   \n321                 Total ZUMZ                          0   \n322                      Total                      Total   \n323  NotesRegulatory fees only  NotesRegulatory fees only   \n\n                         Price                   Proceeds  \\\n0                       Stocks                     Stocks   \n1                          USD                        USD   \n2                      69.5700                     -69.57   \n3                      69.5700                     -69.57   \n4                      69.6300                      69.63   \n..                         ...                        ...   \n319                    17.7800                     106.68   \n320                    17.7800                     106.68   \n321                        NaN                      -0.12   \n322                      Total                     -19.49   \n323  NotesRegulatory fees only  NotesRegulatory fees only   \n\n                          Comm                        Fee  \\\n0                       Stocks                     Stocks   \n1                          USD                        USD   \n2                         0.00                       0.00   \n3                         0.00                       0.00   \n4                        0.00¹                       0.00   \n..                         ...                        ...   \n319                      0.00¹                       0.00   \n320                       0.00                       0.00   \n321                       0.00                       0.00   \n322                      -0.23                       0.00   \n323  NotesRegulatory fees only  NotesRegulatory fees only   \n\n                    Order Type                       Code  \n0                       Stocks                     Stocks  \n1                          USD                        USD  \n2                          MKT                          O  \n3                          NaN                        NaN  \n4                          MKT                          C  \n..                         ...                        ...  \n319                        MKT                          C  \n320                        NaN                        NaN  \n321                        NaN                        NaN  \n322                        NaN                        NaN  \n323  NotesRegulatory fees only  NotesRegulatory fees only  \n\n[324 rows x 14 columns]",
      "text/html": "<div>\n<style scoped>\n    .dataframe tbody tr th:only-of-type {\n        vertical-align: middle;\n    }\n\n    .dataframe tbody tr th {\n        vertical-align: top;\n    }\n\n    .dataframe thead th {\n        text-align: right;\n    }\n</style>\n<table border=\"1\" class=\"dataframe\">\n  <thead>\n    <tr style=\"text-align: right;\">\n      <th></th>\n      <th>Acct ID</th>\n      <th>Symbol</th>\n      <th>Symbol.1</th>\n      <th>Trade Date/Time</th>\n      <th>Settle Date</th>\n      <th>Exchange</th>\n      <th>Type</th>\n      <th>Quantity</th>\n      <th>Price</th>\n      <th>Proceeds</th>\n      <th>Comm</th>\n      <th>Fee</th>\n      <th>Order Type</th>\n      <th>Code</th>\n    </tr>\n  </thead>\n  <tbody>\n    <tr>\n      <th>0</th>\n      <td>Stocks</td>\n      <td>Stocks</td>\n      <td>Stocks</td>\n      <td>Stocks</td>\n      <td>Stocks</td>\n      <td>Stocks</td>\n      <td>Stocks</td>\n      <td>Stocks</td>\n      <td>Stocks</td>\n      <td>Stocks</td>\n      <td>Stocks</td>\n      <td>Stocks</td>\n      <td>Stocks</td>\n      <td>Stocks</td>\n    </tr>\n    <tr>\n      <th>1</th>\n      <td>USD</td>\n      <td>USD</td>\n      <td>USD</td>\n      <td>USD</td>\n      <td>USD</td>\n      <td>USD</td>\n      <td>USD</td>\n      <td>USD</td>\n      <td>USD</td>\n      <td>USD</td>\n      <td>USD</td>\n      <td>USD</td>\n      <td>USD</td>\n      <td>USD</td>\n    </tr>\n    <tr>\n      <th>2</th>\n      <td>U***5820</td>\n      <td>AAP</td>\n      <td>AAP</td>\n      <td>2023-08-15, 13:21:43</td>\n      <td>2023-08-17</td>\n      <td>-</td>\n      <td>BUY</td>\n      <td>1</td>\n      <td>69.5700</td>\n      <td>-69.57</td>\n      <td>0.00</td>\n      <td>0.00</td>\n      <td>MKT</td>\n      <td>O</td>\n    </tr>\n    <tr>\n      <th>3</th>\n      <td>Total AAP (Bought)</td>\n      <td>Total AAP (Bought)</td>\n      <td>Total AAP (Bought)</td>\n      <td>Total AAP (Bought)</td>\n      <td>Total AAP (Bought)</td>\n      <td>Total AAP (Bought)</td>\n      <td>Total AAP (Bought)</td>\n      <td>1</td>\n      <td>69.5700</td>\n      <td>-69.57</td>\n      <td>0.00</td>\n      <td>0.00</td>\n      <td>NaN</td>\n      <td>NaN</td>\n    </tr>\n    <tr>\n      <th>4</th>\n      <td>U***5820</td>\n      <td>AAP</td>\n      <td>AAP</td>\n      <td>2023-08-15, 13:28:38</td>\n      <td>2023-08-17</td>\n      <td>-</td>\n      <td>SELL</td>\n      <td>-1</td>\n      <td>69.6300</td>\n      <td>69.63</td>\n      <td>0.00¹</td>\n      <td>0.00</td>\n      <td>MKT</td>\n      <td>C</td>\n    </tr>\n    <tr>\n      <th>...</th>\n      <td>...</td>\n      <td>...</td>\n      <td>...</td>\n      <td>...</td>\n      <td>...</td>\n      <td>...</td>\n      <td>...</td>\n      <td>...</td>\n      <td>...</td>\n      <td>...</td>\n      <td>...</td>\n      <td>...</td>\n      <td>...</td>\n      <td>...</td>\n    </tr>\n    <tr>\n      <th>319</th>\n      <td>U***5820</td>\n      <td>ZUMZ</td>\n      <td>ZUMZ</td>\n      <td>2023-08-15, 09:51:58</td>\n      <td>2023-08-17</td>\n      <td>-</td>\n      <td>SELL</td>\n      <td>-6</td>\n      <td>17.7800</td>\n      <td>106.68</td>\n      <td>0.00¹</td>\n      <td>0.00</td>\n      <td>MKT</td>\n      <td>C</td>\n    </tr>\n    <tr>\n      <th>320</th>\n      <td>Total ZUMZ (Sold)</td>\n      <td>Total ZUMZ (Sold)</td>\n      <td>Total ZUMZ (Sold)</td>\n      <td>Total ZUMZ (Sold)</td>\n      <td>Total ZUMZ (Sold)</td>\n      <td>Total ZUMZ (Sold)</td>\n      <td>Total ZUMZ (Sold)</td>\n      <td>-6</td>\n      <td>17.7800</td>\n      <td>106.68</td>\n      <td>0.00</td>\n      <td>0.00</td>\n      <td>NaN</td>\n      <td>NaN</td>\n    </tr>\n    <tr>\n      <th>321</th>\n      <td>Total ZUMZ</td>\n      <td>Total ZUMZ</td>\n      <td>Total ZUMZ</td>\n      <td>Total ZUMZ</td>\n      <td>Total ZUMZ</td>\n      <td>Total ZUMZ</td>\n      <td>Total ZUMZ</td>\n      <td>0</td>\n      <td>NaN</td>\n      <td>-0.12</td>\n      <td>0.00</td>\n      <td>0.00</td>\n      <td>NaN</td>\n      <td>NaN</td>\n    </tr>\n    <tr>\n      <th>322</th>\n      <td>Total</td>\n      <td>Total</td>\n      <td>Total</td>\n      <td>Total</td>\n      <td>Total</td>\n      <td>Total</td>\n      <td>Total</td>\n      <td>Total</td>\n      <td>Total</td>\n      <td>-19.49</td>\n      <td>-0.23</td>\n      <td>0.00</td>\n      <td>NaN</td>\n      <td>NaN</td>\n    </tr>\n    <tr>\n      <th>323</th>\n      <td>NotesRegulatory fees only</td>\n      <td>NotesRegulatory fees only</td>\n      <td>NotesRegulatory fees only</td>\n      <td>NotesRegulatory fees only</td>\n      <td>NotesRegulatory fees only</td>\n      <td>NotesRegulatory fees only</td>\n      <td>NotesRegulatory fees only</td>\n      <td>NotesRegulatory fees only</td>\n      <td>NotesRegulatory fees only</td>\n      <td>NotesRegulatory fees only</td>\n      <td>NotesRegulatory fees only</td>\n      <td>NotesRegulatory fees only</td>\n      <td>NotesRegulatory fees only</td>\n      <td>NotesRegulatory fees only</td>\n    </tr>\n  </tbody>\n</table>\n<p>324 rows × 14 columns</p>\n</div>"
     },
     "execution_count": 62,
     "metadata": {},
     "output_type": "execute_result"
    }
   ],
   "source": [
    "df"
   ],
   "metadata": {
    "collapsed": false,
    "ExecuteTime": {
     "end_time": "2023-09-07T04:48:56.618300Z",
     "start_time": "2023-09-07T04:48:56.529379Z"
    }
   },
   "id": "c0f485f60a5d16c9"
  },
  {
   "cell_type": "code",
   "execution_count": 63,
   "outputs": [],
   "source": [
    "df = df.drop(df.index[[0, 1, -1, -2]])"
   ],
   "metadata": {
    "collapsed": false,
    "ExecuteTime": {
     "end_time": "2023-09-07T04:48:56.618348Z",
     "start_time": "2023-09-07T04:48:56.532619Z"
    }
   },
   "id": "e515d564cbb783d9"
  },
  {
   "cell_type": "code",
   "execution_count": 64,
   "outputs": [
    {
     "data": {
      "text/plain": "                 Acct ID               Symbol             Symbol.1  \\\n2               U***5820                  AAP                  AAP   \n3     Total AAP (Bought)   Total AAP (Bought)   Total AAP (Bought)   \n4               U***5820                  AAP                  AAP   \n5       Total AAP (Sold)     Total AAP (Sold)     Total AAP (Sold)   \n6              Total AAP            Total AAP            Total AAP   \n..                   ...                  ...                  ...   \n317             U***5820                 ZUMZ                 ZUMZ   \n318  Total ZUMZ (Bought)  Total ZUMZ (Bought)  Total ZUMZ (Bought)   \n319             U***5820                 ZUMZ                 ZUMZ   \n320    Total ZUMZ (Sold)    Total ZUMZ (Sold)    Total ZUMZ (Sold)   \n321           Total ZUMZ           Total ZUMZ           Total ZUMZ   \n\n          Trade Date/Time          Settle Date             Exchange  \\\n2    2023-08-15, 13:21:43           2023-08-17                    -   \n3      Total AAP (Bought)   Total AAP (Bought)   Total AAP (Bought)   \n4    2023-08-15, 13:28:38           2023-08-17                    -   \n5        Total AAP (Sold)     Total AAP (Sold)     Total AAP (Sold)   \n6               Total AAP            Total AAP            Total AAP   \n..                    ...                  ...                  ...   \n317  2023-08-15, 09:45:01           2023-08-17                    -   \n318   Total ZUMZ (Bought)  Total ZUMZ (Bought)  Total ZUMZ (Bought)   \n319  2023-08-15, 09:51:58           2023-08-17                    -   \n320     Total ZUMZ (Sold)    Total ZUMZ (Sold)    Total ZUMZ (Sold)   \n321            Total ZUMZ           Total ZUMZ           Total ZUMZ   \n\n                    Type Quantity    Price Proceeds   Comm   Fee Order Type  \\\n2                    BUY        1  69.5700   -69.57   0.00  0.00        MKT   \n3     Total AAP (Bought)        1  69.5700   -69.57   0.00  0.00        NaN   \n4                   SELL       -1  69.6300    69.63  0.00¹  0.00        MKT   \n5       Total AAP (Sold)       -1  69.6300    69.63   0.00  0.00        NaN   \n6              Total AAP        0      NaN     0.06   0.00  0.00        NaN   \n..                   ...      ...      ...      ...    ...   ...        ...   \n317                  BUY        6  17.8000  -106.80   0.00  0.00        MKT   \n318  Total ZUMZ (Bought)        6  17.8000  -106.80   0.00  0.00        NaN   \n319                 SELL       -6  17.7800   106.68  0.00¹  0.00        MKT   \n320    Total ZUMZ (Sold)       -6  17.7800   106.68   0.00  0.00        NaN   \n321           Total ZUMZ        0      NaN    -0.12   0.00  0.00        NaN   \n\n    Code  \n2      O  \n3    NaN  \n4      C  \n5    NaN  \n6    NaN  \n..   ...  \n317    O  \n318  NaN  \n319    C  \n320  NaN  \n321  NaN  \n\n[320 rows x 14 columns]",
      "text/html": "<div>\n<style scoped>\n    .dataframe tbody tr th:only-of-type {\n        vertical-align: middle;\n    }\n\n    .dataframe tbody tr th {\n        vertical-align: top;\n    }\n\n    .dataframe thead th {\n        text-align: right;\n    }\n</style>\n<table border=\"1\" class=\"dataframe\">\n  <thead>\n    <tr style=\"text-align: right;\">\n      <th></th>\n      <th>Acct ID</th>\n      <th>Symbol</th>\n      <th>Symbol.1</th>\n      <th>Trade Date/Time</th>\n      <th>Settle Date</th>\n      <th>Exchange</th>\n      <th>Type</th>\n      <th>Quantity</th>\n      <th>Price</th>\n      <th>Proceeds</th>\n      <th>Comm</th>\n      <th>Fee</th>\n      <th>Order Type</th>\n      <th>Code</th>\n    </tr>\n  </thead>\n  <tbody>\n    <tr>\n      <th>2</th>\n      <td>U***5820</td>\n      <td>AAP</td>\n      <td>AAP</td>\n      <td>2023-08-15, 13:21:43</td>\n      <td>2023-08-17</td>\n      <td>-</td>\n      <td>BUY</td>\n      <td>1</td>\n      <td>69.5700</td>\n      <td>-69.57</td>\n      <td>0.00</td>\n      <td>0.00</td>\n      <td>MKT</td>\n      <td>O</td>\n    </tr>\n    <tr>\n      <th>3</th>\n      <td>Total AAP (Bought)</td>\n      <td>Total AAP (Bought)</td>\n      <td>Total AAP (Bought)</td>\n      <td>Total AAP (Bought)</td>\n      <td>Total AAP (Bought)</td>\n      <td>Total AAP (Bought)</td>\n      <td>Total AAP (Bought)</td>\n      <td>1</td>\n      <td>69.5700</td>\n      <td>-69.57</td>\n      <td>0.00</td>\n      <td>0.00</td>\n      <td>NaN</td>\n      <td>NaN</td>\n    </tr>\n    <tr>\n      <th>4</th>\n      <td>U***5820</td>\n      <td>AAP</td>\n      <td>AAP</td>\n      <td>2023-08-15, 13:28:38</td>\n      <td>2023-08-17</td>\n      <td>-</td>\n      <td>SELL</td>\n      <td>-1</td>\n      <td>69.6300</td>\n      <td>69.63</td>\n      <td>0.00¹</td>\n      <td>0.00</td>\n      <td>MKT</td>\n      <td>C</td>\n    </tr>\n    <tr>\n      <th>5</th>\n      <td>Total AAP (Sold)</td>\n      <td>Total AAP (Sold)</td>\n      <td>Total AAP (Sold)</td>\n      <td>Total AAP (Sold)</td>\n      <td>Total AAP (Sold)</td>\n      <td>Total AAP (Sold)</td>\n      <td>Total AAP (Sold)</td>\n      <td>-1</td>\n      <td>69.6300</td>\n      <td>69.63</td>\n      <td>0.00</td>\n      <td>0.00</td>\n      <td>NaN</td>\n      <td>NaN</td>\n    </tr>\n    <tr>\n      <th>6</th>\n      <td>Total AAP</td>\n      <td>Total AAP</td>\n      <td>Total AAP</td>\n      <td>Total AAP</td>\n      <td>Total AAP</td>\n      <td>Total AAP</td>\n      <td>Total AAP</td>\n      <td>0</td>\n      <td>NaN</td>\n      <td>0.06</td>\n      <td>0.00</td>\n      <td>0.00</td>\n      <td>NaN</td>\n      <td>NaN</td>\n    </tr>\n    <tr>\n      <th>...</th>\n      <td>...</td>\n      <td>...</td>\n      <td>...</td>\n      <td>...</td>\n      <td>...</td>\n      <td>...</td>\n      <td>...</td>\n      <td>...</td>\n      <td>...</td>\n      <td>...</td>\n      <td>...</td>\n      <td>...</td>\n      <td>...</td>\n      <td>...</td>\n    </tr>\n    <tr>\n      <th>317</th>\n      <td>U***5820</td>\n      <td>ZUMZ</td>\n      <td>ZUMZ</td>\n      <td>2023-08-15, 09:45:01</td>\n      <td>2023-08-17</td>\n      <td>-</td>\n      <td>BUY</td>\n      <td>6</td>\n      <td>17.8000</td>\n      <td>-106.80</td>\n      <td>0.00</td>\n      <td>0.00</td>\n      <td>MKT</td>\n      <td>O</td>\n    </tr>\n    <tr>\n      <th>318</th>\n      <td>Total ZUMZ (Bought)</td>\n      <td>Total ZUMZ (Bought)</td>\n      <td>Total ZUMZ (Bought)</td>\n      <td>Total ZUMZ (Bought)</td>\n      <td>Total ZUMZ (Bought)</td>\n      <td>Total ZUMZ (Bought)</td>\n      <td>Total ZUMZ (Bought)</td>\n      <td>6</td>\n      <td>17.8000</td>\n      <td>-106.80</td>\n      <td>0.00</td>\n      <td>0.00</td>\n      <td>NaN</td>\n      <td>NaN</td>\n    </tr>\n    <tr>\n      <th>319</th>\n      <td>U***5820</td>\n      <td>ZUMZ</td>\n      <td>ZUMZ</td>\n      <td>2023-08-15, 09:51:58</td>\n      <td>2023-08-17</td>\n      <td>-</td>\n      <td>SELL</td>\n      <td>-6</td>\n      <td>17.7800</td>\n      <td>106.68</td>\n      <td>0.00¹</td>\n      <td>0.00</td>\n      <td>MKT</td>\n      <td>C</td>\n    </tr>\n    <tr>\n      <th>320</th>\n      <td>Total ZUMZ (Sold)</td>\n      <td>Total ZUMZ (Sold)</td>\n      <td>Total ZUMZ (Sold)</td>\n      <td>Total ZUMZ (Sold)</td>\n      <td>Total ZUMZ (Sold)</td>\n      <td>Total ZUMZ (Sold)</td>\n      <td>Total ZUMZ (Sold)</td>\n      <td>-6</td>\n      <td>17.7800</td>\n      <td>106.68</td>\n      <td>0.00</td>\n      <td>0.00</td>\n      <td>NaN</td>\n      <td>NaN</td>\n    </tr>\n    <tr>\n      <th>321</th>\n      <td>Total ZUMZ</td>\n      <td>Total ZUMZ</td>\n      <td>Total ZUMZ</td>\n      <td>Total ZUMZ</td>\n      <td>Total ZUMZ</td>\n      <td>Total ZUMZ</td>\n      <td>Total ZUMZ</td>\n      <td>0</td>\n      <td>NaN</td>\n      <td>-0.12</td>\n      <td>0.00</td>\n      <td>0.00</td>\n      <td>NaN</td>\n      <td>NaN</td>\n    </tr>\n  </tbody>\n</table>\n<p>320 rows × 14 columns</p>\n</div>"
     },
     "execution_count": 64,
     "metadata": {},
     "output_type": "execute_result"
    }
   ],
   "source": [
    "df"
   ],
   "metadata": {
    "collapsed": false,
    "ExecuteTime": {
     "end_time": "2023-09-07T04:48:56.618585Z",
     "start_time": "2023-09-07T04:48:56.538670Z"
    }
   },
   "id": "bd77485f145519d"
  },
  {
   "cell_type": "code",
   "execution_count": 65,
   "outputs": [],
   "source": [
    "df = df[df[\"Code\"].notna()]"
   ],
   "metadata": {
    "collapsed": false,
    "ExecuteTime": {
     "end_time": "2023-09-07T04:48:56.618630Z",
     "start_time": "2023-09-07T04:48:56.541159Z"
    }
   },
   "id": "9b42163062874cef"
  },
  {
   "cell_type": "code",
   "execution_count": 66,
   "outputs": [
    {
     "data": {
      "text/plain": "      Acct ID Symbol Symbol.1       Trade Date/Time Settle Date Exchange  \\\n2    U***5820    AAP      AAP  2023-08-15, 13:21:43  2023-08-17        -   \n4    U***5820    AAP      AAP  2023-08-15, 13:28:38  2023-08-17        -   \n7    U***5820   ADRT     ADRT  2023-08-15, 09:46:05  2023-08-17        -   \n9    U***5820   ADRT     ADRT  2023-08-15, 09:52:59  2023-08-17        -   \n12   U***5820    AGL      AGL  2023-08-15, 12:54:28  2023-08-17        -   \n..        ...    ...      ...                   ...         ...      ...   \n309  U***5820    WRB      WRB  2023-08-15, 10:01:27  2023-08-17        -   \n312  U***5820    XOM      XOM  2023-08-15, 12:44:57  2023-08-17        -   \n314  U***5820    XOM      XOM  2023-08-15, 12:51:56  2023-08-17        -   \n317  U***5820   ZUMZ     ZUMZ  2023-08-15, 09:45:01  2023-08-17        -   \n319  U***5820   ZUMZ     ZUMZ  2023-08-15, 09:51:58  2023-08-17        -   \n\n     Type Quantity     Price Proceeds   Comm   Fee Order Type Code  \n2     BUY        1   69.5700   -69.57   0.00  0.00        MKT    O  \n4    SELL       -1   69.6300    69.63  0.00¹  0.00        MKT    C  \n7     BUY        9   11.5000  -103.50   0.00  0.00        MKT    O  \n9    SELL       -9   11.4550   103.10  0.00¹  0.00        MKT    C  \n12    BUY        6   18.0800  -108.48   0.00  0.00        MKT  O;P  \n..    ...      ...       ...      ...    ...   ...        ...  ...  \n309  SELL       -2   63.5229   127.05  0.00¹  0.00        MKT    C  \n312   BUY        1  108.3777  -108.38   0.00  0.00        MKT    O  \n314  SELL       -1  108.3311   108.33  0.00¹  0.00        MKT    C  \n317   BUY        6   17.8000  -106.80   0.00  0.00        MKT    O  \n319  SELL       -6   17.7800   106.68  0.00¹  0.00        MKT    C  \n\n[128 rows x 14 columns]",
      "text/html": "<div>\n<style scoped>\n    .dataframe tbody tr th:only-of-type {\n        vertical-align: middle;\n    }\n\n    .dataframe tbody tr th {\n        vertical-align: top;\n    }\n\n    .dataframe thead th {\n        text-align: right;\n    }\n</style>\n<table border=\"1\" class=\"dataframe\">\n  <thead>\n    <tr style=\"text-align: right;\">\n      <th></th>\n      <th>Acct ID</th>\n      <th>Symbol</th>\n      <th>Symbol.1</th>\n      <th>Trade Date/Time</th>\n      <th>Settle Date</th>\n      <th>Exchange</th>\n      <th>Type</th>\n      <th>Quantity</th>\n      <th>Price</th>\n      <th>Proceeds</th>\n      <th>Comm</th>\n      <th>Fee</th>\n      <th>Order Type</th>\n      <th>Code</th>\n    </tr>\n  </thead>\n  <tbody>\n    <tr>\n      <th>2</th>\n      <td>U***5820</td>\n      <td>AAP</td>\n      <td>AAP</td>\n      <td>2023-08-15, 13:21:43</td>\n      <td>2023-08-17</td>\n      <td>-</td>\n      <td>BUY</td>\n      <td>1</td>\n      <td>69.5700</td>\n      <td>-69.57</td>\n      <td>0.00</td>\n      <td>0.00</td>\n      <td>MKT</td>\n      <td>O</td>\n    </tr>\n    <tr>\n      <th>4</th>\n      <td>U***5820</td>\n      <td>AAP</td>\n      <td>AAP</td>\n      <td>2023-08-15, 13:28:38</td>\n      <td>2023-08-17</td>\n      <td>-</td>\n      <td>SELL</td>\n      <td>-1</td>\n      <td>69.6300</td>\n      <td>69.63</td>\n      <td>0.00¹</td>\n      <td>0.00</td>\n      <td>MKT</td>\n      <td>C</td>\n    </tr>\n    <tr>\n      <th>7</th>\n      <td>U***5820</td>\n      <td>ADRT</td>\n      <td>ADRT</td>\n      <td>2023-08-15, 09:46:05</td>\n      <td>2023-08-17</td>\n      <td>-</td>\n      <td>BUY</td>\n      <td>9</td>\n      <td>11.5000</td>\n      <td>-103.50</td>\n      <td>0.00</td>\n      <td>0.00</td>\n      <td>MKT</td>\n      <td>O</td>\n    </tr>\n    <tr>\n      <th>9</th>\n      <td>U***5820</td>\n      <td>ADRT</td>\n      <td>ADRT</td>\n      <td>2023-08-15, 09:52:59</td>\n      <td>2023-08-17</td>\n      <td>-</td>\n      <td>SELL</td>\n      <td>-9</td>\n      <td>11.4550</td>\n      <td>103.10</td>\n      <td>0.00¹</td>\n      <td>0.00</td>\n      <td>MKT</td>\n      <td>C</td>\n    </tr>\n    <tr>\n      <th>12</th>\n      <td>U***5820</td>\n      <td>AGL</td>\n      <td>AGL</td>\n      <td>2023-08-15, 12:54:28</td>\n      <td>2023-08-17</td>\n      <td>-</td>\n      <td>BUY</td>\n      <td>6</td>\n      <td>18.0800</td>\n      <td>-108.48</td>\n      <td>0.00</td>\n      <td>0.00</td>\n      <td>MKT</td>\n      <td>O;P</td>\n    </tr>\n    <tr>\n      <th>...</th>\n      <td>...</td>\n      <td>...</td>\n      <td>...</td>\n      <td>...</td>\n      <td>...</td>\n      <td>...</td>\n      <td>...</td>\n      <td>...</td>\n      <td>...</td>\n      <td>...</td>\n      <td>...</td>\n      <td>...</td>\n      <td>...</td>\n      <td>...</td>\n    </tr>\n    <tr>\n      <th>309</th>\n      <td>U***5820</td>\n      <td>WRB</td>\n      <td>WRB</td>\n      <td>2023-08-15, 10:01:27</td>\n      <td>2023-08-17</td>\n      <td>-</td>\n      <td>SELL</td>\n      <td>-2</td>\n      <td>63.5229</td>\n      <td>127.05</td>\n      <td>0.00¹</td>\n      <td>0.00</td>\n      <td>MKT</td>\n      <td>C</td>\n    </tr>\n    <tr>\n      <th>312</th>\n      <td>U***5820</td>\n      <td>XOM</td>\n      <td>XOM</td>\n      <td>2023-08-15, 12:44:57</td>\n      <td>2023-08-17</td>\n      <td>-</td>\n      <td>BUY</td>\n      <td>1</td>\n      <td>108.3777</td>\n      <td>-108.38</td>\n      <td>0.00</td>\n      <td>0.00</td>\n      <td>MKT</td>\n      <td>O</td>\n    </tr>\n    <tr>\n      <th>314</th>\n      <td>U***5820</td>\n      <td>XOM</td>\n      <td>XOM</td>\n      <td>2023-08-15, 12:51:56</td>\n      <td>2023-08-17</td>\n      <td>-</td>\n      <td>SELL</td>\n      <td>-1</td>\n      <td>108.3311</td>\n      <td>108.33</td>\n      <td>0.00¹</td>\n      <td>0.00</td>\n      <td>MKT</td>\n      <td>C</td>\n    </tr>\n    <tr>\n      <th>317</th>\n      <td>U***5820</td>\n      <td>ZUMZ</td>\n      <td>ZUMZ</td>\n      <td>2023-08-15, 09:45:01</td>\n      <td>2023-08-17</td>\n      <td>-</td>\n      <td>BUY</td>\n      <td>6</td>\n      <td>17.8000</td>\n      <td>-106.80</td>\n      <td>0.00</td>\n      <td>0.00</td>\n      <td>MKT</td>\n      <td>O</td>\n    </tr>\n    <tr>\n      <th>319</th>\n      <td>U***5820</td>\n      <td>ZUMZ</td>\n      <td>ZUMZ</td>\n      <td>2023-08-15, 09:51:58</td>\n      <td>2023-08-17</td>\n      <td>-</td>\n      <td>SELL</td>\n      <td>-6</td>\n      <td>17.7800</td>\n      <td>106.68</td>\n      <td>0.00¹</td>\n      <td>0.00</td>\n      <td>MKT</td>\n      <td>C</td>\n    </tr>\n  </tbody>\n</table>\n<p>128 rows × 14 columns</p>\n</div>"
     },
     "execution_count": 66,
     "metadata": {},
     "output_type": "execute_result"
    }
   ],
   "source": [
    "df"
   ],
   "metadata": {
    "collapsed": false,
    "ExecuteTime": {
     "end_time": "2023-09-07T04:48:56.618870Z",
     "start_time": "2023-09-07T04:48:56.547661Z"
    }
   },
   "id": "fbb191b71d8813a8"
  },
  {
   "cell_type": "code",
   "execution_count": 67,
   "outputs": [],
   "source": [
    "df = df[[\"Symbol\", \"Trade Date/Time\", \"Type\", \"Quantity\", \"Price\"]].copy()"
   ],
   "metadata": {
    "collapsed": false,
    "ExecuteTime": {
     "end_time": "2023-09-07T04:48:56.618906Z",
     "start_time": "2023-09-07T04:48:56.550678Z"
    }
   },
   "id": "b5d503287669b0"
  },
  {
   "cell_type": "code",
   "execution_count": 68,
   "outputs": [],
   "source": [
    "df[\"Trade Date/Time\"] = pd.to_datetime(df[\"Trade Date/Time\"], format = \"%Y-%m-%d, %H:%M:%S\")\n",
    "df[\"Trade Date/Time\"] = df[\"Trade Date/Time\"] - pd.Timedelta(hours = 3)"
   ],
   "metadata": {
    "collapsed": false,
    "ExecuteTime": {
     "end_time": "2023-09-07T04:48:56.618940Z",
     "start_time": "2023-09-07T04:48:56.554249Z"
    }
   },
   "id": "122e7abc9c831712"
  },
  {
   "cell_type": "code",
   "execution_count": 69,
   "outputs": [],
   "source": [
    "df[\"Broker Executed\"] = df[\"Trade Date/Time\"].dt.strftime('%I:%M:%S')"
   ],
   "metadata": {
    "collapsed": false,
    "ExecuteTime": {
     "end_time": "2023-09-07T04:48:56.618984Z",
     "start_time": "2023-09-07T04:48:56.557179Z"
    }
   },
   "id": "8f221255f7e3dd84"
  },
  {
   "cell_type": "code",
   "execution_count": 70,
   "outputs": [
    {
     "data": {
      "text/plain": "    Symbol     Trade Date/Time  Type Quantity     Price Broker Executed\n2      AAP 2023-08-15 10:21:43   BUY        1   69.5700        10:21:43\n4      AAP 2023-08-15 10:28:38  SELL       -1   69.6300        10:28:38\n7     ADRT 2023-08-15 06:46:05   BUY        9   11.5000        06:46:05\n9     ADRT 2023-08-15 06:52:59  SELL       -9   11.4550        06:52:59\n12     AGL 2023-08-15 09:54:28   BUY        6   18.0800        09:54:28\n..     ...                 ...   ...      ...       ...             ...\n309    WRB 2023-08-15 07:01:27  SELL       -2   63.5229        07:01:27\n312    XOM 2023-08-15 09:44:57   BUY        1  108.3777        09:44:57\n314    XOM 2023-08-15 09:51:56  SELL       -1  108.3311        09:51:56\n317   ZUMZ 2023-08-15 06:45:01   BUY        6   17.8000        06:45:01\n319   ZUMZ 2023-08-15 06:51:58  SELL       -6   17.7800        06:51:58\n\n[128 rows x 6 columns]",
      "text/html": "<div>\n<style scoped>\n    .dataframe tbody tr th:only-of-type {\n        vertical-align: middle;\n    }\n\n    .dataframe tbody tr th {\n        vertical-align: top;\n    }\n\n    .dataframe thead th {\n        text-align: right;\n    }\n</style>\n<table border=\"1\" class=\"dataframe\">\n  <thead>\n    <tr style=\"text-align: right;\">\n      <th></th>\n      <th>Symbol</th>\n      <th>Trade Date/Time</th>\n      <th>Type</th>\n      <th>Quantity</th>\n      <th>Price</th>\n      <th>Broker Executed</th>\n    </tr>\n  </thead>\n  <tbody>\n    <tr>\n      <th>2</th>\n      <td>AAP</td>\n      <td>2023-08-15 10:21:43</td>\n      <td>BUY</td>\n      <td>1</td>\n      <td>69.5700</td>\n      <td>10:21:43</td>\n    </tr>\n    <tr>\n      <th>4</th>\n      <td>AAP</td>\n      <td>2023-08-15 10:28:38</td>\n      <td>SELL</td>\n      <td>-1</td>\n      <td>69.6300</td>\n      <td>10:28:38</td>\n    </tr>\n    <tr>\n      <th>7</th>\n      <td>ADRT</td>\n      <td>2023-08-15 06:46:05</td>\n      <td>BUY</td>\n      <td>9</td>\n      <td>11.5000</td>\n      <td>06:46:05</td>\n    </tr>\n    <tr>\n      <th>9</th>\n      <td>ADRT</td>\n      <td>2023-08-15 06:52:59</td>\n      <td>SELL</td>\n      <td>-9</td>\n      <td>11.4550</td>\n      <td>06:52:59</td>\n    </tr>\n    <tr>\n      <th>12</th>\n      <td>AGL</td>\n      <td>2023-08-15 09:54:28</td>\n      <td>BUY</td>\n      <td>6</td>\n      <td>18.0800</td>\n      <td>09:54:28</td>\n    </tr>\n    <tr>\n      <th>...</th>\n      <td>...</td>\n      <td>...</td>\n      <td>...</td>\n      <td>...</td>\n      <td>...</td>\n      <td>...</td>\n    </tr>\n    <tr>\n      <th>309</th>\n      <td>WRB</td>\n      <td>2023-08-15 07:01:27</td>\n      <td>SELL</td>\n      <td>-2</td>\n      <td>63.5229</td>\n      <td>07:01:27</td>\n    </tr>\n    <tr>\n      <th>312</th>\n      <td>XOM</td>\n      <td>2023-08-15 09:44:57</td>\n      <td>BUY</td>\n      <td>1</td>\n      <td>108.3777</td>\n      <td>09:44:57</td>\n    </tr>\n    <tr>\n      <th>314</th>\n      <td>XOM</td>\n      <td>2023-08-15 09:51:56</td>\n      <td>SELL</td>\n      <td>-1</td>\n      <td>108.3311</td>\n      <td>09:51:56</td>\n    </tr>\n    <tr>\n      <th>317</th>\n      <td>ZUMZ</td>\n      <td>2023-08-15 06:45:01</td>\n      <td>BUY</td>\n      <td>6</td>\n      <td>17.8000</td>\n      <td>06:45:01</td>\n    </tr>\n    <tr>\n      <th>319</th>\n      <td>ZUMZ</td>\n      <td>2023-08-15 06:51:58</td>\n      <td>SELL</td>\n      <td>-6</td>\n      <td>17.7800</td>\n      <td>06:51:58</td>\n    </tr>\n  </tbody>\n</table>\n<p>128 rows × 6 columns</p>\n</div>"
     },
     "execution_count": 70,
     "metadata": {},
     "output_type": "execute_result"
    }
   ],
   "source": [
    "df"
   ],
   "metadata": {
    "collapsed": false,
    "ExecuteTime": {
     "end_time": "2023-09-07T04:48:56.619153Z",
     "start_time": "2023-09-07T04:48:56.563006Z"
    }
   },
   "id": "ca2c61bc9203fef0"
  },
  {
   "cell_type": "code",
   "execution_count": 71,
   "outputs": [],
   "source": [
    "df[\"Quantity\"] = pd.to_numeric(df[\"Quantity\"])\n",
    "df[\"Quantity\"] = df[\"Quantity\"].abs()\n",
    "df[\"Price\"] = pd.to_numeric(df[\"Price\"])"
   ],
   "metadata": {
    "collapsed": false,
    "ExecuteTime": {
     "end_time": "2023-09-07T04:48:56.619192Z",
     "start_time": "2023-09-07T04:48:56.567919Z"
    }
   },
   "id": "888da5c8d999cf2b"
  },
  {
   "cell_type": "code",
   "execution_count": 72,
   "outputs": [],
   "source": [
    "df = df.rename(columns = {\n",
    "    \"Type\": \"Action\",\n",
    "    \"Quantity\": \"Size\"\n",
    "})"
   ],
   "metadata": {
    "collapsed": false,
    "ExecuteTime": {
     "end_time": "2023-09-07T04:48:56.619226Z",
     "start_time": "2023-09-07T04:48:56.570282Z"
    }
   },
   "id": "3f57cf58aca3e670"
  },
  {
   "cell_type": "code",
   "execution_count": 73,
   "outputs": [
    {
     "data": {
      "text/plain": "    Symbol     Trade Date/Time Action  Size     Price Broker Executed\n2      AAP 2023-08-15 10:21:43    BUY     1   69.5700        10:21:43\n4      AAP 2023-08-15 10:28:38   SELL     1   69.6300        10:28:38\n7     ADRT 2023-08-15 06:46:05    BUY     9   11.5000        06:46:05\n9     ADRT 2023-08-15 06:52:59   SELL     9   11.4550        06:52:59\n12     AGL 2023-08-15 09:54:28    BUY     6   18.0800        09:54:28\n..     ...                 ...    ...   ...       ...             ...\n309    WRB 2023-08-15 07:01:27   SELL     2   63.5229        07:01:27\n312    XOM 2023-08-15 09:44:57    BUY     1  108.3777        09:44:57\n314    XOM 2023-08-15 09:51:56   SELL     1  108.3311        09:51:56\n317   ZUMZ 2023-08-15 06:45:01    BUY     6   17.8000        06:45:01\n319   ZUMZ 2023-08-15 06:51:58   SELL     6   17.7800        06:51:58\n\n[128 rows x 6 columns]",
      "text/html": "<div>\n<style scoped>\n    .dataframe tbody tr th:only-of-type {\n        vertical-align: middle;\n    }\n\n    .dataframe tbody tr th {\n        vertical-align: top;\n    }\n\n    .dataframe thead th {\n        text-align: right;\n    }\n</style>\n<table border=\"1\" class=\"dataframe\">\n  <thead>\n    <tr style=\"text-align: right;\">\n      <th></th>\n      <th>Symbol</th>\n      <th>Trade Date/Time</th>\n      <th>Action</th>\n      <th>Size</th>\n      <th>Price</th>\n      <th>Broker Executed</th>\n    </tr>\n  </thead>\n  <tbody>\n    <tr>\n      <th>2</th>\n      <td>AAP</td>\n      <td>2023-08-15 10:21:43</td>\n      <td>BUY</td>\n      <td>1</td>\n      <td>69.5700</td>\n      <td>10:21:43</td>\n    </tr>\n    <tr>\n      <th>4</th>\n      <td>AAP</td>\n      <td>2023-08-15 10:28:38</td>\n      <td>SELL</td>\n      <td>1</td>\n      <td>69.6300</td>\n      <td>10:28:38</td>\n    </tr>\n    <tr>\n      <th>7</th>\n      <td>ADRT</td>\n      <td>2023-08-15 06:46:05</td>\n      <td>BUY</td>\n      <td>9</td>\n      <td>11.5000</td>\n      <td>06:46:05</td>\n    </tr>\n    <tr>\n      <th>9</th>\n      <td>ADRT</td>\n      <td>2023-08-15 06:52:59</td>\n      <td>SELL</td>\n      <td>9</td>\n      <td>11.4550</td>\n      <td>06:52:59</td>\n    </tr>\n    <tr>\n      <th>12</th>\n      <td>AGL</td>\n      <td>2023-08-15 09:54:28</td>\n      <td>BUY</td>\n      <td>6</td>\n      <td>18.0800</td>\n      <td>09:54:28</td>\n    </tr>\n    <tr>\n      <th>...</th>\n      <td>...</td>\n      <td>...</td>\n      <td>...</td>\n      <td>...</td>\n      <td>...</td>\n      <td>...</td>\n    </tr>\n    <tr>\n      <th>309</th>\n      <td>WRB</td>\n      <td>2023-08-15 07:01:27</td>\n      <td>SELL</td>\n      <td>2</td>\n      <td>63.5229</td>\n      <td>07:01:27</td>\n    </tr>\n    <tr>\n      <th>312</th>\n      <td>XOM</td>\n      <td>2023-08-15 09:44:57</td>\n      <td>BUY</td>\n      <td>1</td>\n      <td>108.3777</td>\n      <td>09:44:57</td>\n    </tr>\n    <tr>\n      <th>314</th>\n      <td>XOM</td>\n      <td>2023-08-15 09:51:56</td>\n      <td>SELL</td>\n      <td>1</td>\n      <td>108.3311</td>\n      <td>09:51:56</td>\n    </tr>\n    <tr>\n      <th>317</th>\n      <td>ZUMZ</td>\n      <td>2023-08-15 06:45:01</td>\n      <td>BUY</td>\n      <td>6</td>\n      <td>17.8000</td>\n      <td>06:45:01</td>\n    </tr>\n    <tr>\n      <th>319</th>\n      <td>ZUMZ</td>\n      <td>2023-08-15 06:51:58</td>\n      <td>SELL</td>\n      <td>6</td>\n      <td>17.7800</td>\n      <td>06:51:58</td>\n    </tr>\n  </tbody>\n</table>\n<p>128 rows × 6 columns</p>\n</div>"
     },
     "execution_count": 73,
     "metadata": {},
     "output_type": "execute_result"
    }
   ],
   "source": [
    "df"
   ],
   "metadata": {
    "collapsed": false,
    "ExecuteTime": {
     "end_time": "2023-09-07T04:48:56.619382Z",
     "start_time": "2023-09-07T04:48:56.576018Z"
    }
   },
   "id": "33b9d39fc199816e"
  },
  {
   "cell_type": "code",
   "execution_count": 74,
   "outputs": [],
   "source": [
    "def get_ibkr_report(ibkr_file):\n",
    "    df = pd.read_html(ibkr_file)\n",
    "    df = df[1]\n",
    "    df.drop(index = df.index[:2], inplace = True)\n",
    "    df_sub = df[[\"Trade Date/Time\", \"Symbol\", \"Quantity\", \"Price\", \"Code\"]]\n",
    "    df_sub = df_sub[df_sub[\"Code\"].notna()]\n",
    "    df_sub[\"Code\"] = df_sub[\"Code\"].str[0]\n",
    "    df_sub[\"Action\"] = np.where(df_sub[\"Code\"] == \"O\", \"Buy\", \"Sell\")\n",
    "    df_sub = df_sub.drop(\"Code\", axis = 1)\n",
    "    df_sub = df_sub.drop(df.index[-1])\n",
    "    df_sub[\"Trade Date/Time\"] = pd.to_datetime(df_sub[\"Trade Date/Time\"])\n",
    "    df_sub[\"Trade Date/Time\"] = df_sub[\"Trade Date/Time\"] - pd.Timedelta(hours = 3)\n",
    "    df_sub = df_sub.set_axis([\"Broker Executed\", \"Symbol\", \"Quantity\", \"Price\", \"Action\"], axis = 1)\n",
    "    df_sub[\"Quantity\"] = df_sub[\"Quantity\"].astype(\"int64\").abs()\n",
    "    df_sub[\"Price\"] = df_sub[\"Price\"].astype(\"float64\")\n",
    "    df_sub[\"Dollar Amt\"] = (df_sub[\"Price\"] * df_sub[\"Quantity\"]).abs().round(2)\n",
    "    return df_sub"
   ],
   "metadata": {
    "collapsed": false,
    "ExecuteTime": {
     "end_time": "2023-09-07T04:49:13.491938Z",
     "start_time": "2023-09-07T04:49:13.471742Z"
    }
   },
   "id": "60efce3cc195b430"
  },
  {
   "cell_type": "code",
   "execution_count": 92,
   "outputs": [
    {
     "name": "stdout",
     "output_type": "stream",
     "text": [
      "25.5 ms ± 800 µs per loop (mean ± std. dev. of 7 runs, 10 loops each)\n"
     ]
    }
   ],
   "source": [
    "%%timeit\n",
    "get_ibkr_report(ibkr_file)"
   ],
   "metadata": {
    "collapsed": false,
    "ExecuteTime": {
     "end_time": "2023-09-07T04:54:45.236464Z",
     "start_time": "2023-09-07T04:54:43.153569Z"
    }
   },
   "id": "a5900d8583fa827d"
  },
  {
   "cell_type": "code",
   "execution_count": 32,
   "outputs": [],
   "source": [
    "def get_ibkr_report2(ibkr_file):\n",
    "    dfs = pd.read_html(ibkr_file)\n",
    "    df = dfs[1]\n",
    "    df = df.drop(df.index[[0, 1, -1, -2]])\n",
    "    df = df[df[\"Code\"].notna()]\n",
    "    df = df[[\"Symbol\", \"Trade Date/Time\", \"Type\", \"Quantity\", \"Price\"]].copy()\n",
    "\n",
    "    df[\"Trade Date/Time\"] = pd.to_datetime(df[\"Trade Date/Time\"], format = \"%Y-%m-%d, %H:%M:%S\")\n",
    "    df[\"Trade Date/Time\"] = df[\"Trade Date/Time\"] - pd.Timedelta(hours = 3)\n",
    "    df[\"Broker Executed\"] = df[\"Trade Date/Time\"].dt.strftime('%I:%M:%S')\n",
    "\n",
    "    df[\"Quantity\"] = pd.to_numeric(df[\"Quantity\"])\n",
    "    df[\"Quantity\"] = df[\"Quantity\"].abs()\n",
    "    df[\"Price\"] = pd.to_numeric(df[\"Price\"])\n",
    "    df[\"Dollar Amt\"] = df[\"Quantity\"] * df[\"Price\"]\n",
    "\n",
    "    df = df.rename(columns = {\n",
    "        \"Type\": \"Action\",\n",
    "        \"Quantity\": \"Size\"\n",
    "    })\n",
    "    return df"
   ],
   "metadata": {
    "collapsed": false,
    "ExecuteTime": {
     "end_time": "2024-01-06T00:41:20.260031Z",
     "start_time": "2024-01-06T00:41:20.249747Z"
    }
   },
   "id": "d8b2a9aaf8224a1d"
  },
  {
   "cell_type": "code",
   "execution_count": 34,
   "outputs": [
    {
     "data": {
      "text/plain": "    Symbol     Trade Date/Time Action  Size     Price Broker Executed  \\\n2      AAP 2023-08-15 10:21:43    BUY     1   69.5700        10:21:43   \n4      AAP 2023-08-15 10:28:38   SELL     1   69.6300        10:28:38   \n7     ADRT 2023-08-15 06:46:05    BUY     9   11.5000        06:46:05   \n9     ADRT 2023-08-15 06:52:59   SELL     9   11.4550        06:52:59   \n12     AGL 2023-08-15 09:54:28    BUY     6   18.0800        09:54:28   \n..     ...                 ...    ...   ...       ...             ...   \n309    WRB 2023-08-15 07:01:27   SELL     2   63.5229        07:01:27   \n312    XOM 2023-08-15 09:44:57    BUY     1  108.3777        09:44:57   \n314    XOM 2023-08-15 09:51:56   SELL     1  108.3311        09:51:56   \n317   ZUMZ 2023-08-15 06:45:01    BUY     6   17.8000        06:45:01   \n319   ZUMZ 2023-08-15 06:51:58   SELL     6   17.7800        06:51:58   \n\n     Dollar Amt  \n2       69.5700  \n4       69.6300  \n7      103.5000  \n9      103.0950  \n12     108.4800  \n..          ...  \n309    127.0458  \n312    108.3777  \n314    108.3311  \n317    106.8000  \n319    106.6800  \n\n[128 rows x 7 columns]",
      "text/html": "<div>\n<style scoped>\n    .dataframe tbody tr th:only-of-type {\n        vertical-align: middle;\n    }\n\n    .dataframe tbody tr th {\n        vertical-align: top;\n    }\n\n    .dataframe thead th {\n        text-align: right;\n    }\n</style>\n<table border=\"1\" class=\"dataframe\">\n  <thead>\n    <tr style=\"text-align: right;\">\n      <th></th>\n      <th>Symbol</th>\n      <th>Trade Date/Time</th>\n      <th>Action</th>\n      <th>Size</th>\n      <th>Price</th>\n      <th>Broker Executed</th>\n      <th>Dollar Amt</th>\n    </tr>\n  </thead>\n  <tbody>\n    <tr>\n      <th>2</th>\n      <td>AAP</td>\n      <td>2023-08-15 10:21:43</td>\n      <td>BUY</td>\n      <td>1</td>\n      <td>69.5700</td>\n      <td>10:21:43</td>\n      <td>69.5700</td>\n    </tr>\n    <tr>\n      <th>4</th>\n      <td>AAP</td>\n      <td>2023-08-15 10:28:38</td>\n      <td>SELL</td>\n      <td>1</td>\n      <td>69.6300</td>\n      <td>10:28:38</td>\n      <td>69.6300</td>\n    </tr>\n    <tr>\n      <th>7</th>\n      <td>ADRT</td>\n      <td>2023-08-15 06:46:05</td>\n      <td>BUY</td>\n      <td>9</td>\n      <td>11.5000</td>\n      <td>06:46:05</td>\n      <td>103.5000</td>\n    </tr>\n    <tr>\n      <th>9</th>\n      <td>ADRT</td>\n      <td>2023-08-15 06:52:59</td>\n      <td>SELL</td>\n      <td>9</td>\n      <td>11.4550</td>\n      <td>06:52:59</td>\n      <td>103.0950</td>\n    </tr>\n    <tr>\n      <th>12</th>\n      <td>AGL</td>\n      <td>2023-08-15 09:54:28</td>\n      <td>BUY</td>\n      <td>6</td>\n      <td>18.0800</td>\n      <td>09:54:28</td>\n      <td>108.4800</td>\n    </tr>\n    <tr>\n      <th>...</th>\n      <td>...</td>\n      <td>...</td>\n      <td>...</td>\n      <td>...</td>\n      <td>...</td>\n      <td>...</td>\n      <td>...</td>\n    </tr>\n    <tr>\n      <th>309</th>\n      <td>WRB</td>\n      <td>2023-08-15 07:01:27</td>\n      <td>SELL</td>\n      <td>2</td>\n      <td>63.5229</td>\n      <td>07:01:27</td>\n      <td>127.0458</td>\n    </tr>\n    <tr>\n      <th>312</th>\n      <td>XOM</td>\n      <td>2023-08-15 09:44:57</td>\n      <td>BUY</td>\n      <td>1</td>\n      <td>108.3777</td>\n      <td>09:44:57</td>\n      <td>108.3777</td>\n    </tr>\n    <tr>\n      <th>314</th>\n      <td>XOM</td>\n      <td>2023-08-15 09:51:56</td>\n      <td>SELL</td>\n      <td>1</td>\n      <td>108.3311</td>\n      <td>09:51:56</td>\n      <td>108.3311</td>\n    </tr>\n    <tr>\n      <th>317</th>\n      <td>ZUMZ</td>\n      <td>2023-08-15 06:45:01</td>\n      <td>BUY</td>\n      <td>6</td>\n      <td>17.8000</td>\n      <td>06:45:01</td>\n      <td>106.8000</td>\n    </tr>\n    <tr>\n      <th>319</th>\n      <td>ZUMZ</td>\n      <td>2023-08-15 06:51:58</td>\n      <td>SELL</td>\n      <td>6</td>\n      <td>17.7800</td>\n      <td>06:51:58</td>\n      <td>106.6800</td>\n    </tr>\n  </tbody>\n</table>\n<p>128 rows × 7 columns</p>\n</div>"
     },
     "execution_count": 34,
     "metadata": {},
     "output_type": "execute_result"
    }
   ],
   "source": [
    "get_ibkr_report2(ibkr_file)"
   ],
   "metadata": {
    "collapsed": false,
    "ExecuteTime": {
     "end_time": "2024-01-06T00:41:28.477938Z",
     "start_time": "2024-01-06T00:41:28.434373Z"
    }
   },
   "id": "fc5b79f2d7d4bab4"
  },
  {
   "cell_type": "code",
   "execution_count": 10,
   "outputs": [
    {
     "data": {
      "text/plain": "   Symbol     Trade Date/Time Action  Size   Price Broker Executed  Dollar Amt\n42   AMTX 2023-08-15 10:30:43    BUY    16  6.2883        10:30:43    100.6128\n44   AMTX 2023-08-15 12:12:55   SELL    16  6.2330        12:12:55     99.7280",
      "text/html": "<div>\n<style scoped>\n    .dataframe tbody tr th:only-of-type {\n        vertical-align: middle;\n    }\n\n    .dataframe tbody tr th {\n        vertical-align: top;\n    }\n\n    .dataframe thead th {\n        text-align: right;\n    }\n</style>\n<table border=\"1\" class=\"dataframe\">\n  <thead>\n    <tr style=\"text-align: right;\">\n      <th></th>\n      <th>Symbol</th>\n      <th>Trade Date/Time</th>\n      <th>Action</th>\n      <th>Size</th>\n      <th>Price</th>\n      <th>Broker Executed</th>\n      <th>Dollar Amt</th>\n    </tr>\n  </thead>\n  <tbody>\n    <tr>\n      <th>42</th>\n      <td>AMTX</td>\n      <td>2023-08-15 10:30:43</td>\n      <td>BUY</td>\n      <td>16</td>\n      <td>6.2883</td>\n      <td>10:30:43</td>\n      <td>100.6128</td>\n    </tr>\n    <tr>\n      <th>44</th>\n      <td>AMTX</td>\n      <td>2023-08-15 12:12:55</td>\n      <td>SELL</td>\n      <td>16</td>\n      <td>6.2330</td>\n      <td>12:12:55</td>\n      <td>99.7280</td>\n    </tr>\n  </tbody>\n</table>\n</div>"
     },
     "execution_count": 10,
     "metadata": {},
     "output_type": "execute_result"
    }
   ],
   "source": [
    "df[df[\"Symbol\"] == \"AMTX\"]"
   ],
   "metadata": {
    "collapsed": false,
    "ExecuteTime": {
     "end_time": "2023-09-15T19:20:15.637484Z",
     "start_time": "2023-09-15T19:20:15.629888Z"
    }
   },
   "id": "ce20e9b01f649b51"
  },
  {
   "cell_type": "code",
   "execution_count": 6,
   "outputs": [],
   "source": [
    "thing = pd.Series({\"a\": 1, \"b\": 2, \"c\": 3})"
   ],
   "metadata": {
    "collapsed": false,
    "ExecuteTime": {
     "end_time": "2023-09-19T22:27:25.863179Z",
     "start_time": "2023-09-19T22:27:25.851156Z"
    }
   },
   "id": "23037bc5e79b2724"
  },
  {
   "cell_type": "code",
   "execution_count": 9,
   "outputs": [],
   "source": [
    "thing[:] = None"
   ],
   "metadata": {
    "collapsed": false,
    "ExecuteTime": {
     "end_time": "2023-09-19T22:27:33.274074Z",
     "start_time": "2023-09-19T22:27:33.262413Z"
    }
   },
   "id": "a5b3cfac9e67a14c"
  },
  {
   "cell_type": "code",
   "execution_count": 10,
   "outputs": [
    {
     "data": {
      "text/plain": "a   NaN\nb   NaN\nc   NaN\ndtype: float64"
     },
     "execution_count": 10,
     "metadata": {},
     "output_type": "execute_result"
    }
   ],
   "source": [
    "thing"
   ],
   "metadata": {
    "collapsed": false,
    "ExecuteTime": {
     "end_time": "2023-09-19T22:27:34.685086Z",
     "start_time": "2023-09-19T22:27:34.676446Z"
    }
   },
   "id": "cb79d79572038ace"
  },
  {
   "cell_type": "code",
   "execution_count": 5,
   "outputs": [],
   "source": [
    "file = \"/Users/sanathnair/Developer/trading/data/ibkr/ibkr_12_18.csv\""
   ],
   "metadata": {
    "collapsed": false,
    "ExecuteTime": {
     "end_time": "2024-01-07T01:06:05.661717Z",
     "start_time": "2024-01-07T01:06:05.655119Z"
    }
   },
   "id": "e6e537ec54d808ae"
  },
  {
   "cell_type": "code",
   "outputs": [
    {
     "data": {
      "text/plain": "     Acct ID Symbol Trade Date/Time  Unnamed: 3 Settle Date Exchange  Type  \\\n0   U***5820   BATL      2023-12-18  2:34:55 PM  2023-12-20        -   BUY   \n1   U***5820   BATL      2023-12-18  2:41:54 PM  2023-12-20        -  SELL   \n2   U***5820   GEVO      2023-12-18  2:35:58 PM  2023-12-20        -   BUY   \n3   U***5820   GEVO      2023-12-18  2:44:16 PM  2023-12-20        -  SELL   \n4   U***5820   MICS      2023-12-18  1:38:00 PM  2023-12-20        -   BUY   \n5   U***5820   MICS      2023-12-18  1:41:07 PM  2023-12-20        -   BUY   \n6   U***5820   MICS      2023-12-18  1:50:56 PM  2023-12-20        -   BUY   \n7   U***5820   MICS      2023-12-18  1:53:00 PM  2023-12-20        -   BUY   \n8   U***5820   MICS      2023-12-18  1:38:22 PM  2023-12-20        -  SELL   \n9   U***5820   MICS      2023-12-18  1:46:27 PM  2023-12-20        -  SELL   \n10  U***5820   MICS      2023-12-18  1:51:03 PM  2023-12-20        -  SELL   \n11  U***5820   MICS      2023-12-18  1:53:07 PM  2023-12-20        -  SELL   \n12  U***5820   PROV      2023-12-18  2:44:39 PM  2023-12-20        -   BUY   \n13  U***5820   PROV      2023-12-18  3:14:22 PM  2023-12-20        -  SELL   \n14  U***5820   RAVE      2023-12-18  2:35:26 PM  2023-12-20        -   BUY   \n15  U***5820   RAVE      2023-12-18  2:42:29 PM  2023-12-20        -  SELL   \n16  U***5820     RM      2023-12-18  2:34:21 PM  2023-12-20        -   BUY   \n17  U***5820     RM      2023-12-18  2:41:20 PM  2023-12-20        -  SELL   \n18  U***5820    VRM      2023-12-18  1:53:17 PM  2023-12-20        -   BUY   \n19  U***5820    VRM      2023-12-18  2:28:04 PM  2023-12-20        -   BUY   \n20  U***5820    VRM      2023-12-18  1:53:25 PM  2023-12-20        -  SELL   \n21  U***5820    VRM      2023-12-18  2:28:13 PM  2023-12-20        -  SELL   \n\n    Quantity    Price  Proceeds  Comm  Fee Order Type  Code  \n0         10   9.5800    -95.80   0.0  0.0        MKT     O  \n1        -10   9.5800     95.80   0.0  0.0        MKT     C  \n2         81   1.2450   -100.84   0.0  0.0        MKT     O  \n3        -81   1.2407    100.50   0.0  0.0        MKT     C  \n4          1   1.1289     -1.13   0.0  0.0        MKT     O  \n5          1   1.1300     -1.13   0.0  0.0        MKT     O  \n6          1   1.1300     -1.13   0.0  0.0        MKT     O  \n7          1   1.1187     -1.12   0.0  0.0        MKT     O  \n8         -1   1.1000      1.10   0.0  0.0        LMT     C  \n9         -1   1.1050      1.10   0.0  0.0        MKT     C  \n10        -1   1.1050      1.10   0.0  0.0        MKT     C  \n11        -1   1.1050      1.10   0.0  0.0        MKT     C  \n12         8  12.1200    -96.96   0.0  0.0        MKT     O  \n13        -8  12.1200     96.96   0.0  0.0        MKT     C  \n14        45   2.2200    -99.90   0.0  0.0        MKT     O  \n15       -45   2.2463    101.08   0.0  0.0        MKT     C  \n16         4  24.4950    -97.98   0.0  0.0        MKT     O  \n17        -4  24.4950     97.98   0.0  0.0        MKT     C  \n18         1   0.8426     -0.84   0.0  0.0        MKT  O;SF  \n19         1   0.8289     -0.83   0.0  0.0        MKT  O;SF  \n20        -1   0.8364      0.84   0.0  0.0        MKT  C;SF  \n21        -1   0.8218      0.82   0.0  0.0        MKT  C;SF  ",
      "text/html": "<div>\n<style scoped>\n    .dataframe tbody tr th:only-of-type {\n        vertical-align: middle;\n    }\n\n    .dataframe tbody tr th {\n        vertical-align: top;\n    }\n\n    .dataframe thead th {\n        text-align: right;\n    }\n</style>\n<table border=\"1\" class=\"dataframe\">\n  <thead>\n    <tr style=\"text-align: right;\">\n      <th></th>\n      <th>Acct ID</th>\n      <th>Symbol</th>\n      <th>Trade Date/Time</th>\n      <th>Unnamed: 3</th>\n      <th>Settle Date</th>\n      <th>Exchange</th>\n      <th>Type</th>\n      <th>Quantity</th>\n      <th>Price</th>\n      <th>Proceeds</th>\n      <th>Comm</th>\n      <th>Fee</th>\n      <th>Order Type</th>\n      <th>Code</th>\n    </tr>\n  </thead>\n  <tbody>\n    <tr>\n      <th>0</th>\n      <td>U***5820</td>\n      <td>BATL</td>\n      <td>2023-12-18</td>\n      <td>2:34:55 PM</td>\n      <td>2023-12-20</td>\n      <td>-</td>\n      <td>BUY</td>\n      <td>10</td>\n      <td>9.5800</td>\n      <td>-95.80</td>\n      <td>0.0</td>\n      <td>0.0</td>\n      <td>MKT</td>\n      <td>O</td>\n    </tr>\n    <tr>\n      <th>1</th>\n      <td>U***5820</td>\n      <td>BATL</td>\n      <td>2023-12-18</td>\n      <td>2:41:54 PM</td>\n      <td>2023-12-20</td>\n      <td>-</td>\n      <td>SELL</td>\n      <td>-10</td>\n      <td>9.5800</td>\n      <td>95.80</td>\n      <td>0.0</td>\n      <td>0.0</td>\n      <td>MKT</td>\n      <td>C</td>\n    </tr>\n    <tr>\n      <th>2</th>\n      <td>U***5820</td>\n      <td>GEVO</td>\n      <td>2023-12-18</td>\n      <td>2:35:58 PM</td>\n      <td>2023-12-20</td>\n      <td>-</td>\n      <td>BUY</td>\n      <td>81</td>\n      <td>1.2450</td>\n      <td>-100.84</td>\n      <td>0.0</td>\n      <td>0.0</td>\n      <td>MKT</td>\n      <td>O</td>\n    </tr>\n    <tr>\n      <th>3</th>\n      <td>U***5820</td>\n      <td>GEVO</td>\n      <td>2023-12-18</td>\n      <td>2:44:16 PM</td>\n      <td>2023-12-20</td>\n      <td>-</td>\n      <td>SELL</td>\n      <td>-81</td>\n      <td>1.2407</td>\n      <td>100.50</td>\n      <td>0.0</td>\n      <td>0.0</td>\n      <td>MKT</td>\n      <td>C</td>\n    </tr>\n    <tr>\n      <th>4</th>\n      <td>U***5820</td>\n      <td>MICS</td>\n      <td>2023-12-18</td>\n      <td>1:38:00 PM</td>\n      <td>2023-12-20</td>\n      <td>-</td>\n      <td>BUY</td>\n      <td>1</td>\n      <td>1.1289</td>\n      <td>-1.13</td>\n      <td>0.0</td>\n      <td>0.0</td>\n      <td>MKT</td>\n      <td>O</td>\n    </tr>\n    <tr>\n      <th>5</th>\n      <td>U***5820</td>\n      <td>MICS</td>\n      <td>2023-12-18</td>\n      <td>1:41:07 PM</td>\n      <td>2023-12-20</td>\n      <td>-</td>\n      <td>BUY</td>\n      <td>1</td>\n      <td>1.1300</td>\n      <td>-1.13</td>\n      <td>0.0</td>\n      <td>0.0</td>\n      <td>MKT</td>\n      <td>O</td>\n    </tr>\n    <tr>\n      <th>6</th>\n      <td>U***5820</td>\n      <td>MICS</td>\n      <td>2023-12-18</td>\n      <td>1:50:56 PM</td>\n      <td>2023-12-20</td>\n      <td>-</td>\n      <td>BUY</td>\n      <td>1</td>\n      <td>1.1300</td>\n      <td>-1.13</td>\n      <td>0.0</td>\n      <td>0.0</td>\n      <td>MKT</td>\n      <td>O</td>\n    </tr>\n    <tr>\n      <th>7</th>\n      <td>U***5820</td>\n      <td>MICS</td>\n      <td>2023-12-18</td>\n      <td>1:53:00 PM</td>\n      <td>2023-12-20</td>\n      <td>-</td>\n      <td>BUY</td>\n      <td>1</td>\n      <td>1.1187</td>\n      <td>-1.12</td>\n      <td>0.0</td>\n      <td>0.0</td>\n      <td>MKT</td>\n      <td>O</td>\n    </tr>\n    <tr>\n      <th>8</th>\n      <td>U***5820</td>\n      <td>MICS</td>\n      <td>2023-12-18</td>\n      <td>1:38:22 PM</td>\n      <td>2023-12-20</td>\n      <td>-</td>\n      <td>SELL</td>\n      <td>-1</td>\n      <td>1.1000</td>\n      <td>1.10</td>\n      <td>0.0</td>\n      <td>0.0</td>\n      <td>LMT</td>\n      <td>C</td>\n    </tr>\n    <tr>\n      <th>9</th>\n      <td>U***5820</td>\n      <td>MICS</td>\n      <td>2023-12-18</td>\n      <td>1:46:27 PM</td>\n      <td>2023-12-20</td>\n      <td>-</td>\n      <td>SELL</td>\n      <td>-1</td>\n      <td>1.1050</td>\n      <td>1.10</td>\n      <td>0.0</td>\n      <td>0.0</td>\n      <td>MKT</td>\n      <td>C</td>\n    </tr>\n    <tr>\n      <th>10</th>\n      <td>U***5820</td>\n      <td>MICS</td>\n      <td>2023-12-18</td>\n      <td>1:51:03 PM</td>\n      <td>2023-12-20</td>\n      <td>-</td>\n      <td>SELL</td>\n      <td>-1</td>\n      <td>1.1050</td>\n      <td>1.10</td>\n      <td>0.0</td>\n      <td>0.0</td>\n      <td>MKT</td>\n      <td>C</td>\n    </tr>\n    <tr>\n      <th>11</th>\n      <td>U***5820</td>\n      <td>MICS</td>\n      <td>2023-12-18</td>\n      <td>1:53:07 PM</td>\n      <td>2023-12-20</td>\n      <td>-</td>\n      <td>SELL</td>\n      <td>-1</td>\n      <td>1.1050</td>\n      <td>1.10</td>\n      <td>0.0</td>\n      <td>0.0</td>\n      <td>MKT</td>\n      <td>C</td>\n    </tr>\n    <tr>\n      <th>12</th>\n      <td>U***5820</td>\n      <td>PROV</td>\n      <td>2023-12-18</td>\n      <td>2:44:39 PM</td>\n      <td>2023-12-20</td>\n      <td>-</td>\n      <td>BUY</td>\n      <td>8</td>\n      <td>12.1200</td>\n      <td>-96.96</td>\n      <td>0.0</td>\n      <td>0.0</td>\n      <td>MKT</td>\n      <td>O</td>\n    </tr>\n    <tr>\n      <th>13</th>\n      <td>U***5820</td>\n      <td>PROV</td>\n      <td>2023-12-18</td>\n      <td>3:14:22 PM</td>\n      <td>2023-12-20</td>\n      <td>-</td>\n      <td>SELL</td>\n      <td>-8</td>\n      <td>12.1200</td>\n      <td>96.96</td>\n      <td>0.0</td>\n      <td>0.0</td>\n      <td>MKT</td>\n      <td>C</td>\n    </tr>\n    <tr>\n      <th>14</th>\n      <td>U***5820</td>\n      <td>RAVE</td>\n      <td>2023-12-18</td>\n      <td>2:35:26 PM</td>\n      <td>2023-12-20</td>\n      <td>-</td>\n      <td>BUY</td>\n      <td>45</td>\n      <td>2.2200</td>\n      <td>-99.90</td>\n      <td>0.0</td>\n      <td>0.0</td>\n      <td>MKT</td>\n      <td>O</td>\n    </tr>\n    <tr>\n      <th>15</th>\n      <td>U***5820</td>\n      <td>RAVE</td>\n      <td>2023-12-18</td>\n      <td>2:42:29 PM</td>\n      <td>2023-12-20</td>\n      <td>-</td>\n      <td>SELL</td>\n      <td>-45</td>\n      <td>2.2463</td>\n      <td>101.08</td>\n      <td>0.0</td>\n      <td>0.0</td>\n      <td>MKT</td>\n      <td>C</td>\n    </tr>\n    <tr>\n      <th>16</th>\n      <td>U***5820</td>\n      <td>RM</td>\n      <td>2023-12-18</td>\n      <td>2:34:21 PM</td>\n      <td>2023-12-20</td>\n      <td>-</td>\n      <td>BUY</td>\n      <td>4</td>\n      <td>24.4950</td>\n      <td>-97.98</td>\n      <td>0.0</td>\n      <td>0.0</td>\n      <td>MKT</td>\n      <td>O</td>\n    </tr>\n    <tr>\n      <th>17</th>\n      <td>U***5820</td>\n      <td>RM</td>\n      <td>2023-12-18</td>\n      <td>2:41:20 PM</td>\n      <td>2023-12-20</td>\n      <td>-</td>\n      <td>SELL</td>\n      <td>-4</td>\n      <td>24.4950</td>\n      <td>97.98</td>\n      <td>0.0</td>\n      <td>0.0</td>\n      <td>MKT</td>\n      <td>C</td>\n    </tr>\n    <tr>\n      <th>18</th>\n      <td>U***5820</td>\n      <td>VRM</td>\n      <td>2023-12-18</td>\n      <td>1:53:17 PM</td>\n      <td>2023-12-20</td>\n      <td>-</td>\n      <td>BUY</td>\n      <td>1</td>\n      <td>0.8426</td>\n      <td>-0.84</td>\n      <td>0.0</td>\n      <td>0.0</td>\n      <td>MKT</td>\n      <td>O;SF</td>\n    </tr>\n    <tr>\n      <th>19</th>\n      <td>U***5820</td>\n      <td>VRM</td>\n      <td>2023-12-18</td>\n      <td>2:28:04 PM</td>\n      <td>2023-12-20</td>\n      <td>-</td>\n      <td>BUY</td>\n      <td>1</td>\n      <td>0.8289</td>\n      <td>-0.83</td>\n      <td>0.0</td>\n      <td>0.0</td>\n      <td>MKT</td>\n      <td>O;SF</td>\n    </tr>\n    <tr>\n      <th>20</th>\n      <td>U***5820</td>\n      <td>VRM</td>\n      <td>2023-12-18</td>\n      <td>1:53:25 PM</td>\n      <td>2023-12-20</td>\n      <td>-</td>\n      <td>SELL</td>\n      <td>-1</td>\n      <td>0.8364</td>\n      <td>0.84</td>\n      <td>0.0</td>\n      <td>0.0</td>\n      <td>MKT</td>\n      <td>C;SF</td>\n    </tr>\n    <tr>\n      <th>21</th>\n      <td>U***5820</td>\n      <td>VRM</td>\n      <td>2023-12-18</td>\n      <td>2:28:13 PM</td>\n      <td>2023-12-20</td>\n      <td>-</td>\n      <td>SELL</td>\n      <td>-1</td>\n      <td>0.8218</td>\n      <td>0.82</td>\n      <td>0.0</td>\n      <td>0.0</td>\n      <td>MKT</td>\n      <td>C;SF</td>\n    </tr>\n  </tbody>\n</table>\n</div>"
     },
     "execution_count": 6,
     "metadata": {},
     "output_type": "execute_result"
    }
   ],
   "source": [
    "df = pd.read_csv(file)\n",
    "df"
   ],
   "metadata": {
    "collapsed": false,
    "ExecuteTime": {
     "end_time": "2024-01-07T01:06:06.107407Z",
     "start_time": "2024-01-07T01:06:06.096147Z"
    }
   },
   "id": "bffc669a77baec85",
   "execution_count": 6
  },
  {
   "cell_type": "code",
   "outputs": [
    {
     "data": {
      "text/plain": "Index(['Acct ID', 'Symbol', 'Trade Date/Time', 'Unnamed: 3', 'Settle Date',\n       'Exchange', 'Type', 'Quantity', 'Price', 'Proceeds', 'Comm', 'Fee',\n       'Order\\r\\nType', 'Code'],\n      dtype='object')"
     },
     "execution_count": 4,
     "metadata": {},
     "output_type": "execute_result"
    }
   ],
   "source": [
    "df.columns"
   ],
   "metadata": {
    "collapsed": false,
    "ExecuteTime": {
     "end_time": "2024-01-07T01:05:44.528117Z",
     "start_time": "2024-01-07T01:05:44.519244Z"
    }
   },
   "id": "e187eab2937f88bd",
   "execution_count": 4
  },
  {
   "cell_type": "code",
   "outputs": [
    {
     "ename": "KeyError",
     "evalue": "\"['Order\\\\nType'] not found in axis\"",
     "output_type": "error",
     "traceback": [
      "\u001B[0;31m---------------------------------------------------------------------------\u001B[0m",
      "\u001B[0;31mKeyError\u001B[0m                                  Traceback (most recent call last)",
      "Cell \u001B[0;32mIn[7], line 1\u001B[0m\n\u001B[0;32m----> 1\u001B[0m df \u001B[38;5;241m=\u001B[39m \u001B[43mdf\u001B[49m\u001B[38;5;241;43m.\u001B[39;49m\u001B[43mdrop\u001B[49m\u001B[43m(\u001B[49m\u001B[43m[\u001B[49m\u001B[38;5;124;43m'\u001B[39;49m\u001B[38;5;124;43mAcct ID\u001B[39;49m\u001B[38;5;124;43m'\u001B[39;49m\u001B[43m,\u001B[49m\u001B[43m \u001B[49m\u001B[38;5;124;43m'\u001B[39;49m\u001B[38;5;124;43mTrade Date/Time\u001B[39;49m\u001B[38;5;124;43m'\u001B[39;49m\u001B[43m,\u001B[49m\u001B[43m \u001B[49m\u001B[38;5;124;43m'\u001B[39;49m\u001B[38;5;124;43mSettle Date\u001B[39;49m\u001B[38;5;124;43m'\u001B[39;49m\u001B[43m,\u001B[49m\u001B[43m \u001B[49m\u001B[38;5;124;43m\"\u001B[39;49m\u001B[38;5;124;43mExchange\u001B[39;49m\u001B[38;5;124;43m\"\u001B[39;49m\u001B[43m,\u001B[49m\u001B[43m \u001B[49m\u001B[38;5;124;43m'\u001B[39;49m\u001B[38;5;124;43mProceeds\u001B[39;49m\u001B[38;5;124;43m'\u001B[39;49m\u001B[43m,\u001B[49m\u001B[43m \u001B[49m\u001B[38;5;124;43m'\u001B[39;49m\u001B[38;5;124;43mComm\u001B[39;49m\u001B[38;5;124;43m'\u001B[39;49m\u001B[43m,\u001B[49m\u001B[43m \u001B[49m\u001B[38;5;124;43m'\u001B[39;49m\u001B[38;5;124;43mFee\u001B[39;49m\u001B[38;5;124;43m'\u001B[39;49m\u001B[43m,\u001B[49m\n\u001B[1;32m      2\u001B[0m \u001B[43m              \u001B[49m\u001B[38;5;124;43m'\u001B[39;49m\u001B[38;5;124;43mOrder\u001B[39;49m\u001B[38;5;130;43;01m\\n\u001B[39;49;00m\u001B[38;5;124;43mType\u001B[39;49m\u001B[38;5;124;43m'\u001B[39;49m\u001B[43m,\u001B[49m\u001B[43m \u001B[49m\u001B[38;5;124;43m'\u001B[39;49m\u001B[38;5;124;43mCode\u001B[39;49m\u001B[38;5;124;43m'\u001B[39;49m\u001B[43m]\u001B[49m\u001B[43m,\u001B[49m\u001B[43m \u001B[49m\u001B[43maxis\u001B[49m\u001B[43m \u001B[49m\u001B[38;5;241;43m=\u001B[39;49m\u001B[43m \u001B[49m\u001B[38;5;241;43m1\u001B[39;49m\u001B[43m)\u001B[49m\n\u001B[1;32m      3\u001B[0m df\n",
      "File \u001B[0;32m/opt/homebrew/Caskroom/miniforge/base/envs/trading/lib/python3.9/site-packages/pandas/core/frame.py:5347\u001B[0m, in \u001B[0;36mDataFrame.drop\u001B[0;34m(self, labels, axis, index, columns, level, inplace, errors)\u001B[0m\n\u001B[1;32m   5199\u001B[0m \u001B[38;5;28;01mdef\u001B[39;00m \u001B[38;5;21mdrop\u001B[39m(\n\u001B[1;32m   5200\u001B[0m     \u001B[38;5;28mself\u001B[39m,\n\u001B[1;32m   5201\u001B[0m     labels: IndexLabel \u001B[38;5;241m|\u001B[39m \u001B[38;5;28;01mNone\u001B[39;00m \u001B[38;5;241m=\u001B[39m \u001B[38;5;28;01mNone\u001B[39;00m,\n\u001B[0;32m   (...)\u001B[0m\n\u001B[1;32m   5208\u001B[0m     errors: IgnoreRaise \u001B[38;5;241m=\u001B[39m \u001B[38;5;124m\"\u001B[39m\u001B[38;5;124mraise\u001B[39m\u001B[38;5;124m\"\u001B[39m,\n\u001B[1;32m   5209\u001B[0m ) \u001B[38;5;241m-\u001B[39m\u001B[38;5;241m>\u001B[39m DataFrame \u001B[38;5;241m|\u001B[39m \u001B[38;5;28;01mNone\u001B[39;00m:\n\u001B[1;32m   5210\u001B[0m \u001B[38;5;250m    \u001B[39m\u001B[38;5;124;03m\"\"\"\u001B[39;00m\n\u001B[1;32m   5211\u001B[0m \u001B[38;5;124;03m    Drop specified labels from rows or columns.\u001B[39;00m\n\u001B[1;32m   5212\u001B[0m \n\u001B[0;32m   (...)\u001B[0m\n\u001B[1;32m   5345\u001B[0m \u001B[38;5;124;03m            weight  1.0     0.8\u001B[39;00m\n\u001B[1;32m   5346\u001B[0m \u001B[38;5;124;03m    \"\"\"\u001B[39;00m\n\u001B[0;32m-> 5347\u001B[0m     \u001B[38;5;28;01mreturn\u001B[39;00m \u001B[38;5;28;43msuper\u001B[39;49m\u001B[43m(\u001B[49m\u001B[43m)\u001B[49m\u001B[38;5;241;43m.\u001B[39;49m\u001B[43mdrop\u001B[49m\u001B[43m(\u001B[49m\n\u001B[1;32m   5348\u001B[0m \u001B[43m        \u001B[49m\u001B[43mlabels\u001B[49m\u001B[38;5;241;43m=\u001B[39;49m\u001B[43mlabels\u001B[49m\u001B[43m,\u001B[49m\n\u001B[1;32m   5349\u001B[0m \u001B[43m        \u001B[49m\u001B[43maxis\u001B[49m\u001B[38;5;241;43m=\u001B[39;49m\u001B[43maxis\u001B[49m\u001B[43m,\u001B[49m\n\u001B[1;32m   5350\u001B[0m \u001B[43m        \u001B[49m\u001B[43mindex\u001B[49m\u001B[38;5;241;43m=\u001B[39;49m\u001B[43mindex\u001B[49m\u001B[43m,\u001B[49m\n\u001B[1;32m   5351\u001B[0m \u001B[43m        \u001B[49m\u001B[43mcolumns\u001B[49m\u001B[38;5;241;43m=\u001B[39;49m\u001B[43mcolumns\u001B[49m\u001B[43m,\u001B[49m\n\u001B[1;32m   5352\u001B[0m \u001B[43m        \u001B[49m\u001B[43mlevel\u001B[49m\u001B[38;5;241;43m=\u001B[39;49m\u001B[43mlevel\u001B[49m\u001B[43m,\u001B[49m\n\u001B[1;32m   5353\u001B[0m \u001B[43m        \u001B[49m\u001B[43minplace\u001B[49m\u001B[38;5;241;43m=\u001B[39;49m\u001B[43minplace\u001B[49m\u001B[43m,\u001B[49m\n\u001B[1;32m   5354\u001B[0m \u001B[43m        \u001B[49m\u001B[43merrors\u001B[49m\u001B[38;5;241;43m=\u001B[39;49m\u001B[43merrors\u001B[49m\u001B[43m,\u001B[49m\n\u001B[1;32m   5355\u001B[0m \u001B[43m    \u001B[49m\u001B[43m)\u001B[49m\n",
      "File \u001B[0;32m/opt/homebrew/Caskroom/miniforge/base/envs/trading/lib/python3.9/site-packages/pandas/core/generic.py:4711\u001B[0m, in \u001B[0;36mNDFrame.drop\u001B[0;34m(self, labels, axis, index, columns, level, inplace, errors)\u001B[0m\n\u001B[1;32m   4709\u001B[0m \u001B[38;5;28;01mfor\u001B[39;00m axis, labels \u001B[38;5;129;01min\u001B[39;00m axes\u001B[38;5;241m.\u001B[39mitems():\n\u001B[1;32m   4710\u001B[0m     \u001B[38;5;28;01mif\u001B[39;00m labels \u001B[38;5;129;01mis\u001B[39;00m \u001B[38;5;129;01mnot\u001B[39;00m \u001B[38;5;28;01mNone\u001B[39;00m:\n\u001B[0;32m-> 4711\u001B[0m         obj \u001B[38;5;241m=\u001B[39m \u001B[43mobj\u001B[49m\u001B[38;5;241;43m.\u001B[39;49m\u001B[43m_drop_axis\u001B[49m\u001B[43m(\u001B[49m\u001B[43mlabels\u001B[49m\u001B[43m,\u001B[49m\u001B[43m \u001B[49m\u001B[43maxis\u001B[49m\u001B[43m,\u001B[49m\u001B[43m \u001B[49m\u001B[43mlevel\u001B[49m\u001B[38;5;241;43m=\u001B[39;49m\u001B[43mlevel\u001B[49m\u001B[43m,\u001B[49m\u001B[43m \u001B[49m\u001B[43merrors\u001B[49m\u001B[38;5;241;43m=\u001B[39;49m\u001B[43merrors\u001B[49m\u001B[43m)\u001B[49m\n\u001B[1;32m   4713\u001B[0m \u001B[38;5;28;01mif\u001B[39;00m inplace:\n\u001B[1;32m   4714\u001B[0m     \u001B[38;5;28mself\u001B[39m\u001B[38;5;241m.\u001B[39m_update_inplace(obj)\n",
      "File \u001B[0;32m/opt/homebrew/Caskroom/miniforge/base/envs/trading/lib/python3.9/site-packages/pandas/core/generic.py:4753\u001B[0m, in \u001B[0;36mNDFrame._drop_axis\u001B[0;34m(self, labels, axis, level, errors, only_slice)\u001B[0m\n\u001B[1;32m   4751\u001B[0m         new_axis \u001B[38;5;241m=\u001B[39m axis\u001B[38;5;241m.\u001B[39mdrop(labels, level\u001B[38;5;241m=\u001B[39mlevel, errors\u001B[38;5;241m=\u001B[39merrors)\n\u001B[1;32m   4752\u001B[0m     \u001B[38;5;28;01melse\u001B[39;00m:\n\u001B[0;32m-> 4753\u001B[0m         new_axis \u001B[38;5;241m=\u001B[39m \u001B[43maxis\u001B[49m\u001B[38;5;241;43m.\u001B[39;49m\u001B[43mdrop\u001B[49m\u001B[43m(\u001B[49m\u001B[43mlabels\u001B[49m\u001B[43m,\u001B[49m\u001B[43m \u001B[49m\u001B[43merrors\u001B[49m\u001B[38;5;241;43m=\u001B[39;49m\u001B[43merrors\u001B[49m\u001B[43m)\u001B[49m\n\u001B[1;32m   4754\u001B[0m     indexer \u001B[38;5;241m=\u001B[39m axis\u001B[38;5;241m.\u001B[39mget_indexer(new_axis)\n\u001B[1;32m   4756\u001B[0m \u001B[38;5;66;03m# Case for non-unique axis\u001B[39;00m\n\u001B[1;32m   4757\u001B[0m \u001B[38;5;28;01melse\u001B[39;00m:\n",
      "File \u001B[0;32m/opt/homebrew/Caskroom/miniforge/base/envs/trading/lib/python3.9/site-packages/pandas/core/indexes/base.py:6992\u001B[0m, in \u001B[0;36mIndex.drop\u001B[0;34m(self, labels, errors)\u001B[0m\n\u001B[1;32m   6990\u001B[0m \u001B[38;5;28;01mif\u001B[39;00m mask\u001B[38;5;241m.\u001B[39many():\n\u001B[1;32m   6991\u001B[0m     \u001B[38;5;28;01mif\u001B[39;00m errors \u001B[38;5;241m!=\u001B[39m \u001B[38;5;124m\"\u001B[39m\u001B[38;5;124mignore\u001B[39m\u001B[38;5;124m\"\u001B[39m:\n\u001B[0;32m-> 6992\u001B[0m         \u001B[38;5;28;01mraise\u001B[39;00m \u001B[38;5;167;01mKeyError\u001B[39;00m(\u001B[38;5;124mf\u001B[39m\u001B[38;5;124m\"\u001B[39m\u001B[38;5;132;01m{\u001B[39;00mlabels[mask]\u001B[38;5;241m.\u001B[39mtolist()\u001B[38;5;132;01m}\u001B[39;00m\u001B[38;5;124m not found in axis\u001B[39m\u001B[38;5;124m\"\u001B[39m)\n\u001B[1;32m   6993\u001B[0m     indexer \u001B[38;5;241m=\u001B[39m indexer[\u001B[38;5;241m~\u001B[39mmask]\n\u001B[1;32m   6994\u001B[0m \u001B[38;5;28;01mreturn\u001B[39;00m \u001B[38;5;28mself\u001B[39m\u001B[38;5;241m.\u001B[39mdelete(indexer)\n",
      "\u001B[0;31mKeyError\u001B[0m: \"['Order\\\\nType'] not found in axis\""
     ]
    }
   ],
   "source": [
    "df = df.drop(['Acct ID', 'Trade Date/Time', 'Settle Date', \"Exchange\", 'Proceeds', 'Comm', 'Fee',\n",
    "              'Order\\nType', 'Code'], axis = 1)\n",
    "df"
   ],
   "metadata": {
    "collapsed": false,
    "ExecuteTime": {
     "end_time": "2024-01-07T01:06:13.491782Z",
     "start_time": "2024-01-07T01:06:12.754372Z"
    }
   },
   "id": "df4548686c1e8db8",
   "execution_count": 7
  },
  {
   "cell_type": "code",
   "outputs": [
    {
     "data": {
      "text/plain": "    Symbol          Unnamed: 3  Type  Quantity     Price\n0      AAP 1900-01-01 08:26:13   BUY         2   63.1297\n1      AAP 1900-01-01 08:33:22  SELL        -2   62.8378\n2     AAPL 1900-01-01 11:48:36   BUY         1  184.5500\n3     AAPL 1900-01-01 11:54:40  SELL        -1  184.1621\n4      AGL 1900-01-01 08:35:17   BUY         8   13.1400\n..     ...                 ...   ...       ...       ...\n98     VRM 1900-01-01 12:48:31  SELL        -1    0.6058\n99     XOM 1900-01-01 12:40:40   BUY         1  102.0550\n100    XOM 1900-01-01 12:13:46  SELL        -1  102.3223\n101   ZUMZ 1900-01-01 08:16:27   BUY         5   20.5500\n102   ZUMZ 1900-01-01 08:22:30  SELL        -5   20.4255\n\n[103 rows x 5 columns]",
      "text/html": "<div>\n<style scoped>\n    .dataframe tbody tr th:only-of-type {\n        vertical-align: middle;\n    }\n\n    .dataframe tbody tr th {\n        vertical-align: top;\n    }\n\n    .dataframe thead th {\n        text-align: right;\n    }\n</style>\n<table border=\"1\" class=\"dataframe\">\n  <thead>\n    <tr style=\"text-align: right;\">\n      <th></th>\n      <th>Symbol</th>\n      <th>Unnamed: 3</th>\n      <th>Type</th>\n      <th>Quantity</th>\n      <th>Price</th>\n    </tr>\n  </thead>\n  <tbody>\n    <tr>\n      <th>0</th>\n      <td>AAP</td>\n      <td>1900-01-01 08:26:13</td>\n      <td>BUY</td>\n      <td>2</td>\n      <td>63.1297</td>\n    </tr>\n    <tr>\n      <th>1</th>\n      <td>AAP</td>\n      <td>1900-01-01 08:33:22</td>\n      <td>SELL</td>\n      <td>-2</td>\n      <td>62.8378</td>\n    </tr>\n    <tr>\n      <th>2</th>\n      <td>AAPL</td>\n      <td>1900-01-01 11:48:36</td>\n      <td>BUY</td>\n      <td>1</td>\n      <td>184.5500</td>\n    </tr>\n    <tr>\n      <th>3</th>\n      <td>AAPL</td>\n      <td>1900-01-01 11:54:40</td>\n      <td>SELL</td>\n      <td>-1</td>\n      <td>184.1621</td>\n    </tr>\n    <tr>\n      <th>4</th>\n      <td>AGL</td>\n      <td>1900-01-01 08:35:17</td>\n      <td>BUY</td>\n      <td>8</td>\n      <td>13.1400</td>\n    </tr>\n    <tr>\n      <th>...</th>\n      <td>...</td>\n      <td>...</td>\n      <td>...</td>\n      <td>...</td>\n      <td>...</td>\n    </tr>\n    <tr>\n      <th>98</th>\n      <td>VRM</td>\n      <td>1900-01-01 12:48:31</td>\n      <td>SELL</td>\n      <td>-1</td>\n      <td>0.6058</td>\n    </tr>\n    <tr>\n      <th>99</th>\n      <td>XOM</td>\n      <td>1900-01-01 12:40:40</td>\n      <td>BUY</td>\n      <td>1</td>\n      <td>102.0550</td>\n    </tr>\n    <tr>\n      <th>100</th>\n      <td>XOM</td>\n      <td>1900-01-01 12:13:46</td>\n      <td>SELL</td>\n      <td>-1</td>\n      <td>102.3223</td>\n    </tr>\n    <tr>\n      <th>101</th>\n      <td>ZUMZ</td>\n      <td>1900-01-01 08:16:27</td>\n      <td>BUY</td>\n      <td>5</td>\n      <td>20.5500</td>\n    </tr>\n    <tr>\n      <th>102</th>\n      <td>ZUMZ</td>\n      <td>1900-01-01 08:22:30</td>\n      <td>SELL</td>\n      <td>-5</td>\n      <td>20.4255</td>\n    </tr>\n  </tbody>\n</table>\n<p>103 rows × 5 columns</p>\n</div>"
     },
     "execution_count": 38,
     "metadata": {},
     "output_type": "execute_result"
    }
   ],
   "source": [
    "df[\"Unnamed: 3\"] = pd.to_datetime(df[\"Unnamed: 3\"], format = \"%I:%M:%S %p\") - pd.Timedelta(\n",
    "    hours = 3)\n",
    "df"
   ],
   "metadata": {
    "collapsed": false,
    "ExecuteTime": {
     "end_time": "2024-01-06T00:41:51.705904Z",
     "start_time": "2024-01-06T00:41:51.703858Z"
    }
   },
   "id": "81067af253bcd9ce",
   "execution_count": 38
  },
  {
   "cell_type": "code",
   "outputs": [
    {
     "data": {
      "text/plain": "    Symbol          Unnamed: 3  Type  Quantity     Price Broker Executed\n0      AAP 1900-01-01 08:26:13   BUY         2   63.1297        08:26:13\n1      AAP 1900-01-01 08:33:22  SELL        -2   62.8378        08:33:22\n2     AAPL 1900-01-01 11:48:36   BUY         1  184.5500        11:48:36\n3     AAPL 1900-01-01 11:54:40  SELL        -1  184.1621        11:54:40\n4      AGL 1900-01-01 08:35:17   BUY         8   13.1400        08:35:17\n..     ...                 ...   ...       ...       ...             ...\n98     VRM 1900-01-01 12:48:31  SELL        -1    0.6058        12:48:31\n99     XOM 1900-01-01 12:40:40   BUY         1  102.0550        12:40:40\n100    XOM 1900-01-01 12:13:46  SELL        -1  102.3223        12:13:46\n101   ZUMZ 1900-01-01 08:16:27   BUY         5   20.5500        08:16:27\n102   ZUMZ 1900-01-01 08:22:30  SELL        -5   20.4255        08:22:30\n\n[103 rows x 6 columns]",
      "text/html": "<div>\n<style scoped>\n    .dataframe tbody tr th:only-of-type {\n        vertical-align: middle;\n    }\n\n    .dataframe tbody tr th {\n        vertical-align: top;\n    }\n\n    .dataframe thead th {\n        text-align: right;\n    }\n</style>\n<table border=\"1\" class=\"dataframe\">\n  <thead>\n    <tr style=\"text-align: right;\">\n      <th></th>\n      <th>Symbol</th>\n      <th>Unnamed: 3</th>\n      <th>Type</th>\n      <th>Quantity</th>\n      <th>Price</th>\n      <th>Broker Executed</th>\n    </tr>\n  </thead>\n  <tbody>\n    <tr>\n      <th>0</th>\n      <td>AAP</td>\n      <td>1900-01-01 08:26:13</td>\n      <td>BUY</td>\n      <td>2</td>\n      <td>63.1297</td>\n      <td>08:26:13</td>\n    </tr>\n    <tr>\n      <th>1</th>\n      <td>AAP</td>\n      <td>1900-01-01 08:33:22</td>\n      <td>SELL</td>\n      <td>-2</td>\n      <td>62.8378</td>\n      <td>08:33:22</td>\n    </tr>\n    <tr>\n      <th>2</th>\n      <td>AAPL</td>\n      <td>1900-01-01 11:48:36</td>\n      <td>BUY</td>\n      <td>1</td>\n      <td>184.5500</td>\n      <td>11:48:36</td>\n    </tr>\n    <tr>\n      <th>3</th>\n      <td>AAPL</td>\n      <td>1900-01-01 11:54:40</td>\n      <td>SELL</td>\n      <td>-1</td>\n      <td>184.1621</td>\n      <td>11:54:40</td>\n    </tr>\n    <tr>\n      <th>4</th>\n      <td>AGL</td>\n      <td>1900-01-01 08:35:17</td>\n      <td>BUY</td>\n      <td>8</td>\n      <td>13.1400</td>\n      <td>08:35:17</td>\n    </tr>\n    <tr>\n      <th>...</th>\n      <td>...</td>\n      <td>...</td>\n      <td>...</td>\n      <td>...</td>\n      <td>...</td>\n      <td>...</td>\n    </tr>\n    <tr>\n      <th>98</th>\n      <td>VRM</td>\n      <td>1900-01-01 12:48:31</td>\n      <td>SELL</td>\n      <td>-1</td>\n      <td>0.6058</td>\n      <td>12:48:31</td>\n    </tr>\n    <tr>\n      <th>99</th>\n      <td>XOM</td>\n      <td>1900-01-01 12:40:40</td>\n      <td>BUY</td>\n      <td>1</td>\n      <td>102.0550</td>\n      <td>12:40:40</td>\n    </tr>\n    <tr>\n      <th>100</th>\n      <td>XOM</td>\n      <td>1900-01-01 12:13:46</td>\n      <td>SELL</td>\n      <td>-1</td>\n      <td>102.3223</td>\n      <td>12:13:46</td>\n    </tr>\n    <tr>\n      <th>101</th>\n      <td>ZUMZ</td>\n      <td>1900-01-01 08:16:27</td>\n      <td>BUY</td>\n      <td>5</td>\n      <td>20.5500</td>\n      <td>08:16:27</td>\n    </tr>\n    <tr>\n      <th>102</th>\n      <td>ZUMZ</td>\n      <td>1900-01-01 08:22:30</td>\n      <td>SELL</td>\n      <td>-5</td>\n      <td>20.4255</td>\n      <td>08:22:30</td>\n    </tr>\n  </tbody>\n</table>\n<p>103 rows × 6 columns</p>\n</div>"
     },
     "execution_count": 39,
     "metadata": {},
     "output_type": "execute_result"
    }
   ],
   "source": [
    "df[\"Broker Executed\"] = df[\"Unnamed: 3\"].dt.strftime('%I:%M:%S')\n",
    "df"
   ],
   "metadata": {
    "collapsed": false,
    "ExecuteTime": {
     "end_time": "2024-01-06T00:41:52.268516Z",
     "start_time": "2024-01-06T00:41:52.243930Z"
    }
   },
   "id": "3ac228d167be75c2",
   "execution_count": 39
  },
  {
   "cell_type": "code",
   "outputs": [
    {
     "data": {
      "text/plain": "    Symbol          Unnamed: 3  Type  Quantity     Price Broker Executed\n0      AAP 1900-01-01 08:26:13   BUY         2   63.1297        08:26:13\n1      AAP 1900-01-01 08:33:22  SELL         2   62.8378        08:33:22\n2     AAPL 1900-01-01 11:48:36   BUY         1  184.5500        11:48:36\n3     AAPL 1900-01-01 11:54:40  SELL         1  184.1621        11:54:40\n4      AGL 1900-01-01 08:35:17   BUY         8   13.1400        08:35:17\n..     ...                 ...   ...       ...       ...             ...\n98     VRM 1900-01-01 12:48:31  SELL         1    0.6058        12:48:31\n99     XOM 1900-01-01 12:40:40   BUY         1  102.0550        12:40:40\n100    XOM 1900-01-01 12:13:46  SELL         1  102.3223        12:13:46\n101   ZUMZ 1900-01-01 08:16:27   BUY         5   20.5500        08:16:27\n102   ZUMZ 1900-01-01 08:22:30  SELL         5   20.4255        08:22:30\n\n[103 rows x 6 columns]",
      "text/html": "<div>\n<style scoped>\n    .dataframe tbody tr th:only-of-type {\n        vertical-align: middle;\n    }\n\n    .dataframe tbody tr th {\n        vertical-align: top;\n    }\n\n    .dataframe thead th {\n        text-align: right;\n    }\n</style>\n<table border=\"1\" class=\"dataframe\">\n  <thead>\n    <tr style=\"text-align: right;\">\n      <th></th>\n      <th>Symbol</th>\n      <th>Unnamed: 3</th>\n      <th>Type</th>\n      <th>Quantity</th>\n      <th>Price</th>\n      <th>Broker Executed</th>\n    </tr>\n  </thead>\n  <tbody>\n    <tr>\n      <th>0</th>\n      <td>AAP</td>\n      <td>1900-01-01 08:26:13</td>\n      <td>BUY</td>\n      <td>2</td>\n      <td>63.1297</td>\n      <td>08:26:13</td>\n    </tr>\n    <tr>\n      <th>1</th>\n      <td>AAP</td>\n      <td>1900-01-01 08:33:22</td>\n      <td>SELL</td>\n      <td>2</td>\n      <td>62.8378</td>\n      <td>08:33:22</td>\n    </tr>\n    <tr>\n      <th>2</th>\n      <td>AAPL</td>\n      <td>1900-01-01 11:48:36</td>\n      <td>BUY</td>\n      <td>1</td>\n      <td>184.5500</td>\n      <td>11:48:36</td>\n    </tr>\n    <tr>\n      <th>3</th>\n      <td>AAPL</td>\n      <td>1900-01-01 11:54:40</td>\n      <td>SELL</td>\n      <td>1</td>\n      <td>184.1621</td>\n      <td>11:54:40</td>\n    </tr>\n    <tr>\n      <th>4</th>\n      <td>AGL</td>\n      <td>1900-01-01 08:35:17</td>\n      <td>BUY</td>\n      <td>8</td>\n      <td>13.1400</td>\n      <td>08:35:17</td>\n    </tr>\n    <tr>\n      <th>...</th>\n      <td>...</td>\n      <td>...</td>\n      <td>...</td>\n      <td>...</td>\n      <td>...</td>\n      <td>...</td>\n    </tr>\n    <tr>\n      <th>98</th>\n      <td>VRM</td>\n      <td>1900-01-01 12:48:31</td>\n      <td>SELL</td>\n      <td>1</td>\n      <td>0.6058</td>\n      <td>12:48:31</td>\n    </tr>\n    <tr>\n      <th>99</th>\n      <td>XOM</td>\n      <td>1900-01-01 12:40:40</td>\n      <td>BUY</td>\n      <td>1</td>\n      <td>102.0550</td>\n      <td>12:40:40</td>\n    </tr>\n    <tr>\n      <th>100</th>\n      <td>XOM</td>\n      <td>1900-01-01 12:13:46</td>\n      <td>SELL</td>\n      <td>1</td>\n      <td>102.3223</td>\n      <td>12:13:46</td>\n    </tr>\n    <tr>\n      <th>101</th>\n      <td>ZUMZ</td>\n      <td>1900-01-01 08:16:27</td>\n      <td>BUY</td>\n      <td>5</td>\n      <td>20.5500</td>\n      <td>08:16:27</td>\n    </tr>\n    <tr>\n      <th>102</th>\n      <td>ZUMZ</td>\n      <td>1900-01-01 08:22:30</td>\n      <td>SELL</td>\n      <td>5</td>\n      <td>20.4255</td>\n      <td>08:22:30</td>\n    </tr>\n  </tbody>\n</table>\n<p>103 rows × 6 columns</p>\n</div>"
     },
     "execution_count": 40,
     "metadata": {},
     "output_type": "execute_result"
    }
   ],
   "source": [
    "df[\"Quantity\"] = pd.to_numeric(df[\"Quantity\"])\n",
    "df[\"Quantity\"] = df[\"Quantity\"].abs()\n",
    "df"
   ],
   "metadata": {
    "collapsed": false,
    "ExecuteTime": {
     "end_time": "2024-01-06T00:42:21.873626Z",
     "start_time": "2024-01-06T00:42:21.862512Z"
    }
   },
   "id": "a9b58e8cb269e05a",
   "execution_count": 40
  },
  {
   "cell_type": "code",
   "outputs": [
    {
     "data": {
      "text/plain": "    Symbol          Unnamed: 3 Action  Size     Price Broker Executed  \\\n0      AAP 1900-01-01 08:26:13    BUY     2   63.1297        08:26:13   \n1      AAP 1900-01-01 08:33:22   SELL     2   62.8378        08:33:22   \n2     AAPL 1900-01-01 11:48:36    BUY     1  184.5500        11:48:36   \n3     AAPL 1900-01-01 11:54:40   SELL     1  184.1621        11:54:40   \n4      AGL 1900-01-01 08:35:17    BUY     8   13.1400        08:35:17   \n..     ...                 ...    ...   ...       ...             ...   \n98     VRM 1900-01-01 12:48:31   SELL     1    0.6058        12:48:31   \n99     XOM 1900-01-01 12:40:40    BUY     1  102.0550        12:40:40   \n100    XOM 1900-01-01 12:13:46   SELL     1  102.3223        12:13:46   \n101   ZUMZ 1900-01-01 08:16:27    BUY     5   20.5500        08:16:27   \n102   ZUMZ 1900-01-01 08:22:30   SELL     5   20.4255        08:22:30   \n\n     Dollar Amt  \n0      126.2594  \n1      125.6756  \n2      184.5500  \n3      184.1621  \n4      105.1200  \n..          ...  \n98       0.6058  \n99     102.0550  \n100    102.3223  \n101    102.7500  \n102    102.1275  \n\n[103 rows x 7 columns]",
      "text/html": "<div>\n<style scoped>\n    .dataframe tbody tr th:only-of-type {\n        vertical-align: middle;\n    }\n\n    .dataframe tbody tr th {\n        vertical-align: top;\n    }\n\n    .dataframe thead th {\n        text-align: right;\n    }\n</style>\n<table border=\"1\" class=\"dataframe\">\n  <thead>\n    <tr style=\"text-align: right;\">\n      <th></th>\n      <th>Symbol</th>\n      <th>Unnamed: 3</th>\n      <th>Action</th>\n      <th>Size</th>\n      <th>Price</th>\n      <th>Broker Executed</th>\n      <th>Dollar Amt</th>\n    </tr>\n  </thead>\n  <tbody>\n    <tr>\n      <th>0</th>\n      <td>AAP</td>\n      <td>1900-01-01 08:26:13</td>\n      <td>BUY</td>\n      <td>2</td>\n      <td>63.1297</td>\n      <td>08:26:13</td>\n      <td>126.2594</td>\n    </tr>\n    <tr>\n      <th>1</th>\n      <td>AAP</td>\n      <td>1900-01-01 08:33:22</td>\n      <td>SELL</td>\n      <td>2</td>\n      <td>62.8378</td>\n      <td>08:33:22</td>\n      <td>125.6756</td>\n    </tr>\n    <tr>\n      <th>2</th>\n      <td>AAPL</td>\n      <td>1900-01-01 11:48:36</td>\n      <td>BUY</td>\n      <td>1</td>\n      <td>184.5500</td>\n      <td>11:48:36</td>\n      <td>184.5500</td>\n    </tr>\n    <tr>\n      <th>3</th>\n      <td>AAPL</td>\n      <td>1900-01-01 11:54:40</td>\n      <td>SELL</td>\n      <td>1</td>\n      <td>184.1621</td>\n      <td>11:54:40</td>\n      <td>184.1621</td>\n    </tr>\n    <tr>\n      <th>4</th>\n      <td>AGL</td>\n      <td>1900-01-01 08:35:17</td>\n      <td>BUY</td>\n      <td>8</td>\n      <td>13.1400</td>\n      <td>08:35:17</td>\n      <td>105.1200</td>\n    </tr>\n    <tr>\n      <th>...</th>\n      <td>...</td>\n      <td>...</td>\n      <td>...</td>\n      <td>...</td>\n      <td>...</td>\n      <td>...</td>\n      <td>...</td>\n    </tr>\n    <tr>\n      <th>98</th>\n      <td>VRM</td>\n      <td>1900-01-01 12:48:31</td>\n      <td>SELL</td>\n      <td>1</td>\n      <td>0.6058</td>\n      <td>12:48:31</td>\n      <td>0.6058</td>\n    </tr>\n    <tr>\n      <th>99</th>\n      <td>XOM</td>\n      <td>1900-01-01 12:40:40</td>\n      <td>BUY</td>\n      <td>1</td>\n      <td>102.0550</td>\n      <td>12:40:40</td>\n      <td>102.0550</td>\n    </tr>\n    <tr>\n      <th>100</th>\n      <td>XOM</td>\n      <td>1900-01-01 12:13:46</td>\n      <td>SELL</td>\n      <td>1</td>\n      <td>102.3223</td>\n      <td>12:13:46</td>\n      <td>102.3223</td>\n    </tr>\n    <tr>\n      <th>101</th>\n      <td>ZUMZ</td>\n      <td>1900-01-01 08:16:27</td>\n      <td>BUY</td>\n      <td>5</td>\n      <td>20.5500</td>\n      <td>08:16:27</td>\n      <td>102.7500</td>\n    </tr>\n    <tr>\n      <th>102</th>\n      <td>ZUMZ</td>\n      <td>1900-01-01 08:22:30</td>\n      <td>SELL</td>\n      <td>5</td>\n      <td>20.4255</td>\n      <td>08:22:30</td>\n      <td>102.1275</td>\n    </tr>\n  </tbody>\n</table>\n<p>103 rows × 7 columns</p>\n</div>"
     },
     "execution_count": 41,
     "metadata": {},
     "output_type": "execute_result"
    }
   ],
   "source": [
    "df[\"Dollar Amt\"] = df[\"Quantity\"] * df[\"Price\"]\n",
    "df = df.rename(columns = {\n",
    "    \"Type\": \"Action\",\n",
    "    \"Quantity\": \"Size\"\n",
    "})\n",
    "df"
   ],
   "metadata": {
    "collapsed": false,
    "ExecuteTime": {
     "end_time": "2024-01-06T00:42:43.929072Z",
     "start_time": "2024-01-06T00:42:43.912994Z"
    }
   },
   "id": "9672d7d4260fb9cd",
   "execution_count": 41
  },
  {
   "cell_type": "code",
   "outputs": [],
   "source": [
    "def _get_ibkr_report(ibkr_file):\n",
    "    df = pd.read_csv(ibkr_file)\n",
    "    df = df.drop(\n",
    "        ['Acct ID', 'Trade Date/Time', 'Settle Date', \"Exchange\", 'Proceeds', 'Comm', 'Fee',\n",
    "         'Order\\nType', 'Code'], axis = 1)\n",
    "    df[\"Unnamed: 3\"] = pd.to_datetime(df[\"Unnamed: 3\"], format = \"%I:%M:%S %p\") - pd.Timedelta(\n",
    "    hours = 3)\n",
    "    df[\"Broker Executed\"] = df[\"Unnamed: 3\"].dt.strftime('%I:%M:%S')\n",
    "    df[\"Quantity\"] = pd.to_numeric(df[\"Quantity\"])\n",
    "    df[\"Quantity\"] = df[\"Quantity\"].abs()\n",
    "    df[\"Dollar Amt\"] = df[\"Quantity\"] * df[\"Price\"]\n",
    "    df = df.rename(columns = {\n",
    "        \"Type\": \"Action\",\n",
    "        \"Quantity\": \"Size\"\n",
    "    })\n",
    "    return df"
   ],
   "metadata": {
    "collapsed": false,
    "ExecuteTime": {
     "end_time": "2024-01-06T00:44:17.642166Z",
     "start_time": "2024-01-06T00:44:17.628459Z"
    }
   },
   "id": "581ca1279c948086",
   "execution_count": 42
  },
  {
   "cell_type": "code",
   "outputs": [
    {
     "data": {
      "text/plain": "    Symbol          Unnamed: 3 Action  Size     Price Broker Executed  \\\n0      AAP 1900-01-01 08:26:13    BUY     2   63.1297        08:26:13   \n1      AAP 1900-01-01 08:33:22   SELL     2   62.8378        08:33:22   \n2     AAPL 1900-01-01 11:48:36    BUY     1  184.5500        11:48:36   \n3     AAPL 1900-01-01 11:54:40   SELL     1  184.1621        11:54:40   \n4      AGL 1900-01-01 08:35:17    BUY     8   13.1400        08:35:17   \n..     ...                 ...    ...   ...       ...             ...   \n98     VRM 1900-01-01 12:48:31   SELL     1    0.6058        12:48:31   \n99     XOM 1900-01-01 12:40:40    BUY     1  102.0550        12:40:40   \n100    XOM 1900-01-01 12:13:46   SELL     1  102.3223        12:13:46   \n101   ZUMZ 1900-01-01 08:16:27    BUY     5   20.5500        08:16:27   \n102   ZUMZ 1900-01-01 08:22:30   SELL     5   20.4255        08:22:30   \n\n     Dollar Amt  \n0      126.2594  \n1      125.6756  \n2      184.5500  \n3      184.1621  \n4      105.1200  \n..          ...  \n98       0.6058  \n99     102.0550  \n100    102.3223  \n101    102.7500  \n102    102.1275  \n\n[103 rows x 7 columns]",
      "text/html": "<div>\n<style scoped>\n    .dataframe tbody tr th:only-of-type {\n        vertical-align: middle;\n    }\n\n    .dataframe tbody tr th {\n        vertical-align: top;\n    }\n\n    .dataframe thead th {\n        text-align: right;\n    }\n</style>\n<table border=\"1\" class=\"dataframe\">\n  <thead>\n    <tr style=\"text-align: right;\">\n      <th></th>\n      <th>Symbol</th>\n      <th>Unnamed: 3</th>\n      <th>Action</th>\n      <th>Size</th>\n      <th>Price</th>\n      <th>Broker Executed</th>\n      <th>Dollar Amt</th>\n    </tr>\n  </thead>\n  <tbody>\n    <tr>\n      <th>0</th>\n      <td>AAP</td>\n      <td>1900-01-01 08:26:13</td>\n      <td>BUY</td>\n      <td>2</td>\n      <td>63.1297</td>\n      <td>08:26:13</td>\n      <td>126.2594</td>\n    </tr>\n    <tr>\n      <th>1</th>\n      <td>AAP</td>\n      <td>1900-01-01 08:33:22</td>\n      <td>SELL</td>\n      <td>2</td>\n      <td>62.8378</td>\n      <td>08:33:22</td>\n      <td>125.6756</td>\n    </tr>\n    <tr>\n      <th>2</th>\n      <td>AAPL</td>\n      <td>1900-01-01 11:48:36</td>\n      <td>BUY</td>\n      <td>1</td>\n      <td>184.5500</td>\n      <td>11:48:36</td>\n      <td>184.5500</td>\n    </tr>\n    <tr>\n      <th>3</th>\n      <td>AAPL</td>\n      <td>1900-01-01 11:54:40</td>\n      <td>SELL</td>\n      <td>1</td>\n      <td>184.1621</td>\n      <td>11:54:40</td>\n      <td>184.1621</td>\n    </tr>\n    <tr>\n      <th>4</th>\n      <td>AGL</td>\n      <td>1900-01-01 08:35:17</td>\n      <td>BUY</td>\n      <td>8</td>\n      <td>13.1400</td>\n      <td>08:35:17</td>\n      <td>105.1200</td>\n    </tr>\n    <tr>\n      <th>...</th>\n      <td>...</td>\n      <td>...</td>\n      <td>...</td>\n      <td>...</td>\n      <td>...</td>\n      <td>...</td>\n      <td>...</td>\n    </tr>\n    <tr>\n      <th>98</th>\n      <td>VRM</td>\n      <td>1900-01-01 12:48:31</td>\n      <td>SELL</td>\n      <td>1</td>\n      <td>0.6058</td>\n      <td>12:48:31</td>\n      <td>0.6058</td>\n    </tr>\n    <tr>\n      <th>99</th>\n      <td>XOM</td>\n      <td>1900-01-01 12:40:40</td>\n      <td>BUY</td>\n      <td>1</td>\n      <td>102.0550</td>\n      <td>12:40:40</td>\n      <td>102.0550</td>\n    </tr>\n    <tr>\n      <th>100</th>\n      <td>XOM</td>\n      <td>1900-01-01 12:13:46</td>\n      <td>SELL</td>\n      <td>1</td>\n      <td>102.3223</td>\n      <td>12:13:46</td>\n      <td>102.3223</td>\n    </tr>\n    <tr>\n      <th>101</th>\n      <td>ZUMZ</td>\n      <td>1900-01-01 08:16:27</td>\n      <td>BUY</td>\n      <td>5</td>\n      <td>20.5500</td>\n      <td>08:16:27</td>\n      <td>102.7500</td>\n    </tr>\n    <tr>\n      <th>102</th>\n      <td>ZUMZ</td>\n      <td>1900-01-01 08:22:30</td>\n      <td>SELL</td>\n      <td>5</td>\n      <td>20.4255</td>\n      <td>08:22:30</td>\n      <td>102.1275</td>\n    </tr>\n  </tbody>\n</table>\n<p>103 rows × 7 columns</p>\n</div>"
     },
     "execution_count": 43,
     "metadata": {},
     "output_type": "execute_result"
    }
   ],
   "source": [
    "_get_ibkr_report(file)"
   ],
   "metadata": {
    "collapsed": false,
    "ExecuteTime": {
     "end_time": "2024-01-06T00:44:26.471175Z",
     "start_time": "2024-01-06T00:44:26.449856Z"
    }
   },
   "id": "39787ea32142ff0",
   "execution_count": 43
  },
  {
   "cell_type": "code",
   "outputs": [],
   "source": [],
   "metadata": {
    "collapsed": false
   },
   "id": "fc84905a2f4eb158"
  }
 ],
 "metadata": {
  "kernelspec": {
   "display_name": "Python 3",
   "language": "python",
   "name": "python3"
  },
  "language_info": {
   "codemirror_mode": {
    "name": "ipython",
    "version": 2
   },
   "file_extension": ".py",
   "mimetype": "text/x-python",
   "name": "python",
   "nbconvert_exporter": "python",
   "pygments_lexer": "ipython2",
   "version": "2.7.6"
  }
 },
 "nbformat": 4,
 "nbformat_minor": 5
}
