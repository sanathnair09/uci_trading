{
 "cells": [
  {
   "cell_type": "code",
   "execution_count": 2,
   "metadata": {
    "collapsed": true,
    "ExecuteTime": {
     "end_time": "2023-07-26T14:51:45.772988Z",
     "start_time": "2023-07-26T14:51:45.546997Z"
    }
   },
   "outputs": [],
   "source": [
    "import pandas as pd"
   ]
  },
  {
   "cell_type": "code",
   "execution_count": 3,
   "outputs": [
    {
     "data": {
      "text/plain": "       Date Program Submitted Program Executed Broker Executed Symbol Broker  \\\n0  07/20/23   07:35:05:654075  07:35:06:842257             NaN    OXM     RH   \n1  07/20/23   07:35:07:891766  07:35:08:075178        07:35:08    OXM     TD   \n2  07/20/23   07:35:09:900252  07:35:17:127937             NaN    OXM     SB   \n3  07/20/23   07:35:18:905361  07:35:24:407149             NaN    OXM     FD   \n4  07/20/23   07:35:26:293561  07:35:27:469983   1689863727449    OXM     ET   \n\n  Action  Size   Price  Dollar Amt  ...  Pre Bid  Pre Ask  Post Bid  Post Ask  \\\n0    Buy   1.0     NaN         NaN  ...   107.71   107.81    107.71    107.81   \n1    Buy   1.0  107.79      107.79  ...   107.70   107.88    107.70    107.88   \n2    Buy   1.0     NaN         NaN  ...   107.70   107.88    107.73    107.88   \n3    Buy   1.0     NaN         NaN  ...   107.73   107.88    107.82    107.98   \n4    Buy   1.0  107.98      107.98  ...   107.82   107.98    107.82    107.98   \n\n   Pre Volume  Post Volume  Order Type  Split  \\\n0     13065.0      13065.0       Limit  False   \n1     13352.0      13353.0      Market  False   \n2     13353.0      13365.0      Market  False   \n3     13410.0      13696.0      Market  False   \n4     13696.0      13697.0      Market  False   \n\n                               Order ID   Activity ID  \n0  64b9461a-fc8f-4e2b-afa2-539c413d6090           NaN  \n1                           11290374024  5.784156e+10  \n2                                   NaN           NaN  \n3                                   NaN           NaN  \n4                                 40613           NaN  \n\n[5 rows x 22 columns]",
      "text/html": "<div>\n<style scoped>\n    .dataframe tbody tr th:only-of-type {\n        vertical-align: middle;\n    }\n\n    .dataframe tbody tr th {\n        vertical-align: top;\n    }\n\n    .dataframe thead th {\n        text-align: right;\n    }\n</style>\n<table border=\"1\" class=\"dataframe\">\n  <thead>\n    <tr style=\"text-align: right;\">\n      <th></th>\n      <th>Date</th>\n      <th>Program Submitted</th>\n      <th>Program Executed</th>\n      <th>Broker Executed</th>\n      <th>Symbol</th>\n      <th>Broker</th>\n      <th>Action</th>\n      <th>Size</th>\n      <th>Price</th>\n      <th>Dollar Amt</th>\n      <th>...</th>\n      <th>Pre Bid</th>\n      <th>Pre Ask</th>\n      <th>Post Bid</th>\n      <th>Post Ask</th>\n      <th>Pre Volume</th>\n      <th>Post Volume</th>\n      <th>Order Type</th>\n      <th>Split</th>\n      <th>Order ID</th>\n      <th>Activity ID</th>\n    </tr>\n  </thead>\n  <tbody>\n    <tr>\n      <th>0</th>\n      <td>07/20/23</td>\n      <td>07:35:05:654075</td>\n      <td>07:35:06:842257</td>\n      <td>NaN</td>\n      <td>OXM</td>\n      <td>RH</td>\n      <td>Buy</td>\n      <td>1.0</td>\n      <td>NaN</td>\n      <td>NaN</td>\n      <td>...</td>\n      <td>107.71</td>\n      <td>107.81</td>\n      <td>107.71</td>\n      <td>107.81</td>\n      <td>13065.0</td>\n      <td>13065.0</td>\n      <td>Limit</td>\n      <td>False</td>\n      <td>64b9461a-fc8f-4e2b-afa2-539c413d6090</td>\n      <td>NaN</td>\n    </tr>\n    <tr>\n      <th>1</th>\n      <td>07/20/23</td>\n      <td>07:35:07:891766</td>\n      <td>07:35:08:075178</td>\n      <td>07:35:08</td>\n      <td>OXM</td>\n      <td>TD</td>\n      <td>Buy</td>\n      <td>1.0</td>\n      <td>107.79</td>\n      <td>107.79</td>\n      <td>...</td>\n      <td>107.70</td>\n      <td>107.88</td>\n      <td>107.70</td>\n      <td>107.88</td>\n      <td>13352.0</td>\n      <td>13353.0</td>\n      <td>Market</td>\n      <td>False</td>\n      <td>11290374024</td>\n      <td>5.784156e+10</td>\n    </tr>\n    <tr>\n      <th>2</th>\n      <td>07/20/23</td>\n      <td>07:35:09:900252</td>\n      <td>07:35:17:127937</td>\n      <td>NaN</td>\n      <td>OXM</td>\n      <td>SB</td>\n      <td>Buy</td>\n      <td>1.0</td>\n      <td>NaN</td>\n      <td>NaN</td>\n      <td>...</td>\n      <td>107.70</td>\n      <td>107.88</td>\n      <td>107.73</td>\n      <td>107.88</td>\n      <td>13353.0</td>\n      <td>13365.0</td>\n      <td>Market</td>\n      <td>False</td>\n      <td>NaN</td>\n      <td>NaN</td>\n    </tr>\n    <tr>\n      <th>3</th>\n      <td>07/20/23</td>\n      <td>07:35:18:905361</td>\n      <td>07:35:24:407149</td>\n      <td>NaN</td>\n      <td>OXM</td>\n      <td>FD</td>\n      <td>Buy</td>\n      <td>1.0</td>\n      <td>NaN</td>\n      <td>NaN</td>\n      <td>...</td>\n      <td>107.73</td>\n      <td>107.88</td>\n      <td>107.82</td>\n      <td>107.98</td>\n      <td>13410.0</td>\n      <td>13696.0</td>\n      <td>Market</td>\n      <td>False</td>\n      <td>NaN</td>\n      <td>NaN</td>\n    </tr>\n    <tr>\n      <th>4</th>\n      <td>07/20/23</td>\n      <td>07:35:26:293561</td>\n      <td>07:35:27:469983</td>\n      <td>1689863727449</td>\n      <td>OXM</td>\n      <td>ET</td>\n      <td>Buy</td>\n      <td>1.0</td>\n      <td>107.98</td>\n      <td>107.98</td>\n      <td>...</td>\n      <td>107.82</td>\n      <td>107.98</td>\n      <td>107.82</td>\n      <td>107.98</td>\n      <td>13696.0</td>\n      <td>13697.0</td>\n      <td>Market</td>\n      <td>False</td>\n      <td>40613</td>\n      <td>NaN</td>\n    </tr>\n  </tbody>\n</table>\n<p>5 rows × 22 columns</p>\n</div>"
     },
     "execution_count": 3,
     "metadata": {},
     "output_type": "execute_result"
    }
   ],
   "source": [
    "df = pd.read_csv(\"../reports/original/report_07_20.csv\")\n",
    "df.head()"
   ],
   "metadata": {
    "collapsed": false,
    "ExecuteTime": {
     "end_time": "2023-07-26T14:52:29.503804Z",
     "start_time": "2023-07-26T14:52:29.471541Z"
    }
   }
  },
  {
   "cell_type": "code",
   "execution_count": 9,
   "outputs": [
    {
     "data": {
      "text/plain": "          Date Program Submitted Program Executed Broker Executed Symbol  \\\n4     07/20/23   07:35:26:293561  07:35:27:469983   1689863727449    OXM   \n5     07/20/23   07:35:28:767835  07:35:29:967482   1689863729925    OXM   \n10    07/20/23   07:35:50:875034  07:35:51:583188   1689863751548    APT   \n11    07/20/23   07:35:52:171495  07:35:52:978124   1689863752916    APT   \n16    07/20/23   07:36:14:101204  07:36:14:822622   1689863774790    ASB   \n...        ...               ...              ...             ...    ...   \n1044  07/20/23   11:34:55:140249  11:34:56:060350   1689878095895   ICCC   \n1045  07/20/23   11:34:56:777278  11:34:57:732554   1689878097440   HEAR   \n1046  07/20/23   11:34:58:928387  11:35:00:077834   1689878099976    AWR   \n1047  07/20/23   11:35:00:668941  11:35:01:669153   1689878101510   ATRA   \n1048  07/20/23   11:35:02:340802  11:35:03:149906   1689878103005    UNF   \n\n     Broker Action  Size       Price  Dollar Amt  ...  Pre Bid  Pre Ask  \\\n4        ET    Buy   1.0  107.980000    107.9800  ...   107.82   107.98   \n5        E2    Buy   1.0  107.980000    107.9800  ...   107.29   107.70   \n10       ET    Buy  26.0    3.910000    101.6600  ...     3.90     3.91   \n11       E2    Buy  26.0    3.910000    101.6600  ...     3.91     3.92   \n16       ET    Buy   5.0   18.300000     91.5000  ...    18.29    18.30   \n...     ...    ...   ...         ...         ...  ...      ...      ...   \n1044     E2   Sell  18.0    5.499806     98.9965  ...     5.50     5.64   \n1045     E2   Sell   9.0   10.469767     94.2279  ...    10.50    10.52   \n1046     E2   Sell   1.0   88.799100     88.7991  ...    88.67    88.83   \n1047     E2   Sell  50.0    2.009838    100.4919  ...     1.99     2.00   \n1048     E2   Sell   1.0  156.298600    156.2986  ...   156.22   156.65   \n\n      Post Bid  Post Ask  Pre Volume  Post Volume  Order Type  Split Order ID  \\\n4       107.82    107.98     13696.0      13697.0      Market  False    40613   \n5       107.29    107.70      9131.0       9131.0      Market  False      236   \n10        3.90      3.91      1248.0       1274.0      Market  False    40614   \n11        3.91      3.92       988.0        988.0      Market  False      237   \n16       18.29     18.30    355478.0     355478.0      Market  False    40615   \n...        ...       ...         ...          ...         ...    ...      ...   \n1044      5.50      5.64      5011.0       5011.0      Market  False      407   \n1045     10.50     10.52     63399.0      63399.0      Market  False      408   \n1046     88.67     88.83     66217.0      66317.0      Market  False      409   \n1047      1.99      2.00    467655.0     467655.0      Market  False      410   \n1048    156.22    156.65     21581.0      21581.0      Market  False      411   \n\n      Activity ID  \n4             NaN  \n5             NaN  \n10            NaN  \n11            NaN  \n16            NaN  \n...           ...  \n1044          NaN  \n1045          NaN  \n1046          NaN  \n1047          NaN  \n1048          NaN  \n\n[352 rows x 22 columns]",
      "text/html": "<div>\n<style scoped>\n    .dataframe tbody tr th:only-of-type {\n        vertical-align: middle;\n    }\n\n    .dataframe tbody tr th {\n        vertical-align: top;\n    }\n\n    .dataframe thead th {\n        text-align: right;\n    }\n</style>\n<table border=\"1\" class=\"dataframe\">\n  <thead>\n    <tr style=\"text-align: right;\">\n      <th></th>\n      <th>Date</th>\n      <th>Program Submitted</th>\n      <th>Program Executed</th>\n      <th>Broker Executed</th>\n      <th>Symbol</th>\n      <th>Broker</th>\n      <th>Action</th>\n      <th>Size</th>\n      <th>Price</th>\n      <th>Dollar Amt</th>\n      <th>...</th>\n      <th>Pre Bid</th>\n      <th>Pre Ask</th>\n      <th>Post Bid</th>\n      <th>Post Ask</th>\n      <th>Pre Volume</th>\n      <th>Post Volume</th>\n      <th>Order Type</th>\n      <th>Split</th>\n      <th>Order ID</th>\n      <th>Activity ID</th>\n    </tr>\n  </thead>\n  <tbody>\n    <tr>\n      <th>4</th>\n      <td>07/20/23</td>\n      <td>07:35:26:293561</td>\n      <td>07:35:27:469983</td>\n      <td>1689863727449</td>\n      <td>OXM</td>\n      <td>ET</td>\n      <td>Buy</td>\n      <td>1.0</td>\n      <td>107.980000</td>\n      <td>107.9800</td>\n      <td>...</td>\n      <td>107.82</td>\n      <td>107.98</td>\n      <td>107.82</td>\n      <td>107.98</td>\n      <td>13696.0</td>\n      <td>13697.0</td>\n      <td>Market</td>\n      <td>False</td>\n      <td>40613</td>\n      <td>NaN</td>\n    </tr>\n    <tr>\n      <th>5</th>\n      <td>07/20/23</td>\n      <td>07:35:28:767835</td>\n      <td>07:35:29:967482</td>\n      <td>1689863729925</td>\n      <td>OXM</td>\n      <td>E2</td>\n      <td>Buy</td>\n      <td>1.0</td>\n      <td>107.980000</td>\n      <td>107.9800</td>\n      <td>...</td>\n      <td>107.29</td>\n      <td>107.70</td>\n      <td>107.29</td>\n      <td>107.70</td>\n      <td>9131.0</td>\n      <td>9131.0</td>\n      <td>Market</td>\n      <td>False</td>\n      <td>236</td>\n      <td>NaN</td>\n    </tr>\n    <tr>\n      <th>10</th>\n      <td>07/20/23</td>\n      <td>07:35:50:875034</td>\n      <td>07:35:51:583188</td>\n      <td>1689863751548</td>\n      <td>APT</td>\n      <td>ET</td>\n      <td>Buy</td>\n      <td>26.0</td>\n      <td>3.910000</td>\n      <td>101.6600</td>\n      <td>...</td>\n      <td>3.90</td>\n      <td>3.91</td>\n      <td>3.90</td>\n      <td>3.91</td>\n      <td>1248.0</td>\n      <td>1274.0</td>\n      <td>Market</td>\n      <td>False</td>\n      <td>40614</td>\n      <td>NaN</td>\n    </tr>\n    <tr>\n      <th>11</th>\n      <td>07/20/23</td>\n      <td>07:35:52:171495</td>\n      <td>07:35:52:978124</td>\n      <td>1689863752916</td>\n      <td>APT</td>\n      <td>E2</td>\n      <td>Buy</td>\n      <td>26.0</td>\n      <td>3.910000</td>\n      <td>101.6600</td>\n      <td>...</td>\n      <td>3.91</td>\n      <td>3.92</td>\n      <td>3.91</td>\n      <td>3.92</td>\n      <td>988.0</td>\n      <td>988.0</td>\n      <td>Market</td>\n      <td>False</td>\n      <td>237</td>\n      <td>NaN</td>\n    </tr>\n    <tr>\n      <th>16</th>\n      <td>07/20/23</td>\n      <td>07:36:14:101204</td>\n      <td>07:36:14:822622</td>\n      <td>1689863774790</td>\n      <td>ASB</td>\n      <td>ET</td>\n      <td>Buy</td>\n      <td>5.0</td>\n      <td>18.300000</td>\n      <td>91.5000</td>\n      <td>...</td>\n      <td>18.29</td>\n      <td>18.30</td>\n      <td>18.29</td>\n      <td>18.30</td>\n      <td>355478.0</td>\n      <td>355478.0</td>\n      <td>Market</td>\n      <td>False</td>\n      <td>40615</td>\n      <td>NaN</td>\n    </tr>\n    <tr>\n      <th>...</th>\n      <td>...</td>\n      <td>...</td>\n      <td>...</td>\n      <td>...</td>\n      <td>...</td>\n      <td>...</td>\n      <td>...</td>\n      <td>...</td>\n      <td>...</td>\n      <td>...</td>\n      <td>...</td>\n      <td>...</td>\n      <td>...</td>\n      <td>...</td>\n      <td>...</td>\n      <td>...</td>\n      <td>...</td>\n      <td>...</td>\n      <td>...</td>\n      <td>...</td>\n      <td>...</td>\n    </tr>\n    <tr>\n      <th>1044</th>\n      <td>07/20/23</td>\n      <td>11:34:55:140249</td>\n      <td>11:34:56:060350</td>\n      <td>1689878095895</td>\n      <td>ICCC</td>\n      <td>E2</td>\n      <td>Sell</td>\n      <td>18.0</td>\n      <td>5.499806</td>\n      <td>98.9965</td>\n      <td>...</td>\n      <td>5.50</td>\n      <td>5.64</td>\n      <td>5.50</td>\n      <td>5.64</td>\n      <td>5011.0</td>\n      <td>5011.0</td>\n      <td>Market</td>\n      <td>False</td>\n      <td>407</td>\n      <td>NaN</td>\n    </tr>\n    <tr>\n      <th>1045</th>\n      <td>07/20/23</td>\n      <td>11:34:56:777278</td>\n      <td>11:34:57:732554</td>\n      <td>1689878097440</td>\n      <td>HEAR</td>\n      <td>E2</td>\n      <td>Sell</td>\n      <td>9.0</td>\n      <td>10.469767</td>\n      <td>94.2279</td>\n      <td>...</td>\n      <td>10.50</td>\n      <td>10.52</td>\n      <td>10.50</td>\n      <td>10.52</td>\n      <td>63399.0</td>\n      <td>63399.0</td>\n      <td>Market</td>\n      <td>False</td>\n      <td>408</td>\n      <td>NaN</td>\n    </tr>\n    <tr>\n      <th>1046</th>\n      <td>07/20/23</td>\n      <td>11:34:58:928387</td>\n      <td>11:35:00:077834</td>\n      <td>1689878099976</td>\n      <td>AWR</td>\n      <td>E2</td>\n      <td>Sell</td>\n      <td>1.0</td>\n      <td>88.799100</td>\n      <td>88.7991</td>\n      <td>...</td>\n      <td>88.67</td>\n      <td>88.83</td>\n      <td>88.67</td>\n      <td>88.83</td>\n      <td>66217.0</td>\n      <td>66317.0</td>\n      <td>Market</td>\n      <td>False</td>\n      <td>409</td>\n      <td>NaN</td>\n    </tr>\n    <tr>\n      <th>1047</th>\n      <td>07/20/23</td>\n      <td>11:35:00:668941</td>\n      <td>11:35:01:669153</td>\n      <td>1689878101510</td>\n      <td>ATRA</td>\n      <td>E2</td>\n      <td>Sell</td>\n      <td>50.0</td>\n      <td>2.009838</td>\n      <td>100.4919</td>\n      <td>...</td>\n      <td>1.99</td>\n      <td>2.00</td>\n      <td>1.99</td>\n      <td>2.00</td>\n      <td>467655.0</td>\n      <td>467655.0</td>\n      <td>Market</td>\n      <td>False</td>\n      <td>410</td>\n      <td>NaN</td>\n    </tr>\n    <tr>\n      <th>1048</th>\n      <td>07/20/23</td>\n      <td>11:35:02:340802</td>\n      <td>11:35:03:149906</td>\n      <td>1689878103005</td>\n      <td>UNF</td>\n      <td>E2</td>\n      <td>Sell</td>\n      <td>1.0</td>\n      <td>156.298600</td>\n      <td>156.2986</td>\n      <td>...</td>\n      <td>156.22</td>\n      <td>156.65</td>\n      <td>156.22</td>\n      <td>156.65</td>\n      <td>21581.0</td>\n      <td>21581.0</td>\n      <td>Market</td>\n      <td>False</td>\n      <td>411</td>\n      <td>NaN</td>\n    </tr>\n  </tbody>\n</table>\n<p>352 rows × 22 columns</p>\n</div>"
     },
     "execution_count": 9,
     "metadata": {},
     "output_type": "execute_result"
    }
   ],
   "source": [
    "df.loc[(df[\"Broker\"] == \"ET\") | (df[\"Broker\"] == \"E2\")]"
   ],
   "metadata": {
    "collapsed": false,
    "ExecuteTime": {
     "end_time": "2023-07-26T14:58:23.505205Z",
     "start_time": "2023-07-26T14:58:23.500719Z"
    }
   }
  }
 ],
 "metadata": {
  "kernelspec": {
   "display_name": "Python 3",
   "language": "python",
   "name": "python3"
  },
  "language_info": {
   "codemirror_mode": {
    "name": "ipython",
    "version": 2
   },
   "file_extension": ".py",
   "mimetype": "text/x-python",
   "name": "python",
   "nbconvert_exporter": "python",
   "pygments_lexer": "ipython2",
   "version": "2.7.6"
  }
 },
 "nbformat": 4,
 "nbformat_minor": 0
}
